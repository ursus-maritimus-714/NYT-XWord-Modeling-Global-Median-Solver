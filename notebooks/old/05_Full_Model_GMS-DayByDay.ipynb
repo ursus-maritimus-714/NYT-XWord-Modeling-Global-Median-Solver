{
 "cells": [
  {
   "cell_type": "markdown",
   "id": "716cb14e",
   "metadata": {},
   "source": [
    "### Imports"
   ]
  },
  {
   "cell_type": "code",
   "execution_count": 25,
   "id": "29ee9205",
   "metadata": {},
   "outputs": [],
   "source": [
    "import pandas as pd\n",
    "import numpy as np\n",
    "import os\n",
    "import pickle\n",
    "import matplotlib.pyplot as plt\n",
    "import seaborn as sns\n",
    "from sklearn import __version__ as sklearn_version\n",
    "from sklearn.model_selection import cross_validate"
   ]
  },
  {
   "cell_type": "markdown",
   "id": "51fbf267",
   "metadata": {},
   "source": [
    "### Load Best Model"
   ]
  },
  {
   "cell_type": "code",
   "execution_count": 187,
   "id": "201f34f7",
   "metadata": {},
   "outputs": [],
   "source": [
    "expected_model_version = '1.0'\n",
    "model_path = '../models/IS1_model_Sat_hgb.pkl'\n",
    "if os.path.exists(model_path):\n",
    "    with open(model_path, 'rb') as f:\n",
    "        model = pickle.load(f)\n",
    "    if model.version != expected_model_version:\n",
    "        print(\"Expected model version doesn't match version loaded\")\n",
    "    if model.sklearn_version != sklearn_version:\n",
    "        print(\"Warning: model created under different sklearn version\")\n",
    "else:\n",
    "    print(\"Expected model not found\")"
   ]
  },
  {
   "cell_type": "markdown",
   "id": "de69983d",
   "metadata": {},
   "source": [
    "### Load and Filter Data"
   ]
  },
  {
   "cell_type": "code",
   "execution_count": 188,
   "id": "aed83d2d",
   "metadata": {},
   "outputs": [],
   "source": [
    "#Processed data used in generating best GMS model\n",
    "data = pd.read_csv('../data/df_for_modeling.csv')"
   ]
  },
  {
   "cell_type": "code",
   "execution_count": 189,
   "id": "910ea415",
   "metadata": {},
   "outputs": [],
   "source": [
    "# Drop some columns that we don't want/need for modeling\n",
    "df_filter = data.copy()\n",
    "df_filter.drop(['P_Date','P_Date_str','DOW', 'GMS_Completed', 'GMST_Diff%_from_GMS_pds_l10_dw','GMS_per_constr_past_diff_from_RPB_ct','Constructors','overall_day_mean_GMST(m)','Uniclue','Duplicate_Answers','Unchecked_Sq','Quantum'],inplace=True,axis=1)"
   ]
  },
  {
   "cell_type": "code",
   "execution_count": 190,
   "id": "71de1c51",
   "metadata": {},
   "outputs": [],
   "source": [
    "#Move target feature to the front\n",
    "col = df_filter.pop('GMST(m)')\n",
    "df_filter.insert(0, col.name, col)"
   ]
  },
  {
   "cell_type": "code",
   "execution_count": 191,
   "id": "5b06f7fb",
   "metadata": {},
   "outputs": [],
   "source": [
    "# Filter to a specific puzzle day\n",
    "#df_filter = (df_filter.loc[(df_filter['DOW_num'] == 1)]) #Sun\n",
    "#df_filter = (df_filter.loc[(df_filter['DOW_num'] == 2)]) #Mon\n",
    "#df_filter = (df_filter.loc[(df_filter['DOW_num'] == 3)]) #Tue\n",
    "#df_filter = (df_filter.loc[(df_filter['DOW_num'] == 4)]) #Wed\n",
    "#df_filter = (df_filter.loc[(df_filter['DOW_num'] == 5)]) #Thu\n",
    "#df_filter = (df_filter.loc[(df_filter['DOW_num'] == 6)]) #Fri\n",
    "df_filter = (df_filter.loc[(df_filter['DOW_num'] == 7)]) #Sat"
   ]
  },
  {
   "cell_type": "code",
   "execution_count": 192,
   "id": "63c72f98",
   "metadata": {},
   "outputs": [],
   "source": [
    "df_filter.drop(['DOW_num'],inplace=True,axis=1)"
   ]
  },
  {
   "cell_type": "code",
   "execution_count": 193,
   "id": "4d21cc23",
   "metadata": {},
   "outputs": [],
   "source": [
    "#Deep copy of this df_filter that is now pared down to just the predictive features and the target feature itself \n",
    "# All features are derived from data available prior to any given puzzle being predicted on. No data leakage!\n",
    "df_model1 = df_filter.copy()"
   ]
  },
  {
   "cell_type": "markdown",
   "id": "5bd6956e",
   "metadata": {},
   "source": [
    "### Refit Model on All Available Data "
   ]
  },
  {
   "cell_type": "code",
   "execution_count": 194,
   "id": "f6403e24",
   "metadata": {},
   "outputs": [],
   "source": [
    "X = df_model1[model.X_columns]\n",
    "y = df_model1['GMST(m)']"
   ]
  },
  {
   "cell_type": "code",
   "execution_count": 195,
   "id": "3a78fbd5",
   "metadata": {},
   "outputs": [
    {
     "data": {
      "text/plain": [
       "(266, 266)"
      ]
     },
     "execution_count": 195,
     "metadata": {},
     "output_type": "execute_result"
    }
   ],
   "source": [
    "len(X), len(y)"
   ]
  },
  {
   "cell_type": "code",
   "execution_count": 196,
   "id": "60a02742",
   "metadata": {},
   "outputs": [
    {
     "data": {
      "text/plain": [
       "Pipeline(steps=[('simpleimputer', SimpleImputer(strategy='median')),\n",
       "                ('standardscaler', None),\n",
       "                ('histgradientboostingregressor',\n",
       "                 HistGradientBoostingRegressor(learning_rate=0.02, max_depth=2,\n",
       "                                               max_iter=115,\n",
       "                                               random_state=47))])"
      ]
     },
     "execution_count": 196,
     "metadata": {},
     "output_type": "execute_result"
    }
   ],
   "source": [
    "model.fit(X, y)"
   ]
  },
  {
   "cell_type": "code",
   "execution_count": 198,
   "id": "54ed0f85",
   "metadata": {},
   "outputs": [
    {
     "data": {
      "text/plain": [
       "26.54147869674188"
      ]
     },
     "execution_count": 198,
     "metadata": {},
     "output_type": "execute_result"
    }
   ],
   "source": [
    "# Get full sample mean for the day being fit\n",
    "y.mean()"
   ]
  },
  {
   "cell_type": "markdown",
   "id": "c11b4c8c",
   "metadata": {},
   "source": [
    "for all scoring options, see https://scikit-learn.org/stable/modules/model_evaluation.html#scoring-parameter"
   ]
  },
  {
   "cell_type": "markdown",
   "id": "2e45f11a",
   "metadata": {},
   "source": [
    "#### R-squared (COD)"
   ]
  },
  {
   "cell_type": "code",
   "execution_count": 199,
   "id": "036e555f",
   "metadata": {},
   "outputs": [],
   "source": [
    "cv_results = cross_validate(model, X, y, scoring='r2', cv=5)"
   ]
  },
  {
   "cell_type": "code",
   "execution_count": 200,
   "id": "c18f5951",
   "metadata": {},
   "outputs": [
    {
     "data": {
      "text/plain": [
       "array([-0.00333583,  0.17921751,  0.04481136, -0.00967384,  0.00477697])"
      ]
     },
     "execution_count": 200,
     "metadata": {},
     "output_type": "execute_result"
    }
   ],
   "source": [
    "cv_results['test_score']"
   ]
  },
  {
   "cell_type": "code",
   "execution_count": 201,
   "id": "e87c7741",
   "metadata": {},
   "outputs": [
    {
     "data": {
      "text/plain": [
       "(0.04315923263411157, 0.07062705883023017)"
      ]
     },
     "execution_count": 201,
     "metadata": {},
     "output_type": "execute_result"
    }
   ],
   "source": [
    "rs_mean, rs_std = np.mean(1 * cv_results['test_score']), np.std(-1 * cv_results['test_score'])\n",
    "rs_mean, rs_std"
   ]
  },
  {
   "cell_type": "markdown",
   "id": "379b0399",
   "metadata": {},
   "source": [
    "#### Mean Absolute Error (MAE)"
   ]
  },
  {
   "cell_type": "code",
   "execution_count": 202,
   "id": "a9544980",
   "metadata": {},
   "outputs": [],
   "source": [
    "cv_results1 = cross_validate(model, X, y, scoring='neg_mean_absolute_error', cv=5)"
   ]
  },
  {
   "cell_type": "code",
   "execution_count": 203,
   "id": "05e509b9",
   "metadata": {},
   "outputs": [
    {
     "data": {
      "text/plain": [
       "array([-4.27938853, -5.23446968, -4.06648338, -5.09453299, -5.33394784])"
      ]
     },
     "execution_count": 203,
     "metadata": {},
     "output_type": "execute_result"
    }
   ],
   "source": [
    "cv_results1['test_score']"
   ]
  },
  {
   "cell_type": "code",
   "execution_count": 204,
   "id": "3658b8ae",
   "metadata": {},
   "outputs": [
    {
     "data": {
      "text/plain": [
       "(4.801764484549025, 0.5233891960555943)"
      ]
     },
     "execution_count": 204,
     "metadata": {},
     "output_type": "execute_result"
    }
   ],
   "source": [
    "mae_mean, mae_std = np.mean(-1 * cv_results1['test_score']), np.std(-1 * cv_results1['test_score'])\n",
    "mae_mean, mae_std"
   ]
  },
  {
   "cell_type": "markdown",
   "id": "864f0def",
   "metadata": {},
   "source": [
    "#### Mean Squared Error (MSE)"
   ]
  },
  {
   "cell_type": "code",
   "execution_count": 205,
   "id": "48e4243c",
   "metadata": {},
   "outputs": [],
   "source": [
    "cv_results2 = cross_validate(model, X, y, scoring='neg_mean_squared_error', cv=5)"
   ]
  },
  {
   "cell_type": "code",
   "execution_count": 206,
   "id": "c80a4728",
   "metadata": {},
   "outputs": [
    {
     "data": {
      "text/plain": [
       "array([-28.84093622, -41.95361001, -22.17095022, -42.21224706,\n",
       "       -45.52013244])"
      ]
     },
     "execution_count": 206,
     "metadata": {},
     "output_type": "execute_result"
    }
   ],
   "source": [
    "cv_results2['test_score']"
   ]
  },
  {
   "cell_type": "code",
   "execution_count": 207,
   "id": "44b09d80",
   "metadata": {},
   "outputs": [
    {
     "data": {
      "text/plain": [
       "(36.139575189124415, 9.022946448355688)"
      ]
     },
     "execution_count": 207,
     "metadata": {},
     "output_type": "execute_result"
    }
   ],
   "source": [
    "mse_mean, mse_std = np.mean(-1 * cv_results2['test_score']), np.std(-1 * cv_results2['test_score'])\n",
    "mse_mean, mse_std"
   ]
  },
  {
   "cell_type": "markdown",
   "id": "af2fc429",
   "metadata": {},
   "source": [
    "#### Root Mean Squared Error (RMSE)"
   ]
  },
  {
   "cell_type": "code",
   "execution_count": 208,
   "id": "fa4a7e3a",
   "metadata": {},
   "outputs": [],
   "source": [
    "cv_results3 = cross_validate(model, X, y, scoring='neg_root_mean_squared_error', cv=5)"
   ]
  },
  {
   "cell_type": "code",
   "execution_count": 209,
   "id": "14a3c46d",
   "metadata": {},
   "outputs": [
    {
     "data": {
      "text/plain": [
       "array([-5.3703758 , -6.47716064, -4.70860385, -6.49709528, -6.74686093])"
      ]
     },
     "execution_count": 209,
     "metadata": {},
     "output_type": "execute_result"
    }
   ],
   "source": [
    "cv_results3['test_score']"
   ]
  },
  {
   "cell_type": "code",
   "execution_count": 210,
   "id": "f7b47494",
   "metadata": {},
   "outputs": [
    {
     "data": {
      "text/plain": [
       "(5.960019300803742, 0.7859676349388006)"
      ]
     },
     "execution_count": 210,
     "metadata": {},
     "output_type": "execute_result"
    }
   ],
   "source": [
    "rmse_mean, rmse_std = np.mean(-1 * cv_results3['test_score']), np.std(-1 * cv_results3['test_score'])\n",
    "rmse_mean, rmse_std"
   ]
  },
  {
   "cell_type": "code",
   "execution_count": null,
   "id": "72049d31",
   "metadata": {},
   "outputs": [],
   "source": []
  },
  {
   "cell_type": "code",
   "execution_count": null,
   "id": "22bbf9cc",
   "metadata": {},
   "outputs": [],
   "source": []
  },
  {
   "cell_type": "code",
   "execution_count": null,
   "id": "2ee8d5cb",
   "metadata": {},
   "outputs": [],
   "source": []
  }
 ],
 "metadata": {
  "kernelspec": {
   "display_name": "Python 3",
   "language": "python",
   "name": "python3"
  },
  "language_info": {
   "codemirror_mode": {
    "name": "ipython",
    "version": 3
   },
   "file_extension": ".py",
   "mimetype": "text/x-python",
   "name": "python",
   "nbconvert_exporter": "python",
   "pygments_lexer": "ipython3",
   "version": "3.8.8"
  }
 },
 "nbformat": 4,
 "nbformat_minor": 5
}
