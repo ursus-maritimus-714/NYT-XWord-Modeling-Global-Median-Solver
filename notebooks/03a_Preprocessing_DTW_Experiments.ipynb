{
 "cells": [
  {
   "cell_type": "markdown",
   "id": "1dcb9885",
   "metadata": {},
   "source": [
    "### Introduction to Preprocessing: DecayTime-Weighting Experiments"
   ]
  },
  {
   "cell_type": "markdown",
   "id": "a8fc727e",
   "metadata": {},
   "source": [
    "## Preprocessing \n",
    "\n",
    "This version we are looking to find good (if not optimal) puzzle day-specific decay function paramters for a feature capturing GMS recent performance prior to a given solve. This means looking for a combo of number of past matches to include (5,8,9,10,11,15,20,25 evaluated) and the decay weights (ranging from no decay weighting to a steep curve) for each of those past matches that yields the best univariate prediction of solve time (RMSE trainig error in minutes) over the 15x15 puzzle set. "
   ]
  },
  {
   "cell_type": "code",
   "execution_count": 1,
   "id": "e179e73d",
   "metadata": {},
   "outputs": [],
   "source": [
    "import pandas as pd\n",
    "import numpy as np\n",
    "import os\n",
    "import pickle\n",
    "import matplotlib.pyplot as plt\n",
    "import seaborn as sns\n",
    "from sklearn import __version__ as sklearn_version\n",
    "from sklearn.preprocessing import scale\n",
    "from sklearn.model_selection import train_test_split, cross_validate, GridSearchCV, learning_curve\n",
    "from sklearn.preprocessing import StandardScaler, MinMaxScaler\n",
    "from sklearn.dummy import DummyRegressor\n",
    "from sklearn.linear_model import LinearRegression\n",
    "from sklearn.metrics import r2_score, mean_squared_error, mean_absolute_error\n",
    "from sklearn.pipeline import make_pipeline\n",
    "from sklearn.impute import SimpleImputer\n",
    "from sklearn.feature_selection import SelectKBest, f_regression\n",
    "import datetime\n",
    "from library.sb_utils import save_file"
   ]
  },
  {
   "cell_type": "markdown",
   "id": "5e352c49",
   "metadata": {},
   "source": [
    "### Load Data"
   ]
  },
  {
   "cell_type": "code",
   "execution_count": 2,
   "id": "9cc5018d",
   "metadata": {},
   "outputs": [
    {
     "data": {
      "text/html": [
       "<div>\n",
       "<style scoped>\n",
       "    .dataframe tbody tr th:only-of-type {\n",
       "        vertical-align: middle;\n",
       "    }\n",
       "\n",
       "    .dataframe tbody tr th {\n",
       "        vertical-align: top;\n",
       "    }\n",
       "\n",
       "    .dataframe thead th {\n",
       "        text-align: right;\n",
       "    }\n",
       "</style>\n",
       "<table border=\"1\" class=\"dataframe\">\n",
       "  <thead>\n",
       "    <tr style=\"text-align: right;\">\n",
       "      <th></th>\n",
       "      <th>P_Date</th>\n",
       "      <th>P_Date_str</th>\n",
       "      <th>DOW</th>\n",
       "      <th>GMST(m)</th>\n",
       "      <th>GMS_pds_l10_dw</th>\n",
       "      <th>GMS_pds_l25_dw</th>\n",
       "      <th>GMS_pds_l10_stdev</th>\n",
       "      <th>GMS_pds_l25_stdev</th>\n",
       "      <th>GMST_Diff%_from_GMS_pds_l10_dw</th>\n",
       "      <th>GMS_per_constr_avg_past_diff_from_RPB</th>\n",
       "      <th>...</th>\n",
       "      <th>Shade_Count</th>\n",
       "      <th>Unusual_Sym</th>\n",
       "      <th>Black_Square_Fill</th>\n",
       "      <th>Outside_Grid</th>\n",
       "      <th>Unchecked_Sq</th>\n",
       "      <th>Uniclue</th>\n",
       "      <th>Duplicate_Answers</th>\n",
       "      <th>Quantum</th>\n",
       "      <th>Wordplay</th>\n",
       "      <th>overall_day_mean_GMST(m)</th>\n",
       "    </tr>\n",
       "  </thead>\n",
       "  <tbody>\n",
       "    <tr>\n",
       "      <th>0</th>\n",
       "      <td>2024-02-03</td>\n",
       "      <td>2024-02-03</td>\n",
       "      <td>Saturday</td>\n",
       "      <td>22.583333</td>\n",
       "      <td>19.944848</td>\n",
       "      <td>21.907538</td>\n",
       "      <td>5.103116</td>\n",
       "      <td>4.545437</td>\n",
       "      <td>12.41</td>\n",
       "      <td>NaN</td>\n",
       "      <td>...</td>\n",
       "      <td>0</td>\n",
       "      <td>0</td>\n",
       "      <td>0</td>\n",
       "      <td>0</td>\n",
       "      <td>0</td>\n",
       "      <td>0</td>\n",
       "      <td>0</td>\n",
       "      <td>0</td>\n",
       "      <td>7.0</td>\n",
       "      <td>26.541479</td>\n",
       "    </tr>\n",
       "    <tr>\n",
       "      <th>1</th>\n",
       "      <td>2024-02-02</td>\n",
       "      <td>2024-02-02</td>\n",
       "      <td>Friday</td>\n",
       "      <td>18.783333</td>\n",
       "      <td>17.210909</td>\n",
       "      <td>17.334205</td>\n",
       "      <td>3.480521</td>\n",
       "      <td>2.455251</td>\n",
       "      <td>8.74</td>\n",
       "      <td>NaN</td>\n",
       "      <td>...</td>\n",
       "      <td>0</td>\n",
       "      <td>0</td>\n",
       "      <td>0</td>\n",
       "      <td>0</td>\n",
       "      <td>0</td>\n",
       "      <td>0</td>\n",
       "      <td>0</td>\n",
       "      <td>0</td>\n",
       "      <td>6.0</td>\n",
       "      <td>21.449373</td>\n",
       "    </tr>\n",
       "    <tr>\n",
       "      <th>2</th>\n",
       "      <td>2024-02-01</td>\n",
       "      <td>2024-02-01</td>\n",
       "      <td>Thursday</td>\n",
       "      <td>19.700000</td>\n",
       "      <td>15.780606</td>\n",
       "      <td>16.550718</td>\n",
       "      <td>2.244750</td>\n",
       "      <td>4.131868</td>\n",
       "      <td>22.09</td>\n",
       "      <td>7.74</td>\n",
       "      <td>...</td>\n",
       "      <td>0</td>\n",
       "      <td>0</td>\n",
       "      <td>0</td>\n",
       "      <td>0</td>\n",
       "      <td>0</td>\n",
       "      <td>0</td>\n",
       "      <td>0</td>\n",
       "      <td>0</td>\n",
       "      <td>5.0</td>\n",
       "      <td>20.709774</td>\n",
       "    </tr>\n",
       "    <tr>\n",
       "      <th>3</th>\n",
       "      <td>2024-01-31</td>\n",
       "      <td>2024-01-31</td>\n",
       "      <td>Wednesday</td>\n",
       "      <td>10.783333</td>\n",
       "      <td>11.621515</td>\n",
       "      <td>12.138103</td>\n",
       "      <td>2.338474</td>\n",
       "      <td>2.691352</td>\n",
       "      <td>-7.48</td>\n",
       "      <td>NaN</td>\n",
       "      <td>...</td>\n",
       "      <td>17</td>\n",
       "      <td>0</td>\n",
       "      <td>0</td>\n",
       "      <td>0</td>\n",
       "      <td>0</td>\n",
       "      <td>0</td>\n",
       "      <td>0</td>\n",
       "      <td>0</td>\n",
       "      <td>5.0</td>\n",
       "      <td>13.259712</td>\n",
       "    </tr>\n",
       "    <tr>\n",
       "      <th>4</th>\n",
       "      <td>2024-01-30</td>\n",
       "      <td>2024-01-30</td>\n",
       "      <td>Tuesday</td>\n",
       "      <td>7.383333</td>\n",
       "      <td>7.765758</td>\n",
       "      <td>7.783641</td>\n",
       "      <td>1.156256</td>\n",
       "      <td>1.306190</td>\n",
       "      <td>-5.05</td>\n",
       "      <td>-8.32</td>\n",
       "      <td>...</td>\n",
       "      <td>0</td>\n",
       "      <td>0</td>\n",
       "      <td>0</td>\n",
       "      <td>0</td>\n",
       "      <td>0</td>\n",
       "      <td>0</td>\n",
       "      <td>0</td>\n",
       "      <td>0</td>\n",
       "      <td>2.0</td>\n",
       "      <td>9.720614</td>\n",
       "    </tr>\n",
       "  </tbody>\n",
       "</table>\n",
       "<p>5 rows × 45 columns</p>\n",
       "</div>"
      ],
      "text/plain": [
       "       P_Date  P_Date_str        DOW    GMST(m)  GMS_pds_l10_dw  \\\n",
       "0  2024-02-03  2024-02-03   Saturday  22.583333       19.944848   \n",
       "1  2024-02-02  2024-02-02     Friday  18.783333       17.210909   \n",
       "2  2024-02-01  2024-02-01   Thursday  19.700000       15.780606   \n",
       "3  2024-01-31  2024-01-31  Wednesday  10.783333       11.621515   \n",
       "4  2024-01-30  2024-01-30    Tuesday   7.383333        7.765758   \n",
       "\n",
       "   GMS_pds_l25_dw  GMS_pds_l10_stdev  GMS_pds_l25_stdev  \\\n",
       "0       21.907538           5.103116           4.545437   \n",
       "1       17.334205           3.480521           2.455251   \n",
       "2       16.550718           2.244750           4.131868   \n",
       "3       12.138103           2.338474           2.691352   \n",
       "4        7.783641           1.156256           1.306190   \n",
       "\n",
       "   GMST_Diff%_from_GMS_pds_l10_dw  GMS_per_constr_avg_past_diff_from_RPB  ...  \\\n",
       "0                           12.41                                    NaN  ...   \n",
       "1                            8.74                                    NaN  ...   \n",
       "2                           22.09                                   7.74  ...   \n",
       "3                           -7.48                                    NaN  ...   \n",
       "4                           -5.05                                  -8.32  ...   \n",
       "\n",
       "   Shade_Count  Unusual_Sym  Black_Square_Fill  Outside_Grid Unchecked_Sq  \\\n",
       "0            0            0                  0             0            0   \n",
       "1            0            0                  0             0            0   \n",
       "2            0            0                  0             0            0   \n",
       "3           17            0                  0             0            0   \n",
       "4            0            0                  0             0            0   \n",
       "\n",
       "   Uniclue  Duplicate_Answers  Quantum  Wordplay  overall_day_mean_GMST(m)  \n",
       "0        0                  0        0       7.0                 26.541479  \n",
       "1        0                  0        0       6.0                 21.449373  \n",
       "2        0                  0        0       5.0                 20.709774  \n",
       "3        0                  0        0       5.0                 13.259712  \n",
       "4        0                  0        0       2.0                  9.720614  \n",
       "\n",
       "[5 rows x 45 columns]"
      ]
     },
     "execution_count": 2,
     "metadata": {},
     "output_type": "execute_result"
    }
   ],
   "source": [
    "df = pd.read_csv('../data/df_for_modeling.csv')\n",
    "df.head()"
   ]
  },
  {
   "cell_type": "code",
   "execution_count": 3,
   "id": "95327794",
   "metadata": {},
   "outputs": [
    {
     "name": "stdout",
     "output_type": "stream",
     "text": [
      "<class 'pandas.core.frame.DataFrame'>\n",
      "RangeIndex: 1596 entries, 0 to 1595\n",
      "Data columns (total 45 columns):\n",
      " #   Column                                 Non-Null Count  Dtype  \n",
      "---  ------                                 --------------  -----  \n",
      " 0   P_Date                                 1596 non-null   object \n",
      " 1   P_Date_str                             1596 non-null   object \n",
      " 2   DOW                                    1596 non-null   object \n",
      " 3   GMST(m)                                1596 non-null   float64\n",
      " 4   GMS_pds_l10_dw                         1595 non-null   float64\n",
      " 5   GMS_pds_l25_dw                         1595 non-null   float64\n",
      " 6   GMS_pds_l10_stdev                      1595 non-null   float64\n",
      " 7   GMS_pds_l25_stdev                      1595 non-null   float64\n",
      " 8   GMST_Diff%_from_GMS_pds_l10_dw         1595 non-null   float64\n",
      " 9   GMS_per_constr_avg_past_diff_from_RPB  1071 non-null   float64\n",
      " 10  GMS_per_constr_past_diff_from_RPB_ct   1596 non-null   float64\n",
      " 11  GMS_pds_prior_solves_ct                1596 non-null   float64\n",
      " 12  GMS_npds_prior_solves_ct               1596 non-null   float64\n",
      " 13  DOW_num                                1596 non-null   float64\n",
      " 14  Constructors                           1596 non-null   object \n",
      " 15  Words                                  1596 non-null   int64  \n",
      " 16  Blocks                                 1596 non-null   int64  \n",
      " 17  Unused_Letters                         1596 non-null   int64  \n",
      " 18  Stacks                                 1596 non-null   int64  \n",
      " 19  Unique_Answers                         1596 non-null   int64  \n",
      " 20  Rebus_Count                            1596 non-null   int64  \n",
      " 21  Rebus_Unique                           1596 non-null   int64  \n",
      " 22  Cheater_Squares                        1596 non-null   int64  \n",
      " 23  AWL                                    1596 non-null   float64\n",
      " 24  Scrabble_Score                         1508 non-null   float64\n",
      " 25  Scrabble_Avg                           1596 non-null   float64\n",
      " 26  FITB                                   1596 non-null   int64  \n",
      " 27  Cross_Ref_Clues                        1596 non-null   int64  \n",
      " 28  Scrabble_Illegal                       1596 non-null   int64  \n",
      " 29  Open_Squares                           1596 non-null   int64  \n",
      " 30  Freshness_Factor                       1596 non-null   float64\n",
      " 31  Overall_Freshness%                     1596 non-null   float64\n",
      " 32  Day_Freshness%                         1596 non-null   float64\n",
      " 33  Duplicate_Clues                        1596 non-null   int64  \n",
      " 34  Circle_Count                           1596 non-null   int64  \n",
      " 35  Shade_Count                            1596 non-null   int64  \n",
      " 36  Unusual_Sym                            1596 non-null   int64  \n",
      " 37  Black_Square_Fill                      1596 non-null   int64  \n",
      " 38  Outside_Grid                           1596 non-null   int64  \n",
      " 39  Unchecked_Sq                           1596 non-null   int64  \n",
      " 40  Uniclue                                1596 non-null   int64  \n",
      " 41  Duplicate_Answers                      1596 non-null   int64  \n",
      " 42  Quantum                                1596 non-null   int64  \n",
      " 43  Wordplay                               1386 non-null   float64\n",
      " 44  overall_day_mean_GMST(m)               1595 non-null   float64\n",
      "dtypes: float64(19), int64(22), object(4)\n",
      "memory usage: 561.2+ KB\n"
     ]
    }
   ],
   "source": [
    "df.info()"
   ]
  },
  {
   "cell_type": "markdown",
   "id": "58d17799",
   "metadata": {},
   "source": [
    "### Create Feature Variants for Testing"
   ]
  },
  {
   "cell_type": "markdown",
   "id": "8fa480d1",
   "metadata": {},
   "source": [
    "### Filter Data"
   ]
  },
  {
   "cell_type": "code",
   "execution_count": 287,
   "id": "70a42338",
   "metadata": {},
   "outputs": [],
   "source": [
    "# strip down df to just the columns we need to evaluate decay function and number of day-specific puzzles to include\n",
    "df1 = df[['DOW', 'P_Date', 'GMST(m)']]"
   ]
  },
  {
   "cell_type": "code",
   "execution_count": 288,
   "id": "3efba739",
   "metadata": {},
   "outputs": [],
   "source": [
    "# #IS_pds_l5_dw\n",
    "# #Provides decay-weighted(dw), puzzle day-specific (pds) mean solve time performance for IS1 over the previous 5 puzzles relative to a given puzzle\n",
    "# # Note that the sort is by completion date for IS1, as completion date was avaiable \n",
    "# # Note also that, unlike the 10-puzzle moving average, this weighted average does NOT include the \"puzzle at hand\" itself\n",
    "\n",
    "# df1 = df1.sort_values(by=['DOW', 'Comp_Date'], ascending = False)\n",
    "\n",
    "# w = [1,1,1,1,1] #weight assigned to puzzle\n",
    "# #w = [5,4,3,2,1] #weight assigned to puzzle\n",
    "# #w = [10,9,8,7,6,5,4,3,2,1] #weight assigned to puzzle\n",
    "# #w = [10,9,8,7,6,5,5,5,5,5] #weight assigned to puzzle\n",
    "# #w = [10,9,8,7,6,5,5,3,3,1] #weight assigned to puzzle\n",
    "# #w = [10,8,6,6,4,4,2,2,1,1] #weight assigned to puzzle\n",
    "# #w = [20,19,18,17,16,15,14,13,12,11] #weight assigned to puzzle\n",
    "# #w = [20,18,14,8,4,4,2,2,1,1] #weight assigned to puzzle\n",
    "# #w = [20,19,18,17,16,15,14,13,12,11] #weight assigned to puzzle\n",
    "# #w = [10,9,8,7,6,5,4,3,2,1] #weight assigned to puzzle\n",
    "# #w = [1,1,1,1,1,1,1,1,1,1] #weight assigned to puzzle\n",
    "\n",
    "# df1[\"IS_pds_l5_dw_1\"] = df1.groupby(['DOW'])['IS1_ST(m)'].shift(-1)*w[0]\n",
    "# df1[\"IS_pds_l5_dw_2\"] = df1.groupby(['DOW'])['IS1_ST(m)'].shift(-2)*w[1]\n",
    "# df1[\"IS_pds_l5_dw_3\"] = df1.groupby(['DOW'])['IS1_ST(m)'].shift(-3)*w[2]\n",
    "# df1[\"IS_pds_l5_dw_4\"] = df1.groupby(['DOW'])['IS1_ST(m)'].shift(-4)*w[3]\n",
    "# df1[\"IS_pds_l5_dw_5\"] = df1.groupby(['DOW'])['IS1_ST(m)'].shift(-5)*w[4]\n",
    "\n",
    "# df1[\"IS_pds_l5_dw_1_ct\"] = (df1.groupby(['DOW'])['IS1_ST(m)'].shift(-1)/df1.groupby(['DOW'])['IS1_ST(m)'].shift(-1))*w[0]\n",
    "# df1[\"IS_pds_l5_dw_2_ct\"] = (df1.groupby(['DOW'])['IS1_ST(m)'].shift(-2)/df1.groupby(['DOW'])['IS1_ST(m)'].shift(-2))*w[1]\n",
    "# df1[\"IS_pds_l5_dw_3_ct\"] = (df1.groupby(['DOW'])['IS1_ST(m)'].shift(-3)/df1.groupby(['DOW'])['IS1_ST(m)'].shift(-3))*w[2]\n",
    "# df1[\"IS_pds_l5_dw_4_ct\"] = (df1.groupby(['DOW'])['IS1_ST(m)'].shift(-4)/df1.groupby(['DOW'])['IS1_ST(m)'].shift(-4))*w[3]\n",
    "# df1[\"IS_pds_l5_dw_5_ct\"] = (df1.groupby(['DOW'])['IS1_ST(m)'].shift(-5)/df1.groupby(['DOW'])['IS1_ST(m)'].shift(-5))*w[4]\n",
    "\n",
    "# df1[\"IS_pds_l5_ws\"] = df1[[\"IS_pds_l5_dw_1\", \"IS_pds_l5_dw_2\", \"IS_pds_l5_dw_3\", \"IS_pds_l5_dw_4\", \"IS_pds_l5_dw_5\"]].sum(axis=1)\n",
    "# df1[\"IS_pds_l5_ws_ct\"] = df1[[\"IS_pds_l5_dw_1_ct\", \"IS_pds_l5_dw_2_ct\", \"IS_pds_l5_dw_3_ct\", \"IS_pds_l5_dw_4_ct\", \"IS_pds_l5_dw_5_ct\"]].sum(axis=1)\n",
    "# df1[\"IS_pds_l5_dw\"] = df1[\"IS_pds_l5_ws\"]/df1[\"IS_pds_l5_ws_ct\"]\n",
    "\n",
    "# # Deleting transient columns\n",
    "# df1 = df1.drop([\"IS_pds_l5_dw_1\", \"IS_pds_l5_dw_2\", \"IS_pds_l5_dw_3\", \"IS_pds_l5_dw_4\", \"IS_pds_l5_dw_5\", \"IS_pds_l5_ws\", \"IS_pds_l5_dw_1_ct\", \"IS_pds_l5_dw_2_ct\", \"IS_pds_l5_dw_3_ct\", \"IS_pds_l5_dw_4_ct\", \"IS_pds_l5_dw_5_ct\", \"IS_pds_l5_ws_ct\"], axis = 1)"
   ]
  },
  {
   "cell_type": "code",
   "execution_count": 289,
   "id": "b62dd1c1",
   "metadata": {},
   "outputs": [],
   "source": [
    "# #IS_pds_l8_dw\n",
    "# #Provides decay-weighted(dw), puzzle day-specific (pds) mean solve time performance for IS1 over the previous 10 puzzles relative to a given puzzle\n",
    "# # Note that the sort is by completion date for IS1, as completion date was avaiable \n",
    "# # Note also that, unlike the 10-puzzle moving average, this weighted average does NOT include the \"puzzle at hand\" itself\n",
    "\n",
    "# df1 = df1.sort_values(by=['DOW', 'Comp_Date'], ascending = False)\n",
    "\n",
    "# #w = [8,7,6,5,4,3,2,1] #weight assigned to puzzle\n",
    "# w = [1,1,1,1,1,1,1,1] #weight assigned to puzzle\n",
    "# #w = [10,9,8,7,6,5,5,5,5,5] #weight assigned to puzzle\n",
    "# #w = [10,9,8,7,6,5,5,3,3,1] #weight assigned to puzzle\n",
    "# #w = [10,8,6,6,4,4,2,2,1,1] #weight assigned to puzzle\n",
    "# #w = [20,19,18,17,16,15,14,13,12,11] #weight assigned to puzzle\n",
    "# #w = [20,18,14,8,4,4,2,2,1,1] #weight assigned to puzzle\n",
    "# #w = [20,19,18,17,16,15,14,13,12,11] #weight assigned to puzzle\n",
    "# #w = [10,9,8,7,6,5,4,3,2,1] #weight assigned to puzzle\n",
    "\n",
    "# df1[\"IS_pds_l8_dw_1\"] = df1.groupby(['DOW'])['IS1_ST(m)'].shift(-1)*w[0]\n",
    "# df1[\"IS_pds_l8_dw_2\"] = df1.groupby(['DOW'])['IS1_ST(m)'].shift(-2)*w[1]\n",
    "# df1[\"IS_pds_l8_dw_3\"] = df1.groupby(['DOW'])['IS1_ST(m)'].shift(-3)*w[2]\n",
    "# df1[\"IS_pds_l8_dw_4\"] = df1.groupby(['DOW'])['IS1_ST(m)'].shift(-4)*w[3]\n",
    "# df1[\"IS_pds_l8_dw_5\"] = df1.groupby(['DOW'])['IS1_ST(m)'].shift(-5)*w[4]\n",
    "# df1[\"IS_pds_l8_dw_6\"] = df1.groupby(['DOW'])['IS1_ST(m)'].shift(-6)*w[5]\n",
    "# df1[\"IS_pds_l8_dw_7\"] = df1.groupby(['DOW'])['IS1_ST(m)'].shift(-7)*w[6]\n",
    "# df1[\"IS_pds_l8_dw_8\"] = df1.groupby(['DOW'])['IS1_ST(m)'].shift(-8)*w[7]\n",
    "\n",
    "# df1[\"IS_pds_l8_dw_1_ct\"] = (df1.groupby(['DOW'])['IS1_ST(m)'].shift(-1)/df1.groupby(['DOW'])['IS1_ST(m)'].shift(-1))*w[0]\n",
    "# df1[\"IS_pds_l8_dw_2_ct\"] = (df1.groupby(['DOW'])['IS1_ST(m)'].shift(-2)/df1.groupby(['DOW'])['IS1_ST(m)'].shift(-2))*w[1]\n",
    "# df1[\"IS_pds_l8_dw_3_ct\"] = (df1.groupby(['DOW'])['IS1_ST(m)'].shift(-3)/df1.groupby(['DOW'])['IS1_ST(m)'].shift(-3))*w[2]\n",
    "# df1[\"IS_pds_l8_dw_4_ct\"] = (df1.groupby(['DOW'])['IS1_ST(m)'].shift(-4)/df1.groupby(['DOW'])['IS1_ST(m)'].shift(-4))*w[3]\n",
    "# df1[\"IS_pds_l8_dw_5_ct\"] = (df1.groupby(['DOW'])['IS1_ST(m)'].shift(-5)/df1.groupby(['DOW'])['IS1_ST(m)'].shift(-5))*w[4]\n",
    "# df1[\"IS_pds_l8_dw_6_ct\"] = (df1.groupby(['DOW'])['IS1_ST(m)'].shift(-6)/df1.groupby(['DOW'])['IS1_ST(m)'].shift(-6))*w[5]\n",
    "# df1[\"IS_pds_l8_dw_7_ct\"] = (df1.groupby(['DOW'])['IS1_ST(m)'].shift(-7)/df1.groupby(['DOW'])['IS1_ST(m)'].shift(-7))*w[6]\n",
    "# df1[\"IS_pds_l8_dw_8_ct\"] = (df1.groupby(['DOW'])['IS1_ST(m)'].shift(-8)/df1.groupby(['DOW'])['IS1_ST(m)'].shift(-8))*w[7]\n",
    "\n",
    "# df1[\"IS_pds_l8_ws\"] = df1[[\"IS_pds_l8_dw_1\", \"IS_pds_l8_dw_2\", \"IS_pds_l8_dw_3\", \"IS_pds_l8_dw_4\", \"IS_pds_l8_dw_5\", \"IS_pds_l8_dw_6\", \"IS_pds_l8_dw_7\", \"IS_pds_l8_dw_8\"]].sum(axis=1)\n",
    "# df1[\"IS_pds_l8_ws_ct\"] = df1[[\"IS_pds_l8_dw_1_ct\", \"IS_pds_l8_dw_2_ct\", \"IS_pds_l8_dw_3_ct\", \"IS_pds_l8_dw_4_ct\", \"IS_pds_l8_dw_5_ct\", \"IS_pds_l8_dw_6_ct\", \"IS_pds_l8_dw_7_ct\", \"IS_pds_l8_dw_8_ct\"]].sum(axis=1)\n",
    "# df1[\"IS_pds_l8_dw\"] = df1[\"IS_pds_l8_ws\"]/df1[\"IS_pds_l8_ws_ct\"]\n",
    "\n",
    "# # Deleting transient columns\n",
    "# df1 = df1.drop([\"IS_pds_l8_dw_1\", \"IS_pds_l8_dw_2\", \"IS_pds_l8_dw_3\", \"IS_pds_l8_dw_4\", \"IS_pds_l8_dw_5\", \"IS_pds_l8_dw_6\", \"IS_pds_l8_dw_7\", \"IS_pds_l8_dw_8\", \"IS_pds_l8_ws\", \"IS_pds_l8_dw_1_ct\", \"IS_pds_l8_dw_2_ct\", \"IS_pds_l8_dw_3_ct\", \"IS_pds_l8_dw_4_ct\", \"IS_pds_l8_dw_5_ct\", \"IS_pds_l8_dw_6_ct\", \"IS_pds_l8_dw_7_ct\", \"IS_pds_l8_dw_8_ct\", \"IS_pds_l8_ws_ct\"], axis = 1)"
   ]
  },
  {
   "cell_type": "code",
   "execution_count": 290,
   "id": "113a5de2",
   "metadata": {},
   "outputs": [],
   "source": [
    "# #IS_pds_l9_dw\n",
    "# #Provides decay-weighted(dw), puzzle day-specific (pds) mean solve time performance for IS1 over the previous 10 puzzles relative to a given puzzle\n",
    "# # Note that the sort is by completion date for IS1, as completion date was avaiable \n",
    "# # Note also that, unlike the 10-puzzle moving average, this weighted average does NOT include the \"puzzle at hand\" itself\n",
    "\n",
    "# df1 = df1.sort_values(by=['DOW', 'Comp_Date'], ascending = False)\n",
    "\n",
    "# #w = [9,8,7,6,5,4,3,2,1] #weight assigned to puzzle\n",
    "# w = [1,1,1,1,1,1,1,1,1] #weight assigned to puzzle\n",
    "\n",
    "# df1[\"IS_pds_l9_dw_1\"] = df1.groupby(['DOW'])['IS1_ST(m)'].shift(-1)*w[0]\n",
    "# df1[\"IS_pds_l9_dw_2\"] = df1.groupby(['DOW'])['IS1_ST(m)'].shift(-2)*w[1]\n",
    "# df1[\"IS_pds_l9_dw_3\"] = df1.groupby(['DOW'])['IS1_ST(m)'].shift(-3)*w[2]\n",
    "# df1[\"IS_pds_l9_dw_4\"] = df1.groupby(['DOW'])['IS1_ST(m)'].shift(-4)*w[3]\n",
    "# df1[\"IS_pds_l9_dw_5\"] = df1.groupby(['DOW'])['IS1_ST(m)'].shift(-5)*w[4]\n",
    "# df1[\"IS_pds_l9_dw_6\"] = df1.groupby(['DOW'])['IS1_ST(m)'].shift(-6)*w[5]\n",
    "# df1[\"IS_pds_l9_dw_7\"] = df1.groupby(['DOW'])['IS1_ST(m)'].shift(-7)*w[6]\n",
    "# df1[\"IS_pds_l9_dw_8\"] = df1.groupby(['DOW'])['IS1_ST(m)'].shift(-8)*w[7]\n",
    "# df1[\"IS_pds_l9_dw_9\"] = df1.groupby(['DOW'])['IS1_ST(m)'].shift(-9)*w[8]\n",
    "\n",
    "\n",
    "# df1[\"IS_pds_l9_dw_1_ct\"] = (df1.groupby(['DOW'])['IS1_ST(m)'].shift(-1)/df1.groupby(['DOW'])['IS1_ST(m)'].shift(-1))*w[0]\n",
    "# df1[\"IS_pds_l9_dw_2_ct\"] = (df1.groupby(['DOW'])['IS1_ST(m)'].shift(-2)/df1.groupby(['DOW'])['IS1_ST(m)'].shift(-2))*w[1]\n",
    "# df1[\"IS_pds_l9_dw_3_ct\"] = (df1.groupby(['DOW'])['IS1_ST(m)'].shift(-3)/df1.groupby(['DOW'])['IS1_ST(m)'].shift(-3))*w[2]\n",
    "# df1[\"IS_pds_l9_dw_4_ct\"] = (df1.groupby(['DOW'])['IS1_ST(m)'].shift(-4)/df1.groupby(['DOW'])['IS1_ST(m)'].shift(-4))*w[3]\n",
    "# df1[\"IS_pds_l9_dw_5_ct\"] = (df1.groupby(['DOW'])['IS1_ST(m)'].shift(-5)/df1.groupby(['DOW'])['IS1_ST(m)'].shift(-5))*w[4]\n",
    "# df1[\"IS_pds_l9_dw_6_ct\"] = (df1.groupby(['DOW'])['IS1_ST(m)'].shift(-6)/df1.groupby(['DOW'])['IS1_ST(m)'].shift(-6))*w[5]\n",
    "# df1[\"IS_pds_l9_dw_7_ct\"] = (df1.groupby(['DOW'])['IS1_ST(m)'].shift(-7)/df1.groupby(['DOW'])['IS1_ST(m)'].shift(-7))*w[6]\n",
    "# df1[\"IS_pds_l9_dw_8_ct\"] = (df1.groupby(['DOW'])['IS1_ST(m)'].shift(-8)/df1.groupby(['DOW'])['IS1_ST(m)'].shift(-8))*w[7]\n",
    "# df1[\"IS_pds_l9_dw_9_ct\"] = (df1.groupby(['DOW'])['IS1_ST(m)'].shift(-9)/df1.groupby(['DOW'])['IS1_ST(m)'].shift(-9))*w[8]\n",
    "\n",
    "\n",
    "# df1[\"IS_pds_l9_ws\"] = df1[[\"IS_pds_l9_dw_1\", \"IS_pds_l9_dw_2\", \"IS_pds_l9_dw_3\", \"IS_pds_l9_dw_4\", \"IS_pds_l9_dw_5\", \"IS_pds_l9_dw_6\", \"IS_pds_l9_dw_7\", \"IS_pds_l9_dw_8\", \"IS_pds_l9_dw_9\"]].sum(axis=1)\n",
    "# df1[\"IS_pds_l9_ws_ct\"] = df1[[\"IS_pds_l9_dw_1_ct\", \"IS_pds_l9_dw_2_ct\", \"IS_pds_l9_dw_3_ct\", \"IS_pds_l9_dw_4_ct\", \"IS_pds_l9_dw_5_ct\", \"IS_pds_l9_dw_6_ct\", \"IS_pds_l9_dw_7_ct\", \"IS_pds_l9_dw_8_ct\", \"IS_pds_l9_dw_9_ct\"]].sum(axis=1)\n",
    "# df1[\"IS_pds_l9_dw\"] = df1[\"IS_pds_l9_ws\"]/df1[\"IS_pds_l9_ws_ct\"]\n",
    "\n",
    "# # Deleting transient columns\n",
    "# df1 = df1.drop([\"IS_pds_l9_dw_1\", \"IS_pds_l9_dw_2\", \"IS_pds_l9_dw_3\", \"IS_pds_l9_dw_4\", \"IS_pds_l9_dw_5\", \"IS_pds_l9_dw_6\", \"IS_pds_l9_dw_7\", \"IS_pds_l9_dw_8\", \"IS_pds_l9_dw_9\", \"IS_pds_l9_ws\", \"IS_pds_l9_dw_1_ct\", \"IS_pds_l9_dw_2_ct\", \"IS_pds_l9_dw_3_ct\", \"IS_pds_l9_dw_4_ct\", \"IS_pds_l9_dw_5_ct\", \"IS_pds_l9_dw_6_ct\", \"IS_pds_l9_dw_7_ct\", \"IS_pds_l9_dw_8_ct\", \"IS_pds_l9_dw_9_ct\", \"IS_pds_l9_ws_ct\"], axis = 1)"
   ]
  },
  {
   "cell_type": "code",
   "execution_count": 291,
   "id": "41d2bebe",
   "metadata": {},
   "outputs": [],
   "source": [
    "#GMS_pds_l10_dw\n",
    "#Provides decay-weighted(dw), puzzle day-specific (pds) mean solve time performance for GMS over the previous 10 puzzles relative to a given puzzle\n",
    "# Note also that, unlike the 10-puzzle moving average, this weighted average does NOT include the \"puzzle at hand\" itself\n",
    "\n",
    "df1 = df1.sort_values(by=['DOW', 'P_Date'], ascending = False)\n",
    "\n",
    "#w = [10,9,8,7,6,5,4,3,2,1] #weight assigned to puzzle\n",
    "w = [1,1,1,1,1,1,1,1,1,1] #weight assigned to puzzle\n",
    "\n",
    "df1[\"GMS_pds_l10_dw_1\"] = df1.groupby(['DOW'])['GMST(m)'].shift(-1)*w[0]\n",
    "df1[\"GMS_pds_l10_dw_2\"] = df1.groupby(['DOW'])['GMST(m)'].shift(-2)*w[1]\n",
    "df1[\"GMS_pds_l10_dw_3\"] = df1.groupby(['DOW'])['GMST(m)'].shift(-3)*w[2]\n",
    "df1[\"GMS_pds_l10_dw_4\"] = df1.groupby(['DOW'])['GMST(m)'].shift(-4)*w[3]\n",
    "df1[\"GMS_pds_l10_dw_5\"] = df1.groupby(['DOW'])['GMST(m)'].shift(-5)*w[4]\n",
    "df1[\"GMS_pds_l10_dw_6\"] = df1.groupby(['DOW'])['GMST(m)'].shift(-6)*w[5]\n",
    "df1[\"GMS_pds_l10_dw_7\"] = df1.groupby(['DOW'])['GMST(m)'].shift(-7)*w[6]\n",
    "df1[\"GMS_pds_l10_dw_8\"] = df1.groupby(['DOW'])['GMST(m)'].shift(-8)*w[7]\n",
    "df1[\"GMS_pds_l10_dw_9\"] = df1.groupby(['DOW'])['GMST(m)'].shift(-9)*w[8]\n",
    "df1[\"GMS_pds_l10_dw_10\"] = df1.groupby(['DOW'])['GMST(m)'].shift(-10)*w[9]\n",
    "\n",
    "df1[\"GMS_pds_l10_dw_1_ct\"] = (df1.groupby(['DOW'])['GMST(m)'].shift(-1)/df1.groupby(['DOW'])['GMST(m)'].shift(-1))*w[0]\n",
    "df1[\"GMS_pds_l10_dw_2_ct\"] = (df1.groupby(['DOW'])['GMST(m)'].shift(-2)/df1.groupby(['DOW'])['GMST(m)'].shift(-2))*w[1]\n",
    "df1[\"GMS_pds_l10_dw_3_ct\"] = (df1.groupby(['DOW'])['GMST(m)'].shift(-3)/df1.groupby(['DOW'])['GMST(m)'].shift(-3))*w[2]\n",
    "df1[\"GMS_pds_l10_dw_4_ct\"] = (df1.groupby(['DOW'])['GMST(m)'].shift(-4)/df1.groupby(['DOW'])['GMST(m)'].shift(-4))*w[3]\n",
    "df1[\"GMS_pds_l10_dw_5_ct\"] = (df1.groupby(['DOW'])['GMST(m)'].shift(-5)/df1.groupby(['DOW'])['GMST(m)'].shift(-5))*w[4]\n",
    "df1[\"GMS_pds_l10_dw_6_ct\"] = (df1.groupby(['DOW'])['GMST(m)'].shift(-6)/df1.groupby(['DOW'])['GMST(m)'].shift(-6))*w[5]\n",
    "df1[\"GMS_pds_l10_dw_7_ct\"] = (df1.groupby(['DOW'])['GMST(m)'].shift(-7)/df1.groupby(['DOW'])['GMST(m)'].shift(-7))*w[6]\n",
    "df1[\"GMS_pds_l10_dw_8_ct\"] = (df1.groupby(['DOW'])['GMST(m)'].shift(-8)/df1.groupby(['DOW'])['GMST(m)'].shift(-8))*w[7]\n",
    "df1[\"GMS_pds_l10_dw_9_ct\"] = (df1.groupby(['DOW'])['GMST(m)'].shift(-9)/df1.groupby(['DOW'])['GMST(m)'].shift(-9))*w[8]\n",
    "df1[\"GMS_pds_l10_dw_10_ct\"] = (df1.groupby(['DOW'])['GMST(m)'].shift(-10)/df1.groupby(['DOW'])['GMST(m)'].shift(-10))*w[9]\n",
    "\n",
    "df1[\"GMS_pds_l10_ws\"] = df1[[\"GMS_pds_l10_dw_1\", \"GMS_pds_l10_dw_2\", \"GMS_pds_l10_dw_3\", \"GMS_pds_l10_dw_4\", \"GMS_pds_l10_dw_5\", \"GMS_pds_l10_dw_6\", \"GMS_pds_l10_dw_7\", \"GMS_pds_l10_dw_8\", \"GMS_pds_l10_dw_9\", \"GMS_pds_l10_dw_10\"]].sum(axis=1)\n",
    "df1[\"GMS_pds_l10_ws_ct\"] = df1[[\"GMS_pds_l10_dw_1_ct\", \"GMS_pds_l10_dw_2_ct\", \"GMS_pds_l10_dw_3_ct\", \"GMS_pds_l10_dw_4_ct\", \"GMS_pds_l10_dw_5_ct\", \"GMS_pds_l10_dw_6_ct\", \"GMS_pds_l10_dw_7_ct\", \"GMS_pds_l10_dw_8_ct\", \"GMS_pds_l10_dw_9_ct\", \"GMS_pds_l10_dw_10_ct\"]].sum(axis=1)\n",
    "df1[\"GMS_pds_l10_dw\"] = df1[\"GMS_pds_l10_ws\"]/df1[\"GMS_pds_l10_ws_ct\"]\n",
    "\n",
    "# Deleting transient columns\n",
    "df1 = df1.drop([\"GMS_pds_l10_dw_1\", \"GMS_pds_l10_dw_2\", \"GMS_pds_l10_dw_3\", \"GMS_pds_l10_dw_4\", \"GMS_pds_l10_dw_5\", \"GMS_pds_l10_dw_6\", \"GMS_pds_l10_dw_7\", \"GMS_pds_l10_dw_8\", \"GMS_pds_l10_dw_9\", \"GMS_pds_l10_dw_10\", \"GMS_pds_l10_ws\", \"GMS_pds_l10_dw_1_ct\", \"GMS_pds_l10_dw_2_ct\", \"GMS_pds_l10_dw_3_ct\", \"GMS_pds_l10_dw_4_ct\", \"GMS_pds_l10_dw_5_ct\", \"GMS_pds_l10_dw_6_ct\", \"GMS_pds_l10_dw_7_ct\", \"GMS_pds_l10_dw_8_ct\", \"GMS_pds_l10_dw_9_ct\", \"GMS_pds_l10_dw_10_ct\", \"GMS_pds_l10_ws_ct\"], axis = 1)"
   ]
  },
  {
   "cell_type": "code",
   "execution_count": 292,
   "id": "e1ced483",
   "metadata": {},
   "outputs": [],
   "source": [
    "# #IS_pds_l11_dw\n",
    "# #Provides decay-weighted(dw), puzzle day-specific (pds) mean solve time performance for IS1 over the previous 11 puzzles relative to a given puzzle\n",
    "# # Note that the sort is by completion date for IS1, as completion date was avaiable \n",
    "# # Note also that, unlike the 10-puzzle moving average, this weighted average does NOT include the \"puzzle at hand\" itself\n",
    "\n",
    "# df1 = df1.sort_values(by=['DOW', 'Comp_Date'], ascending = False)\n",
    "\n",
    "# #w = [11,10,9,8,7,6,5,4,3,2,1] #weight assigned to puzzle\n",
    "# w = [1,1,1,1,1,1,1,1,1,1,1] #weight assigned to puzzle\n",
    "\n",
    "# df1[\"IS_pds_l11_dw_1\"] = df1.groupby(['DOW'])['IS1_ST(m)'].shift(-1)*w[0]\n",
    "# df1[\"IS_pds_l11_dw_2\"] = df1.groupby(['DOW'])['IS1_ST(m)'].shift(-2)*w[1]\n",
    "# df1[\"IS_pds_l11_dw_3\"] = df1.groupby(['DOW'])['IS1_ST(m)'].shift(-3)*w[2]\n",
    "# df1[\"IS_pds_l11_dw_4\"] = df1.groupby(['DOW'])['IS1_ST(m)'].shift(-4)*w[3]\n",
    "# df1[\"IS_pds_l11_dw_5\"] = df1.groupby(['DOW'])['IS1_ST(m)'].shift(-5)*w[4]\n",
    "# df1[\"IS_pds_l11_dw_6\"] = df1.groupby(['DOW'])['IS1_ST(m)'].shift(-6)*w[5]\n",
    "# df1[\"IS_pds_l11_dw_7\"] = df1.groupby(['DOW'])['IS1_ST(m)'].shift(-7)*w[6]\n",
    "# df1[\"IS_pds_l11_dw_8\"] = df1.groupby(['DOW'])['IS1_ST(m)'].shift(-8)*w[7]\n",
    "# df1[\"IS_pds_l11_dw_9\"] = df1.groupby(['DOW'])['IS1_ST(m)'].shift(-9)*w[8]\n",
    "# df1[\"IS_pds_l11_dw_10\"] = df1.groupby(['DOW'])['IS1_ST(m)'].shift(-10)*w[9]\n",
    "# df1[\"IS_pds_l11_dw_11\"] = df1.groupby(['DOW'])['IS1_ST(m)'].shift(-11)*w[10]\n",
    "\n",
    "# df1[\"IS_pds_l11_dw_1_ct\"] = (df1.groupby(['DOW'])['IS1_ST(m)'].shift(-1)/df1.groupby(['DOW'])['IS1_ST(m)'].shift(-1))*w[0]\n",
    "# df1[\"IS_pds_l11_dw_2_ct\"] = (df1.groupby(['DOW'])['IS1_ST(m)'].shift(-2)/df1.groupby(['DOW'])['IS1_ST(m)'].shift(-2))*w[1]\n",
    "# df1[\"IS_pds_l11_dw_3_ct\"] = (df1.groupby(['DOW'])['IS1_ST(m)'].shift(-3)/df1.groupby(['DOW'])['IS1_ST(m)'].shift(-3))*w[2]\n",
    "# df1[\"IS_pds_l11_dw_4_ct\"] = (df1.groupby(['DOW'])['IS1_ST(m)'].shift(-4)/df1.groupby(['DOW'])['IS1_ST(m)'].shift(-4))*w[3]\n",
    "# df1[\"IS_pds_l11_dw_5_ct\"] = (df1.groupby(['DOW'])['IS1_ST(m)'].shift(-5)/df1.groupby(['DOW'])['IS1_ST(m)'].shift(-5))*w[4]\n",
    "# df1[\"IS_pds_l11_dw_6_ct\"] = (df1.groupby(['DOW'])['IS1_ST(m)'].shift(-6)/df1.groupby(['DOW'])['IS1_ST(m)'].shift(-6))*w[5]\n",
    "# df1[\"IS_pds_l11_dw_7_ct\"] = (df1.groupby(['DOW'])['IS1_ST(m)'].shift(-7)/df1.groupby(['DOW'])['IS1_ST(m)'].shift(-7))*w[6]\n",
    "# df1[\"IS_pds_l11_dw_8_ct\"] = (df1.groupby(['DOW'])['IS1_ST(m)'].shift(-8)/df1.groupby(['DOW'])['IS1_ST(m)'].shift(-8))*w[7]\n",
    "# df1[\"IS_pds_l11_dw_9_ct\"] = (df1.groupby(['DOW'])['IS1_ST(m)'].shift(-9)/df1.groupby(['DOW'])['IS1_ST(m)'].shift(-9))*w[8]\n",
    "# df1[\"IS_pds_l11_dw_10_ct\"] = (df1.groupby(['DOW'])['IS1_ST(m)'].shift(-10)/df1.groupby(['DOW'])['IS1_ST(m)'].shift(-10))*w[9]\n",
    "# df1[\"IS_pds_l11_dw_11_ct\"] = (df1.groupby(['DOW'])['IS1_ST(m)'].shift(-11)/df1.groupby(['DOW'])['IS1_ST(m)'].shift(-11))*w[10]\n",
    "\n",
    "# df1[\"IS_pds_l11_ws\"] = df1[[\"IS_pds_l11_dw_1\", \"IS_pds_l11_dw_2\", \"IS_pds_l11_dw_3\", \"IS_pds_l11_dw_4\", \"IS_pds_l11_dw_5\", \"IS_pds_l11_dw_6\", \"IS_pds_l11_dw_7\", \"IS_pds_l11_dw_8\", \"IS_pds_l11_dw_9\", \"IS_pds_l11_dw_10\", \"IS_pds_l11_dw_11\"]].sum(axis=1)\n",
    "# df1[\"IS_pds_l11_ws_ct\"] = df1[[\"IS_pds_l11_dw_1_ct\", \"IS_pds_l11_dw_2_ct\", \"IS_pds_l11_dw_3_ct\", \"IS_pds_l11_dw_4_ct\", \"IS_pds_l11_dw_5_ct\", \"IS_pds_l11_dw_6_ct\", \"IS_pds_l11_dw_7_ct\", \"IS_pds_l11_dw_8_ct\", \"IS_pds_l11_dw_9_ct\", \"IS_pds_l11_dw_10_ct\", \"IS_pds_l11_dw_11_ct\"]].sum(axis=1)\n",
    "# df1[\"IS_pds_l11_dw\"] = df1[\"IS_pds_l11_ws\"]/df1[\"IS_pds_l11_ws_ct\"]\n",
    "\n",
    "# # Deleting transient columns\n",
    "# df1 = df1.drop([\"IS_pds_l11_dw_1\", \"IS_pds_l11_dw_2\", \"IS_pds_l11_dw_3\", \"IS_pds_l11_dw_4\", \"IS_pds_l11_dw_5\", \"IS_pds_l11_dw_6\", \"IS_pds_l11_dw_7\", \"IS_pds_l11_dw_8\", \"IS_pds_l11_dw_9\", \"IS_pds_l11_dw_10\", \"IS_pds_l11_dw_11\", \"IS_pds_l11_ws\", \"IS_pds_l11_dw_1_ct\", \"IS_pds_l11_dw_2_ct\", \"IS_pds_l11_dw_3_ct\", \"IS_pds_l11_dw_4_ct\", \"IS_pds_l11_dw_5_ct\", \"IS_pds_l11_dw_6_ct\", \"IS_pds_l11_dw_7_ct\", \"IS_pds_l11_dw_8_ct\", \"IS_pds_l11_dw_9_ct\", \"IS_pds_l11_dw_10_ct\",\"IS_pds_l11_dw_11_ct\", \"IS_pds_l11_ws_ct\"], axis = 1)"
   ]
  },
  {
   "cell_type": "code",
   "execution_count": 293,
   "id": "1c652a39",
   "metadata": {},
   "outputs": [],
   "source": [
    "# #IS_pds_l12_dw\n",
    "# #Provides decay-weighted(dw), puzzle day-specific (pds) mean solve time performance for IS1 over the previous 12 puzzles relative to a given puzzle\n",
    "# # Note that the sort is by completion date for IS1, as completion date was avaiable \n",
    "# # Note also that, unlike the 10-puzzle moving average, this weighted average does NOT include the \"puzzle at hand\" itself\n",
    "\n",
    "# df1 = df1.sort_values(by=['DOW', 'Comp_Date'], ascending = False)\n",
    "\n",
    "# #w = [12,11,10,9,8,7,6,5,4,3,2,1] #weight assigned to puzzle\n",
    "# w = [1,1,1,1,1,1,1,1,1,1,1,1] #weight assigned to puzzle\n",
    "# #w = [10,9,8,7,6,5,5,5,5,5] #weight assigned to puzzle\n",
    "# #w = [10,9,8,7,6,5,5,3,3,1] #weight assigned to puzzle\n",
    "# #w = [10,8,6,6,4,4,2,2,1,1] #weight assigned to puzzle\n",
    "# #w = [20,19,18,17,16,15,14,13,12,11] #weight assigned to puzzle\n",
    "# #w = [20,18,14,8,4,4,2,2,1,1] #weight assigned to puzzle\n",
    "# #w = [20,19,18,17,16,15,14,13,12,11] #weight assigned to puzzle\n",
    "# #w = [10,9,8,7,6,5,4,3,2,1] #weight assigned to puzzle\n",
    "\n",
    "# df1[\"IS_pds_l12_dw_1\"] = df1.groupby(['DOW'])['IS1_ST(m)'].shift(-1)*w[0]\n",
    "# df1[\"IS_pds_l12_dw_2\"] = df1.groupby(['DOW'])['IS1_ST(m)'].shift(-2)*w[1]\n",
    "# df1[\"IS_pds_l12_dw_3\"] = df1.groupby(['DOW'])['IS1_ST(m)'].shift(-3)*w[2]\n",
    "# df1[\"IS_pds_l12_dw_4\"] = df1.groupby(['DOW'])['IS1_ST(m)'].shift(-4)*w[3]\n",
    "# df1[\"IS_pds_l12_dw_5\"] = df1.groupby(['DOW'])['IS1_ST(m)'].shift(-5)*w[4]\n",
    "# df1[\"IS_pds_l12_dw_6\"] = df1.groupby(['DOW'])['IS1_ST(m)'].shift(-6)*w[5]\n",
    "# df1[\"IS_pds_l12_dw_7\"] = df1.groupby(['DOW'])['IS1_ST(m)'].shift(-7)*w[6]\n",
    "# df1[\"IS_pds_l12_dw_8\"] = df1.groupby(['DOW'])['IS1_ST(m)'].shift(-8)*w[7]\n",
    "# df1[\"IS_pds_l12_dw_9\"] = df1.groupby(['DOW'])['IS1_ST(m)'].shift(-9)*w[8]\n",
    "# df1[\"IS_pds_l12_dw_10\"] = df1.groupby(['DOW'])['IS1_ST(m)'].shift(-10)*w[9]\n",
    "# df1[\"IS_pds_l12_dw_11\"] = df1.groupby(['DOW'])['IS1_ST(m)'].shift(-11)*w[10]\n",
    "# df1[\"IS_pds_l12_dw_12\"] = df1.groupby(['DOW'])['IS1_ST(m)'].shift(-12)*w[11]\n",
    "\n",
    "# df1[\"IS_pds_l12_dw_1_ct\"] = (df1.groupby(['DOW'])['IS1_ST(m)'].shift(-1)/df1.groupby(['DOW'])['IS1_ST(m)'].shift(-1))*w[0]\n",
    "# df1[\"IS_pds_l12_dw_2_ct\"] = (df1.groupby(['DOW'])['IS1_ST(m)'].shift(-2)/df1.groupby(['DOW'])['IS1_ST(m)'].shift(-2))*w[1]\n",
    "# df1[\"IS_pds_l12_dw_3_ct\"] = (df1.groupby(['DOW'])['IS1_ST(m)'].shift(-3)/df1.groupby(['DOW'])['IS1_ST(m)'].shift(-3))*w[2]\n",
    "# df1[\"IS_pds_l12_dw_4_ct\"] = (df1.groupby(['DOW'])['IS1_ST(m)'].shift(-4)/df1.groupby(['DOW'])['IS1_ST(m)'].shift(-4))*w[3]\n",
    "# df1[\"IS_pds_l12_dw_5_ct\"] = (df1.groupby(['DOW'])['IS1_ST(m)'].shift(-5)/df1.groupby(['DOW'])['IS1_ST(m)'].shift(-5))*w[4]\n",
    "# df1[\"IS_pds_l12_dw_6_ct\"] = (df1.groupby(['DOW'])['IS1_ST(m)'].shift(-6)/df1.groupby(['DOW'])['IS1_ST(m)'].shift(-6))*w[5]\n",
    "# df1[\"IS_pds_l12_dw_7_ct\"] = (df1.groupby(['DOW'])['IS1_ST(m)'].shift(-7)/df1.groupby(['DOW'])['IS1_ST(m)'].shift(-7))*w[6]\n",
    "# df1[\"IS_pds_l12_dw_8_ct\"] = (df1.groupby(['DOW'])['IS1_ST(m)'].shift(-8)/df1.groupby(['DOW'])['IS1_ST(m)'].shift(-8))*w[7]\n",
    "# df1[\"IS_pds_l12_dw_9_ct\"] = (df1.groupby(['DOW'])['IS1_ST(m)'].shift(-9)/df1.groupby(['DOW'])['IS1_ST(m)'].shift(-9))*w[8]\n",
    "# df1[\"IS_pds_l12_dw_10_ct\"] = (df1.groupby(['DOW'])['IS1_ST(m)'].shift(-10)/df1.groupby(['DOW'])['IS1_ST(m)'].shift(-10))*w[9]\n",
    "# df1[\"IS_pds_l12_dw_11_ct\"] = (df1.groupby(['DOW'])['IS1_ST(m)'].shift(-11)/df1.groupby(['DOW'])['IS1_ST(m)'].shift(-11))*w[10]\n",
    "# df1[\"IS_pds_l12_dw_12_ct\"] = (df1.groupby(['DOW'])['IS1_ST(m)'].shift(-12)/df1.groupby(['DOW'])['IS1_ST(m)'].shift(-12))*w[11]\n",
    "\n",
    "# df1[\"IS_pds_l12_ws\"] = df1[[\"IS_pds_l12_dw_1\", \"IS_pds_l12_dw_2\", \"IS_pds_l12_dw_3\", \"IS_pds_l12_dw_4\", \"IS_pds_l12_dw_5\", \"IS_pds_l12_dw_6\", \"IS_pds_l12_dw_7\", \"IS_pds_l12_dw_8\", \"IS_pds_l12_dw_9\", \"IS_pds_l12_dw_10\",\"IS_pds_l12_dw_11\", \"IS_pds_l12_dw_12\"]].sum(axis=1)\n",
    "# df1[\"IS_pds_l12_ws_ct\"] = df1[[\"IS_pds_l12_dw_1_ct\", \"IS_pds_l12_dw_2_ct\", \"IS_pds_l12_dw_3_ct\", \"IS_pds_l12_dw_4_ct\", \"IS_pds_l12_dw_5_ct\", \"IS_pds_l12_dw_6_ct\", \"IS_pds_l12_dw_7_ct\", \"IS_pds_l12_dw_8_ct\", \"IS_pds_l12_dw_9_ct\", \"IS_pds_l12_dw_10_ct\", \"IS_pds_l12_dw_11_ct\", \"IS_pds_l12_dw_12_ct\"]].sum(axis=1)\n",
    "# df1[\"IS_pds_l12_dw\"] = df1[\"IS_pds_l12_ws\"]/df1[\"IS_pds_l12_ws_ct\"]\n",
    "\n",
    "# # Deleting transient columns\n",
    "# df1 = df1.drop([\"IS_pds_l12_dw_1\", \"IS_pds_l12_dw_2\", \"IS_pds_l12_dw_3\", \"IS_pds_l12_dw_4\", \"IS_pds_l12_dw_5\", \"IS_pds_l12_dw_6\", \"IS_pds_l12_dw_7\", \"IS_pds_l12_dw_8\", \"IS_pds_l12_dw_9\", \"IS_pds_l12_dw_10\", \"IS_pds_l12_dw_11\", \"IS_pds_l12_dw_12\", \"IS_pds_l12_ws\", \"IS_pds_l12_dw_1_ct\", \"IS_pds_l12_dw_2_ct\", \"IS_pds_l12_dw_3_ct\", \"IS_pds_l12_dw_4_ct\", \"IS_pds_l12_dw_5_ct\", \"IS_pds_l12_dw_6_ct\", \"IS_pds_l12_dw_7_ct\", \"IS_pds_l12_dw_8_ct\", \"IS_pds_l12_dw_9_ct\", \"IS_pds_l12_dw_10_ct\", \"IS_pds_l12_dw_11_ct\", \"IS_pds_l12_dw_12_ct\", \"IS_pds_l12_ws_ct\"], axis = 1)"
   ]
  },
  {
   "cell_type": "code",
   "execution_count": 294,
   "id": "627ea10c",
   "metadata": {},
   "outputs": [],
   "source": [
    "# #IS_pds_l15_dw\n",
    "# #Provides decay-weighted(dw), puzzle day-specific (pds) mean solve time performance for IS1 over the previous 15 puzzles relative to a given puzzle\n",
    "# # Note that the sort is by completion date for IS1, as completion date was avaiable \n",
    "# # Note also that, unlike the 10-puzzle moving average, this weighted average does NOT include the \"puzzle at hand\" itself\n",
    "\n",
    "# df1 = df1.sort_values(by=['DOW', 'Comp_Date'], ascending = False)\n",
    "\n",
    "# #w = [15,14,13,12,11,10,9,8,7,6,5,4,3,2,1] #weight assigned to puzzle\n",
    "# w = [1,1,1,1,1,1,1,1,1,1,1,1,1,1,1] #weight assigned to puzzle\n",
    "# #w = [20,18,14,8,4,4,2,2,1,1] #weight assigned to puzzle\n",
    "# #w = [20,19,18,17,16,15,14,13,12,11] #weight assigned to puzzle\n",
    "# #w = [10,9,8,7,6,5,4,3,2,1] #weight assigned to puzzle\n",
    "\n",
    "# df1[\"IS_pds_l15_dw_1\"] = df1.groupby(['DOW'])['IS1_ST(m)'].shift(-1)*w[0]\n",
    "# df1[\"IS_pds_l15_dw_2\"] = df1.groupby(['DOW'])['IS1_ST(m)'].shift(-2)*w[1]\n",
    "# df1[\"IS_pds_l15_dw_3\"] = df1.groupby(['DOW'])['IS1_ST(m)'].shift(-3)*w[2]\n",
    "# df1[\"IS_pds_l15_dw_4\"] = df1.groupby(['DOW'])['IS1_ST(m)'].shift(-4)*w[3]\n",
    "# df1[\"IS_pds_l15_dw_5\"] = df1.groupby(['DOW'])['IS1_ST(m)'].shift(-5)*w[4]\n",
    "# df1[\"IS_pds_l15_dw_6\"] = df1.groupby(['DOW'])['IS1_ST(m)'].shift(-6)*w[5]\n",
    "# df1[\"IS_pds_l15_dw_7\"] = df1.groupby(['DOW'])['IS1_ST(m)'].shift(-7)*w[6]\n",
    "# df1[\"IS_pds_l15_dw_8\"] = df1.groupby(['DOW'])['IS1_ST(m)'].shift(-8)*w[7]\n",
    "# df1[\"IS_pds_l15_dw_9\"] = df1.groupby(['DOW'])['IS1_ST(m)'].shift(-9)*w[8]\n",
    "# df1[\"IS_pds_l15_dw_10\"] = df1.groupby(['DOW'])['IS1_ST(m)'].shift(-10)*w[9]\n",
    "# df1[\"IS_pds_l15_dw_11\"] = df1.groupby(['DOW'])['IS1_ST(m)'].shift(-11)*w[10]\n",
    "# df1[\"IS_pds_l15_dw_12\"] = df1.groupby(['DOW'])['IS1_ST(m)'].shift(-12)*w[11]\n",
    "# df1[\"IS_pds_l15_dw_13\"] = df1.groupby(['DOW'])['IS1_ST(m)'].shift(-13)*w[12]\n",
    "# df1[\"IS_pds_l15_dw_14\"] = df1.groupby(['DOW'])['IS1_ST(m)'].shift(-14)*w[13]\n",
    "# df1[\"IS_pds_l15_dw_15\"] = df1.groupby(['DOW'])['IS1_ST(m)'].shift(-15)*w[14]\n",
    "\n",
    "# df1[\"IS_pds_l15_dw_1_ct\"] = (df1.groupby(['DOW'])['IS1_ST(m)'].shift(-1)/df1.groupby(['DOW'])['IS1_ST(m)'].shift(-1))*w[0]\n",
    "# df1[\"IS_pds_l15_dw_2_ct\"] = (df1.groupby(['DOW'])['IS1_ST(m)'].shift(-2)/df1.groupby(['DOW'])['IS1_ST(m)'].shift(-2))*w[1]\n",
    "# df1[\"IS_pds_l15_dw_3_ct\"] = (df1.groupby(['DOW'])['IS1_ST(m)'].shift(-3)/df1.groupby(['DOW'])['IS1_ST(m)'].shift(-3))*w[2]\n",
    "# df1[\"IS_pds_l15_dw_4_ct\"] = (df1.groupby(['DOW'])['IS1_ST(m)'].shift(-4)/df1.groupby(['DOW'])['IS1_ST(m)'].shift(-4))*w[3]\n",
    "# df1[\"IS_pds_l15_dw_5_ct\"] = (df1.groupby(['DOW'])['IS1_ST(m)'].shift(-5)/df1.groupby(['DOW'])['IS1_ST(m)'].shift(-5))*w[4]\n",
    "# df1[\"IS_pds_l15_dw_6_ct\"] = (df1.groupby(['DOW'])['IS1_ST(m)'].shift(-6)/df1.groupby(['DOW'])['IS1_ST(m)'].shift(-6))*w[5]\n",
    "# df1[\"IS_pds_l15_dw_7_ct\"] = (df1.groupby(['DOW'])['IS1_ST(m)'].shift(-7)/df1.groupby(['DOW'])['IS1_ST(m)'].shift(-7))*w[6]\n",
    "# df1[\"IS_pds_l15_dw_8_ct\"] = (df1.groupby(['DOW'])['IS1_ST(m)'].shift(-8)/df1.groupby(['DOW'])['IS1_ST(m)'].shift(-8))*w[7]\n",
    "# df1[\"IS_pds_l15_dw_9_ct\"] = (df1.groupby(['DOW'])['IS1_ST(m)'].shift(-9)/df1.groupby(['DOW'])['IS1_ST(m)'].shift(-9))*w[8]\n",
    "# df1[\"IS_pds_l15_dw_10_ct\"] = (df1.groupby(['DOW'])['IS1_ST(m)'].shift(-10)/df1.groupby(['DOW'])['IS1_ST(m)'].shift(-10))*w[9]\n",
    "# df1[\"IS_pds_l15_dw_11_ct\"] = (df1.groupby(['DOW'])['IS1_ST(m)'].shift(-11)/df1.groupby(['DOW'])['IS1_ST(m)'].shift(-11))*w[10]\n",
    "# df1[\"IS_pds_l15_dw_12_ct\"] = (df1.groupby(['DOW'])['IS1_ST(m)'].shift(-12)/df1.groupby(['DOW'])['IS1_ST(m)'].shift(-12))*w[11]\n",
    "# df1[\"IS_pds_l15_dw_13_ct\"] = (df1.groupby(['DOW'])['IS1_ST(m)'].shift(-13)/df1.groupby(['DOW'])['IS1_ST(m)'].shift(-13))*w[12]\n",
    "# df1[\"IS_pds_l15_dw_14_ct\"] = (df1.groupby(['DOW'])['IS1_ST(m)'].shift(-14)/df1.groupby(['DOW'])['IS1_ST(m)'].shift(-14))*w[13]\n",
    "# df1[\"IS_pds_l15_dw_15_ct\"] = (df1.groupby(['DOW'])['IS1_ST(m)'].shift(-15)/df1.groupby(['DOW'])['IS1_ST(m)'].shift(-15))*w[14]\n",
    "\n",
    "# df1[\"IS_pds_l15_ws\"] = df1[[\"IS_pds_l15_dw_1\", \"IS_pds_l15_dw_2\", \"IS_pds_l15_dw_3\", \"IS_pds_l15_dw_4\", \"IS_pds_l15_dw_5\", \"IS_pds_l15_dw_6\", \"IS_pds_l15_dw_7\", \"IS_pds_l15_dw_8\", \"IS_pds_l15_dw_9\", \"IS_pds_l15_dw_10\", \"IS_pds_l15_dw_11\", \"IS_pds_l15_dw_12\", \"IS_pds_l15_dw_13\", \"IS_pds_l15_dw_14\", \"IS_pds_l15_dw_15\"]].sum(axis=1)\n",
    "# df1[\"IS_pds_l15_ws_ct\"] = df1[[\"IS_pds_l15_dw_1_ct\", \"IS_pds_l15_dw_2_ct\", \"IS_pds_l15_dw_3_ct\", \"IS_pds_l15_dw_4_ct\", \"IS_pds_l15_dw_5_ct\", \"IS_pds_l15_dw_6_ct\", \"IS_pds_l15_dw_7_ct\", \"IS_pds_l15_dw_8_ct\", \"IS_pds_l15_dw_9_ct\", \"IS_pds_l15_dw_10_ct\", \"IS_pds_l15_dw_11_ct\", \"IS_pds_l15_dw_12_ct\", \"IS_pds_l15_dw_13_ct\", \"IS_pds_l15_dw_14_ct\", \"IS_pds_l15_dw_15_ct\"]].sum(axis=1)\n",
    "# df1[\"IS_pds_l15_dw\"] = df1[\"IS_pds_l15_ws\"]/df1[\"IS_pds_l15_ws_ct\"]\n",
    "\n",
    "# # Deleting transient columns\n",
    "# df1 = df1.drop([\"IS_pds_l15_dw_1\", \"IS_pds_l15_dw_2\", \"IS_pds_l15_dw_3\", \"IS_pds_l15_dw_4\", \"IS_pds_l15_dw_5\", \"IS_pds_l15_dw_6\", \"IS_pds_l15_dw_7\", \"IS_pds_l15_dw_8\", \"IS_pds_l15_dw_9\", \"IS_pds_l15_dw_10\", \"IS_pds_l15_dw_11\", \"IS_pds_l15_dw_12\", \"IS_pds_l15_dw_13\", \"IS_pds_l15_dw_14\", \"IS_pds_l15_dw_15\", \"IS_pds_l15_dw_1_ct\", \"IS_pds_l15_dw_2_ct\", \"IS_pds_l15_dw_3_ct\", \"IS_pds_l15_dw_4_ct\", \"IS_pds_l15_dw_5_ct\", \"IS_pds_l15_dw_6_ct\", \"IS_pds_l15_dw_7_ct\", \"IS_pds_l15_dw_8_ct\", \"IS_pds_l15_dw_9_ct\", \"IS_pds_l15_dw_10_ct\", \"IS_pds_l15_dw_11_ct\", \"IS_pds_l15_dw_12_ct\", \"IS_pds_l15_dw_13_ct\", \"IS_pds_l15_dw_14_ct\", \"IS_pds_l15_dw_15_ct\", \"IS_pds_l15_ws\", \"IS_pds_l15_ws_ct\"], axis = 1)"
   ]
  },
  {
   "cell_type": "code",
   "execution_count": 333,
   "id": "3661c06c",
   "metadata": {},
   "outputs": [],
   "source": [
    "# #GMS_pds_l20_dw\n",
    "# #Provides decay-weighted(dw), puzzle day-specific (pds) mean solve time performance for IS1 over the previous 20 puzzles relative to a given puzzle\n",
    "# # Note that the sort is by completion date for IS1, as completion date was avaiable \n",
    "# # Note also that, unlike the 10-puzzle moving average, this weighted average does NOT include the \"puzzle at hand\" itself\n",
    "\n",
    "df1 = df1.sort_values(by=['DOW', 'P_Date'], ascending = False)\n",
    "\n",
    "#w = [20,19,18,17,16,15,14,13,12,11,10,9,8,7,6,5,4,3,2,1] #weight assigned to puzzle\n",
    "w = [1,1,1,1,1,1,1,1,1,1,1,1,1,1,1,1,1,1,1,1] #weight assigned to puzzle\n",
    "\n",
    "df1[\"GMS_pds_l20_dw_1\"] = df1.groupby(['DOW'])['GMST(m)'].shift(-1)*w[0]\n",
    "df1[\"GMS_pds_l20_dw_2\"] = df1.groupby(['DOW'])['GMST(m)'].shift(-2)*w[1]\n",
    "df1[\"GMS_pds_l20_dw_3\"] = df1.groupby(['DOW'])['GMST(m)'].shift(-3)*w[2]\n",
    "df1[\"GMS_pds_l20_dw_4\"] = df1.groupby(['DOW'])['GMST(m)'].shift(-4)*w[3]\n",
    "df1[\"GMS_pds_l20_dw_5\"] = df1.groupby(['DOW'])['GMST(m)'].shift(-5)*w[4]\n",
    "df1[\"GMS_pds_l20_dw_6\"] = df1.groupby(['DOW'])['GMST(m)'].shift(-6)*w[5]\n",
    "df1[\"GMS_pds_l20_dw_7\"] = df1.groupby(['DOW'])['GMST(m)'].shift(-7)*w[6]\n",
    "df1[\"GMS_pds_l20_dw_8\"] = df1.groupby(['DOW'])['GMST(m)'].shift(-8)*w[7]\n",
    "df1[\"GMS_pds_l20_dw_9\"] = df1.groupby(['DOW'])['GMST(m)'].shift(-9)*w[8]\n",
    "df1[\"GMS_pds_l20_dw_10\"] = df1.groupby(['DOW'])['GMST(m)'].shift(-10)*w[9]\n",
    "df1[\"GMS_pds_l20_dw_11\"] = df1.groupby(['DOW'])['GMST(m)'].shift(-11)*w[10]\n",
    "df1[\"GMS_pds_l20_dw_12\"] = df1.groupby(['DOW'])['GMST(m)'].shift(-12)*w[11]\n",
    "df1[\"GMS_pds_l20_dw_13\"] = df1.groupby(['DOW'])['GMST(m)'].shift(-13)*w[12]\n",
    "df1[\"GMS_pds_l20_dw_14\"] = df1.groupby(['DOW'])['GMST(m)'].shift(-14)*w[13]\n",
    "df1[\"GMS_pds_l20_dw_15\"] = df1.groupby(['DOW'])['GMST(m)'].shift(-15)*w[14]\n",
    "df1[\"GMS_pds_l20_dw_16\"] = df1.groupby(['DOW'])['GMST(m)'].shift(-16)*w[15]\n",
    "df1[\"GMS_pds_l20_dw_17\"] = df1.groupby(['DOW'])['GMST(m)'].shift(-17)*w[16]\n",
    "df1[\"GMS_pds_l20_dw_18\"] = df1.groupby(['DOW'])['GMST(m)'].shift(-18)*w[17]\n",
    "df1[\"GMS_pds_l20_dw_19\"] = df1.groupby(['DOW'])['GMST(m)'].shift(-19)*w[18]\n",
    "df1[\"GMS_pds_l20_dw_20\"] = df1.groupby(['DOW'])['GMST(m)'].shift(-20)*w[19]\n",
    "\n",
    "df1[\"GMS_pds_l20_dw_1_ct\"] = (df1.groupby(['DOW'])['GMST(m)'].shift(-1)/df1.groupby(['DOW'])['GMST(m)'].shift(-1))*w[0]\n",
    "df1[\"GMS_pds_l20_dw_2_ct\"] = (df1.groupby(['DOW'])['GMST(m)'].shift(-2)/df1.groupby(['DOW'])['GMST(m)'].shift(-2))*w[1]\n",
    "df1[\"GMS_pds_l20_dw_3_ct\"] = (df1.groupby(['DOW'])['GMST(m)'].shift(-3)/df1.groupby(['DOW'])['GMST(m)'].shift(-3))*w[2]\n",
    "df1[\"GMS_pds_l20_dw_4_ct\"] = (df1.groupby(['DOW'])['GMST(m)'].shift(-4)/df1.groupby(['DOW'])['GMST(m)'].shift(-4))*w[3]\n",
    "df1[\"GMS_pds_l20_dw_5_ct\"] = (df1.groupby(['DOW'])['GMST(m)'].shift(-5)/df1.groupby(['DOW'])['GMST(m)'].shift(-5))*w[4]\n",
    "df1[\"GMS_pds_l20_dw_6_ct\"] = (df1.groupby(['DOW'])['GMST(m)'].shift(-6)/df1.groupby(['DOW'])['GMST(m)'].shift(-6))*w[5]\n",
    "df1[\"GMS_pds_l20_dw_7_ct\"] = (df1.groupby(['DOW'])['GMST(m)'].shift(-7)/df1.groupby(['DOW'])['GMST(m)'].shift(-7))*w[6]\n",
    "df1[\"GMS_pds_l20_dw_8_ct\"] = (df1.groupby(['DOW'])['GMST(m)'].shift(-8)/df1.groupby(['DOW'])['GMST(m)'].shift(-8))*w[7]\n",
    "df1[\"GMS_pds_l20_dw_9_ct\"] = (df1.groupby(['DOW'])['GMST(m)'].shift(-9)/df1.groupby(['DOW'])['GMST(m)'].shift(-9))*w[8]\n",
    "df1[\"GMS_pds_l20_dw_10_ct\"] = (df1.groupby(['DOW'])['GMST(m)'].shift(-10)/df1.groupby(['DOW'])['GMST(m)'].shift(-10))*w[9]\n",
    "df1[\"GMS_pds_l20_dw_11_ct\"] = (df1.groupby(['DOW'])['GMST(m)'].shift(-11)/df1.groupby(['DOW'])['GMST(m)'].shift(-11))*w[10]\n",
    "df1[\"GMS_pds_l20_dw_12_ct\"] = (df1.groupby(['DOW'])['GMST(m)'].shift(-12)/df1.groupby(['DOW'])['GMST(m)'].shift(-12))*w[11]\n",
    "df1[\"GMS_pds_l20_dw_13_ct\"] = (df1.groupby(['DOW'])['GMST(m)'].shift(-13)/df1.groupby(['DOW'])['GMST(m)'].shift(-13))*w[12]\n",
    "df1[\"GMS_pds_l20_dw_14_ct\"] = (df1.groupby(['DOW'])['GMST(m)'].shift(-14)/df1.groupby(['DOW'])['GMST(m)'].shift(-14))*w[13]\n",
    "df1[\"GMS_pds_l20_dw_15_ct\"] = (df1.groupby(['DOW'])['GMST(m)'].shift(-15)/df1.groupby(['DOW'])['GMST(m)'].shift(-15))*w[14]\n",
    "df1[\"GMS_pds_l20_dw_16_ct\"] = (df1.groupby(['DOW'])['GMST(m)'].shift(-16)/df1.groupby(['DOW'])['GMST(m)'].shift(-16))*w[15]\n",
    "df1[\"GMS_pds_l20_dw_17_ct\"] = (df1.groupby(['DOW'])['GMST(m)'].shift(-17)/df1.groupby(['DOW'])['GMST(m)'].shift(-17))*w[16]\n",
    "df1[\"GMS_pds_l20_dw_18_ct\"] = (df1.groupby(['DOW'])['GMST(m)'].shift(-18)/df1.groupby(['DOW'])['GMST(m)'].shift(-18))*w[17]\n",
    "df1[\"GMS_pds_l20_dw_19_ct\"] = (df1.groupby(['DOW'])['GMST(m)'].shift(-19)/df1.groupby(['DOW'])['GMST(m)'].shift(-19))*w[18]\n",
    "df1[\"GMS_pds_l20_dw_20_ct\"] = (df1.groupby(['DOW'])['GMST(m)'].shift(-20)/df1.groupby(['DOW'])['GMST(m)'].shift(-20))*w[19]\n",
    "\n",
    "df1[\"GMS_pds_l20_ws\"] = df1[[\"GMS_pds_l20_dw_1\", \"GMS_pds_l20_dw_2\", \"GMS_pds_l20_dw_3\", \"GMS_pds_l20_dw_4\", \"GMS_pds_l20_dw_5\", \"GMS_pds_l20_dw_6\", \"GMS_pds_l20_dw_7\", \"GMS_pds_l20_dw_8\", \"GMS_pds_l20_dw_9\", \"GMS_pds_l20_dw_10\", \"GMS_pds_l20_dw_11\", \"GMS_pds_l20_dw_12\", \"GMS_pds_l20_dw_13\", \"GMS_pds_l20_dw_14\", \"GMS_pds_l20_dw_15\", \"GMS_pds_l20_dw_16\", \"GMS_pds_l20_dw_17\", \"GMS_pds_l20_dw_18\", \"GMS_pds_l20_dw_19\", \"GMS_pds_l20_dw_20\"]].sum(axis=1)\n",
    "df1[\"GMS_pds_l20_ws_ct\"] = df1[[\"GMS_pds_l20_dw_1_ct\", \"GMS_pds_l20_dw_2_ct\", \"GMS_pds_l20_dw_3_ct\", \"GMS_pds_l20_dw_4_ct\", \"GMS_pds_l20_dw_5_ct\", \"GMS_pds_l20_dw_6_ct\", \"GMS_pds_l20_dw_7_ct\", \"GMS_pds_l20_dw_8_ct\", \"GMS_pds_l20_dw_9_ct\", \"GMS_pds_l20_dw_10_ct\", \"GMS_pds_l20_dw_11_ct\", \"GMS_pds_l20_dw_12_ct\", \"GMS_pds_l20_dw_13_ct\", \"GMS_pds_l20_dw_14_ct\", \"GMS_pds_l20_dw_15_ct\", \"GMS_pds_l20_dw_16_ct\", \"GMS_pds_l20_dw_17_ct\", \"GMS_pds_l20_dw_18_ct\", \"GMS_pds_l20_dw_19_ct\", \"GMS_pds_l20_dw_20_ct\"]].sum(axis=1)\n",
    "df1[\"GMS_pds_l20_dw\"] = df1[\"GMS_pds_l20_ws\"]/df1[\"GMS_pds_l20_ws_ct\"]\n",
    "\n",
    "# Deleting transient columns\n",
    "df1 = df1.drop([\"GMS_pds_l20_dw_1\", \"GMS_pds_l20_dw_2\", \"GMS_pds_l20_dw_3\", \"GMS_pds_l20_dw_4\", \"GMS_pds_l20_dw_5\", \"GMS_pds_l20_dw_6\", \"GMS_pds_l20_dw_7\", \"GMS_pds_l20_dw_8\", \"GMS_pds_l20_dw_9\", \"GMS_pds_l20_dw_10\", \"GMS_pds_l20_dw_11\", \"GMS_pds_l20_dw_12\", \"GMS_pds_l20_dw_13\", \"GMS_pds_l20_dw_14\", \"GMS_pds_l20_dw_15\", \"GMS_pds_l20_dw_16\", \"GMS_pds_l20_dw_17\", \"GMS_pds_l20_dw_18\", \"GMS_pds_l20_dw_19\", \"GMS_pds_l20_dw_20\", \"GMS_pds_l20_dw_1_ct\", \"GMS_pds_l20_dw_2_ct\", \"GMS_pds_l20_dw_3_ct\", \"GMS_pds_l20_dw_4_ct\", \"GMS_pds_l20_dw_5_ct\", \"GMS_pds_l20_dw_6_ct\", \"GMS_pds_l20_dw_7_ct\", \"GMS_pds_l20_dw_8_ct\", \"GMS_pds_l20_dw_9_ct\", \"GMS_pds_l20_dw_10_ct\", \"GMS_pds_l20_dw_11_ct\", \"GMS_pds_l20_dw_12_ct\", \"GMS_pds_l20_dw_13_ct\", \"GMS_pds_l20_dw_14_ct\", \"GMS_pds_l20_dw_15_ct\", \"GMS_pds_l20_dw_16_ct\", \"GMS_pds_l20_dw_17_ct\", \"GMS_pds_l20_dw_18_ct\", \"GMS_pds_l20_dw_19_ct\", \"GMS_pds_l20_dw_20_ct\", \"GMS_pds_l20_ws\", \"GMS_pds_l20_ws_ct\"], axis = 1)"
   ]
  },
  {
   "cell_type": "code",
   "execution_count": 334,
   "id": "0646ca7d",
   "metadata": {},
   "outputs": [],
   "source": [
    "#GMS_pds_l25_dw\n",
    "#Provides decay-weighted(dw), puzzle day-specific (pds) mean solve time performance for IS1 over the previous 25 puzzles relative to a given puzzle\n",
    " # Note also that, unlike the 10-puzzle moving average, this weighted average does NOT include the \"puzzle at hand\" itself\n",
    "\n",
    "df1 = df1.sort_values(by=['DOW', 'P_Date'], ascending = False)\n",
    "\n",
    "#w = [25,24,23,22,21,20,19,18,17,16,15,14,13,12,11,10,9,8,7,6,5,4,3,2,1] #weight assigned to puzzle\n",
    "w = [1,1,1,1,1,1,1,1,1,1,1,1,1,1,1,1,1,1,1,1,1,1,1,1,1] #weight assigned to puzzle\n",
    "\n",
    "#w = [20,18,14,8,4,4,2,2,1,1] #weight assigned to puzzle\n",
    "#w = [20,19,18,17,16,15,14,13,12,11] #weight assigned to puzzle\n",
    "#w = [10,9,8,7,6,5,4,3,2,1] #weight assigned to puzzle\n",
    "#w = [1,1,1,1,1,1,1,1,1,1] #weight assigned to puzzle\n",
    "\n",
    "df1[\"GMS_pds_l25_dw_1\"] = df1.groupby(['DOW'])['GMST(m)'].shift(-1)*w[0]\n",
    "df1[\"GMS_pds_l25_dw_2\"] = df1.groupby(['DOW'])['GMST(m)'].shift(-2)*w[1]\n",
    "df1[\"GMS_pds_l25_dw_3\"] = df1.groupby(['DOW'])['GMST(m)'].shift(-3)*w[2]\n",
    "df1[\"GMS_pds_l25_dw_4\"] = df1.groupby(['DOW'])['GMST(m)'].shift(-4)*w[3]\n",
    "df1[\"GMS_pds_l25_dw_5\"] = df1.groupby(['DOW'])['GMST(m)'].shift(-5)*w[4]\n",
    "df1[\"GMS_pds_l25_dw_6\"] = df1.groupby(['DOW'])['GMST(m)'].shift(-6)*w[5]\n",
    "df1[\"GMS_pds_l25_dw_7\"] = df1.groupby(['DOW'])['GMST(m)'].shift(-7)*w[6]\n",
    "df1[\"GMS_pds_l25_dw_8\"] = df1.groupby(['DOW'])['GMST(m)'].shift(-8)*w[7]\n",
    "df1[\"GMS_pds_l25_dw_9\"] = df1.groupby(['DOW'])['GMST(m)'].shift(-9)*w[8]\n",
    "df1[\"GMS_pds_l25_dw_10\"] = df1.groupby(['DOW'])['GMST(m)'].shift(-10)*w[9]\n",
    "df1[\"GMS_pds_l25_dw_11\"] = df1.groupby(['DOW'])['GMST(m)'].shift(-11)*w[10]\n",
    "df1[\"GMS_pds_l25_dw_12\"] = df1.groupby(['DOW'])['GMST(m)'].shift(-12)*w[11]\n",
    "df1[\"GMS_pds_l25_dw_13\"] = df1.groupby(['DOW'])['GMST(m)'].shift(-13)*w[12]\n",
    "df1[\"GMS_pds_l25_dw_14\"] = df1.groupby(['DOW'])['GMST(m)'].shift(-14)*w[13]\n",
    "df1[\"GMS_pds_l25_dw_15\"] = df1.groupby(['DOW'])['GMST(m)'].shift(-15)*w[14]\n",
    "df1[\"GMS_pds_l25_dw_16\"] = df1.groupby(['DOW'])['GMST(m)'].shift(-16)*w[15]\n",
    "df1[\"GMS_pds_l25_dw_17\"] = df1.groupby(['DOW'])['GMST(m)'].shift(-17)*w[16]\n",
    "df1[\"GMS_pds_l25_dw_18\"] = df1.groupby(['DOW'])['GMST(m)'].shift(-18)*w[17]\n",
    "df1[\"GMS_pds_l25_dw_19\"] = df1.groupby(['DOW'])['GMST(m)'].shift(-19)*w[18]\n",
    "df1[\"GMS_pds_l25_dw_20\"] = df1.groupby(['DOW'])['GMST(m)'].shift(-20)*w[19]\n",
    "df1[\"GMS_pds_l25_dw_21\"] = df1.groupby(['DOW'])['GMST(m)'].shift(-21)*w[20]\n",
    "df1[\"GMS_pds_l25_dw_22\"] = df1.groupby(['DOW'])['GMST(m)'].shift(-22)*w[21]\n",
    "df1[\"GMS_pds_l25_dw_23\"] = df1.groupby(['DOW'])['GMST(m)'].shift(-23)*w[22]\n",
    "df1[\"GMS_pds_l25_dw_24\"] = df1.groupby(['DOW'])['GMST(m)'].shift(-24)*w[23]\n",
    "df1[\"GMS_pds_l25_dw_25\"] = df1.groupby(['DOW'])['GMST(m)'].shift(-25)*w[24]\n",
    "\n",
    "df1[\"GMS_pds_l25_dw_1_ct\"] = (df1.groupby(['DOW'])['GMST(m)'].shift(-1)/df1.groupby(['DOW'])['GMST(m)'].shift(-1))*w[0]\n",
    "df1[\"GMS_pds_l25_dw_2_ct\"] = (df1.groupby(['DOW'])['GMST(m)'].shift(-2)/df1.groupby(['DOW'])['GMST(m)'].shift(-2))*w[1]\n",
    "df1[\"GMS_pds_l25_dw_3_ct\"] = (df1.groupby(['DOW'])['GMST(m)'].shift(-3)/df1.groupby(['DOW'])['GMST(m)'].shift(-3))*w[2]\n",
    "df1[\"GMS_pds_l25_dw_4_ct\"] = (df1.groupby(['DOW'])['GMST(m)'].shift(-4)/df1.groupby(['DOW'])['GMST(m)'].shift(-4))*w[3]\n",
    "df1[\"GMS_pds_l25_dw_5_ct\"] = (df1.groupby(['DOW'])['GMST(m)'].shift(-5)/df1.groupby(['DOW'])['GMST(m)'].shift(-5))*w[4]\n",
    "df1[\"GMS_pds_l25_dw_6_ct\"] = (df1.groupby(['DOW'])['GMST(m)'].shift(-6)/df1.groupby(['DOW'])['GMST(m)'].shift(-6))*w[5]\n",
    "df1[\"GMS_pds_l25_dw_7_ct\"] = (df1.groupby(['DOW'])['GMST(m)'].shift(-7)/df1.groupby(['DOW'])['GMST(m)'].shift(-7))*w[6]\n",
    "df1[\"GMS_pds_l25_dw_8_ct\"] = (df1.groupby(['DOW'])['GMST(m)'].shift(-8)/df1.groupby(['DOW'])['GMST(m)'].shift(-8))*w[7]\n",
    "df1[\"GMS_pds_l25_dw_9_ct\"] = (df1.groupby(['DOW'])['GMST(m)'].shift(-9)/df1.groupby(['DOW'])['GMST(m)'].shift(-9))*w[8]\n",
    "df1[\"GMS_pds_l25_dw_10_ct\"] = (df1.groupby(['DOW'])['GMST(m)'].shift(-10)/df1.groupby(['DOW'])['GMST(m)'].shift(-10))*w[9]\n",
    "df1[\"GMS_pds_l25_dw_11_ct\"] = (df1.groupby(['DOW'])['GMST(m)'].shift(-11)/df1.groupby(['DOW'])['GMST(m)'].shift(-11))*w[10]\n",
    "df1[\"GMS_pds_l25_dw_12_ct\"] = (df1.groupby(['DOW'])['GMST(m)'].shift(-12)/df1.groupby(['DOW'])['GMST(m)'].shift(-12))*w[11]\n",
    "df1[\"GMS_pds_l25_dw_13_ct\"] = (df1.groupby(['DOW'])['GMST(m)'].shift(-13)/df1.groupby(['DOW'])['GMST(m)'].shift(-13))*w[12]\n",
    "df1[\"GMS_pds_l25_dw_14_ct\"] = (df1.groupby(['DOW'])['GMST(m)'].shift(-14)/df1.groupby(['DOW'])['GMST(m)'].shift(-14))*w[13]\n",
    "df1[\"GMS_pds_l25_dw_15_ct\"] = (df1.groupby(['DOW'])['GMST(m)'].shift(-15)/df1.groupby(['DOW'])['GMST(m)'].shift(-15))*w[14]\n",
    "df1[\"GMS_pds_l25_dw_16_ct\"] = (df1.groupby(['DOW'])['GMST(m)'].shift(-16)/df1.groupby(['DOW'])['GMST(m)'].shift(-16))*w[15]\n",
    "df1[\"GMS_pds_l25_dw_17_ct\"] = (df1.groupby(['DOW'])['GMST(m)'].shift(-17)/df1.groupby(['DOW'])['GMST(m)'].shift(-17))*w[16]\n",
    "df1[\"GMS_pds_l25_dw_18_ct\"] = (df1.groupby(['DOW'])['GMST(m)'].shift(-18)/df1.groupby(['DOW'])['GMST(m)'].shift(-18))*w[17]\n",
    "df1[\"GMS_pds_l25_dw_19_ct\"] = (df1.groupby(['DOW'])['GMST(m)'].shift(-19)/df1.groupby(['DOW'])['GMST(m)'].shift(-19))*w[18]\n",
    "df1[\"GMS_pds_l25_dw_20_ct\"] = (df1.groupby(['DOW'])['GMST(m)'].shift(-20)/df1.groupby(['DOW'])['GMST(m)'].shift(-20))*w[19]\n",
    "df1[\"GMS_pds_l25_dw_21_ct\"] = (df1.groupby(['DOW'])['GMST(m)'].shift(-21)/df1.groupby(['DOW'])['GMST(m)'].shift(-21))*w[20]\n",
    "df1[\"GMS_pds_l25_dw_22_ct\"] = (df1.groupby(['DOW'])['GMST(m)'].shift(-22)/df1.groupby(['DOW'])['GMST(m)'].shift(-22))*w[21]\n",
    "df1[\"GMS_pds_l25_dw_23_ct\"] = (df1.groupby(['DOW'])['GMST(m)'].shift(-23)/df1.groupby(['DOW'])['GMST(m)'].shift(-23))*w[22]\n",
    "df1[\"GMS_pds_l25_dw_24_ct\"] = (df1.groupby(['DOW'])['GMST(m)'].shift(-24)/df1.groupby(['DOW'])['GMST(m)'].shift(-24))*w[23]\n",
    "df1[\"GMS_pds_l25_dw_25_ct\"] = (df1.groupby(['DOW'])['GMST(m)'].shift(-25)/df1.groupby(['DOW'])['GMST(m)'].shift(-25))*w[24]\n",
    "\n",
    "df1[\"GMS_pds_l25_ws\"] = df1[[\"GMS_pds_l25_dw_1\", \"GMS_pds_l25_dw_2\", \"GMS_pds_l25_dw_3\", \"GMS_pds_l25_dw_4\", \"GMS_pds_l25_dw_5\", \"GMS_pds_l25_dw_6\", \"GMS_pds_l25_dw_7\", \"GMS_pds_l25_dw_8\", \"GMS_pds_l25_dw_9\", \"GMS_pds_l25_dw_10\", \"GMS_pds_l25_dw_11\", \"GMS_pds_l25_dw_12\", \"GMS_pds_l25_dw_13\", \"GMS_pds_l25_dw_14\", \"GMS_pds_l25_dw_15\", \"GMS_pds_l25_dw_16\", \"GMS_pds_l25_dw_17\", \"GMS_pds_l25_dw_18\", \"GMS_pds_l25_dw_19\", \"GMS_pds_l25_dw_20\", \"GMS_pds_l25_dw_21\", \"GMS_pds_l25_dw_22\", \"GMS_pds_l25_dw_23\", \"GMS_pds_l25_dw_24\", \"GMS_pds_l25_dw_25\"]].sum(axis=1)\n",
    "df1[\"GMS_pds_l25_ws_ct\"] = df1[[\"GMS_pds_l25_dw_1_ct\", \"GMS_pds_l25_dw_2_ct\", \"GMS_pds_l25_dw_3_ct\", \"GMS_pds_l25_dw_4_ct\", \"GMS_pds_l25_dw_5_ct\", \"GMS_pds_l25_dw_6_ct\", \"GMS_pds_l25_dw_7_ct\", \"GMS_pds_l25_dw_8_ct\", \"GMS_pds_l25_dw_9_ct\", \"GMS_pds_l25_dw_10_ct\", \"GMS_pds_l25_dw_11_ct\", \"GMS_pds_l25_dw_12_ct\", \"GMS_pds_l25_dw_13_ct\", \"GMS_pds_l25_dw_14_ct\", \"GMS_pds_l25_dw_15_ct\", \"GMS_pds_l25_dw_16_ct\", \"GMS_pds_l25_dw_17_ct\", \"GMS_pds_l25_dw_18_ct\", \"GMS_pds_l25_dw_19_ct\", \"GMS_pds_l25_dw_20_ct\", \"GMS_pds_l25_dw_21_ct\", \"GMS_pds_l25_dw_22_ct\", \"GMS_pds_l25_dw_23_ct\", \"GMS_pds_l25_dw_24_ct\", \"GMS_pds_l25_dw_25_ct\"]].sum(axis=1)\n",
    "df1[\"GMS_pds_l25_dw\"] = df1[\"GMS_pds_l25_ws\"]/df1[\"GMS_pds_l25_ws_ct\"]\n",
    "\n",
    "# Deleting transient columns\n",
    "df1 = df1.drop([\"GMS_pds_l25_dw_1\", \"GMS_pds_l25_dw_2\", \"GMS_pds_l25_dw_3\", \"GMS_pds_l25_dw_4\", \"GMS_pds_l25_dw_5\", \"GMS_pds_l25_dw_6\", \"GMS_pds_l25_dw_7\", \"GMS_pds_l25_dw_8\", \"GMS_pds_l25_dw_9\", \"GMS_pds_l25_dw_10\", \"GMS_pds_l25_dw_11\", \"GMS_pds_l25_dw_12\", \"GMS_pds_l25_dw_13\", \"GMS_pds_l25_dw_14\", \"GMS_pds_l25_dw_15\", \"GMS_pds_l25_dw_16\", \"GMS_pds_l25_dw_17\", \"GMS_pds_l25_dw_18\", \"GMS_pds_l25_dw_19\", \"GMS_pds_l25_dw_20\", \"GMS_pds_l25_dw_21\", \"GMS_pds_l25_dw_22\", \"GMS_pds_l25_dw_23\", \"GMS_pds_l25_dw_24\", \"GMS_pds_l25_dw_25\", \"GMS_pds_l25_dw_1_ct\", \"GMS_pds_l25_dw_2_ct\", \"GMS_pds_l25_dw_3_ct\", \"GMS_pds_l25_dw_4_ct\", \"GMS_pds_l25_dw_5_ct\", \"GMS_pds_l25_dw_6_ct\", \"GMS_pds_l25_dw_7_ct\", \"GMS_pds_l25_dw_8_ct\", \"GMS_pds_l25_dw_9_ct\", \"GMS_pds_l25_dw_10_ct\", \"GMS_pds_l25_dw_11_ct\", \"GMS_pds_l25_dw_12_ct\", \"GMS_pds_l25_dw_13_ct\", \"GMS_pds_l25_dw_14_ct\", \"GMS_pds_l25_dw_15_ct\", \"GMS_pds_l25_dw_16_ct\", \"GMS_pds_l25_dw_17_ct\", \"GMS_pds_l25_dw_18_ct\", \"GMS_pds_l25_dw_19_ct\", \"GMS_pds_l25_dw_20_ct\", \"GMS_pds_l25_dw_21_ct\", \"GMS_pds_l25_dw_22_ct\", \"GMS_pds_l25_dw_23_ct\", \"GMS_pds_l25_dw_24_ct\", \"GMS_pds_l25_dw_25_ct\", \"GMS_pds_l25_ws\", \"GMS_pds_l25_ws_ct\"], axis = 1)"
   ]
  },
  {
   "cell_type": "markdown",
   "id": "b6164441",
   "metadata": {},
   "source": [
    "Creating df variants with only the columns we will need to generate the benchmark models "
   ]
  },
  {
   "cell_type": "code",
   "execution_count": 335,
   "id": "4674aae5",
   "metadata": {},
   "outputs": [],
   "source": [
    "df_filter=df1.copy()"
   ]
  },
  {
   "cell_type": "code",
   "execution_count": 336,
   "id": "a027a7e8",
   "metadata": {},
   "outputs": [],
   "source": [
    "#df_model1 = df_filter[[\"GMST(m)\", \"GMS_pds_l10_dw\"]]\n",
    "df_model1 = df_filter[[\"GMST(m)\", \"GMS_pds_l20_dw\"]]\n",
    "#df_model1 = df_filter[[\"GMST(m)\", \"GMS_pds_l25_dw\"]]"
   ]
  },
  {
   "cell_type": "code",
   "execution_count": 337,
   "id": "55f787a2",
   "metadata": {},
   "outputs": [
    {
     "name": "stdout",
     "output_type": "stream",
     "text": [
      "<class 'pandas.core.frame.DataFrame'>\n",
      "Int64Index: 1596 entries, 3 to 1592\n",
      "Data columns (total 2 columns):\n",
      " #   Column          Non-Null Count  Dtype  \n",
      "---  ------          --------------  -----  \n",
      " 0   GMST(m)         1596 non-null   float64\n",
      " 1   GMS_pds_l20_dw  1589 non-null   float64\n",
      "dtypes: float64(2)\n",
      "memory usage: 37.4 KB\n"
     ]
    }
   ],
   "source": [
    "df_model1.info()"
   ]
  },
  {
   "cell_type": "markdown",
   "id": "6f76d820",
   "metadata": {},
   "source": [
    "### Train Test Split"
   ]
  },
  {
   "cell_type": "code",
   "execution_count": 338,
   "id": "37dfcba4",
   "metadata": {},
   "outputs": [
    {
     "data": {
      "text/plain": [
       "(1197.0, 399.0)"
      ]
     },
     "execution_count": 338,
     "metadata": {},
     "output_type": "execute_result"
    }
   ],
   "source": [
    "len(df_model1) * .75, len(df_model1) * .25"
   ]
  },
  {
   "cell_type": "code",
   "execution_count": 339,
   "id": "41207c43",
   "metadata": {},
   "outputs": [],
   "source": [
    "X_train, X_test, y_train, y_test = train_test_split(df_model1.drop(columns='GMST(m)'), \n",
    "                                                    df_model1[\"GMST(m)\"], test_size=0.25, \n",
    "                                                    random_state=47)"
   ]
  },
  {
   "cell_type": "code",
   "execution_count": 340,
   "id": "9aadc9a5",
   "metadata": {},
   "outputs": [
    {
     "data": {
      "text/plain": [
       "((1197,), (399,))"
      ]
     },
     "execution_count": 340,
     "metadata": {},
     "output_type": "execute_result"
    }
   ],
   "source": [
    "y_train.shape, y_test.shape"
   ]
  },
  {
   "cell_type": "code",
   "execution_count": 341,
   "id": "7b3da5c6",
   "metadata": {},
   "outputs": [
    {
     "data": {
      "text/plain": [
       "692     11.966667\n",
       "639      9.616667\n",
       "84      29.616667\n",
       "312     20.383333\n",
       "1420    20.433333\n",
       "          ...    \n",
       "956     19.116667\n",
       "314     16.433333\n",
       "1344     6.733333\n",
       "370      8.683333\n",
       "569      6.250000\n",
       "Name: GMST(m), Length: 1197, dtype: float64"
      ]
     },
     "execution_count": 341,
     "metadata": {},
     "output_type": "execute_result"
    }
   ],
   "source": [
    "y_train"
   ]
  },
  {
   "cell_type": "code",
   "execution_count": 342,
   "id": "3944cffa",
   "metadata": {},
   "outputs": [
    {
     "data": {
      "text/plain": [
       "((1197, 1), (399, 1))"
      ]
     },
     "execution_count": 342,
     "metadata": {},
     "output_type": "execute_result"
    }
   ],
   "source": [
    "X_train.shape, X_test.shape"
   ]
  },
  {
   "cell_type": "markdown",
   "id": "2b9eb379",
   "metadata": {},
   "source": [
    "### Pre-Modeling: \"Dummy Model\" (Mean Solve Time in Minutes Across Puzzles)"
   ]
  },
  {
   "cell_type": "code",
   "execution_count": 343,
   "id": "a9e3929c",
   "metadata": {},
   "outputs": [
    {
     "data": {
      "text/plain": [
       "16.497507658033957"
      ]
     },
     "execution_count": 343,
     "metadata": {},
     "output_type": "execute_result"
    }
   ],
   "source": [
    "#Target feature (GMST(m)) training set mean\n",
    "train_mean = y_train.mean()\n",
    "train_mean"
   ]
  },
  {
   "cell_type": "code",
   "execution_count": 344,
   "id": "ef94f8da",
   "metadata": {},
   "outputs": [
    {
     "data": {
      "text/plain": [
       "array([[16.49750766]])"
      ]
     },
     "execution_count": 344,
     "metadata": {},
     "output_type": "execute_result"
    }
   ],
   "source": [
    "#Fitting dummy regressor to training data (from sklearn). Outputs the training set mean.\n",
    "dumb_reg = DummyRegressor(strategy='mean')\n",
    "dumb_reg.fit(X_train, y_train)\n",
    "dumb_reg.constant_"
   ]
  },
  {
   "cell_type": "code",
   "execution_count": 345,
   "id": "f20954f3",
   "metadata": {},
   "outputs": [
    {
     "data": {
      "text/plain": [
       "array([16.49750766, 16.49750766, 16.49750766, 16.49750766, 16.49750766])"
      ]
     },
     "execution_count": 345,
     "metadata": {},
     "output_type": "execute_result"
    }
   ],
   "source": [
    "y_tr_pred = dumb_reg.predict(X_train)\n",
    "y_tr_pred[:5]"
   ]
  },
  {
   "cell_type": "code",
   "execution_count": 346,
   "id": "682d3306",
   "metadata": {},
   "outputs": [],
   "source": [
    "y_te_pred = train_mean * np.ones(len(y_test))"
   ]
  },
  {
   "cell_type": "markdown",
   "id": "69f9a10a",
   "metadata": {},
   "source": [
    "#### R-Squared (COD)"
   ]
  },
  {
   "cell_type": "code",
   "execution_count": 347,
   "id": "a5db87e4",
   "metadata": {},
   "outputs": [
    {
     "data": {
      "text/plain": [
       "(0.0, -0.0003913900619916255)"
      ]
     },
     "execution_count": 347,
     "metadata": {},
     "output_type": "execute_result"
    }
   ],
   "source": [
    "#Compute R-squared for target mean on training set (will be zero, since we are calculating mean on training set), and on test set (should be slightly different from zero)\n",
    "r2_score(y_train, y_tr_pred), r2_score(y_test, y_te_pred)"
   ]
  },
  {
   "cell_type": "markdown",
   "id": "68d65bdb",
   "metadata": {},
   "source": [
    "proportion of the variance for a dependent variable that's explained by our features. It's close to zero for the dummy model as expected."
   ]
  },
  {
   "cell_type": "markdown",
   "id": "13b2e460",
   "metadata": {},
   "source": [
    "#### Mean Absolute Error (MAE)"
   ]
  },
  {
   "cell_type": "code",
   "execution_count": 348,
   "id": "6eac49b9",
   "metadata": {},
   "outputs": [
    {
     "data": {
      "text/plain": [
       "(6.966021872652483, 6.609467975145325)"
      ]
     },
     "execution_count": 348,
     "metadata": {},
     "output_type": "execute_result"
    }
   ],
   "source": [
    "MAEs_dummy = mean_absolute_error(y_train, y_tr_pred), mean_absolute_error(y_test, y_te_pred)\n",
    "MAEs_dummy"
   ]
  },
  {
   "cell_type": "markdown",
   "id": "6e77ae7a",
   "metadata": {},
   "source": []
  },
  {
   "cell_type": "markdown",
   "id": "3d8d0a0c",
   "metadata": {},
   "source": [
    "#### Mean Squared Error (MSE)"
   ]
  },
  {
   "cell_type": "code",
   "execution_count": 349,
   "id": "ce641104",
   "metadata": {},
   "outputs": [
    {
     "data": {
      "text/plain": [
       "(69.31437441572618, 63.3637613069463)"
      ]
     },
     "execution_count": 349,
     "metadata": {},
     "output_type": "execute_result"
    }
   ],
   "source": [
    "#Calculate the Mean Squared Error (average of the square of the errors)\n",
    "MSEs_dummy = mean_squared_error(y_train, y_tr_pred), mean_squared_error(y_test, y_te_pred)\n",
    "MSEs_dummy"
   ]
  },
  {
   "cell_type": "markdown",
   "id": "6bf480c4",
   "metadata": {},
   "source": [
    "#### Root Mean Squared Error (RMSE)"
   ]
  },
  {
   "cell_type": "code",
   "execution_count": 350,
   "id": "9d96b979",
   "metadata": {},
   "outputs": [
    {
     "data": {
      "text/plain": [
       "(8.325525473850055, 7.960135759328876)"
      ]
     },
     "execution_count": 350,
     "metadata": {},
     "output_type": "execute_result"
    }
   ],
   "source": [
    "RMSEs_dummy = np.sqrt(mean_squared_error(y_train, y_tr_pred)), np.sqrt(mean_squared_error(y_test, y_te_pred))\n",
    "RMSEs_dummy"
   ]
  },
  {
   "cell_type": "markdown",
   "id": "2a27849f",
   "metadata": {},
   "source": [
    "On average, we might expect to be off by around 8.3 minutes on training set data and 8.0 minutes on test data if you guessed a given player's solve time on a given 15x15 puzzle based simply on an average of known values across all puzzles (and puzzle days)"
   ]
  },
  {
   "cell_type": "markdown",
   "id": "a297aad7",
   "metadata": {},
   "source": [
    "### Benchmark Linear Model Based on Last N Day-Specific Puzzles With X Decay Weighting"
   ]
  },
  {
   "cell_type": "code",
   "execution_count": 351,
   "id": "2dffb29e",
   "metadata": {},
   "outputs": [
    {
     "name": "stdout",
     "output_type": "stream",
     "text": [
      "<class 'pandas.core.frame.DataFrame'>\n",
      "Int64Index: 1197 entries, 692 to 569\n",
      "Data columns (total 1 columns):\n",
      " #   Column          Non-Null Count  Dtype  \n",
      "---  ------          --------------  -----  \n",
      " 0   GMS_pds_l20_dw  1192 non-null   float64\n",
      "dtypes: float64(1)\n",
      "memory usage: 18.7 KB\n"
     ]
    }
   ],
   "source": [
    "X_train.info()"
   ]
  },
  {
   "cell_type": "code",
   "execution_count": 352,
   "id": "3f05e589",
   "metadata": {},
   "outputs": [],
   "source": [
    "lr_pipe = make_pipeline(\n",
    "    SimpleImputer(strategy='median'), \n",
    "    StandardScaler(),\n",
    "    SelectKBest(f_regression),\n",
    "    LinearRegression()\n",
    ")"
   ]
  },
  {
   "cell_type": "code",
   "execution_count": 353,
   "id": "3b6274eb",
   "metadata": {},
   "outputs": [
    {
     "data": {
      "text/plain": [
       "dict_keys(['memory', 'steps', 'verbose', 'simpleimputer', 'standardscaler', 'selectkbest', 'linearregression', 'simpleimputer__add_indicator', 'simpleimputer__copy', 'simpleimputer__fill_value', 'simpleimputer__missing_values', 'simpleimputer__strategy', 'simpleimputer__verbose', 'standardscaler__copy', 'standardscaler__with_mean', 'standardscaler__with_std', 'selectkbest__k', 'selectkbest__score_func', 'linearregression__copy_X', 'linearregression__fit_intercept', 'linearregression__n_jobs', 'linearregression__normalize', 'linearregression__positive'])"
      ]
     },
     "execution_count": 353,
     "metadata": {},
     "output_type": "execute_result"
    }
   ],
   "source": [
    "#Dict of available parameters for linear regression pipe\n",
    "lr_pipe.get_params().keys()"
   ]
  },
  {
   "cell_type": "code",
   "execution_count": 354,
   "id": "8d45a3c7",
   "metadata": {},
   "outputs": [],
   "source": [
    "#Define search grid parameters\n",
    "k = [k+1 for k in range(len(X_train.columns))]\n",
    "\n",
    "grid_params = {\n",
    "    'standardscaler': [StandardScaler(), None],\n",
    "    'simpleimputer__strategy': ['mean', 'median'],\n",
    "    'selectkbest__k': k\n",
    "}"
   ]
  },
  {
   "cell_type": "code",
   "execution_count": 355,
   "id": "03fa5d78",
   "metadata": {},
   "outputs": [],
   "source": [
    "#Call `GridSearchCV` with linear regression pipeline, passing in the above `grid_params`\n",
    "#dict for parameters to evaluate with 5-fold cross-validation\n",
    "lr_grid_cv = GridSearchCV(lr_pipe, param_grid=grid_params, cv=5)"
   ]
  },
  {
   "cell_type": "code",
   "execution_count": 356,
   "id": "c1947d57",
   "metadata": {},
   "outputs": [
    {
     "data": {
      "text/plain": [
       "GridSearchCV(cv=5,\n",
       "             estimator=Pipeline(steps=[('simpleimputer',\n",
       "                                        SimpleImputer(strategy='median')),\n",
       "                                       ('standardscaler', StandardScaler()),\n",
       "                                       ('selectkbest',\n",
       "                                        SelectKBest(score_func=<function f_regression at 0x00000228EDEB33A0>)),\n",
       "                                       ('linearregression',\n",
       "                                        LinearRegression())]),\n",
       "             param_grid={'selectkbest__k': [1],\n",
       "                         'simpleimputer__strategy': ['mean', 'median'],\n",
       "                         'standardscaler': [StandardScaler(), None]})"
      ]
     },
     "execution_count": 356,
     "metadata": {},
     "output_type": "execute_result"
    }
   ],
   "source": [
    "#Conduct grid search for this model\n",
    "lr_grid_cv.fit(X_train, y_train)"
   ]
  },
  {
   "cell_type": "code",
   "execution_count": 357,
   "id": "a1106123",
   "metadata": {},
   "outputs": [
    {
     "data": {
      "text/plain": [
       "{'selectkbest__k': 1,\n",
       " 'simpleimputer__strategy': 'median',\n",
       " 'standardscaler': StandardScaler()}"
      ]
     },
     "execution_count": 357,
     "metadata": {},
     "output_type": "execute_result"
    }
   ],
   "source": [
    "#Best params from grid search for this model\n",
    "lr_grid_cv.best_params_"
   ]
  },
  {
   "cell_type": "markdown",
   "id": "eaaa954d",
   "metadata": {},
   "source": [
    "#### K Best Features Visualization"
   ]
  },
  {
   "cell_type": "code",
   "execution_count": 358,
   "id": "cb3d0008",
   "metadata": {},
   "outputs": [
    {
     "data": {
      "image/png": "[encoded data removed]",
      "text/plain": [
       "<Figure size 720x360 with 1 Axes>"
      ]
     },
     "metadata": {
      "needs_background": "light"
     },
     "output_type": "display_data"
    }
   ],
   "source": [
    "score_mean = lr_grid_cv.cv_results_['mean_test_score']\n",
    "score_std = lr_grid_cv.cv_results_['std_test_score']\n",
    "cv_k = [k for k in lr_grid_cv.cv_results_['param_selectkbest__k']]\n",
    "\n",
    "best_k = lr_grid_cv.best_params_['selectkbest__k']\n",
    "plt.subplots(figsize=(10, 5))\n",
    "plt.errorbar(cv_k, score_mean, yerr=score_std)\n",
    "plt.axvline(x=best_k, c='r', ls='--', alpha=.5)\n",
    "plt.xlabel('k')\n",
    "plt.ylabel('CV score (r-squared)')\n",
    "plt.title('Pipeline mean CV score (error bars +/- 1sd)');"
   ]
  },
  {
   "cell_type": "markdown",
   "id": "95754b7d",
   "metadata": {},
   "source": [
    "### Linear Model Metrics From RPB Variant"
   ]
  },
  {
   "cell_type": "markdown",
   "id": "7b934d9b",
   "metadata": {},
   "source": [
    "#### R-squared (COD)"
   ]
  },
  {
   "cell_type": "code",
   "execution_count": 359,
   "id": "9fe2be9c",
   "metadata": {},
   "outputs": [
    {
     "data": {
      "text/plain": [
       "array([0.73269817, 0.72464451, 0.75870929, 0.75997323, 0.74526363])"
      ]
     },
     "execution_count": 359,
     "metadata": {},
     "output_type": "execute_result"
    }
   ],
   "source": [
    "#Cross-validation defaults to R^2 metric for scoring regression\n",
    "lr_best_cv_results = cross_validate(lr_grid_cv.best_estimator_, X_train, y_train, cv=5)\n",
    "lr_best_scores = lr_best_cv_results['test_score']\n",
    "lr_best_scores"
   ]
  },
  {
   "cell_type": "code",
   "execution_count": 360,
   "id": "ff3d458a",
   "metadata": {},
   "outputs": [
    {
     "data": {
      "text/plain": [
       "(0.744257766856116, 0.013965231204170236)"
      ]
     },
     "execution_count": 360,
     "metadata": {},
     "output_type": "execute_result"
    }
   ],
   "source": [
    "#Training set CV mean and std\n",
    "np.mean(lr_best_scores), np.std(lr_best_scores)"
   ]
  },
  {
   "cell_type": "markdown",
   "id": "eb63283c",
   "metadata": {},
   "source": [
    "#### Mean Absolute Error (MAE)"
   ]
  },
  {
   "cell_type": "code",
   "execution_count": 361,
   "id": "73d54fe8",
   "metadata": {},
   "outputs": [],
   "source": [
    "lr_neg_mae = cross_validate(lr_grid_cv.best_estimator_, X_train, y_train, \n",
    "                            scoring='neg_mean_absolute_error', cv=5, n_jobs=-1)"
   ]
  },
  {
   "cell_type": "code",
   "execution_count": 362,
   "id": "6ed58255",
   "metadata": {},
   "outputs": [
    {
     "data": {
      "text/plain": [
       "(2.9184920547700894, 0.10585585277044396)"
      ]
     },
     "execution_count": 362,
     "metadata": {},
     "output_type": "execute_result"
    }
   ],
   "source": [
    "# Training set MAE and STD \n",
    "lr_mae_mean = np.mean(-1 * lr_neg_mae['test_score'])\n",
    "lr_mae_std = np.std(-1 * lr_neg_mae['test_score'])\n",
    "MAE_LR_train = lr_mae_mean, lr_mae_std\n",
    "MAE_LR_train"
   ]
  },
  {
   "cell_type": "code",
   "execution_count": 363,
   "id": "3142ce5e",
   "metadata": {},
   "outputs": [
    {
     "data": {
      "text/plain": [
       "2.9331082941951707"
      ]
     },
     "execution_count": 363,
     "metadata": {},
     "output_type": "execute_result"
    }
   ],
   "source": [
    "# Test set mean\n",
    "MAE_LR_test = mean_absolute_error(y_test, lr_grid_cv.best_estimator_.predict(X_test))\n",
    "MAE_LR_test"
   ]
  },
  {
   "cell_type": "markdown",
   "id": "2bd96b16",
   "metadata": {},
   "source": [
    "#### Mean Squared Error (MSE)"
   ]
  },
  {
   "cell_type": "code",
   "execution_count": 364,
   "id": "d7bb4408",
   "metadata": {},
   "outputs": [],
   "source": [
    "lr_neg_mse = cross_validate(lr_grid_cv.best_estimator_, X_train, y_train, \n",
    "                            scoring='neg_mean_squared_error', cv=5)"
   ]
  },
  {
   "cell_type": "code",
   "execution_count": 365,
   "id": "590c02f0",
   "metadata": {},
   "outputs": [
    {
     "data": {
      "text/plain": [
       "(17.66861239457461, 0.8188559849946029)"
      ]
     },
     "execution_count": 365,
     "metadata": {},
     "output_type": "execute_result"
    }
   ],
   "source": [
    "#Training set CV mean and std\n",
    "lr_mse_mean = np.mean(-1 * lr_neg_mse['test_score'])\n",
    "lr_mse_std = np.std(-1 * lr_neg_mse['test_score'])\n",
    "MSE_LR_train = lr_mse_mean, lr_mse_std\n",
    "MSE_LR_train"
   ]
  },
  {
   "cell_type": "code",
   "execution_count": 366,
   "id": "ec4b5820",
   "metadata": {},
   "outputs": [
    {
     "data": {
      "text/plain": [
       "17.89861794048956"
      ]
     },
     "execution_count": 366,
     "metadata": {},
     "output_type": "execute_result"
    }
   ],
   "source": [
    "# Test set mean\n",
    "MSE_LR_test = mean_squared_error(y_test, lr_grid_cv.best_estimator_.predict(X_test))\n",
    "MSE_LR_test"
   ]
  },
  {
   "cell_type": "markdown",
   "id": "e903f84c",
   "metadata": {},
   "source": [
    "#### Root Mean Square Error (RMSE)"
   ]
  },
  {
   "cell_type": "code",
   "execution_count": 367,
   "id": "3400ccba",
   "metadata": {},
   "outputs": [],
   "source": [
    "lr_neg_rmse = cross_validate(lr_grid_cv.best_estimator_, X_train, y_train, \n",
    "                            scoring='neg_root_mean_squared_error', cv=5)"
   ]
  },
  {
   "cell_type": "code",
   "execution_count": 368,
   "id": "feef3271",
   "metadata": {},
   "outputs": [
    {
     "data": {
      "text/plain": [
       "(4.20227344627988, 0.09752065045741462)"
      ]
     },
     "execution_count": 368,
     "metadata": {},
     "output_type": "execute_result"
    }
   ],
   "source": [
    "#Training set CV mean and std\n",
    "lr_rmse_mean = np.mean(-1 * lr_neg_rmse['test_score'])\n",
    "lr_rmse_std = np.std(-1 * lr_neg_rmse['test_score'])\n",
    "RMSE_LR_train = lr_rmse_mean, lr_rmse_std\n",
    "RMSE_LR_train"
   ]
  },
  {
   "cell_type": "code",
   "execution_count": 369,
   "id": "ecd941f3",
   "metadata": {},
   "outputs": [
    {
     "data": {
      "text/plain": [
       "4.230675825502299"
      ]
     },
     "execution_count": 369,
     "metadata": {},
     "output_type": "execute_result"
    }
   ],
   "source": [
    "# Test set mean\n",
    "RMSE_LR_test = np.sqrt(mean_squared_error(y_test, lr_grid_cv.best_estimator_.predict(X_test)))\n",
    "RMSE_LR_test"
   ]
  },
  {
   "cell_type": "markdown",
   "id": "475343f2",
   "metadata": {},
   "source": [
    "Results for Different Decay-Variants (RMSE) deviation in minutes\n",
    "\n",
    "Previous 10-day-specific puzzles weighting: (10,9,8,7,6,5,4,3,2,1)\n",
    "Training: (4.31684221016073, 0.2229381180756284), Test: 4.348894345064849\n",
    "\n",
    "Previous 10-day-specific puzzles NO decay weighting: (1,1,1,1,1,1,1,1,1,1)\n",
    "Training: (4.272691291066069, 0.1798200075360626), Test: 4.307939039695358\n",
    "\n",
    "\n",
    "Previous 20-day-specific puzzles weighting: (20,19,18,17,16,15,14,13,12,11,10,9,8,7,6,5,4,3,2,1)\n",
    "Training: (4.224302715958222, 0.14223738375467831), Test: 4.25663445521504\n",
    "\n",
    "Previous 20-day-specific puzzles NO decay weighting: (all 1s)\n",
    "Training: (4.20227344627988, 0.09752065045741462), Test: 4.230675825502299\n",
    "\n",
    "\n",
    "Previous 25-day-specific puzzles weighting: (25,24,23,22,21,20,19,18,17,16,15,14,13,12,11,10,9,8,7,6,5,4,3,2,1)\n",
    "Training: (4.206382545199226, 0.1248964276889695), Test: 4.237242987021893\n",
    "\n",
    "Previous 25-day-specific puzzles NO decay weighting: (all 1s)\n",
    "Training: (4.199000848753567, 0.10969046940287826), Test: 4.224093779225859 "
   ]
  },
  {
   "cell_type": "code",
   "execution_count": null,
   "id": "42db6fa9",
   "metadata": {},
   "outputs": [],
   "source": []
  },
  {
   "cell_type": "code",
   "execution_count": null,
   "id": "9e87b037",
   "metadata": {},
   "outputs": [],
   "source": []
  },
  {
   "cell_type": "code",
   "execution_count": null,
   "id": "5df39b28",
   "metadata": {},
   "outputs": [],
   "source": []
  },
  {
   "cell_type": "code",
   "execution_count": null,
   "id": "d4de526f",
   "metadata": {},
   "outputs": [],
   "source": []
  }
 ],
 "metadata": {
  "kernelspec": {
   "display_name": "Python 3",
   "language": "python",
   "name": "python3"
  },
  "language_info": {
   "codemirror_mode": {
    "name": "ipython",
    "version": 3
   },
   "file_extension": ".py",
   "mimetype": "text/x-python",
   "name": "python",
   "nbconvert_exporter": "python",
   "pygments_lexer": "ipython3",
   "version": "3.8.8"
  }
 },
 "nbformat": 4,
 "nbformat_minor": 5
}
