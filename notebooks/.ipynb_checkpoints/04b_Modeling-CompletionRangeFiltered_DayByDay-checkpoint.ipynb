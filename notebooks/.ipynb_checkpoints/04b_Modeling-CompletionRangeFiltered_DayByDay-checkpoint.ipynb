{
 "cells": [
  {
   "cell_type": "markdown",
   "id": "6aa24a63",
   "metadata": {},
   "source": [
    "## Predictive Modeling (GMS) -Day By Day From Best Model\n",
    "\n",
    "### Summary of Previous Stage (see Notebook 3; Preprocessing_Training_CompletionRangeFiltered)\n",
    "\n",
    "Note that for this version, puzzles from the first solve period (2018) have been removed due to the volatility of times in that solve period, while the GMS presumably \"learned the ropes\" of digital solving. In this version, one puzzle day is modeled at a time. \n",
    "\n",
    " \n",
    "80%/20% Train/Test split was used for each of these Day-By-Day models, due to the low n's when dealing with single puzzle days\n",
    "\n",
    "### High-Level Overview of Modeling\n",
    "\n",
    "Four regression models are evaluated presently, across the entire sample of 15x15 puzzles solved by the GMS. First is simply a Linear Regression Model. The subsequent three models are decision tree models: Random Forest, Gradient Boosting Regressor and HistGradient Boosting Regressor. The latter is an ensemble machine learning algorithm that is very fast (relative to standard gradient boosting models), and performs well on heterogenous data sets. Boosting, generally, refers to a class of ensemble learning algorithms that add tree models to an ensemble sequentially. "
   ]
  },
  {
   "cell_type": "markdown",
   "id": "fa9b3b3a",
   "metadata": {},
   "source": [
    "### Imports"
   ]
  },
  {
   "cell_type": "code",
   "execution_count": 1,
   "id": "318c8037",
   "metadata": {},
   "outputs": [],
   "source": [
    "import pandas as pd\n",
    "import numpy as np\n",
    "import os\n",
    "import pickle\n",
    "import matplotlib.pyplot as plt\n",
    "import seaborn as sns\n",
    "from sklearn import __version__ as sklearn_version\n",
    "#from sklearn.decomposition import PCA\n",
    "from sklearn.preprocessing import scale\n",
    "from sklearn.model_selection import train_test_split, cross_validate, GridSearchCV, learning_curve\n",
    "from sklearn.preprocessing import StandardScaler, MinMaxScaler\n",
    "from sklearn.dummy import DummyRegressor\n",
    "from sklearn.linear_model import LinearRegression\n",
    "from sklearn.ensemble import RandomForestRegressor\n",
    "from sklearn.ensemble import GradientBoostingRegressor\n",
    "from sklearn.experimental import enable_hist_gradient_boosting\n",
    "from sklearn.ensemble import HistGradientBoostingRegressor\n",
    "from sklearn.metrics import r2_score, mean_squared_error, mean_absolute_error\n",
    "from sklearn.pipeline import make_pipeline\n",
    "from sklearn.impute import SimpleImputer\n",
    "from sklearn.feature_selection import SelectKBest, f_regression\n",
    "import datetime\n",
    "from library.sb_utils import save_file"
   ]
  },
  {
   "cell_type": "markdown",
   "id": "8133d431",
   "metadata": {},
   "source": [
    "### Load and Filter Data"
   ]
  },
  {
   "cell_type": "markdown",
   "id": "847d7aaa",
   "metadata": {},
   "source": [
    "Filtering parameters identical to in dummy/simple modeling stage. "
   ]
  },
  {
   "cell_type": "code",
   "execution_count": 2,
   "id": "af618860",
   "metadata": {},
   "outputs": [],
   "source": [
    "# Ths is the file and analysis data range used for the main clay court analysis\n",
    "#Note that 2018 was already filtered out prior to the data import here, though it was kept in to accrue retrospective stats on solver and constructor performance for puzzles 2019 and later\n",
    "df = pd.read_csv('../data/df_for_modeling.csv')\n",
    "#df.head()"
   ]
  },
  {
   "cell_type": "code",
   "execution_count": 3,
   "id": "e4201210",
   "metadata": {},
   "outputs": [
    {
     "name": "stdout",
     "output_type": "stream",
     "text": [
      "<class 'pandas.core.frame.DataFrame'>\n",
      "RangeIndex: 1860 entries, 0 to 1859\n",
      "Data columns (total 46 columns):\n",
      " #   Column                                 Non-Null Count  Dtype  \n",
      "---  ------                                 --------------  -----  \n",
      " 0   P_Date                                 1860 non-null   object \n",
      " 1   P_Date_str                             1860 non-null   object \n",
      " 2   GMS_Completed                          1860 non-null   int64  \n",
      " 3   DOW                                    1860 non-null   object \n",
      " 4   DOW_num                                1860 non-null   float64\n",
      " 5   GMST(m)                                1860 non-null   float64\n",
      " 6   GMS_pds_l10_dw                         1860 non-null   float64\n",
      " 7   GMS_pds_l25_dw                         1860 non-null   float64\n",
      " 8   GMS_pds_l10_stdev                      1860 non-null   float64\n",
      " 9   GMS_pds_l25_stdev                      1860 non-null   float64\n",
      " 10  GMST_Diff%_from_GMS_pds_l10_dw         1860 non-null   float64\n",
      " 11  GMS_per_constr_avg_past_diff_from_RPB  1286 non-null   float64\n",
      " 12  GMS_per_constr_past_diff_from_RPB_ct   1860 non-null   float64\n",
      " 13  GMS_pds_prior_solves_ct                1860 non-null   float64\n",
      " 14  GMS_npds_prior_solves_ct               1860 non-null   float64\n",
      " 15  Constructors                           1860 non-null   object \n",
      " 16  Words                                  1860 non-null   int64  \n",
      " 17  Blocks                                 1860 non-null   int64  \n",
      " 18  Unused_Letters                         1860 non-null   int64  \n",
      " 19  Stacks                                 1860 non-null   int64  \n",
      " 20  Unique_Answers                         1860 non-null   int64  \n",
      " 21  Rebus_Count                            1860 non-null   int64  \n",
      " 22  Rebus_Unique                           1860 non-null   int64  \n",
      " 23  Cheater_Squares                        1860 non-null   int64  \n",
      " 24  AWL                                    1860 non-null   float64\n",
      " 25  Scrabble_Score                         1748 non-null   float64\n",
      " 26  Scrabble_Avg                           1860 non-null   float64\n",
      " 27  FITB                                   1860 non-null   int64  \n",
      " 28  Cross_Ref_Clues                        1860 non-null   int64  \n",
      " 29  Scrabble_Illegal                       1860 non-null   int64  \n",
      " 30  Open_Squares                           1860 non-null   int64  \n",
      " 31  Freshness_Factor                       1860 non-null   float64\n",
      " 32  Overall_Freshness%                     1860 non-null   float64\n",
      " 33  Day_Freshness%                         1860 non-null   float64\n",
      " 34  Duplicate_Clues                        1860 non-null   int64  \n",
      " 35  Circle_Count                           1860 non-null   int64  \n",
      " 36  Shade_Count                            1860 non-null   int64  \n",
      " 37  Unusual_Sym                            1860 non-null   int64  \n",
      " 38  Black_Square_Fill                      1860 non-null   int64  \n",
      " 39  Outside_Grid                           1860 non-null   int64  \n",
      " 40  Unchecked_Sq                           1860 non-null   int64  \n",
      " 41  Uniclue                                1860 non-null   int64  \n",
      " 42  Duplicate_Answers                      1860 non-null   int64  \n",
      " 43  Quantum                                1860 non-null   int64  \n",
      " 44  Wordplay                               1615 non-null   float64\n",
      " 45  overall_day_mean_GMST(m)               1860 non-null   float64\n",
      "dtypes: float64(19), int64(23), object(4)\n",
      "memory usage: 668.6+ KB\n"
     ]
    }
   ],
   "source": [
    "df.info()"
   ]
  },
  {
   "cell_type": "code",
   "execution_count": 259,
   "id": "dd72df3e",
   "metadata": {},
   "outputs": [],
   "source": [
    "# Drop some columns that we don't want/need for modeling\n",
    "df_filter = df.copy()\n",
    "df_filter.drop(['P_Date','P_Date_str', 'GMS_Completed', 'DOW', 'GMST_Diff%_from_GMS_pds_l10_dw','GMS_per_constr_past_diff_from_RPB_ct','Constructors','overall_day_mean_GMST(m)','Uniclue','Duplicate_Answers','Unchecked_Sq','Quantum'],inplace=True,axis=1)"
   ]
  },
  {
   "cell_type": "code",
   "execution_count": 260,
   "id": "2249b701",
   "metadata": {},
   "outputs": [],
   "source": [
    "#Move target feature to the front\n",
    "col = df_filter.pop('GMST(m)')\n",
    "df_filter.insert(0, col.name, col)"
   ]
  },
  {
   "cell_type": "code",
   "execution_count": 261,
   "id": "0a99d010",
   "metadata": {},
   "outputs": [],
   "source": [
    "#Found a bad value in first modeling iteration, so correcting here\n",
    "# df[\"Duplicate_Answers\"].unique()\n",
    "# df[\"Uniclue\"].unique()\n",
    "# df[\"Unchecked_Sq\"].unique()\n",
    "# df[\"Quantum\"].unique()"
   ]
  },
  {
   "cell_type": "code",
   "execution_count": 262,
   "id": "3e89040e",
   "metadata": {},
   "outputs": [],
   "source": [
    "# Filter to a specific puzzle day\n",
    "#df_filter = (df_filter.loc[(df_filter['DOW_num'] == 1)]) # Sun\n",
    "#df_filter = (df_filter.loc[(df_filter['DOW_num'] == 2)]) # Mon\n",
    "#df_filter = (df_filter.loc[(df_filter['DOW_num'] == 3)]) # Tue\n",
    "#df_filter = (df_filter.loc[(df_filter['DOW_num'] == 4)]) # Wed\n",
    "#df_filter = (df_filter.loc[(df_filter['DOW_num'] == 5)]) # Thu\n",
    "#df_filter = (df_filter.loc[(df_filter['DOW_num'] == 6)]) # Fri\n",
    "df_filter = (df_filter.loc[(df_filter['DOW_num'] == 7)]) # Sat"
   ]
  },
  {
   "cell_type": "code",
   "execution_count": 263,
   "id": "f0628d9d",
   "metadata": {},
   "outputs": [],
   "source": [
    "df_filter.drop(['DOW_num'],inplace=True,axis=1)"
   ]
  },
  {
   "cell_type": "code",
   "execution_count": 264,
   "id": "c0170740",
   "metadata": {},
   "outputs": [],
   "source": [
    "#Deep copy of this df_filter that is now pared down to just the predictive features and the target feature itself \n",
    "# All features are derived from data available prior to any given puzzle being predicted on. No data leakage!\n",
    "df_model1 = df_filter.copy()\n",
    "\n",
    "#df_model1 = df_model1[['IS1_ST(m)', 'Comp_Hr', 'Solve_day_phase', 'IS_per_sdp_avg_past_diff_from_RPB', 'DOW_num', 'IS_pds_l10_dw', 'IS_pds_l10_stdev', 'IS_per_constr_avg_past_diff_from_RPB', 'IS1_pds_prior_solves_ct', 'IS1_npds_prior_solves_ct', 'num_solves_l7', 'Words', 'Blocks', 'Unused_Letters', 'Stacks','Unique_Answers','Rebus_Count','Rebus_Unique','Cheater_Squares','AWL','Scrabble_Score','Scrabble_Avg','FITB','Cross_Ref_Clues','Scrabble_Illegal','Open_Squares','Freshness_Factor','Overall_Freshness%','Day_Freshness%','Duplicate_Clues','Circle_Count','Shade_Count','Unusual_Sym','Black_Square_Fill','Outside_Grid','Wordplay']]\n",
    "\n",
    "#df_model1.drop(['IS_per_constr_avg_past_diff_from_RPB','Scrabble_Score', 'IS_pds_l10_dw', 'IS_pds_l10_stdev'],inplace=True,axis=1)"
   ]
  },
  {
   "cell_type": "code",
   "execution_count": 174,
   "id": "7094a917",
   "metadata": {},
   "outputs": [],
   "source": [
    "#df_model1.to_csv('../data/df_model1.csv', index=False)"
   ]
  },
  {
   "cell_type": "markdown",
   "id": "110c9936",
   "metadata": {},
   "source": [
    "### Data Split for Modeling"
   ]
  },
  {
   "cell_type": "markdown",
   "id": "778504df",
   "metadata": {},
   "source": [
    "Identical split as for dummy/simple modeling"
   ]
  },
  {
   "cell_type": "code",
   "execution_count": 265,
   "id": "e7f2b6c5",
   "metadata": {},
   "outputs": [
    {
     "data": {
      "text/plain": [
       "(212.8, 53.2)"
      ]
     },
     "execution_count": 265,
     "metadata": {},
     "output_type": "execute_result"
    }
   ],
   "source": [
    "len(df_model1) * .80, len(df_model1) * .20"
   ]
  },
  {
   "cell_type": "code",
   "execution_count": 266,
   "id": "319fbf70",
   "metadata": {},
   "outputs": [],
   "source": [
    "#Replicates EXACT train-test split from dummy and simpler modeling\n",
    "X_train, X_test, y_train, y_test = train_test_split(df_model1.drop(columns='GMST(m)'), \n",
    "                                                    df_model1['GMST(m)'], test_size=0.20, \n",
    "                                                    random_state=47)"
   ]
  },
  {
   "cell_type": "code",
   "execution_count": 267,
   "id": "9bd84540",
   "metadata": {},
   "outputs": [
    {
     "data": {
      "text/plain": [
       "((212,), (54,))"
      ]
     },
     "execution_count": 267,
     "metadata": {},
     "output_type": "execute_result"
    }
   ],
   "source": [
    "y_train.shape, y_test.shape"
   ]
  },
  {
   "cell_type": "code",
   "execution_count": 268,
   "id": "51897b2b",
   "metadata": {},
   "outputs": [
    {
     "data": {
      "text/plain": [
       "406     22.916667\n",
       "917     27.233333\n",
       "21      13.266667\n",
       "1379    33.266667\n",
       "1813    22.016667\n",
       "          ...    \n",
       "161     27.783333\n",
       "1253    21.233333\n",
       "504     31.283333\n",
       "1848    27.300000\n",
       "945     30.666667\n",
       "Name: GMST(m), Length: 212, dtype: float64"
      ]
     },
     "execution_count": 268,
     "metadata": {},
     "output_type": "execute_result"
    }
   ],
   "source": [
    "y_train"
   ]
  },
  {
   "cell_type": "code",
   "execution_count": 269,
   "id": "86a500f1",
   "metadata": {},
   "outputs": [
    {
     "data": {
      "text/plain": [
       "((212, 32), (54, 32))"
      ]
     },
     "execution_count": 269,
     "metadata": {},
     "output_type": "execute_result"
    }
   ],
   "source": [
    "X_train.shape, X_test.shape"
   ]
  },
  {
   "cell_type": "code",
   "execution_count": 270,
   "id": "b80c9c04",
   "metadata": {},
   "outputs": [
    {
     "data": {
      "text/plain": [
       "26.37610062893082"
      ]
     },
     "execution_count": 270,
     "metadata": {},
     "output_type": "execute_result"
    }
   ],
   "source": [
    "# Get training set mean to normalize the error to, as this will change with different puzzle day subtractions\n",
    "#Target feature (GMST(m)) training set mean\n",
    "train_mean = y_train.mean()\n",
    "train_mean"
   ]
  },
  {
   "cell_type": "markdown",
   "id": "300fd6a4",
   "metadata": {},
   "source": [
    "## HistGradient Boosting Regression Model"
   ]
  },
  {
   "cell_type": "markdown",
   "id": "696bff8c",
   "metadata": {},
   "source": [
    "### Gradient Boosting Model: Hyperparameter Grid Search"
   ]
  },
  {
   "cell_type": "code",
   "execution_count": 271,
   "id": "22473aa1",
   "metadata": {},
   "outputs": [],
   "source": [
    "#Define pipeline \n",
    "HGB_pipe = make_pipeline(\n",
    "    SimpleImputer(strategy='mean'),\n",
    "    StandardScaler(),\n",
    "    HistGradientBoostingRegressor(random_state= 47)\n",
    ")"
   ]
  },
  {
   "cell_type": "code",
   "execution_count": 272,
   "id": "b247d05f",
   "metadata": {},
   "outputs": [
    {
     "data": {
      "text/plain": [
       "dict_keys(['memory', 'steps', 'verbose', 'simpleimputer', 'standardscaler', 'histgradientboostingregressor', 'simpleimputer__add_indicator', 'simpleimputer__copy', 'simpleimputer__fill_value', 'simpleimputer__missing_values', 'simpleimputer__strategy', 'simpleimputer__verbose', 'standardscaler__copy', 'standardscaler__with_mean', 'standardscaler__with_std', 'histgradientboostingregressor__categorical_features', 'histgradientboostingregressor__early_stopping', 'histgradientboostingregressor__l2_regularization', 'histgradientboostingregressor__learning_rate', 'histgradientboostingregressor__loss', 'histgradientboostingregressor__max_bins', 'histgradientboostingregressor__max_depth', 'histgradientboostingregressor__max_iter', 'histgradientboostingregressor__max_leaf_nodes', 'histgradientboostingregressor__min_samples_leaf', 'histgradientboostingregressor__monotonic_cst', 'histgradientboostingregressor__n_iter_no_change', 'histgradientboostingregressor__random_state', 'histgradientboostingregressor__scoring', 'histgradientboostingregressor__tol', 'histgradientboostingregressor__validation_fraction', 'histgradientboostingregressor__verbose', 'histgradientboostingregressor__warm_start'])"
      ]
     },
     "execution_count": 272,
     "metadata": {},
     "output_type": "execute_result"
    }
   ],
   "source": [
    "HGB_pipe.get_params().keys()"
   ]
  },
  {
   "cell_type": "code",
   "execution_count": 277,
   "id": "57b53602",
   "metadata": {},
   "outputs": [
    {
     "data": {
      "text/plain": [
       "{'standardscaler': [None],\n",
       " 'simpleimputer__strategy': ['median'],\n",
       " 'histgradientboostingregressor__learning_rate': [0.02, 0.025, 0.03],\n",
       " 'histgradientboostingregressor__max_iter': [115, 120, 125],\n",
       " 'histgradientboostingregressor__max_depth': [2, 3]}"
      ]
     },
     "execution_count": 277,
     "metadata": {},
     "output_type": "execute_result"
    }
   ],
   "source": [
    "#Define Grid Parameters\n",
    "\n",
    "#Define grid search parameters\n",
    "\n",
    "learning_rate = [.02,.025,.03]\n",
    "max_iterations = [115,120,125]\n",
    "max_depth = [2,3]\n",
    "\n",
    "grid_params = {\n",
    "        'standardscaler': [None],\n",
    "        'simpleimputer__strategy': ['median'],\n",
    "        'histgradientboostingregressor__learning_rate': learning_rate,\n",
    "        'histgradientboostingregressor__max_iter': max_iterations,\n",
    "        'histgradientboostingregressor__max_depth': max_depth\n",
    "}\n",
    "grid_params\n",
    "\n",
    "# learning_rate = [.03,.035,.04, .045]\n",
    "# max_iterations = [100, 110, 120]\n",
    "# max_depth = [3,4,5,6]"
   ]
  },
  {
   "cell_type": "code",
   "execution_count": 278,
   "id": "eb48abeb",
   "metadata": {},
   "outputs": [],
   "source": [
    "#Call `GridSearchCV` with the gradient boosting pipeline, passing in the above `grid_params`\n",
    "#dict for parameters to evaluate, 5-fold cross-validation\n",
    "hgb_grid_cv = GridSearchCV(HGB_pipe, param_grid=grid_params, cv=5)"
   ]
  },
  {
   "cell_type": "code",
   "execution_count": 279,
   "id": "330fc1c6",
   "metadata": {},
   "outputs": [
    {
     "data": {
      "text/plain": [
       "GridSearchCV(cv=5,\n",
       "             estimator=Pipeline(steps=[('simpleimputer', SimpleImputer()),\n",
       "                                       ('standardscaler', StandardScaler()),\n",
       "                                       ('histgradientboostingregressor',\n",
       "                                        HistGradientBoostingRegressor(random_state=47))]),\n",
       "             param_grid={'histgradientboostingregressor__learning_rate': [0.02,\n",
       "                                                                          0.025,\n",
       "                                                                          0.03],\n",
       "                         'histgradientboostingregressor__max_depth': [2, 3],\n",
       "                         'histgradientboostingregressor__max_iter': [115, 120,\n",
       "                                                                     125],\n",
       "                         'simpleimputer__strategy': ['median'],\n",
       "                         'standardscaler': [None]})"
      ]
     },
     "execution_count": 279,
     "metadata": {},
     "output_type": "execute_result"
    }
   ],
   "source": [
    "#conduct the grid search. \n",
    "hgb_grid_cv.fit(X_train, y_train)"
   ]
  },
  {
   "cell_type": "code",
   "execution_count": 280,
   "id": "57d15a7f",
   "metadata": {},
   "outputs": [
    {
     "data": {
      "text/plain": [
       "{'histgradientboostingregressor__learning_rate': 0.02,\n",
       " 'histgradientboostingregressor__max_depth': 2,\n",
       " 'histgradientboostingregressor__max_iter': 115,\n",
       " 'simpleimputer__strategy': 'median',\n",
       " 'standardscaler': None}"
      ]
     },
     "execution_count": 280,
     "metadata": {},
     "output_type": "execute_result"
    }
   ],
   "source": [
    "#Best params (`best_params_` attribute) from the grid search\n",
    "hgb_grid_cv.best_params_"
   ]
  },
  {
   "cell_type": "markdown",
   "id": "f95f35b3",
   "metadata": {},
   "source": [
    "### Best HistGradient Boosting Model Performance Metrics"
   ]
  },
  {
   "cell_type": "markdown",
   "id": "7820c285",
   "metadata": {},
   "source": [
    "#### R-squared (COD)"
   ]
  },
  {
   "cell_type": "code",
   "execution_count": 281,
   "id": "6dc56798",
   "metadata": {},
   "outputs": [
    {
     "data": {
      "text/plain": [
       "array([0.20119228, 0.1455711 , 0.06464483, 0.02147756, 0.13825119])"
      ]
     },
     "execution_count": 281,
     "metadata": {},
     "output_type": "execute_result"
    }
   ],
   "source": [
    "#Cross-validation defaults to R^2 metric for scoring regression\n",
    "hgb_best_cv_results = cross_validate(hgb_grid_cv.best_estimator_, X_train, y_train, cv=5)\n",
    "hgb_best_scores = hgb_best_cv_results['test_score']\n",
    "hgb_best_scores"
   ]
  },
  {
   "cell_type": "code",
   "execution_count": 282,
   "id": "b28a43c3",
   "metadata": {},
   "outputs": [
    {
     "data": {
      "text/plain": [
       "(0.11422739067209983, 0.06353491163636005)"
      ]
     },
     "execution_count": 282,
     "metadata": {},
     "output_type": "execute_result"
    }
   ],
   "source": [
    "#Training set CV mean and std\n",
    "np.mean(hgb_best_scores), np.std(hgb_best_scores)"
   ]
  },
  {
   "cell_type": "markdown",
   "id": "c91478b1",
   "metadata": {},
   "source": [
    "#### Mean Absolute Error (MAE)"
   ]
  },
  {
   "cell_type": "code",
   "execution_count": 283,
   "id": "e18c5910",
   "metadata": {},
   "outputs": [],
   "source": [
    "hgb_neg_mae = cross_validate(hgb_grid_cv.best_estimator_, X_train, y_train, \n",
    "                            scoring='neg_mean_absolute_error', cv=5, n_jobs=-1)"
   ]
  },
  {
   "cell_type": "code",
   "execution_count": 284,
   "id": "fcd81789",
   "metadata": {},
   "outputs": [
    {
     "data": {
      "text/plain": [
       "(4.791558355218648, 0.5494000099792293)"
      ]
     },
     "execution_count": 284,
     "metadata": {},
     "output_type": "execute_result"
    }
   ],
   "source": [
    "#Training set CV mean and std\n",
    "hgb_mae_mean = np.mean(-1 * hgb_neg_mae['test_score'])\n",
    "hgb_mae_std = np.std(-1 * hgb_neg_mae['test_score'])\n",
    "hgb_mae_mean, hgb_mae_std"
   ]
  },
  {
   "cell_type": "code",
   "execution_count": 285,
   "id": "6d131fd6",
   "metadata": {},
   "outputs": [
    {
     "data": {
      "text/plain": [
       "4.37666023471047"
      ]
     },
     "execution_count": 285,
     "metadata": {},
     "output_type": "execute_result"
    }
   ],
   "source": [
    "# Test set mean\n",
    "mean_absolute_error(y_test, hgb_grid_cv.best_estimator_.predict(X_test))"
   ]
  },
  {
   "cell_type": "markdown",
   "id": "63e05fa0",
   "metadata": {},
   "source": [
    "#### Mean Squared Error (MSE)"
   ]
  },
  {
   "cell_type": "code",
   "execution_count": 286,
   "id": "680649e1",
   "metadata": {},
   "outputs": [],
   "source": [
    "hgb_neg_mse = cross_validate(hgb_grid_cv.best_estimator_, X_train, y_train, \n",
    "                            scoring='neg_mean_squared_error', cv=5)"
   ]
  },
  {
   "cell_type": "code",
   "execution_count": 287,
   "id": "5bf5c623",
   "metadata": {},
   "outputs": [
    {
     "data": {
      "text/plain": [
       "(37.8645502608318, 10.032965263916257)"
      ]
     },
     "execution_count": 287,
     "metadata": {},
     "output_type": "execute_result"
    }
   ],
   "source": [
    "#Training set CV mean and std\n",
    "hgb_mse_mean = np.mean(-1 * hgb_neg_mse['test_score'])\n",
    "hgb_mse_std = np.std(-1 * hgb_neg_mse['test_score'])\n",
    "hgb_mse_mean, hgb_mse_std"
   ]
  },
  {
   "cell_type": "code",
   "execution_count": 288,
   "id": "a347d29a",
   "metadata": {},
   "outputs": [
    {
     "data": {
      "text/plain": [
       "28.637729833192036"
      ]
     },
     "execution_count": 288,
     "metadata": {},
     "output_type": "execute_result"
    }
   ],
   "source": [
    "# Test set mean\n",
    "mean_squared_error(y_test, hgb_grid_cv.best_estimator_.predict(X_test))"
   ]
  },
  {
   "cell_type": "markdown",
   "id": "fb2e2fa6",
   "metadata": {},
   "source": [
    "#### Root Mean Square Error (RMSE)"
   ]
  },
  {
   "cell_type": "code",
   "execution_count": 289,
   "id": "637cc724",
   "metadata": {},
   "outputs": [],
   "source": [
    "hgb_neg_rmse = cross_validate(hgb_grid_cv.best_estimator_, X_train, y_train, \n",
    "                            scoring='neg_root_mean_squared_error', cv=5)"
   ]
  },
  {
   "cell_type": "code",
   "execution_count": 294,
   "id": "129c9952",
   "metadata": {},
   "outputs": [
    {
     "data": {
      "text/plain": [
       "(6.099322175579476, 0.814137125622116)"
      ]
     },
     "execution_count": 294,
     "metadata": {},
     "output_type": "execute_result"
    }
   ],
   "source": [
    "#Training set CV mean and std\n",
    "hgb_rmse_mean = np.mean(-1 * hgb_neg_rmse['test_score'])\n",
    "hgb_rmse_std = np.std(-1 * hgb_neg_rmse['test_score'])\n",
    "hgb_rmse_mean, hgb_rmse_std"
   ]
  },
  {
   "cell_type": "code",
   "execution_count": 295,
   "id": "1bac3e9c",
   "metadata": {},
   "outputs": [
    {
     "data": {
      "text/plain": [
       "5.351423159608296"
      ]
     },
     "execution_count": 295,
     "metadata": {},
     "output_type": "execute_result"
    }
   ],
   "source": [
    "# Test set mean\n",
    "np.sqrt(mean_squared_error(y_test, hgb_grid_cv.best_estimator_.predict(X_test)))"
   ]
  },
  {
   "cell_type": "markdown",
   "id": "89c2ad1e",
   "metadata": {},
   "source": [
    "### Data Quality Assessment"
   ]
  },
  {
   "cell_type": "markdown",
   "id": "e3c66adc",
   "metadata": {},
   "source": [
    "Because HistGradient Boosting Regressor turned out to be the best of the four models tested (in terms of cross-validation RMSE), a Data Quality Assessment was run on this model to ensure that results are not hindered by sample size. "
   ]
  },
  {
   "cell_type": "code",
   "execution_count": 296,
   "id": "e018f1e0",
   "metadata": {},
   "outputs": [],
   "source": [
    "fractions = [.2, .25, .3, .35, .4, .45, .5, .6, .75, .8, .9, 1.0]\n",
    "train_size, train_scores, test_scores = learning_curve(HGB_pipe, X_train, y_train, train_sizes=fractions)\n",
    "train_scores_mean = np.mean(train_scores, axis=1)\n",
    "train_scores_std = np.std(train_scores, axis=1)\n",
    "test_scores_mean = np.mean(test_scores, axis=1)\n",
    "test_scores_std = np.std(test_scores, axis=1)"
   ]
  },
  {
   "cell_type": "code",
   "execution_count": 297,
   "id": "947ef1f6",
   "metadata": {},
   "outputs": [
    {
     "data": {
      "image/png": "[encoded data removed]",
      "text/plain": [
       "<Figure size 720x360 with 1 Axes>"
      ]
     },
     "metadata": {
      "needs_background": "light"
     },
     "output_type": "display_data"
    }
   ],
   "source": [
    "plt.subplots(figsize=(10, 5))\n",
    "plt.errorbar(train_size, test_scores_mean, yerr=test_scores_std)\n",
    "plt.xlabel('Training set size')\n",
    "plt.ylabel('CV scores')\n",
    "plt.title('Cross-validation score as training set size increases');"
   ]
  },
  {
   "cell_type": "markdown",
   "id": "129971e3",
   "metadata": {},
   "source": [
    "## Save Best Model Object From Pipeline (HistGradient Boosting Regressor Model)"
   ]
  },
  {
   "cell_type": "markdown",
   "id": "5f9fd19a",
   "metadata": {},
   "source": [
    "The HistGradient Boosting Regressor turned out to be the best of the four models tested (based on cross-validation RMSE). Below, the best model is saved to be run on the full dataset in a final step ().  "
   ]
  },
  {
   "cell_type": "code",
   "execution_count": 298,
   "id": "14e1985a",
   "metadata": {},
   "outputs": [],
   "source": [
    "best_model = hgb_grid_cv.best_estimator_\n",
    "best_model.version = '1.0'\n",
    "best_model.pandas_version = pd.__version__\n",
    "best_model.numpy_version = np.__version__\n",
    "best_model.sklearn_version = sklearn_version\n",
    "best_model.X_columns = [col for col in X_train.columns]\n",
    "best_model.build_datetime = datetime.datetime.now()"
   ]
  },
  {
   "cell_type": "code",
   "execution_count": 299,
   "id": "851c98c2",
   "metadata": {},
   "outputs": [
    {
     "name": "stdout",
     "output_type": "stream",
     "text": [
      "A file already exists with this name.\n",
      "\n",
      "Do you want to overwrite? (Y/N)Y\n",
      "Writing file.  \"../models\\IS1_model_Sat_hgb.pkl\"\n"
     ]
    }
   ],
   "source": [
    "# save the model\n",
    "modelpath = '../models'\n",
    "save_file(best_model, 'IS1_model_Sat_hgb.pkl', modelpath)"
   ]
  },
  {
   "cell_type": "markdown",
   "id": "1a907384",
   "metadata": {},
   "source": [
    "## Conclusions\n"
   ]
  },
  {
   "cell_type": "code",
   "execution_count": null,
   "id": "deb48de1",
   "metadata": {},
   "outputs": [],
   "source": []
  }
 ],
 "metadata": {
  "kernelspec": {
   "display_name": "Python 3",
   "language": "python",
   "name": "python3"
  },
  "language_info": {
   "codemirror_mode": {
    "name": "ipython",
    "version": 3
   },
   "file_extension": ".py",
   "mimetype": "text/x-python",
   "name": "python",
   "nbconvert_exporter": "python",
   "pygments_lexer": "ipython3",
   "version": "3.8.8"
  }
 },
 "nbformat": 4,
 "nbformat_minor": 5
}
