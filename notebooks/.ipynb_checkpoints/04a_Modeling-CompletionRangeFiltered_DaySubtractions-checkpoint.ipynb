{
 "cells": [
  {
   "cell_type": "markdown",
   "id": "6aa24a63",
   "metadata": {},
   "source": [
    "## Predictive Modeling (GMS) \n",
    "\n",
    "### Summary of Previous Stage (see Notebook 3; Preprocessing_Training_CompletionRangeFiltered)\n",
    "\n",
    "Note that for this version, puzzles from the first solve period (2018) have been removed due to the volatility of times in that solve period, while the GMS presumably \"learned the ropes\" of digital solving. \n",
    "\n",
    "#### 2 Linear Regression \"Benchmark\" models were generated to predict GMS solve times on 15x15 (Mon-Sat) puzzles:\n",
    "* 1) A \"dummy\" model, which simply uses mean of training data split to predict target feature -GMS's raw solve time (in min)\n",
    "    * Root Mean Squared Error (RMSE) Training Set: 8.28;  Test Set: 8.09 \n",
    "* 3) A univariate linear model using GMS's puzzle-day specific mean solve time across the entire sample as the sole predictive feature (ie, if predicting a Mon GMS solve time, GMS Mon mean across the entire sample is used to predict)\n",
    "    * Root Mean Squared Error (RMSE) Training Set: 4.48(.37);  Test Set: 4.14\n",
    " \n",
    "75%/25% Train/Test split was used for each of these Benchmark models\n",
    "\n",
    "### High-Level Overview of Modeling\n",
    "\n",
    "Four regression models are evaluated presently, across the entire sample of 15x15 puzzles solved by the GMS. First is simply a Linear Regression Model. The subsequent three models are decision tree models: Random Forest, Gradient Boosting Regressor and HistGradient Boosting Regressor. The latter is an ensemble machine learning algorithm that is very fast (relative to standard gradient boosting models), and performs well on heterogenous data sets. Boosting, generally, refers to a class of ensemble learning algorithms that add tree models to an ensemble sequentially. "
   ]
  },
  {
   "cell_type": "markdown",
   "id": "fa9b3b3a",
   "metadata": {},
   "source": [
    "### Imports"
   ]
  },
  {
   "cell_type": "code",
   "execution_count": 1,
   "id": "318c8037",
   "metadata": {},
   "outputs": [],
   "source": [
    "import pandas as pd\n",
    "import numpy as np\n",
    "import os\n",
    "import pickle\n",
    "import matplotlib.pyplot as plt\n",
    "import seaborn as sns\n",
    "from sklearn import __version__ as sklearn_version\n",
    "#from sklearn.decomposition import PCA\n",
    "from sklearn.preprocessing import scale\n",
    "from sklearn.model_selection import train_test_split, cross_validate, GridSearchCV, learning_curve\n",
    "from sklearn.preprocessing import StandardScaler, MinMaxScaler\n",
    "from sklearn.dummy import DummyRegressor\n",
    "from sklearn.linear_model import LinearRegression\n",
    "from sklearn.ensemble import RandomForestRegressor\n",
    "from sklearn.ensemble import GradientBoostingRegressor\n",
    "from sklearn.experimental import enable_hist_gradient_boosting\n",
    "from sklearn.ensemble import HistGradientBoostingRegressor\n",
    "from sklearn.metrics import r2_score, mean_squared_error, mean_absolute_error\n",
    "from sklearn.pipeline import make_pipeline\n",
    "from sklearn.impute import SimpleImputer\n",
    "from sklearn.feature_selection import SelectKBest, f_regression\n",
    "import datetime\n",
    "from library.sb_utils import save_file"
   ]
  },
  {
   "cell_type": "markdown",
   "id": "8133d431",
   "metadata": {},
   "source": [
    "### Load and Filter Data"
   ]
  },
  {
   "cell_type": "markdown",
   "id": "847d7aaa",
   "metadata": {},
   "source": [
    "Filtering parameters identical to in dummy/simple modeling stage. "
   ]
  },
  {
   "cell_type": "code",
   "execution_count": 2,
   "id": "af618860",
   "metadata": {},
   "outputs": [
    {
     "data": {
      "text/html": [
       "<div>\n",
       "<style scoped>\n",
       "    .dataframe tbody tr th:only-of-type {\n",
       "        vertical-align: middle;\n",
       "    }\n",
       "\n",
       "    .dataframe tbody tr th {\n",
       "        vertical-align: top;\n",
       "    }\n",
       "\n",
       "    .dataframe thead th {\n",
       "        text-align: right;\n",
       "    }\n",
       "</style>\n",
       "<table border=\"1\" class=\"dataframe\">\n",
       "  <thead>\n",
       "    <tr style=\"text-align: right;\">\n",
       "      <th></th>\n",
       "      <th>P_Date</th>\n",
       "      <th>P_Date_str</th>\n",
       "      <th>DOW</th>\n",
       "      <th>GMST(m)</th>\n",
       "      <th>GMS_pds_l10_dw</th>\n",
       "      <th>GMS_pds_l25_dw</th>\n",
       "      <th>GMS_pds_l10_stdev</th>\n",
       "      <th>GMS_pds_l25_stdev</th>\n",
       "      <th>GMST_Diff%_from_GMS_pds_l10_dw</th>\n",
       "      <th>GMS_per_constr_avg_past_diff_from_RPB</th>\n",
       "      <th>...</th>\n",
       "      <th>Shade_Count</th>\n",
       "      <th>Unusual_Sym</th>\n",
       "      <th>Black_Square_Fill</th>\n",
       "      <th>Outside_Grid</th>\n",
       "      <th>Unchecked_Sq</th>\n",
       "      <th>Uniclue</th>\n",
       "      <th>Duplicate_Answers</th>\n",
       "      <th>Quantum</th>\n",
       "      <th>Wordplay</th>\n",
       "      <th>overall_day_mean_GMST(m)</th>\n",
       "    </tr>\n",
       "  </thead>\n",
       "  <tbody>\n",
       "    <tr>\n",
       "      <th>0</th>\n",
       "      <td>2024-02-03</td>\n",
       "      <td>2024-02-03</td>\n",
       "      <td>Saturday</td>\n",
       "      <td>22.583333</td>\n",
       "      <td>19.944848</td>\n",
       "      <td>21.907538</td>\n",
       "      <td>5.103116</td>\n",
       "      <td>4.545437</td>\n",
       "      <td>12.41</td>\n",
       "      <td>NaN</td>\n",
       "      <td>...</td>\n",
       "      <td>0</td>\n",
       "      <td>0</td>\n",
       "      <td>0</td>\n",
       "      <td>0</td>\n",
       "      <td>0</td>\n",
       "      <td>0</td>\n",
       "      <td>0</td>\n",
       "      <td>0</td>\n",
       "      <td>7.0</td>\n",
       "      <td>26.541479</td>\n",
       "    </tr>\n",
       "    <tr>\n",
       "      <th>1</th>\n",
       "      <td>2024-02-02</td>\n",
       "      <td>2024-02-02</td>\n",
       "      <td>Friday</td>\n",
       "      <td>18.783333</td>\n",
       "      <td>17.210909</td>\n",
       "      <td>17.334205</td>\n",
       "      <td>3.480521</td>\n",
       "      <td>2.455251</td>\n",
       "      <td>8.74</td>\n",
       "      <td>NaN</td>\n",
       "      <td>...</td>\n",
       "      <td>0</td>\n",
       "      <td>0</td>\n",
       "      <td>0</td>\n",
       "      <td>0</td>\n",
       "      <td>0</td>\n",
       "      <td>0</td>\n",
       "      <td>0</td>\n",
       "      <td>0</td>\n",
       "      <td>6.0</td>\n",
       "      <td>21.449373</td>\n",
       "    </tr>\n",
       "    <tr>\n",
       "      <th>2</th>\n",
       "      <td>2024-02-01</td>\n",
       "      <td>2024-02-01</td>\n",
       "      <td>Thursday</td>\n",
       "      <td>19.700000</td>\n",
       "      <td>15.780606</td>\n",
       "      <td>16.550718</td>\n",
       "      <td>2.244750</td>\n",
       "      <td>4.131868</td>\n",
       "      <td>22.09</td>\n",
       "      <td>7.74</td>\n",
       "      <td>...</td>\n",
       "      <td>0</td>\n",
       "      <td>0</td>\n",
       "      <td>0</td>\n",
       "      <td>0</td>\n",
       "      <td>0</td>\n",
       "      <td>0</td>\n",
       "      <td>0</td>\n",
       "      <td>0</td>\n",
       "      <td>5.0</td>\n",
       "      <td>20.709774</td>\n",
       "    </tr>\n",
       "    <tr>\n",
       "      <th>3</th>\n",
       "      <td>2024-01-31</td>\n",
       "      <td>2024-01-31</td>\n",
       "      <td>Wednesday</td>\n",
       "      <td>10.783333</td>\n",
       "      <td>11.621515</td>\n",
       "      <td>12.138103</td>\n",
       "      <td>2.338474</td>\n",
       "      <td>2.691352</td>\n",
       "      <td>-7.48</td>\n",
       "      <td>NaN</td>\n",
       "      <td>...</td>\n",
       "      <td>17</td>\n",
       "      <td>0</td>\n",
       "      <td>0</td>\n",
       "      <td>0</td>\n",
       "      <td>0</td>\n",
       "      <td>0</td>\n",
       "      <td>0</td>\n",
       "      <td>0</td>\n",
       "      <td>5.0</td>\n",
       "      <td>13.259712</td>\n",
       "    </tr>\n",
       "    <tr>\n",
       "      <th>4</th>\n",
       "      <td>2024-01-30</td>\n",
       "      <td>2024-01-30</td>\n",
       "      <td>Tuesday</td>\n",
       "      <td>7.383333</td>\n",
       "      <td>7.765758</td>\n",
       "      <td>7.783641</td>\n",
       "      <td>1.156256</td>\n",
       "      <td>1.306190</td>\n",
       "      <td>-5.05</td>\n",
       "      <td>-8.32</td>\n",
       "      <td>...</td>\n",
       "      <td>0</td>\n",
       "      <td>0</td>\n",
       "      <td>0</td>\n",
       "      <td>0</td>\n",
       "      <td>0</td>\n",
       "      <td>0</td>\n",
       "      <td>0</td>\n",
       "      <td>0</td>\n",
       "      <td>2.0</td>\n",
       "      <td>9.720614</td>\n",
       "    </tr>\n",
       "  </tbody>\n",
       "</table>\n",
       "<p>5 rows × 45 columns</p>\n",
       "</div>"
      ],
      "text/plain": [
       "       P_Date  P_Date_str        DOW    GMST(m)  GMS_pds_l10_dw  \\\n",
       "0  2024-02-03  2024-02-03   Saturday  22.583333       19.944848   \n",
       "1  2024-02-02  2024-02-02     Friday  18.783333       17.210909   \n",
       "2  2024-02-01  2024-02-01   Thursday  19.700000       15.780606   \n",
       "3  2024-01-31  2024-01-31  Wednesday  10.783333       11.621515   \n",
       "4  2024-01-30  2024-01-30    Tuesday   7.383333        7.765758   \n",
       "\n",
       "   GMS_pds_l25_dw  GMS_pds_l10_stdev  GMS_pds_l25_stdev  \\\n",
       "0       21.907538           5.103116           4.545437   \n",
       "1       17.334205           3.480521           2.455251   \n",
       "2       16.550718           2.244750           4.131868   \n",
       "3       12.138103           2.338474           2.691352   \n",
       "4        7.783641           1.156256           1.306190   \n",
       "\n",
       "   GMST_Diff%_from_GMS_pds_l10_dw  GMS_per_constr_avg_past_diff_from_RPB  ...  \\\n",
       "0                           12.41                                    NaN  ...   \n",
       "1                            8.74                                    NaN  ...   \n",
       "2                           22.09                                   7.74  ...   \n",
       "3                           -7.48                                    NaN  ...   \n",
       "4                           -5.05                                  -8.32  ...   \n",
       "\n",
       "   Shade_Count  Unusual_Sym  Black_Square_Fill  Outside_Grid Unchecked_Sq  \\\n",
       "0            0            0                  0             0            0   \n",
       "1            0            0                  0             0            0   \n",
       "2            0            0                  0             0            0   \n",
       "3           17            0                  0             0            0   \n",
       "4            0            0                  0             0            0   \n",
       "\n",
       "   Uniclue  Duplicate_Answers  Quantum  Wordplay  overall_day_mean_GMST(m)  \n",
       "0        0                  0        0       7.0                 26.541479  \n",
       "1        0                  0        0       6.0                 21.449373  \n",
       "2        0                  0        0       5.0                 20.709774  \n",
       "3        0                  0        0       5.0                 13.259712  \n",
       "4        0                  0        0       2.0                  9.720614  \n",
       "\n",
       "[5 rows x 45 columns]"
      ]
     },
     "execution_count": 2,
     "metadata": {},
     "output_type": "execute_result"
    }
   ],
   "source": [
    "# Ths is the file and analysis data range used for the main clay court analysis\n",
    "#Note that 2018 was already filtered out prior to the data import here, though it was kept in to accrue retrospective stats on solver and constructor performance for puzzles 2019 and later\n",
    "df = pd.read_csv('../data/df_for_modeling.csv')\n",
    "df.head()"
   ]
  },
  {
   "cell_type": "code",
   "execution_count": 3,
   "id": "2189fc57",
   "metadata": {},
   "outputs": [
    {
     "name": "stdout",
     "output_type": "stream",
     "text": [
      "<class 'pandas.core.frame.DataFrame'>\n",
      "RangeIndex: 1596 entries, 0 to 1595\n",
      "Data columns (total 45 columns):\n",
      " #   Column                                 Non-Null Count  Dtype  \n",
      "---  ------                                 --------------  -----  \n",
      " 0   P_Date                                 1596 non-null   object \n",
      " 1   P_Date_str                             1596 non-null   object \n",
      " 2   DOW                                    1596 non-null   object \n",
      " 3   GMST(m)                                1596 non-null   float64\n",
      " 4   GMS_pds_l10_dw                         1595 non-null   float64\n",
      " 5   GMS_pds_l25_dw                         1595 non-null   float64\n",
      " 6   GMS_pds_l10_stdev                      1595 non-null   float64\n",
      " 7   GMS_pds_l25_stdev                      1595 non-null   float64\n",
      " 8   GMST_Diff%_from_GMS_pds_l10_dw         1595 non-null   float64\n",
      " 9   GMS_per_constr_avg_past_diff_from_RPB  1071 non-null   float64\n",
      " 10  GMS_per_constr_past_diff_from_RPB_ct   1596 non-null   float64\n",
      " 11  GMS_pds_prior_solves_ct                1596 non-null   float64\n",
      " 12  GMS_npds_prior_solves_ct               1596 non-null   float64\n",
      " 13  DOW_num                                1596 non-null   float64\n",
      " 14  Constructors                           1596 non-null   object \n",
      " 15  Words                                  1596 non-null   int64  \n",
      " 16  Blocks                                 1596 non-null   int64  \n",
      " 17  Unused_Letters                         1596 non-null   int64  \n",
      " 18  Stacks                                 1596 non-null   int64  \n",
      " 19  Unique_Answers                         1596 non-null   int64  \n",
      " 20  Rebus_Count                            1596 non-null   int64  \n",
      " 21  Rebus_Unique                           1596 non-null   int64  \n",
      " 22  Cheater_Squares                        1596 non-null   int64  \n",
      " 23  AWL                                    1596 non-null   float64\n",
      " 24  Scrabble_Score                         1508 non-null   float64\n",
      " 25  Scrabble_Avg                           1596 non-null   float64\n",
      " 26  FITB                                   1596 non-null   int64  \n",
      " 27  Cross_Ref_Clues                        1596 non-null   int64  \n",
      " 28  Scrabble_Illegal                       1596 non-null   int64  \n",
      " 29  Open_Squares                           1596 non-null   int64  \n",
      " 30  Freshness_Factor                       1596 non-null   float64\n",
      " 31  Overall_Freshness%                     1596 non-null   float64\n",
      " 32  Day_Freshness%                         1596 non-null   float64\n",
      " 33  Duplicate_Clues                        1596 non-null   int64  \n",
      " 34  Circle_Count                           1596 non-null   int64  \n",
      " 35  Shade_Count                            1596 non-null   int64  \n",
      " 36  Unusual_Sym                            1596 non-null   int64  \n",
      " 37  Black_Square_Fill                      1596 non-null   int64  \n",
      " 38  Outside_Grid                           1596 non-null   int64  \n",
      " 39  Unchecked_Sq                           1596 non-null   int64  \n",
      " 40  Uniclue                                1596 non-null   int64  \n",
      " 41  Duplicate_Answers                      1596 non-null   int64  \n",
      " 42  Quantum                                1596 non-null   int64  \n",
      " 43  Wordplay                               1386 non-null   float64\n",
      " 44  overall_day_mean_GMST(m)               1595 non-null   float64\n",
      "dtypes: float64(19), int64(22), object(4)\n",
      "memory usage: 561.2+ KB\n"
     ]
    }
   ],
   "source": [
    "df.info()"
   ]
  },
  {
   "cell_type": "code",
   "execution_count": 4,
   "id": "dd72df3e",
   "metadata": {},
   "outputs": [],
   "source": [
    "# Drop some columns that we don't want/need for modeling\n",
    "df_filter = df.copy()\n",
    "df_filter.drop(['P_Date','P_Date_str','DOW', 'GMST_Diff%_from_GMS_pds_l10_dw','GMS_per_constr_past_diff_from_RPB_ct','Constructors','overall_day_mean_GMST(m)','Uniclue','Duplicate_Answers','Unchecked_Sq','Quantum'],inplace=True,axis=1)"
   ]
  },
  {
   "cell_type": "code",
   "execution_count": 5,
   "id": "f8061081",
   "metadata": {},
   "outputs": [
    {
     "name": "stdout",
     "output_type": "stream",
     "text": [
      "<class 'pandas.core.frame.DataFrame'>\n",
      "RangeIndex: 1596 entries, 0 to 1595\n",
      "Data columns (total 34 columns):\n",
      " #   Column                                 Non-Null Count  Dtype  \n",
      "---  ------                                 --------------  -----  \n",
      " 0   GMST(m)                                1596 non-null   float64\n",
      " 1   GMS_pds_l10_dw                         1595 non-null   float64\n",
      " 2   GMS_pds_l25_dw                         1595 non-null   float64\n",
      " 3   GMS_pds_l10_stdev                      1595 non-null   float64\n",
      " 4   GMS_pds_l25_stdev                      1595 non-null   float64\n",
      " 5   GMS_per_constr_avg_past_diff_from_RPB  1071 non-null   float64\n",
      " 6   GMS_pds_prior_solves_ct                1596 non-null   float64\n",
      " 7   GMS_npds_prior_solves_ct               1596 non-null   float64\n",
      " 8   DOW_num                                1596 non-null   float64\n",
      " 9   Words                                  1596 non-null   int64  \n",
      " 10  Blocks                                 1596 non-null   int64  \n",
      " 11  Unused_Letters                         1596 non-null   int64  \n",
      " 12  Stacks                                 1596 non-null   int64  \n",
      " 13  Unique_Answers                         1596 non-null   int64  \n",
      " 14  Rebus_Count                            1596 non-null   int64  \n",
      " 15  Rebus_Unique                           1596 non-null   int64  \n",
      " 16  Cheater_Squares                        1596 non-null   int64  \n",
      " 17  AWL                                    1596 non-null   float64\n",
      " 18  Scrabble_Score                         1508 non-null   float64\n",
      " 19  Scrabble_Avg                           1596 non-null   float64\n",
      " 20  FITB                                   1596 non-null   int64  \n",
      " 21  Cross_Ref_Clues                        1596 non-null   int64  \n",
      " 22  Scrabble_Illegal                       1596 non-null   int64  \n",
      " 23  Open_Squares                           1596 non-null   int64  \n",
      " 24  Freshness_Factor                       1596 non-null   float64\n",
      " 25  Overall_Freshness%                     1596 non-null   float64\n",
      " 26  Day_Freshness%                         1596 non-null   float64\n",
      " 27  Duplicate_Clues                        1596 non-null   int64  \n",
      " 28  Circle_Count                           1596 non-null   int64  \n",
      " 29  Shade_Count                            1596 non-null   int64  \n",
      " 30  Unusual_Sym                            1596 non-null   int64  \n",
      " 31  Black_Square_Fill                      1596 non-null   int64  \n",
      " 32  Outside_Grid                           1596 non-null   int64  \n",
      " 33  Wordplay                               1386 non-null   float64\n",
      "dtypes: float64(16), int64(18)\n",
      "memory usage: 424.1 KB\n"
     ]
    }
   ],
   "source": [
    "df_filter.info()"
   ]
  },
  {
   "cell_type": "code",
   "execution_count": 6,
   "id": "2249b701",
   "metadata": {},
   "outputs": [],
   "source": [
    "#Move target feature to the front\n",
    "col = df_filter.pop('GMST(m)')\n",
    "df_filter.insert(0, col.name, col)"
   ]
  },
  {
   "cell_type": "code",
   "execution_count": 7,
   "id": "0a99d010",
   "metadata": {},
   "outputs": [],
   "source": [
    "#Found a bad value in first modeling iteration, so correcting here\n",
    "# df[\"Duplicate_Answers\"].unique()\n",
    "# df[\"Uniclue\"].unique()\n",
    "# df[\"Unchecked_Sq\"].unique()\n",
    "# df[\"Quantum\"].unique()"
   ]
  },
  {
   "cell_type": "code",
   "execution_count": 8,
   "id": "c0170740",
   "metadata": {},
   "outputs": [],
   "source": [
    "#Deep copy of this df_filter that is now pared down to just the predictive features and the target feature itself \n",
    "# All features are derived from data available prior to any given puzzle being predicted on. No data leakage!\n",
    "df_model1 = df_filter.copy()\n",
    "\n",
    "#df_model1 = df_model1[['IS1_ST(m)', 'Comp_Hr', 'Solve_day_phase', 'IS_per_sdp_avg_past_diff_from_RPB', 'DOW_num', 'IS_pds_l10_dw', 'IS_pds_l10_stdev', 'IS_per_constr_avg_past_diff_from_RPB', 'IS1_pds_prior_solves_ct', 'IS1_npds_prior_solves_ct', 'num_solves_l7', 'Words', 'Blocks', 'Unused_Letters', 'Stacks','Unique_Answers','Rebus_Count','Rebus_Unique','Cheater_Squares','AWL','Scrabble_Score','Scrabble_Avg','FITB','Cross_Ref_Clues','Scrabble_Illegal','Open_Squares','Freshness_Factor','Overall_Freshness%','Day_Freshness%','Duplicate_Clues','Circle_Count','Shade_Count','Unusual_Sym','Black_Square_Fill','Outside_Grid','Wordplay']]\n",
    "\n",
    "#df_model1.drop(['IS_per_constr_avg_past_diff_from_RPB','Scrabble_Score', 'IS_pds_l10_dw', 'IS_pds_l10_stdev'],inplace=True,axis=1)"
   ]
  },
  {
   "cell_type": "code",
   "execution_count": 9,
   "id": "676916d7",
   "metadata": {},
   "outputs": [
    {
     "name": "stdout",
     "output_type": "stream",
     "text": [
      "<class 'pandas.core.frame.DataFrame'>\n",
      "RangeIndex: 1596 entries, 0 to 1595\n",
      "Data columns (total 34 columns):\n",
      " #   Column                                 Non-Null Count  Dtype  \n",
      "---  ------                                 --------------  -----  \n",
      " 0   GMST(m)                                1596 non-null   float64\n",
      " 1   GMS_pds_l10_dw                         1595 non-null   float64\n",
      " 2   GMS_pds_l25_dw                         1595 non-null   float64\n",
      " 3   GMS_pds_l10_stdev                      1595 non-null   float64\n",
      " 4   GMS_pds_l25_stdev                      1595 non-null   float64\n",
      " 5   GMS_per_constr_avg_past_diff_from_RPB  1071 non-null   float64\n",
      " 6   GMS_pds_prior_solves_ct                1596 non-null   float64\n",
      " 7   GMS_npds_prior_solves_ct               1596 non-null   float64\n",
      " 8   DOW_num                                1596 non-null   float64\n",
      " 9   Words                                  1596 non-null   int64  \n",
      " 10  Blocks                                 1596 non-null   int64  \n",
      " 11  Unused_Letters                         1596 non-null   int64  \n",
      " 12  Stacks                                 1596 non-null   int64  \n",
      " 13  Unique_Answers                         1596 non-null   int64  \n",
      " 14  Rebus_Count                            1596 non-null   int64  \n",
      " 15  Rebus_Unique                           1596 non-null   int64  \n",
      " 16  Cheater_Squares                        1596 non-null   int64  \n",
      " 17  AWL                                    1596 non-null   float64\n",
      " 18  Scrabble_Score                         1508 non-null   float64\n",
      " 19  Scrabble_Avg                           1596 non-null   float64\n",
      " 20  FITB                                   1596 non-null   int64  \n",
      " 21  Cross_Ref_Clues                        1596 non-null   int64  \n",
      " 22  Scrabble_Illegal                       1596 non-null   int64  \n",
      " 23  Open_Squares                           1596 non-null   int64  \n",
      " 24  Freshness_Factor                       1596 non-null   float64\n",
      " 25  Overall_Freshness%                     1596 non-null   float64\n",
      " 26  Day_Freshness%                         1596 non-null   float64\n",
      " 27  Duplicate_Clues                        1596 non-null   int64  \n",
      " 28  Circle_Count                           1596 non-null   int64  \n",
      " 29  Shade_Count                            1596 non-null   int64  \n",
      " 30  Unusual_Sym                            1596 non-null   int64  \n",
      " 31  Black_Square_Fill                      1596 non-null   int64  \n",
      " 32  Outside_Grid                           1596 non-null   int64  \n",
      " 33  Wordplay                               1386 non-null   float64\n",
      "dtypes: float64(16), int64(18)\n",
      "memory usage: 424.1 KB\n"
     ]
    }
   ],
   "source": [
    "df_model1.info()"
   ]
  },
  {
   "cell_type": "code",
   "execution_count": 389,
   "id": "7094a917",
   "metadata": {},
   "outputs": [],
   "source": [
    "df_model1.to_csv('../data/df_model1.csv', index=False)"
   ]
  },
  {
   "cell_type": "markdown",
   "id": "110c9936",
   "metadata": {},
   "source": [
    "### Data Split for Modeling"
   ]
  },
  {
   "cell_type": "markdown",
   "id": "778504df",
   "metadata": {},
   "source": [
    "Identical split as for dummy/simple modeling"
   ]
  },
  {
   "cell_type": "code",
   "execution_count": 10,
   "id": "e7f2b6c5",
   "metadata": {},
   "outputs": [
    {
     "data": {
      "text/plain": [
       "(1197.0, 399.0)"
      ]
     },
     "execution_count": 10,
     "metadata": {},
     "output_type": "execute_result"
    }
   ],
   "source": [
    "len(df_model1) * .75, len(df_model1) * .25"
   ]
  },
  {
   "cell_type": "code",
   "execution_count": 11,
   "id": "319fbf70",
   "metadata": {},
   "outputs": [],
   "source": [
    "#Replicates EXACT train-test split from dummy and simpler modeling\n",
    "X_train, X_test, y_train, y_test = train_test_split(df_model1.drop(columns='GMST(m)'), \n",
    "                                                    df_model1['GMST(m)'], test_size=0.25, \n",
    "                                                    random_state=47)"
   ]
  },
  {
   "cell_type": "code",
   "execution_count": 12,
   "id": "9bd84540",
   "metadata": {},
   "outputs": [
    {
     "data": {
      "text/plain": [
       "((1197,), (399,))"
      ]
     },
     "execution_count": 12,
     "metadata": {},
     "output_type": "execute_result"
    }
   ],
   "source": [
    "y_train.shape, y_test.shape"
   ]
  },
  {
   "cell_type": "code",
   "execution_count": 13,
   "id": "51897b2b",
   "metadata": {},
   "outputs": [
    {
     "data": {
      "text/plain": [
       "647      5.966667\n",
       "106      7.950000\n",
       "813     11.516667\n",
       "851      5.916667\n",
       "236     28.633333\n",
       "          ...    \n",
       "691     16.033333\n",
       "584     14.350000\n",
       "1288    13.133333\n",
       "327      9.900000\n",
       "1159    26.166667\n",
       "Name: GMST(m), Length: 1197, dtype: float64"
      ]
     },
     "execution_count": 13,
     "metadata": {},
     "output_type": "execute_result"
    }
   ],
   "source": [
    "y_train"
   ]
  },
  {
   "cell_type": "code",
   "execution_count": 14,
   "id": "86a500f1",
   "metadata": {},
   "outputs": [
    {
     "data": {
      "text/plain": [
       "((1197, 33), (399, 33))"
      ]
     },
     "execution_count": 14,
     "metadata": {},
     "output_type": "execute_result"
    }
   ],
   "source": [
    "X_train.shape, X_test.shape"
   ]
  },
  {
   "cell_type": "markdown",
   "id": "0c04cc67",
   "metadata": {},
   "source": [
    "## Linear Model"
   ]
  },
  {
   "cell_type": "code",
   "execution_count": 18,
   "id": "ef827e2f",
   "metadata": {},
   "outputs": [],
   "source": [
    "lr_pipe = make_pipeline(\n",
    "    SimpleImputer(strategy='median'), \n",
    "    StandardScaler(),\n",
    "    SelectKBest(f_regression),\n",
    "    LinearRegression()\n",
    ")"
   ]
  },
  {
   "cell_type": "code",
   "execution_count": 19,
   "id": "9ab2e373",
   "metadata": {},
   "outputs": [
    {
     "data": {
      "text/plain": [
       "dict_keys(['memory', 'steps', 'verbose', 'simpleimputer', 'standardscaler', 'selectkbest', 'linearregression', 'simpleimputer__add_indicator', 'simpleimputer__copy', 'simpleimputer__fill_value', 'simpleimputer__missing_values', 'simpleimputer__strategy', 'simpleimputer__verbose', 'standardscaler__copy', 'standardscaler__with_mean', 'standardscaler__with_std', 'selectkbest__k', 'selectkbest__score_func', 'linearregression__copy_X', 'linearregression__fit_intercept', 'linearregression__n_jobs', 'linearregression__normalize', 'linearregression__positive'])"
      ]
     },
     "execution_count": 19,
     "metadata": {},
     "output_type": "execute_result"
    }
   ],
   "source": [
    "#Dict of available parameters for linear regression pipe\n",
    "lr_pipe.get_params().keys()"
   ]
  },
  {
   "cell_type": "code",
   "execution_count": 20,
   "id": "76c444fe",
   "metadata": {},
   "outputs": [],
   "source": [
    "#Define search grid parameters\n",
    "k = [k+1 for k in range(len(X_train.columns))]\n",
    "\n",
    "grid_params = {\n",
    "    'standardscaler': [StandardScaler(), None],\n",
    "    'simpleimputer__strategy': ['mean','median'],\n",
    "    'selectkbest__k': k\n",
    "}\n"
   ]
  },
  {
   "cell_type": "code",
   "execution_count": 21,
   "id": "6e249216",
   "metadata": {},
   "outputs": [],
   "source": [
    "#Call `GridSearchCV` with linear regression pipeline, passing in the above `grid_params`\n",
    "#dict for parameters to evaluate with 5-fold cross-validation\n",
    "lr_grid_cv = GridSearchCV(lr_pipe, param_grid=grid_params, cv=5)"
   ]
  },
  {
   "cell_type": "code",
   "execution_count": 22,
   "id": "93ce18d0",
   "metadata": {},
   "outputs": [
    {
     "data": {
      "text/plain": [
       "GridSearchCV(cv=5,\n",
       "             estimator=Pipeline(steps=[('simpleimputer',\n",
       "                                        SimpleImputer(strategy='median')),\n",
       "                                       ('standardscaler', StandardScaler()),\n",
       "                                       ('selectkbest',\n",
       "                                        SelectKBest(score_func=<function f_regression at 0x000001B61577B820>)),\n",
       "                                       ('linearregression',\n",
       "                                        LinearRegression())]),\n",
       "             param_grid={'selectkbest__k': [1, 2, 3, 4, 5, 6, 7, 8, 9, 10, 11,\n",
       "                                            12, 13, 14, 15, 16, 17, 18, 19, 20,\n",
       "                                            21, 22, 23, 24, 25, 26, 27, 28, 29,\n",
       "                                            30, ...],\n",
       "                         'simpleimputer__strategy': ['mean', 'median'],\n",
       "                         'standardscaler': [StandardScaler(), None]})"
      ]
     },
     "execution_count": 22,
     "metadata": {},
     "output_type": "execute_result"
    }
   ],
   "source": [
    "#Conduct grid search. \n",
    "lr_grid_cv.fit(X_train, y_train)"
   ]
  },
  {
   "cell_type": "code",
   "execution_count": 23,
   "id": "340b54ef",
   "metadata": {},
   "outputs": [
    {
     "data": {
      "text/plain": [
       "{'selectkbest__k': 12,\n",
       " 'simpleimputer__strategy': 'median',\n",
       " 'standardscaler': StandardScaler()}"
      ]
     },
     "execution_count": 23,
     "metadata": {},
     "output_type": "execute_result"
    }
   ],
   "source": [
    "#Best params from grid search\n",
    "lr_grid_cv.best_params_"
   ]
  },
  {
   "cell_type": "markdown",
   "id": "48eda04c",
   "metadata": {},
   "source": [
    "### K Best Features Visualization"
   ]
  },
  {
   "cell_type": "code",
   "execution_count": 24,
   "id": "e8a9a197",
   "metadata": {},
   "outputs": [
    {
     "data": {
      "image/png": "[encoded data removed]",
      "text/plain": [
       "<Figure size 720x360 with 1 Axes>"
      ]
     },
     "metadata": {
      "needs_background": "light"
     },
     "output_type": "display_data"
    }
   ],
   "source": [
    "score_mean = lr_grid_cv.cv_results_['mean_test_score']\n",
    "score_std = lr_grid_cv.cv_results_['std_test_score']\n",
    "cv_k = [k for k in lr_grid_cv.cv_results_['param_selectkbest__k']]\n",
    "\n",
    "best_k = lr_grid_cv.best_params_['selectkbest__k']\n",
    "plt.subplots(figsize=(10, 5))\n",
    "plt.errorbar(cv_k, score_mean, yerr=score_std)\n",
    "plt.axvline(x=best_k, c='r', ls='--', alpha=.5)\n",
    "plt.xlabel('k')\n",
    "plt.ylabel('CV score (r-squared)')\n",
    "plt.title('Pipeline mean CV score (error bars +/- 1sd)');"
   ]
  },
  {
   "cell_type": "markdown",
   "id": "39df0776",
   "metadata": {},
   "source": [
    "### Best Linear Model Performance Metrics"
   ]
  },
  {
   "cell_type": "markdown",
   "id": "ba1fd89c",
   "metadata": {},
   "source": [
    "#### R-squared (COD)"
   ]
  },
  {
   "cell_type": "code",
   "execution_count": 25,
   "id": "6d477c04",
   "metadata": {},
   "outputs": [
    {
     "data": {
      "text/plain": [
       "array([0.7543355 , 0.75942684, 0.75474352, 0.7686621 , 0.74163676])"
      ]
     },
     "execution_count": 25,
     "metadata": {},
     "output_type": "execute_result"
    }
   ],
   "source": [
    "#Cross-validation defaults to R^2 metric for scoring regression\n",
    "lr_best_cv_results = cross_validate(lr_grid_cv.best_estimator_, X_train, y_train, cv=5)\n",
    "lr_best_scores = lr_best_cv_results['test_score']\n",
    "lr_best_scores"
   ]
  },
  {
   "cell_type": "code",
   "execution_count": 26,
   "id": "94208332",
   "metadata": {},
   "outputs": [
    {
     "data": {
      "text/plain": [
       "(0.7557609425327607, 0.008745721251141314)"
      ]
     },
     "execution_count": 26,
     "metadata": {},
     "output_type": "execute_result"
    }
   ],
   "source": [
    "#Training set CV mean and std\n",
    "np.mean(lr_best_scores), np.std(lr_best_scores)"
   ]
  },
  {
   "cell_type": "markdown",
   "id": "9d73348a",
   "metadata": {},
   "source": [
    "#### Mean Absolute Error (MAE)"
   ]
  },
  {
   "cell_type": "code",
   "execution_count": 27,
   "id": "4f911c15",
   "metadata": {},
   "outputs": [],
   "source": [
    "lr_neg_mae = cross_validate(lr_grid_cv.best_estimator_, X_train, y_train, \n",
    "                            scoring='neg_mean_absolute_error', cv=5, n_jobs=-1)"
   ]
  },
  {
   "cell_type": "code",
   "execution_count": 28,
   "id": "e18625f8",
   "metadata": {},
   "outputs": [
    {
     "data": {
      "text/plain": [
       "(2.8043319650789593, 0.1008135969079413)"
      ]
     },
     "execution_count": 28,
     "metadata": {},
     "output_type": "execute_result"
    }
   ],
   "source": [
    "# Training set MAE and STD \n",
    "lr_mae_mean = np.mean(-1 * lr_neg_mae['test_score'])\n",
    "lr_mae_std = np.std(-1 * lr_neg_mae['test_score'])\n",
    "MAE_LR_train = lr_mae_mean, lr_mae_std\n",
    "MAE_LR_train"
   ]
  },
  {
   "cell_type": "code",
   "execution_count": 29,
   "id": "90190211",
   "metadata": {},
   "outputs": [
    {
     "data": {
      "text/plain": [
       "2.6353625607859095"
      ]
     },
     "execution_count": 29,
     "metadata": {},
     "output_type": "execute_result"
    }
   ],
   "source": [
    "# Test set mean\n",
    "MAE_LR_test = mean_absolute_error(y_test, lr_grid_cv.best_estimator_.predict(X_test))\n",
    "MAE_LR_test"
   ]
  },
  {
   "cell_type": "markdown",
   "id": "c0d8d440",
   "metadata": {},
   "source": [
    "#### Mean Squared Error (MSE)"
   ]
  },
  {
   "cell_type": "code",
   "execution_count": 30,
   "id": "34509b6d",
   "metadata": {},
   "outputs": [],
   "source": [
    "lr_neg_mse = cross_validate(lr_grid_cv.best_estimator_, X_train, y_train, \n",
    "                            scoring='neg_mean_squared_error', cv=5)"
   ]
  },
  {
   "cell_type": "code",
   "execution_count": 31,
   "id": "2e574f0e",
   "metadata": {},
   "outputs": [
    {
     "data": {
      "text/plain": [
       "(16.65535738724636, 2.0180700642455904)"
      ]
     },
     "execution_count": 31,
     "metadata": {},
     "output_type": "execute_result"
    }
   ],
   "source": [
    "#Training set CV mean and std\n",
    "lr_mse_mean = np.mean(-1 * lr_neg_mse['test_score'])\n",
    "lr_mse_std = np.std(-1 * lr_neg_mse['test_score'])\n",
    "MSE_LR_train = lr_mse_mean, lr_mse_std\n",
    "MSE_LR_train"
   ]
  },
  {
   "cell_type": "code",
   "execution_count": 32,
   "id": "5d045d1b",
   "metadata": {},
   "outputs": [
    {
     "data": {
      "text/plain": [
       "13.682849944515244"
      ]
     },
     "execution_count": 32,
     "metadata": {},
     "output_type": "execute_result"
    }
   ],
   "source": [
    "# Test set mean\n",
    "MSE_LR_test = mean_squared_error(y_test, lr_grid_cv.best_estimator_.predict(X_test))\n",
    "MSE_LR_test"
   ]
  },
  {
   "cell_type": "markdown",
   "id": "08b65887",
   "metadata": {},
   "source": [
    "#### Root Mean Square Error (RMSE)"
   ]
  },
  {
   "cell_type": "code",
   "execution_count": 33,
   "id": "215346dc",
   "metadata": {},
   "outputs": [],
   "source": [
    "lr_neg_rmse = cross_validate(lr_grid_cv.best_estimator_, X_train, y_train, \n",
    "                            scoring='neg_root_mean_squared_error', cv=5)"
   ]
  },
  {
   "cell_type": "code",
   "execution_count": 34,
   "id": "b10b58eb",
   "metadata": {},
   "outputs": [
    {
     "data": {
      "text/plain": [
       "(4.074115345439753, 0.2386242638515228)"
      ]
     },
     "execution_count": 34,
     "metadata": {},
     "output_type": "execute_result"
    }
   ],
   "source": [
    "#Training set CV mean and std\n",
    "lr_rmse_mean = np.mean(-1 * lr_neg_rmse['test_score'])\n",
    "lr_rmse_std = np.std(-1 * lr_neg_rmse['test_score'])\n",
    "RMSE_LR_train = lr_rmse_mean, lr_rmse_std\n",
    "RMSE_LR_train"
   ]
  },
  {
   "cell_type": "code",
   "execution_count": 35,
   "id": "7e31822c",
   "metadata": {},
   "outputs": [
    {
     "data": {
      "text/plain": [
       "3.6990336500923107"
      ]
     },
     "execution_count": 35,
     "metadata": {},
     "output_type": "execute_result"
    }
   ],
   "source": [
    "# Test set mean\n",
    "RMSE_LR_test = np.sqrt(mean_squared_error(y_test, lr_grid_cv.best_estimator_.predict(X_test)))\n",
    "RMSE_LR_test"
   ]
  },
  {
   "cell_type": "markdown",
   "id": "11e25773",
   "metadata": {},
   "source": [
    "### Best Linear Model Feature Importance"
   ]
  },
  {
   "cell_type": "code",
   "execution_count": 36,
   "id": "614bdc91",
   "metadata": {},
   "outputs": [
    {
     "data": {
      "image/png": "[encoded data removed]",
      "text/plain": [
       "<Figure size 720x360 with 1 Axes>"
      ]
     },
     "metadata": {
      "needs_background": "light"
     },
     "output_type": "display_data"
    }
   ],
   "source": [
    "#Plot a barplot of the linear regressor feature importances,\n",
    "#assigning the `feature_importances_` attribute of \n",
    "#`lv_grid_cv.best_estimator_.named_steps.linearregression` to the name `imps` to then\n",
    "#create a pandas Series object of the feature importances, with the index given by the\n",
    "#training data column names, sorting the values in descending order\n",
    "selected = lr_grid_cv.best_estimator_.named_steps.selectkbest.get_support()\n",
    "plt.subplots(figsize=(10, 5))\n",
    "imps = lr_grid_cv.best_estimator_.named_steps.linearregression.coef_\n",
    "lr_feat_imps = pd.Series(imps, index=X_train.columns[selected]).sort_values(ascending=False)\n",
    "lr_feat_imps.plot(kind='bar')\n",
    "plt.xlabel('features')\n",
    "plt.ylabel('importance')\n",
    "plt.title('Best linear regressor feature importances');"
   ]
  },
  {
   "cell_type": "markdown",
   "id": "fc238d07",
   "metadata": {},
   "source": [
    "## Random Forest Regression Model"
   ]
  },
  {
   "cell_type": "markdown",
   "id": "fe9160b2",
   "metadata": {},
   "source": [
    "### Random Forest Model: Hyperparameter Grid Search"
   ]
  },
  {
   "cell_type": "code",
   "execution_count": 74,
   "id": "4f354676",
   "metadata": {},
   "outputs": [],
   "source": [
    "#Define pipeline\n",
    "RF_pipe = make_pipeline(\n",
    "    SimpleImputer(strategy='mean'),\n",
    "    StandardScaler(),\n",
    "    RandomForestRegressor(random_state=47)\n",
    ")"
   ]
  },
  {
   "cell_type": "code",
   "execution_count": 75,
   "id": "78662b0f",
   "metadata": {},
   "outputs": [
    {
     "data": {
      "text/plain": [
       "dict_keys(['memory', 'steps', 'verbose', 'simpleimputer', 'standardscaler', 'randomforestregressor', 'simpleimputer__add_indicator', 'simpleimputer__copy', 'simpleimputer__fill_value', 'simpleimputer__missing_values', 'simpleimputer__strategy', 'simpleimputer__verbose', 'standardscaler__copy', 'standardscaler__with_mean', 'standardscaler__with_std', 'randomforestregressor__bootstrap', 'randomforestregressor__ccp_alpha', 'randomforestregressor__criterion', 'randomforestregressor__max_depth', 'randomforestregressor__max_features', 'randomforestregressor__max_leaf_nodes', 'randomforestregressor__max_samples', 'randomforestregressor__min_impurity_decrease', 'randomforestregressor__min_impurity_split', 'randomforestregressor__min_samples_leaf', 'randomforestregressor__min_samples_split', 'randomforestregressor__min_weight_fraction_leaf', 'randomforestregressor__n_estimators', 'randomforestregressor__n_jobs', 'randomforestregressor__oob_score', 'randomforestregressor__random_state', 'randomforestregressor__verbose', 'randomforestregressor__warm_start'])"
      ]
     },
     "execution_count": 75,
     "metadata": {},
     "output_type": "execute_result"
    }
   ],
   "source": [
    "#Dict of available parameters for RF pipe\n",
    "RF_pipe.get_params().keys()"
   ]
  },
  {
   "cell_type": "code",
   "execution_count": 76,
   "id": "1580bbaf",
   "metadata": {},
   "outputs": [
    {
     "data": {
      "text/plain": [
       "{'randomforestregressor__n_estimators': [325, 350, 375],\n",
       " 'randomforestregressor__max_features': [15],\n",
       " 'randomforestregressor__max_depth': [10],\n",
       " 'randomforestregressor__min_samples_split': [2],\n",
       " 'randomforestregressor__min_samples_leaf': [5, 7, 10],\n",
       " 'standardscaler': [None],\n",
       " 'simpleimputer__strategy': ['median']}"
      ]
     },
     "execution_count": 76,
     "metadata": {},
     "output_type": "execute_result"
    }
   ],
   "source": [
    "#Define search grid parameters\n",
    "\n",
    "#n_est = [int(n) for n in np.logspace(start=1, stop=3, num=20)]\n",
    "n_est = [325]\n",
    "\n",
    "grid_params = {\n",
    "        'randomforestregressor__n_estimators': n_est, \n",
    "        'randomforestregressor__max_features': [15],\n",
    "        'randomforestregressor__max_depth': [10],\n",
    "        'randomforestregressor__min_samples_split': [2],\n",
    "        'randomforestregressor__min_samples_leaf': [7],\n",
    "        'standardscaler': [None],\n",
    "        'simpleimputer__strategy': ['median']}\n",
    "grid_params\n",
    "\n",
    "#These were the best hyperparams across 5 sampling space runs (see cell below)"
   ]
  },
  {
   "cell_type": "code",
   "execution_count": 58,
   "id": "33832b99",
   "metadata": {},
   "outputs": [],
   "source": [
    "#First Pass\n",
    "# {'randomforestregressor__n_estimators': [400, 500, 600], 400\n",
    "#  'randomforestregressor__max_features': [15, 20, 25], 15\n",
    "#  'randomforestregressor__max_depth': [5, 10, 15],  10\n",
    "#  'randomforestregressor__min_samples_split': [2, 3, 4], 2\n",
    "#  'randomforestregressor__min_samples_leaf': [15, 20, 25], 15\n",
    "#  'standardscaler': [None],\n",
    "#  'simpleimputer__strategy': ['mean', 'median']} median\n",
    "\n",
    "#Second Pass\n",
    "# {'randomforestregressor__n_estimators': [300, 350, 400],\n",
    "#  'randomforestregressor__max_features': [10, 15],\n",
    "#  'randomforestregressor__max_depth': [10],\n",
    "#  'randomforestregressor__min_samples_split': [2],\n",
    "#  'randomforestregressor__min_samples_leaf': [10, 15],\n",
    "#  'standardscaler': [None],\n",
    "#  'simpleimputer__strategy': ['median']}\n",
    "\n",
    "#Third Pass\n",
    "# {'randomforestregressor__n_estimators': [325, 350, 375],\n",
    "#  'randomforestregressor__max_features': [15],\n",
    "#  'randomforestregressor__max_depth': [10],\n",
    "#  'randomforestregressor__min_samples_split': [2],\n",
    "#  'randomforestregressor__min_samples_leaf': [5, 7, 10],\n",
    "#  'standardscaler': [None],\n",
    "#  'simpleimputer__strategy': ['median']}"
   ]
  },
  {
   "cell_type": "code",
   "execution_count": 77,
   "id": "0d6edfd7",
   "metadata": {},
   "outputs": [],
   "source": [
    "#Call `GridSearchCV` with random forest pipeline, passing in the above `grid_params`\n",
    "#dict for parameters to evaluate with 5-fold cross-validation\n",
    "rf_grid_cv = GridSearchCV(RF_pipe, param_grid=grid_params, cv=5)"
   ]
  },
  {
   "cell_type": "code",
   "execution_count": 78,
   "id": "f0bd19a4",
   "metadata": {},
   "outputs": [
    {
     "data": {
      "text/plain": [
       "GridSearchCV(cv=5,\n",
       "             estimator=Pipeline(steps=[('simpleimputer', SimpleImputer()),\n",
       "                                       ('standardscaler', StandardScaler()),\n",
       "                                       ('randomforestregressor',\n",
       "                                        RandomForestRegressor(random_state=47))]),\n",
       "             param_grid={'randomforestregressor__max_depth': [10],\n",
       "                         'randomforestregressor__max_features': [15],\n",
       "                         'randomforestregressor__min_samples_leaf': [5, 7, 10],\n",
       "                         'randomforestregressor__min_samples_split': [2],\n",
       "                         'randomforestregressor__n_estimators': [325, 350, 375],\n",
       "                         'simpleimputer__strategy': ['median'],\n",
       "                         'standardscaler': [None]})"
      ]
     },
     "execution_count": 78,
     "metadata": {},
     "output_type": "execute_result"
    }
   ],
   "source": [
    "#Conduct grid search.  \n",
    "rf_grid_cv.fit(X_train, y_train)"
   ]
  },
  {
   "cell_type": "code",
   "execution_count": 79,
   "id": "27a42ca4",
   "metadata": {},
   "outputs": [
    {
     "data": {
      "text/plain": [
       "{'randomforestregressor__max_depth': 10,\n",
       " 'randomforestregressor__max_features': 15,\n",
       " 'randomforestregressor__min_samples_leaf': 7,\n",
       " 'randomforestregressor__min_samples_split': 2,\n",
       " 'randomforestregressor__n_estimators': 325,\n",
       " 'simpleimputer__strategy': 'median',\n",
       " 'standardscaler': None}"
      ]
     },
     "execution_count": 79,
     "metadata": {},
     "output_type": "execute_result"
    }
   ],
   "source": [
    "#Print the best params (`best_params_` attribute) from the grid search\n",
    "rf_grid_cv.best_params_"
   ]
  },
  {
   "cell_type": "markdown",
   "id": "ab5fccfb",
   "metadata": {},
   "source": [
    "### Best Random Forest Model Performance Metrics"
   ]
  },
  {
   "cell_type": "markdown",
   "id": "a5d4621f",
   "metadata": {},
   "source": [
    "#### R-squared (COD)"
   ]
  },
  {
   "cell_type": "code",
   "execution_count": 80,
   "id": "43b34983",
   "metadata": {},
   "outputs": [
    {
     "data": {
      "text/plain": [
       "array([0.76089166, 0.75732713, 0.73365229, 0.7605726 , 0.76760794])"
      ]
     },
     "execution_count": 80,
     "metadata": {},
     "output_type": "execute_result"
    }
   ],
   "source": [
    "#Cross-validation defaults to R^2 metric for scoring regression\n",
    "rf_best_cv_results = cross_validate(rf_grid_cv.best_estimator_, X_train, y_train, cv=5)\n",
    "rf_best_scores = rf_best_cv_results['test_score']\n",
    "rf_best_scores"
   ]
  },
  {
   "cell_type": "code",
   "execution_count": 81,
   "id": "26314a8f",
   "metadata": {},
   "outputs": [
    {
     "data": {
      "text/plain": [
       "(0.7560103228642806, 0.011668438720411105)"
      ]
     },
     "execution_count": 81,
     "metadata": {},
     "output_type": "execute_result"
    }
   ],
   "source": [
    "#Training set CV mean and std\n",
    "np.mean(rf_best_scores), np.std(rf_best_scores)"
   ]
  },
  {
   "cell_type": "markdown",
   "id": "9841149b",
   "metadata": {},
   "source": [
    "#### Mean Absolute Error (MAE)"
   ]
  },
  {
   "cell_type": "code",
   "execution_count": 82,
   "id": "f04e65e1",
   "metadata": {},
   "outputs": [],
   "source": [
    "rf_neg_mae = cross_validate(rf_grid_cv.best_estimator_, X_train, y_train, \n",
    "                            scoring='neg_mean_absolute_error', cv=5)"
   ]
  },
  {
   "cell_type": "code",
   "execution_count": 83,
   "id": "35a933c4",
   "metadata": {},
   "outputs": [
    {
     "data": {
      "text/plain": [
       "(2.7808211168920964, 0.15356810471437068)"
      ]
     },
     "execution_count": 83,
     "metadata": {},
     "output_type": "execute_result"
    }
   ],
   "source": [
    "#Training set CV mean and std\n",
    "rf_mae_mean = np.mean(-1 * rf_neg_mae['test_score'])\n",
    "rf_mae_std = np.std(-1 * rf_neg_mae['test_score'])\n",
    "rf_mae_mean, rf_mae_std"
   ]
  },
  {
   "cell_type": "code",
   "execution_count": 84,
   "id": "c0dad247",
   "metadata": {},
   "outputs": [
    {
     "data": {
      "text/plain": [
       "2.6923291093606996"
      ]
     },
     "execution_count": 84,
     "metadata": {},
     "output_type": "execute_result"
    }
   ],
   "source": [
    "# Test set mean\n",
    "mean_absolute_error(y_test, rf_grid_cv.best_estimator_.predict(X_test))"
   ]
  },
  {
   "cell_type": "markdown",
   "id": "dfa7bb0c",
   "metadata": {},
   "source": [
    "#### Mean Squared Error (MSE)"
   ]
  },
  {
   "cell_type": "code",
   "execution_count": 85,
   "id": "e93a680e",
   "metadata": {},
   "outputs": [],
   "source": [
    "rf_neg_mse = cross_validate(rf_grid_cv.best_estimator_, X_train, y_train, \n",
    "                            scoring='neg_mean_squared_error', cv=5)"
   ]
  },
  {
   "cell_type": "code",
   "execution_count": 86,
   "id": "9f3ea410",
   "metadata": {},
   "outputs": [
    {
     "data": {
      "text/plain": [
       "(16.73437816176274, 2.86691527196242)"
      ]
     },
     "execution_count": 86,
     "metadata": {},
     "output_type": "execute_result"
    }
   ],
   "source": [
    "#Training set CV mean and std\n",
    "rf_mse_mean = np.mean(-1 * rf_neg_mse['test_score'])\n",
    "rf_mse_std = np.std(-1 * rf_neg_mse['test_score'])\n",
    "rf_mse_mean, rf_mse_std"
   ]
  },
  {
   "cell_type": "code",
   "execution_count": 87,
   "id": "5ca32df2",
   "metadata": {},
   "outputs": [
    {
     "data": {
      "text/plain": [
       "13.850625889544183"
      ]
     },
     "execution_count": 87,
     "metadata": {},
     "output_type": "execute_result"
    }
   ],
   "source": [
    "# Test set mean\n",
    "mean_squared_error(y_test, rf_grid_cv.best_estimator_.predict(X_test))"
   ]
  },
  {
   "cell_type": "markdown",
   "id": "1f722cdd",
   "metadata": {},
   "source": [
    "#### Root Mean Square Error (RMSE)"
   ]
  },
  {
   "cell_type": "code",
   "execution_count": 88,
   "id": "e58f86da",
   "metadata": {},
   "outputs": [],
   "source": [
    "rf_neg_rmse = cross_validate(rf_grid_cv.best_estimator_, X_train, y_train, \n",
    "                            scoring='neg_root_mean_squared_error', cv=5)"
   ]
  },
  {
   "cell_type": "code",
   "execution_count": 89,
   "id": "d7ee1e61",
   "metadata": {},
   "outputs": [
    {
     "data": {
      "text/plain": [
       "(4.077166100420141, 0.3333087927846633)"
      ]
     },
     "execution_count": 89,
     "metadata": {},
     "output_type": "execute_result"
    }
   ],
   "source": [
    "#Training set CV mean and std\n",
    "rf_rmse_mean = np.mean(-1 * rf_neg_rmse['test_score'])\n",
    "rf_rmse_std = np.std(-1 * rf_neg_rmse['test_score'])\n",
    "rf_rmse_mean, rf_rmse_std"
   ]
  },
  {
   "cell_type": "code",
   "execution_count": 90,
   "id": "6cb7e869",
   "metadata": {},
   "outputs": [
    {
     "data": {
      "text/plain": [
       "3.721642901937823"
      ]
     },
     "execution_count": 90,
     "metadata": {},
     "output_type": "execute_result"
    }
   ],
   "source": [
    "# Test set mean\n",
    "np.sqrt(mean_squared_error(y_test, rf_grid_cv.best_estimator_.predict(X_test)))"
   ]
  },
  {
   "cell_type": "markdown",
   "id": "46ff1b10",
   "metadata": {},
   "source": [
    "### Best Random Forest Model Feature Performance"
   ]
  },
  {
   "cell_type": "code",
   "execution_count": 91,
   "id": "a8245ab5",
   "metadata": {},
   "outputs": [
    {
     "data": {
      "image/png": "[encoded data removed]",
      "text/plain": [
       "<Figure size 1440x720 with 1 Axes>"
      ]
     },
     "metadata": {
      "needs_background": "light"
     },
     "output_type": "display_data"
    }
   ],
   "source": [
    "#Plot a barplot of the random forest's feature importances,\n",
    "#assigning the `feature_importances_` attribute of \n",
    "#`rf_grid_cv.best_estimator_.named_steps.randomforestregressor` to the name `imps` to then\n",
    "#create a pandas Series object of the feature importances, with the index given by the\n",
    "#training data column names, sorting the values in descending order\n",
    "plt.subplots(figsize=(20, 10))\n",
    "imps = rf_grid_cv.best_estimator_.named_steps.randomforestregressor.feature_importances_\n",
    "rf_feat_imps = pd.Series(imps, index=X_train.columns).sort_values(ascending=False)\n",
    "rf_feat_imps.nlargest(30).plot(kind='bar')\n",
    "plt.xlabel('features')\n",
    "plt.ylabel('importance')\n",
    "plt.title('Best random forest regressor feature importances');\n",
    "\n",
    "#rf_gridsearch.best_estimator_.named_steps[\"step_name\"].feature_importances_\n",
    "#rf_gridsearch.best_estimator_.feature_importances_\n",
    "\n",
    "#feat_importances = pd.Series(rf_grid_cv.feature_importances_, index=rf_grid_cv.columns)\n",
    "#feat_importances.nlargest(50).plot(kind='barh')"
   ]
  },
  {
   "cell_type": "markdown",
   "id": "6c675468",
   "metadata": {},
   "source": [
    "Random Forest Regressor RMSE Train(STD)/Test for different explored hyperparameter values (summarized below each)\n",
    "\n",
    "(4.077166100420141, 0.3333087927846633), 3.721642901937823\n",
    "{'randomforestregressor__max_depth': 10,\n",
    " 'randomforestregressor__max_features': 15,\n",
    " 'randomforestregressor__min_samples_leaf': 7,\n",
    " 'randomforestregressor__min_samples_split': 2,\n",
    " 'randomforestregressor__n_estimators': 325,\n",
    " 'simpleimputer__strategy': 'median',\n",
    " 'standardscaler': None}\n",
    "\n",
    "\"it could take around 1000 seconds to fit an RF with around 4M samples with the dimensions 'n_estimators': 50, 'max_depth': 200, 'min_samples_leaf': 1, 'min_samples_split': 2, 'n_jobs': 20 but only 50s for 'n_estimators': 50, 'max_depth': 200, 'min_samples_leaf': 2, 'min_samples_split': 10, 'n_jobs': 20 for similar accuracy.\""
   ]
  },
  {
   "cell_type": "markdown",
   "id": "300fd6a4",
   "metadata": {},
   "source": [
    "## Gradient Boosting Regression Model"
   ]
  },
  {
   "cell_type": "markdown",
   "id": "696bff8c",
   "metadata": {},
   "source": [
    "### Gradient Boosting Model: Hyperparameter Grid Search"
   ]
  },
  {
   "cell_type": "code",
   "execution_count": 49,
   "id": "22473aa1",
   "metadata": {},
   "outputs": [],
   "source": [
    "#Define pipeline \n",
    "GB_pipe = make_pipeline(\n",
    "    SimpleImputer(strategy='mean'),\n",
    "    StandardScaler(),\n",
    "    GradientBoostingRegressor(random_state= 47)\n",
    ")"
   ]
  },
  {
   "cell_type": "code",
   "execution_count": 50,
   "id": "b247d05f",
   "metadata": {},
   "outputs": [
    {
     "data": {
      "text/plain": [
       "dict_keys(['memory', 'steps', 'verbose', 'simpleimputer', 'standardscaler', 'gradientboostingregressor', 'simpleimputer__add_indicator', 'simpleimputer__copy', 'simpleimputer__fill_value', 'simpleimputer__missing_values', 'simpleimputer__strategy', 'simpleimputer__verbose', 'standardscaler__copy', 'standardscaler__with_mean', 'standardscaler__with_std', 'gradientboostingregressor__alpha', 'gradientboostingregressor__ccp_alpha', 'gradientboostingregressor__criterion', 'gradientboostingregressor__init', 'gradientboostingregressor__learning_rate', 'gradientboostingregressor__loss', 'gradientboostingregressor__max_depth', 'gradientboostingregressor__max_features', 'gradientboostingregressor__max_leaf_nodes', 'gradientboostingregressor__min_impurity_decrease', 'gradientboostingregressor__min_impurity_split', 'gradientboostingregressor__min_samples_leaf', 'gradientboostingregressor__min_samples_split', 'gradientboostingregressor__min_weight_fraction_leaf', 'gradientboostingregressor__n_estimators', 'gradientboostingregressor__n_iter_no_change', 'gradientboostingregressor__random_state', 'gradientboostingregressor__subsample', 'gradientboostingregressor__tol', 'gradientboostingregressor__validation_fraction', 'gradientboostingregressor__verbose', 'gradientboostingregressor__warm_start'])"
      ]
     },
     "execution_count": 50,
     "metadata": {},
     "output_type": "execute_result"
    }
   ],
   "source": [
    "GB_pipe.get_params().keys()"
   ]
  },
  {
   "cell_type": "code",
   "execution_count": 51,
   "id": "57b53602",
   "metadata": {},
   "outputs": [
    {
     "data": {
      "text/plain": [
       "{'gradientboostingregressor__n_estimators': [115],\n",
       " 'standardscaler': [None],\n",
       " 'simpleimputer__strategy': ['median'],\n",
       " 'gradientboostingregressor__learning_rate': [0.045],\n",
       " 'gradientboostingregressor__max_depth': [3],\n",
       " 'gradientboostingregressor__max_features': [5, 6, 7]}"
      ]
     },
     "execution_count": 51,
     "metadata": {},
     "output_type": "execute_result"
    }
   ],
   "source": [
    "#Define Grid Parameters\n",
    "\n",
    "n_est = [115] \n",
    "learning_rate = [.045] \n",
    "max_depth = [3] \n",
    "max_features = [5,6,7] \n",
    "\n",
    "grid_params = {\n",
    "        'gradientboostingregressor__n_estimators': n_est,\n",
    "        'standardscaler': [None],\n",
    "        'simpleimputer__strategy': ['median'],\n",
    "        'gradientboostingregressor__learning_rate': learning_rate,\n",
    "        'gradientboostingregressor__max_depth': max_depth,\n",
    "        'gradientboostingregressor__max_features': max_features\n",
    "}\n",
    "grid_params\n",
    "\n",
    "#Current parameters reflect best hyperparameters from multiple sample range passes (see cell below)"
   ]
  },
  {
   "cell_type": "code",
   "execution_count": 577,
   "id": "8132d668",
   "metadata": {},
   "outputs": [],
   "source": [
    "#First Pass (best from the run is placed outside bracket per hyperparameter)\n",
    "# {'gradientboostingregressor__n_estimators': [100, 110, 120],\n",
    "#  'standardscaler': [None],\n",
    "#  'simpleimputer__strategy': ['median'],\n",
    "#  'gradientboostingregressor__learning_rate': [0.03, 0.04, 0.05],\n",
    "#  'gradientboostingregressor__max_depth': [2, 3],\n",
    "#  'gradientboostingregressor__max_features': [9, 10, 11]}\n",
    "\n",
    "#Second Pass \n",
    "# {'gradientboostingregressor__n_estimators': [105, 110, 115], 115\n",
    "#  'standardscaler': [None],\n",
    "#  'simpleimputer__strategy': ['median', 'mean'], median\n",
    "#  'gradientboostingregressor__learning_rate': [0.035, 0.04, 0.045], .045\n",
    "#  'gradientboostingregressor__max_depth': [3, 4], 3\n",
    "#  'gradientboostingregressor__max_features': [7, 8, 9]} 7"
   ]
  },
  {
   "cell_type": "code",
   "execution_count": 52,
   "id": "eb48abeb",
   "metadata": {},
   "outputs": [],
   "source": [
    "#Call `GridSearchCV` with the gradient boosting pipeline, passing in the above `grid_params`\n",
    "#dict for parameters to evaluate, 5-fold cross-validation\n",
    "gb_grid_cv = GridSearchCV(GB_pipe, param_grid=grid_params, cv=5)"
   ]
  },
  {
   "cell_type": "code",
   "execution_count": 53,
   "id": "330fc1c6",
   "metadata": {},
   "outputs": [
    {
     "data": {
      "text/plain": [
       "GridSearchCV(cv=5,\n",
       "             estimator=Pipeline(steps=[('simpleimputer', SimpleImputer()),\n",
       "                                       ('standardscaler', StandardScaler()),\n",
       "                                       ('gradientboostingregressor',\n",
       "                                        GradientBoostingRegressor(random_state=47))]),\n",
       "             param_grid={'gradientboostingregressor__learning_rate': [0.045],\n",
       "                         'gradientboostingregressor__max_depth': [3],\n",
       "                         'gradientboostingregressor__max_features': [5, 6, 7],\n",
       "                         'gradientboostingregressor__n_estimators': [115],\n",
       "                         'simpleimputer__strategy': ['median'],\n",
       "                         'standardscaler': [None]})"
      ]
     },
     "execution_count": 53,
     "metadata": {},
     "output_type": "execute_result"
    }
   ],
   "source": [
    "#conduct the grid search. \n",
    "gb_grid_cv.fit(X_train, y_train)"
   ]
  },
  {
   "cell_type": "code",
   "execution_count": 54,
   "id": "57d15a7f",
   "metadata": {},
   "outputs": [
    {
     "data": {
      "text/plain": [
       "{'gradientboostingregressor__learning_rate': 0.045,\n",
       " 'gradientboostingregressor__max_depth': 3,\n",
       " 'gradientboostingregressor__max_features': 7,\n",
       " 'gradientboostingregressor__n_estimators': 115,\n",
       " 'simpleimputer__strategy': 'median',\n",
       " 'standardscaler': None}"
      ]
     },
     "execution_count": 54,
     "metadata": {},
     "output_type": "execute_result"
    }
   ],
   "source": [
    "#Best params (`best_params_` attribute) from the grid search\n",
    "gb_grid_cv.best_params_"
   ]
  },
  {
   "cell_type": "markdown",
   "id": "f95f35b3",
   "metadata": {},
   "source": [
    "### Best Gradient Boosting Model Performance Metrics"
   ]
  },
  {
   "cell_type": "markdown",
   "id": "7820c285",
   "metadata": {},
   "source": [
    "#### R-squared (COD)"
   ]
  },
  {
   "cell_type": "code",
   "execution_count": 55,
   "id": "6dc56798",
   "metadata": {},
   "outputs": [
    {
     "data": {
      "text/plain": [
       "array([0.75029943, 0.76341083, 0.72061954, 0.76305639, 0.78756071])"
      ]
     },
     "execution_count": 55,
     "metadata": {},
     "output_type": "execute_result"
    }
   ],
   "source": [
    "#Cross-validation defaults to R^2 metric for scoring regression\n",
    "gb_best_cv_results = cross_validate(gb_grid_cv.best_estimator_, X_train, y_train, cv=5)\n",
    "gb_best_scores = gb_best_cv_results['test_score']\n",
    "gb_best_scores"
   ]
  },
  {
   "cell_type": "code",
   "execution_count": 56,
   "id": "b28a43c3",
   "metadata": {},
   "outputs": [
    {
     "data": {
      "text/plain": [
       "(0.7569893795692508, 0.021818203029450353)"
      ]
     },
     "execution_count": 56,
     "metadata": {},
     "output_type": "execute_result"
    }
   ],
   "source": [
    "#Training set CV mean and std\n",
    "np.mean(gb_best_scores), np.std(gb_best_scores)"
   ]
  },
  {
   "cell_type": "markdown",
   "id": "c91478b1",
   "metadata": {},
   "source": [
    "#### Mean Absolute Error (MAE)"
   ]
  },
  {
   "cell_type": "code",
   "execution_count": 57,
   "id": "e18c5910",
   "metadata": {},
   "outputs": [],
   "source": [
    "gb_neg_mae = cross_validate(gb_grid_cv.best_estimator_, X_train, y_train, \n",
    "                            scoring='neg_mean_absolute_error', cv=5, n_jobs=-1)"
   ]
  },
  {
   "cell_type": "code",
   "execution_count": 58,
   "id": "fcd81789",
   "metadata": {},
   "outputs": [
    {
     "data": {
      "text/plain": [
       "(2.8123270153468694, 0.20193401733480965)"
      ]
     },
     "execution_count": 58,
     "metadata": {},
     "output_type": "execute_result"
    }
   ],
   "source": [
    "#Training set CV mean and std\n",
    "gb_mae_mean = np.mean(-1 * gb_neg_mae['test_score'])\n",
    "gb_mae_std = np.std(-1 * gb_neg_mae['test_score'])\n",
    "gb_mae_mean, gb_mae_std"
   ]
  },
  {
   "cell_type": "code",
   "execution_count": 59,
   "id": "6d131fd6",
   "metadata": {},
   "outputs": [
    {
     "data": {
      "text/plain": [
       "2.67935838147222"
      ]
     },
     "execution_count": 59,
     "metadata": {},
     "output_type": "execute_result"
    }
   ],
   "source": [
    "# Test set mean\n",
    "mean_absolute_error(y_test, gb_grid_cv.best_estimator_.predict(X_test))"
   ]
  },
  {
   "cell_type": "markdown",
   "id": "63e05fa0",
   "metadata": {},
   "source": [
    "#### Mean Squared Error (MSE)"
   ]
  },
  {
   "cell_type": "code",
   "execution_count": 60,
   "id": "680649e1",
   "metadata": {},
   "outputs": [],
   "source": [
    "gb_neg_mse = cross_validate(gb_grid_cv.best_estimator_, X_train, y_train, \n",
    "                            scoring='neg_mean_squared_error', cv=5)"
   ]
  },
  {
   "cell_type": "code",
   "execution_count": 61,
   "id": "5bf5c623",
   "metadata": {},
   "outputs": [
    {
     "data": {
      "text/plain": [
       "(16.733851261097154, 3.529161710019945)"
      ]
     },
     "execution_count": 61,
     "metadata": {},
     "output_type": "execute_result"
    }
   ],
   "source": [
    "#Training set CV mean and std\n",
    "gb_mse_mean = np.mean(-1 * gb_neg_mse['test_score'])\n",
    "gb_mse_std = np.std(-1 * gb_neg_mse['test_score'])\n",
    "gb_mse_mean, gb_mse_std"
   ]
  },
  {
   "cell_type": "code",
   "execution_count": 62,
   "id": "a347d29a",
   "metadata": {},
   "outputs": [
    {
     "data": {
      "text/plain": [
       "13.804529846191144"
      ]
     },
     "execution_count": 62,
     "metadata": {},
     "output_type": "execute_result"
    }
   ],
   "source": [
    "# Test set mean\n",
    "mean_squared_error(y_test, gb_grid_cv.best_estimator_.predict(X_test))"
   ]
  },
  {
   "cell_type": "markdown",
   "id": "fb2e2fa6",
   "metadata": {},
   "source": [
    "#### Root Mean Square Error (RMSE)"
   ]
  },
  {
   "cell_type": "code",
   "execution_count": 63,
   "id": "637cc724",
   "metadata": {},
   "outputs": [],
   "source": [
    "gb_neg_rmse = cross_validate(gb_grid_cv.best_estimator_, X_train, y_train, \n",
    "                            scoring='neg_root_mean_squared_error', cv=5)"
   ]
  },
  {
   "cell_type": "code",
   "execution_count": 64,
   "id": "129c9952",
   "metadata": {},
   "outputs": [
    {
     "data": {
      "text/plain": [
       "(4.069970968862575, 0.4113241710779867)"
      ]
     },
     "execution_count": 64,
     "metadata": {},
     "output_type": "execute_result"
    }
   ],
   "source": [
    "#Training set CV mean and std\n",
    "gb_rmse_mean = np.mean(-1 * gb_neg_rmse['test_score'])\n",
    "gb_rmse_std = np.std(-1 * gb_neg_rmse['test_score'])\n",
    "gb_rmse_mean, gb_rmse_std"
   ]
  },
  {
   "cell_type": "code",
   "execution_count": 65,
   "id": "1bac3e9c",
   "metadata": {},
   "outputs": [
    {
     "data": {
      "text/plain": [
       "3.715444770978455"
      ]
     },
     "execution_count": 65,
     "metadata": {},
     "output_type": "execute_result"
    }
   ],
   "source": [
    "# Test set mean\n",
    "np.sqrt(mean_squared_error(y_test, gb_grid_cv.best_estimator_.predict(X_test)))"
   ]
  },
  {
   "cell_type": "markdown",
   "id": "3b42bbe6",
   "metadata": {},
   "source": [
    "### Best Gradient Boosting Model Feature Performance"
   ]
  },
  {
   "cell_type": "code",
   "execution_count": 66,
   "id": "e1ca08e2",
   "metadata": {},
   "outputs": [
    {
     "data": {
      "image/png": "[encoded data removed]",
      "text/plain": [
       "<Figure size 1440x720 with 1 Axes>"
      ]
     },
     "metadata": {
      "needs_background": "light"
     },
     "output_type": "display_data"
    }
   ],
   "source": [
    "#Plot a barplot of the gradient boosting model's feature importances,\n",
    "#assigning the `feature_importances_` attribute of \n",
    "#`gb_grid_cv.best_estimator_.named_steps.gradientboostingregressor` to the name `imps` to then\n",
    "#create a pandas Series object of the feature importances, with the index given by the\n",
    "#training data column names, sorting the values in descending order\n",
    "plt.subplots(figsize=(20, 10))\n",
    "imps = gb_grid_cv.best_estimator_.named_steps.gradientboostingregressor.feature_importances_\n",
    "gb_feat_imps = pd.Series(imps, index=X_train.columns).sort_values(ascending=False)\n",
    "gb_feat_imps.nlargest(30).plot(kind='bar')\n",
    "plt.xlabel('features')\n",
    "plt.ylabel('importance')\n",
    "plt.title('Best gradient boosting regressor feature importances');"
   ]
  },
  {
   "cell_type": "code",
   "execution_count": 45,
   "id": "25deab5e",
   "metadata": {},
   "outputs": [
    {
     "data": {
      "text/plain": [
       "Index(['t_ind', 't_alt', 't_draw_sz', 't_lvl', 'm_bestof', 'm_rd_num', 'p_ent',\n",
       "       'p_age', 't_1st_sv_in%_ratio', 't_1st_sv_in%_yielded_ratio',\n",
       "       ...\n",
       "       'p_df_SvPtsWon%_ratio_l60_tw_ss_IO_diff',\n",
       "       'p_df_SvPtsWon%_ratio_l10_tw_ss_IO_diff',\n",
       "       'p_df_SvPtsWon%_ratio_l60_tw_ss_SOS_adj_diff',\n",
       "       'p_df_SvPtsWon%_ratio_l10_tw_ss_SOS_adj_diff',\n",
       "       'p_df_SvPtsWon%_ratio_l60_tw_ss_IO_SOS_adj_diff',\n",
       "       'p_df_SvPtsWon%_ratio_l10_tw_ss_IO_SOS_adj_diff',\n",
       "       'p_df_SvPtsWon%_ratio_l60_tw_ss_SOS_adj_csp_diff',\n",
       "       'p_df_SvPtsWon%_ratio_l10_tw_ss_SOS_adj_csp_diff',\n",
       "       'p_df_SvPtsWon%_ratio_l60_tw_ss_IO_SOS_adj_csp_diff',\n",
       "       'p_df_SvPtsWon%_ratio_l10_tw_ss_IO_SOS_adj_csp_diff'],\n",
       "      dtype='object', length=367)"
      ]
     },
     "execution_count": 45,
     "metadata": {},
     "output_type": "execute_result"
    }
   ],
   "source": [
    "# Export out features and feature importances for full documentation csv\n",
    "X_train.columns\n",
    "gb_feat_imps.to_csv('../data/processed_data/gb_feat_imps.csv', index=True)"
   ]
  },
  {
   "cell_type": "markdown",
   "id": "89c2ad1e",
   "metadata": {},
   "source": [
    "### Data Quality Assessment"
   ]
  },
  {
   "cell_type": "markdown",
   "id": "e3c66adc",
   "metadata": {},
   "source": [
    "Because Gradient Boosting Regressor turned out to be the best of the four models tested (in terms of cross-validation RMSE), a Data Quality Assessment was run on this model to ensure that results are not hindered by sample size. Unfortunately, it does seem like model accuracy is still rising with increased data. "
   ]
  },
  {
   "cell_type": "code",
   "execution_count": 67,
   "id": "e018f1e0",
   "metadata": {},
   "outputs": [],
   "source": [
    "fractions = [.2, .25, .3, .35, .4, .45, .5, .6, .75, .8, .9, 1.0]\n",
    "train_size, train_scores, test_scores = learning_curve(GB_pipe, X_train, y_train, train_sizes=fractions)\n",
    "train_scores_mean = np.mean(train_scores, axis=1)\n",
    "train_scores_std = np.std(train_scores, axis=1)\n",
    "test_scores_mean = np.mean(test_scores, axis=1)\n",
    "test_scores_std = np.std(test_scores, axis=1)"
   ]
  },
  {
   "cell_type": "code",
   "execution_count": 68,
   "id": "947ef1f6",
   "metadata": {},
   "outputs": [
    {
     "data": {
      "image/png": "[encoded data removed]",
      "text/plain": [
       "<Figure size 720x360 with 1 Axes>"
      ]
     },
     "metadata": {
      "needs_background": "light"
     },
     "output_type": "display_data"
    }
   ],
   "source": [
    "plt.subplots(figsize=(10, 5))\n",
    "plt.errorbar(train_size, test_scores_mean, yerr=test_scores_std)\n",
    "plt.xlabel('Training set size')\n",
    "plt.ylabel('CV scores')\n",
    "plt.title('Cross-validation score as training set size increases');"
   ]
  },
  {
   "cell_type": "markdown",
   "id": "ed22e6b7",
   "metadata": {},
   "source": [
    "Best GBM Model RMSE Train/Test and Best Hyperparameters\n",
    "(4.069970968862575, 0.4113241710779867), 3.715444770978455\n",
    "\n",
    "3.715444770978455"
   ]
  },
  {
   "cell_type": "markdown",
   "id": "5b8bbec4",
   "metadata": {},
   "source": [
    "## HistGradientBoosting Model"
   ]
  },
  {
   "cell_type": "markdown",
   "id": "91545870",
   "metadata": {},
   "source": [
    "### Pipeline Creation"
   ]
  },
  {
   "cell_type": "code",
   "execution_count": 86,
   "id": "4343e443",
   "metadata": {},
   "outputs": [],
   "source": [
    "#Define pipeline\n",
    "HGB_pipe = make_pipeline(\n",
    "    SimpleImputer(strategy='mean'),\n",
    "    StandardScaler(),\n",
    "    HistGradientBoostingRegressor(random_state= 47)\n",
    ")"
   ]
  },
  {
   "cell_type": "code",
   "execution_count": 87,
   "id": "b55be03d",
   "metadata": {},
   "outputs": [
    {
     "data": {
      "text/plain": [
       "dict_keys(['memory', 'steps', 'verbose', 'simpleimputer', 'standardscaler', 'histgradientboostingregressor', 'simpleimputer__add_indicator', 'simpleimputer__copy', 'simpleimputer__fill_value', 'simpleimputer__missing_values', 'simpleimputer__strategy', 'simpleimputer__verbose', 'standardscaler__copy', 'standardscaler__with_mean', 'standardscaler__with_std', 'histgradientboostingregressor__categorical_features', 'histgradientboostingregressor__early_stopping', 'histgradientboostingregressor__l2_regularization', 'histgradientboostingregressor__learning_rate', 'histgradientboostingregressor__loss', 'histgradientboostingregressor__max_bins', 'histgradientboostingregressor__max_depth', 'histgradientboostingregressor__max_iter', 'histgradientboostingregressor__max_leaf_nodes', 'histgradientboostingregressor__min_samples_leaf', 'histgradientboostingregressor__monotonic_cst', 'histgradientboostingregressor__n_iter_no_change', 'histgradientboostingregressor__random_state', 'histgradientboostingregressor__scoring', 'histgradientboostingregressor__tol', 'histgradientboostingregressor__validation_fraction', 'histgradientboostingregressor__verbose', 'histgradientboostingregressor__warm_start'])"
      ]
     },
     "execution_count": 87,
     "metadata": {},
     "output_type": "execute_result"
    }
   ],
   "source": [
    "HGB_pipe.get_params().keys()"
   ]
  },
  {
   "cell_type": "markdown",
   "id": "57f9c25d",
   "metadata": {},
   "source": [
    "### Hyperparameter  Grid Search and Model Fit Using Best Parameters from Grid Search"
   ]
  },
  {
   "cell_type": "code",
   "execution_count": 88,
   "id": "032859f2",
   "metadata": {},
   "outputs": [
    {
     "data": {
      "text/plain": [
       "{'standardscaler': [None],\n",
       " 'simpleimputer__strategy': ['median'],\n",
       " 'histgradientboostingregressor__learning_rate': [0.035, 0.04, 0.045],\n",
       " 'histgradientboostingregressor__max_iter': [100, 105, 110],\n",
       " 'histgradientboostingregressor__max_depth': [2, 3]}"
      ]
     },
     "execution_count": 88,
     "metadata": {},
     "output_type": "execute_result"
    }
   ],
   "source": [
    "#Define grid search parameters\n",
    "\n",
    "learning_rate = [.045]\n",
    "max_iterations = [110]\n",
    "max_depth = [2]\n",
    "\n",
    "grid_params = {\n",
    "        'standardscaler': [None],\n",
    "        'simpleimputer__strategy': ['median'],\n",
    "        'histgradientboostingregressor__learning_rate': learning_rate,\n",
    "        'histgradientboostingregressor__max_iter': max_iterations,\n",
    "        'histgradientboostingregressor__max_depth': max_depth\n",
    "}\n",
    "grid_params"
   ]
  },
  {
   "cell_type": "code",
   "execution_count": 89,
   "id": "dad98a5a",
   "metadata": {},
   "outputs": [],
   "source": [
    "#First Pass\n",
    "# {'standardscaler': [None],\n",
    "#  'simpleimputer__strategy': ['mean', 'median'], median\n",
    "#  'histgradientboostingregressor__learning_rate': [0.03, 0.04, 0.05], .04\n",
    "#  'histgradientboostingregressor__max_iter': [110, 120, 130], 110\n",
    "#  'histgradientboostingregressor__max_depth': [3, 4, 5]} 3\n",
    "\n",
    "#Second Part\n",
    "# {'standardscaler': [None],\n",
    "#  'simpleimputer__strategy': ['median'],\n",
    "#  'histgradientboostingregressor__learning_rate': [0.035, 0.04, 0.045], .045\n",
    "#  'histgradientboostingregressor__max_iter': [100, 105, 110], 110\n",
    "#  'histgradientboostingregressor__max_depth': [2, 3]} 2"
   ]
  },
  {
   "cell_type": "code",
   "execution_count": 90,
   "id": "308e86e1",
   "metadata": {},
   "outputs": [],
   "source": [
    "#Call `GridSearchCV` with the hist gradient boosting pipeline, passing in the above `grid_params`\n",
    "#dict for parameters to evaluate, 5-fold cross-validation.\n",
    "hgb_grid_cv = GridSearchCV(HGB_pipe, param_grid=grid_params, cv=5)"
   ]
  },
  {
   "cell_type": "code",
   "execution_count": 91,
   "id": "403f1f8a",
   "metadata": {},
   "outputs": [
    {
     "data": {
      "text/plain": [
       "GridSearchCV(cv=5,\n",
       "             estimator=Pipeline(steps=[('simpleimputer', SimpleImputer()),\n",
       "                                       ('standardscaler', StandardScaler()),\n",
       "                                       ('histgradientboostingregressor',\n",
       "                                        HistGradientBoostingRegressor(random_state=47))]),\n",
       "             param_grid={'histgradientboostingregressor__learning_rate': [0.035,\n",
       "                                                                          0.04,\n",
       "                                                                          0.045],\n",
       "                         'histgradientboostingregressor__max_depth': [2, 3],\n",
       "                         'histgradientboostingregressor__max_iter': [100, 105,\n",
       "                                                                     110],\n",
       "                         'simpleimputer__strategy': ['median'],\n",
       "                         'standardscaler': [None]})"
      ]
     },
     "execution_count": 91,
     "metadata": {},
     "output_type": "execute_result"
    }
   ],
   "source": [
    "#`GridSearchCV`'s `fit()` method with `X_train` and `y_train` as arguments\n",
    "#to actually start the grid search. \n",
    "hgb_grid_cv.fit(X_train, y_train)"
   ]
  },
  {
   "cell_type": "code",
   "execution_count": 92,
   "id": "6b803963",
   "metadata": {},
   "outputs": [
    {
     "data": {
      "text/plain": [
       "{'histgradientboostingregressor__learning_rate': 0.045,\n",
       " 'histgradientboostingregressor__max_depth': 2,\n",
       " 'histgradientboostingregressor__max_iter': 110,\n",
       " 'simpleimputer__strategy': 'median',\n",
       " 'standardscaler': None}"
      ]
     },
     "execution_count": 92,
     "metadata": {},
     "output_type": "execute_result"
    }
   ],
   "source": [
    "#Best params (`best_params_` attribute) from the grid search    \n",
    "hgb_grid_cv.best_params_"
   ]
  },
  {
   "cell_type": "markdown",
   "id": "f36491bb",
   "metadata": {},
   "source": [
    "### Model Cross-Validation and Fit Metrics"
   ]
  },
  {
   "cell_type": "markdown",
   "id": "9d9a3232",
   "metadata": {},
   "source": [
    "#### R-Squared (Training Cross Validation, then Testing)"
   ]
  },
  {
   "cell_type": "code",
   "execution_count": 93,
   "id": "17b0bf21",
   "metadata": {},
   "outputs": [
    {
     "data": {
      "text/plain": [
       "array([0.75555299, 0.75780847, 0.73008661, 0.76508302, 0.77401467])"
      ]
     },
     "execution_count": 93,
     "metadata": {},
     "output_type": "execute_result"
    }
   ],
   "source": [
    "#Cross-validation defaults to R^2 metric for scoring regression\n",
    "hgb_best_cv_results = cross_validate(hgb_grid_cv.best_estimator_, X_train, y_train, cv=5)\n",
    "hgb_best_scores = hgb_best_cv_results['test_score']\n",
    "hgb_best_scores"
   ]
  },
  {
   "cell_type": "code",
   "execution_count": 94,
   "id": "e381f22b",
   "metadata": {},
   "outputs": [
    {
     "data": {
      "text/plain": [
       "(0.7565091526484151, 0.014701752025190121)"
      ]
     },
     "execution_count": 94,
     "metadata": {},
     "output_type": "execute_result"
    }
   ],
   "source": [
    "#Training set CV mean and std\n",
    "np.mean(hgb_best_scores), np.std(hgb_best_scores)"
   ]
  },
  {
   "cell_type": "markdown",
   "id": "12817a1d",
   "metadata": {},
   "source": [
    "#### Mean Absolute Error (MAE)"
   ]
  },
  {
   "cell_type": "code",
   "execution_count": 95,
   "id": "e105655e",
   "metadata": {},
   "outputs": [],
   "source": [
    "hgb_neg_mae = cross_validate(hgb_grid_cv.best_estimator_, X_train, y_train, \n",
    "                            scoring='neg_mean_absolute_error', cv=5, n_jobs=-1)"
   ]
  },
  {
   "cell_type": "code",
   "execution_count": 96,
   "id": "6c4a8394",
   "metadata": {},
   "outputs": [
    {
     "data": {
      "text/plain": [
       "(2.799733236750141, 0.14794750130022957)"
      ]
     },
     "execution_count": 96,
     "metadata": {},
     "output_type": "execute_result"
    }
   ],
   "source": [
    "#Training set CV mean and std\n",
    "hgb_mae_mean = np.mean(-1 * hgb_neg_mae['test_score'])\n",
    "hgb_mae_std = np.std(-1 * hgb_neg_mae['test_score'])\n",
    "hgb_mae_mean, hgb_mae_std"
   ]
  },
  {
   "cell_type": "code",
   "execution_count": 97,
   "id": "7ffb6dc0",
   "metadata": {},
   "outputs": [
    {
     "data": {
      "text/plain": [
       "2.6735577053174726"
      ]
     },
     "execution_count": 97,
     "metadata": {},
     "output_type": "execute_result"
    }
   ],
   "source": [
    "# Test set mean\n",
    "mean_absolute_error(y_test, hgb_grid_cv.best_estimator_.predict(X_test))"
   ]
  },
  {
   "cell_type": "markdown",
   "id": "3c4cd2eb",
   "metadata": {},
   "source": [
    "#### Mean Squared Error (MSE)"
   ]
  },
  {
   "cell_type": "code",
   "execution_count": 98,
   "id": "2a47bccc",
   "metadata": {},
   "outputs": [],
   "source": [
    "hgb_neg_mse = cross_validate(hgb_grid_cv.best_estimator_, X_train, y_train, \n",
    "                            scoring='neg_mean_squared_error', cv= 5)"
   ]
  },
  {
   "cell_type": "code",
   "execution_count": 99,
   "id": "981e2931",
   "metadata": {},
   "outputs": [
    {
     "data": {
      "text/plain": [
       "(16.72083460015802, 3.0625900062159643)"
      ]
     },
     "execution_count": 99,
     "metadata": {},
     "output_type": "execute_result"
    }
   ],
   "source": [
    "#Training set CV mean and std\n",
    "hgb_mse_mean = np.mean(-1 * hgb_neg_mse['test_score'])\n",
    "hgb_mse_std = np.std(-1 * hgb_neg_mse['test_score'])\n",
    "hgb_mse_mean, hgb_mse_std"
   ]
  },
  {
   "cell_type": "code",
   "execution_count": 100,
   "id": "55f54f02",
   "metadata": {},
   "outputs": [
    {
     "data": {
      "text/plain": [
       "13.77431782825843"
      ]
     },
     "execution_count": 100,
     "metadata": {},
     "output_type": "execute_result"
    }
   ],
   "source": [
    "# Test set mean\n",
    "mean_squared_error(y_test, hgb_grid_cv.best_estimator_.predict(X_test))"
   ]
  },
  {
   "cell_type": "markdown",
   "id": "d540d410",
   "metadata": {},
   "source": [
    "#### Root Mean Squred Error (RMSE)"
   ]
  },
  {
   "cell_type": "code",
   "execution_count": 101,
   "id": "44eb6c47",
   "metadata": {},
   "outputs": [],
   "source": [
    "hgb_neg_rmse = cross_validate(hgb_grid_cv.best_estimator_, X_train, y_train, \n",
    "                            scoring='neg_root_mean_squared_error', cv=5)"
   ]
  },
  {
   "cell_type": "code",
   "execution_count": 102,
   "id": "a1c88bf4",
   "metadata": {
    "scrolled": true
   },
   "outputs": [
    {
     "data": {
      "text/plain": [
       "(4.073533490784517, 0.3565943067618014)"
      ]
     },
     "execution_count": 102,
     "metadata": {},
     "output_type": "execute_result"
    }
   ],
   "source": [
    "#Training set CV mean and std\n",
    "hgb_rmse_mean = np.mean(-1 * hgb_neg_rmse['test_score'])\n",
    "hgb_rmse_std = np.std(-1 * hgb_neg_rmse['test_score'])\n",
    "hgb_rmse_mean, hgb_rmse_std"
   ]
  },
  {
   "cell_type": "code",
   "execution_count": 103,
   "id": "8269eb7e",
   "metadata": {},
   "outputs": [
    {
     "data": {
      "text/plain": [
       "3.7113768103304237"
      ]
     },
     "execution_count": 103,
     "metadata": {},
     "output_type": "execute_result"
    }
   ],
   "source": [
    "# Test set mean\n",
    "np.sqrt(mean_squared_error(y_test, hgb_grid_cv.best_estimator_.predict(X_test)))"
   ]
  },
  {
   "cell_type": "markdown",
   "id": "477135ee",
   "metadata": {},
   "source": [
    "Hist Gradient Boosting Regressor RMSE Train(STD)/Test for different explored hyperparameter values (summarized below each)\n",
    "\n",
    "(4.073533490784517, 0.3565943067618014), 3.7113768103304237\n",
    "\n",
    "{'histgradientboostingregressor__learning_rate': 0.035,\n",
    " 'histgradientboostingregressor__max_depth': 4,\n",
    " 'histgradientboostingregressor__max_iter': 125,\n",
    " 'simpleimputer__strategy': 'median',\n",
    " 'standardscaler': None}"
   ]
  },
  {
   "cell_type": "markdown",
   "id": "129971e3",
   "metadata": {},
   "source": [
    "## Save Best Model Object From Pipeline (Linear Model)"
   ]
  },
  {
   "cell_type": "markdown",
   "id": "5f9fd19a",
   "metadata": {},
   "source": [
    "The Linear Model turned out to be the best of the four models tested (based on cross-validation RMSE). Below, the best model is saved to be run on the full dataset in a final step ().  "
   ]
  },
  {
   "cell_type": "code",
   "execution_count": 659,
   "id": "14e1985a",
   "metadata": {},
   "outputs": [],
   "source": [
    "best_model = lr_grid_cv.best_estimator_\n",
    "best_model.version = '1.0'\n",
    "best_model.pandas_version = pd.__version__\n",
    "best_model.numpy_version = np.__version__\n",
    "best_model.sklearn_version = sklearn_version\n",
    "best_model.X_columns = [col for col in X_train.columns]\n",
    "best_model.build_datetime = datetime.datetime.now()"
   ]
  },
  {
   "cell_type": "code",
   "execution_count": 660,
   "id": "851c98c2",
   "metadata": {},
   "outputs": [
    {
     "name": "stdout",
     "output_type": "stream",
     "text": [
      "Writing file.  \"../models\\IS1_model.pkl\"\n"
     ]
    }
   ],
   "source": [
    "# save the model\n",
    "modelpath = '../models'\n",
    "save_file(best_model, 'IS1_model.pkl', modelpath)"
   ]
  },
  {
   "cell_type": "markdown",
   "id": "1a907384",
   "metadata": {},
   "source": [
    "## Conclusions\n"
   ]
  },
  {
   "cell_type": "code",
   "execution_count": null,
   "id": "deb48de1",
   "metadata": {},
   "outputs": [],
   "source": []
  }
 ],
 "metadata": {
  "kernelspec": {
   "display_name": "Python 3",
   "language": "python",
   "name": "python3"
  },
  "language_info": {
   "codemirror_mode": {
    "name": "ipython",
    "version": 3
   },
   "file_extension": ".py",
   "mimetype": "text/x-python",
   "name": "python",
   "nbconvert_exporter": "python",
   "pygments_lexer": "ipython3",
   "version": "3.8.8"
  }
 },
 "nbformat": 4,
 "nbformat_minor": 5
}
