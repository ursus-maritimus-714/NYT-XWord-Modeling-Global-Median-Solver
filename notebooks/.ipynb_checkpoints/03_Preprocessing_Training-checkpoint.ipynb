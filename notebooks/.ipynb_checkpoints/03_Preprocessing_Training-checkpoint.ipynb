{
 "cells": [
  {
   "cell_type": "markdown",
   "id": "1dcb9885",
   "metadata": {},
   "source": [
    "### Introduction to Preprocessing and Training Stage "
   ]
  },
  {
   "cell_type": "markdown",
   "id": "afbf4c49",
   "metadata": {},
   "source": []
  },
  {
   "cell_type": "markdown",
   "id": "a8fc727e",
   "metadata": {},
   "source": [
    "## Preprocessing and Training"
   ]
  },
  {
   "cell_type": "code",
   "execution_count": 1,
   "id": "e179e73d",
   "metadata": {},
   "outputs": [],
   "source": [
    "import pandas as pd\n",
    "import numpy as np\n",
    "import os\n",
    "import pickle\n",
    "import matplotlib.pyplot as plt\n",
    "import seaborn as sns\n",
    "from sklearn import __version__ as sklearn_version\n",
    "from sklearn.preprocessing import scale\n",
    "from sklearn.model_selection import train_test_split, cross_validate, GridSearchCV, learning_curve\n",
    "from sklearn.preprocessing import StandardScaler, MinMaxScaler\n",
    "from sklearn.dummy import DummyRegressor\n",
    "from sklearn.linear_model import LinearRegression\n",
    "from sklearn.metrics import r2_score, mean_squared_error, mean_absolute_error\n",
    "from sklearn.pipeline import make_pipeline\n",
    "from sklearn.impute import SimpleImputer\n",
    "from sklearn.feature_selection import SelectKBest, f_regression\n",
    "import datetime\n",
    "from library.sb_utils import save_file"
   ]
  },
  {
   "cell_type": "markdown",
   "id": "5e352c49",
   "metadata": {},
   "source": [
    "### Load Data"
   ]
  },
  {
   "cell_type": "code",
   "execution_count": 2,
   "id": "9cc5018d",
   "metadata": {},
   "outputs": [
    {
     "data": {
      "text/html": [
       "<div>\n",
       "<style scoped>\n",
       "    .dataframe tbody tr th:only-of-type {\n",
       "        vertical-align: middle;\n",
       "    }\n",
       "\n",
       "    .dataframe tbody tr th {\n",
       "        vertical-align: top;\n",
       "    }\n",
       "\n",
       "    .dataframe thead th {\n",
       "        text-align: right;\n",
       "    }\n",
       "</style>\n",
       "<table border=\"1\" class=\"dataframe\">\n",
       "  <thead>\n",
       "    <tr style=\"text-align: right;\">\n",
       "      <th></th>\n",
       "      <th>P_Date</th>\n",
       "      <th>P_Date_str</th>\n",
       "      <th>Comp_Date</th>\n",
       "      <th>Comp_Date_str</th>\n",
       "      <th>DOW</th>\n",
       "      <th>Comp_Hr</th>\n",
       "      <th>Solve_day_phase</th>\n",
       "      <th>IS_per_sdp_avg_past_diff_from_RPB</th>\n",
       "      <th>DOW_num</th>\n",
       "      <th>GMST(m)</th>\n",
       "      <th>...</th>\n",
       "      <th>Shade_Count</th>\n",
       "      <th>Unusual_Sym</th>\n",
       "      <th>Black_Square_Fill</th>\n",
       "      <th>Outside_Grid</th>\n",
       "      <th>Unchecked_Sq</th>\n",
       "      <th>Uniclue</th>\n",
       "      <th>Duplicate_Answers</th>\n",
       "      <th>Quantum</th>\n",
       "      <th>Wordplay</th>\n",
       "      <th>overall_day_mean_IST(m)</th>\n",
       "    </tr>\n",
       "  </thead>\n",
       "  <tbody>\n",
       "    <tr>\n",
       "      <th>0</th>\n",
       "      <td>2024-02-03 00:00:00</td>\n",
       "      <td>2024-02-03</td>\n",
       "      <td>2024-02-03 06:54:58</td>\n",
       "      <td>2024-02-03</td>\n",
       "      <td>Saturday</td>\n",
       "      <td>6</td>\n",
       "      <td>2.0</td>\n",
       "      <td>-3.95</td>\n",
       "      <td>7.0</td>\n",
       "      <td>22.583333</td>\n",
       "      <td>...</td>\n",
       "      <td>0</td>\n",
       "      <td>0</td>\n",
       "      <td>0</td>\n",
       "      <td>0</td>\n",
       "      <td>0</td>\n",
       "      <td>0</td>\n",
       "      <td>0</td>\n",
       "      <td>0</td>\n",
       "      <td>7.0</td>\n",
       "      <td>17.604438</td>\n",
       "    </tr>\n",
       "    <tr>\n",
       "      <th>1</th>\n",
       "      <td>2024-02-02 00:00:00</td>\n",
       "      <td>2024-02-02</td>\n",
       "      <td>2024-02-02 07:18:52</td>\n",
       "      <td>2024-02-02</td>\n",
       "      <td>Friday</td>\n",
       "      <td>7</td>\n",
       "      <td>2.0</td>\n",
       "      <td>-3.89</td>\n",
       "      <td>6.0</td>\n",
       "      <td>18.783333</td>\n",
       "      <td>...</td>\n",
       "      <td>0</td>\n",
       "      <td>0</td>\n",
       "      <td>0</td>\n",
       "      <td>0</td>\n",
       "      <td>0</td>\n",
       "      <td>0</td>\n",
       "      <td>0</td>\n",
       "      <td>0</td>\n",
       "      <td>6.0</td>\n",
       "      <td>13.981755</td>\n",
       "    </tr>\n",
       "    <tr>\n",
       "      <th>2</th>\n",
       "      <td>2024-02-01 00:00:00</td>\n",
       "      <td>2024-02-01</td>\n",
       "      <td>2024-02-01 07:31:03</td>\n",
       "      <td>2024-02-01</td>\n",
       "      <td>Thursday</td>\n",
       "      <td>7</td>\n",
       "      <td>2.0</td>\n",
       "      <td>-3.86</td>\n",
       "      <td>5.0</td>\n",
       "      <td>19.700000</td>\n",
       "      <td>...</td>\n",
       "      <td>0</td>\n",
       "      <td>0</td>\n",
       "      <td>0</td>\n",
       "      <td>0</td>\n",
       "      <td>0</td>\n",
       "      <td>0</td>\n",
       "      <td>0</td>\n",
       "      <td>0</td>\n",
       "      <td>5.0</td>\n",
       "      <td>13.750690</td>\n",
       "    </tr>\n",
       "    <tr>\n",
       "      <th>3</th>\n",
       "      <td>2024-01-31 00:00:00</td>\n",
       "      <td>2024-01-31</td>\n",
       "      <td>2024-01-31 07:40:02</td>\n",
       "      <td>2024-01-31</td>\n",
       "      <td>Wednesday</td>\n",
       "      <td>7</td>\n",
       "      <td>2.0</td>\n",
       "      <td>-3.84</td>\n",
       "      <td>4.0</td>\n",
       "      <td>10.783333</td>\n",
       "      <td>...</td>\n",
       "      <td>17</td>\n",
       "      <td>0</td>\n",
       "      <td>0</td>\n",
       "      <td>0</td>\n",
       "      <td>0</td>\n",
       "      <td>0</td>\n",
       "      <td>0</td>\n",
       "      <td>0</td>\n",
       "      <td>5.0</td>\n",
       "      <td>9.196746</td>\n",
       "    </tr>\n",
       "    <tr>\n",
       "      <th>4</th>\n",
       "      <td>2024-01-30 00:00:00</td>\n",
       "      <td>2024-01-30</td>\n",
       "      <td>2024-01-30 08:24:08</td>\n",
       "      <td>2024-01-30</td>\n",
       "      <td>Tuesday</td>\n",
       "      <td>8</td>\n",
       "      <td>2.0</td>\n",
       "      <td>-3.85</td>\n",
       "      <td>3.0</td>\n",
       "      <td>7.383333</td>\n",
       "      <td>...</td>\n",
       "      <td>0</td>\n",
       "      <td>0</td>\n",
       "      <td>0</td>\n",
       "      <td>0</td>\n",
       "      <td>0</td>\n",
       "      <td>0</td>\n",
       "      <td>0</td>\n",
       "      <td>0</td>\n",
       "      <td>2.0</td>\n",
       "      <td>7.130473</td>\n",
       "    </tr>\n",
       "  </tbody>\n",
       "</table>\n",
       "<p>5 rows × 54 columns</p>\n",
       "</div>"
      ],
      "text/plain": [
       "                P_Date  P_Date_str            Comp_Date Comp_Date_str  \\\n",
       "0  2024-02-03 00:00:00  2024-02-03  2024-02-03 06:54:58    2024-02-03   \n",
       "1  2024-02-02 00:00:00  2024-02-02  2024-02-02 07:18:52    2024-02-02   \n",
       "2  2024-02-01 00:00:00  2024-02-01  2024-02-01 07:31:03    2024-02-01   \n",
       "3  2024-01-31 00:00:00  2024-01-31  2024-01-31 07:40:02    2024-01-31   \n",
       "4  2024-01-30 00:00:00  2024-01-30  2024-01-30 08:24:08    2024-01-30   \n",
       "\n",
       "         DOW  Comp_Hr  Solve_day_phase  IS_per_sdp_avg_past_diff_from_RPB  \\\n",
       "0   Saturday        6              2.0                              -3.95   \n",
       "1     Friday        7              2.0                              -3.89   \n",
       "2   Thursday        7              2.0                              -3.86   \n",
       "3  Wednesday        7              2.0                              -3.84   \n",
       "4    Tuesday        8              2.0                              -3.85   \n",
       "\n",
       "   DOW_num    GMST(m)  ...  Shade_Count  Unusual_Sym  Black_Square_Fill  \\\n",
       "0      7.0  22.583333  ...            0            0                  0   \n",
       "1      6.0  18.783333  ...            0            0                  0   \n",
       "2      5.0  19.700000  ...            0            0                  0   \n",
       "3      4.0  10.783333  ...           17            0                  0   \n",
       "4      3.0   7.383333  ...            0            0                  0   \n",
       "\n",
       "   Outside_Grid  Unchecked_Sq  Uniclue  Duplicate_Answers  Quantum  Wordplay  \\\n",
       "0             0             0        0                  0        0       7.0   \n",
       "1             0             0        0                  0        0       6.0   \n",
       "2             0             0        0                  0        0       5.0   \n",
       "3             0             0        0                  0        0       5.0   \n",
       "4             0             0        0                  0        0       2.0   \n",
       "\n",
       "   overall_day_mean_IST(m)  \n",
       "0                17.604438  \n",
       "1                13.981755  \n",
       "2                13.750690  \n",
       "3                 9.196746  \n",
       "4                 7.130473  \n",
       "\n",
       "[5 rows x 54 columns]"
      ]
     },
     "execution_count": 2,
     "metadata": {},
     "output_type": "execute_result"
    }
   ],
   "source": [
    "df = pd.read_csv('../data/df_for_modeling.csv')\n",
    "df.head()"
   ]
  },
  {
   "cell_type": "code",
   "execution_count": 3,
   "id": "95327794",
   "metadata": {},
   "outputs": [
    {
     "name": "stdout",
     "output_type": "stream",
     "text": [
      "<class 'pandas.core.frame.DataFrame'>\n",
      "RangeIndex: 1013 entries, 0 to 1012\n",
      "Data columns (total 54 columns):\n",
      " #   Column                                Non-Null Count  Dtype  \n",
      "---  ------                                --------------  -----  \n",
      " 0   P_Date                                1013 non-null   object \n",
      " 1   P_Date_str                            1013 non-null   object \n",
      " 2   Comp_Date                             1013 non-null   object \n",
      " 3   Comp_Date_str                         1013 non-null   object \n",
      " 4   DOW                                   1013 non-null   object \n",
      " 5   Comp_Hr                               1013 non-null   int64  \n",
      " 6   Solve_day_phase                       1013 non-null   float64\n",
      " 7   IS_per_sdp_avg_past_diff_from_RPB     1003 non-null   float64\n",
      " 8   DOW_num                               1013 non-null   float64\n",
      " 9   GMST(m)                               1013 non-null   float64\n",
      " 10  IS1_ST(m)                             1013 non-null   float64\n",
      " 11  IS_pds_l10_dw                         1007 non-null   float64\n",
      " 12  IS_pds_l25_dw                         1007 non-null   float64\n",
      " 13  IS_pds_l10_ndw                        1007 non-null   float64\n",
      " 14  IS_pds_l25_ndw                        1007 non-null   float64\n",
      " 15  IS_pds_l10_stdev                      1001 non-null   float64\n",
      " 16  IS_pds_l25_stdev                      1001 non-null   float64\n",
      " 17  IST_Diff%_from_IS_pds_l10_dw          1007 non-null   float64\n",
      " 18  IS_per_constr_avg_past_diff_from_RPB  495 non-null    float64\n",
      " 19  IS_per_constr_past_diff_from_RPB_ct   1013 non-null   float64\n",
      " 20  IS1_pds_prior_solves_ct               1013 non-null   float64\n",
      " 21  IS1_npds_prior_solves_ct              1013 non-null   float64\n",
      " 22  num_solves_l7                         1013 non-null   float64\n",
      " 23  Constructors                          1013 non-null   object \n",
      " 24  Words                                 1013 non-null   int64  \n",
      " 25  Blocks                                1013 non-null   int64  \n",
      " 26  Unused_Letters                        1013 non-null   int64  \n",
      " 27  Stacks                                1013 non-null   int64  \n",
      " 28  Unique_Answers                        1013 non-null   int64  \n",
      " 29  Rebus_Count                           1013 non-null   int64  \n",
      " 30  Rebus_Unique                          1013 non-null   int64  \n",
      " 31  Cheater_Squares                       1013 non-null   int64  \n",
      " 32  AWL                                   1013 non-null   float64\n",
      " 33  Scrabble_Score                        958 non-null    float64\n",
      " 34  Scrabble_Avg                          1013 non-null   float64\n",
      " 35  FITB                                  1013 non-null   int64  \n",
      " 36  Cross_Ref_Clues                       1013 non-null   int64  \n",
      " 37  Scrabble_Illegal                      1013 non-null   int64  \n",
      " 38  Open_Squares                          1013 non-null   int64  \n",
      " 39  Freshness_Factor                      1013 non-null   float64\n",
      " 40  Overall_Freshness%                    1013 non-null   float64\n",
      " 41  Day_Freshness%                        1013 non-null   float64\n",
      " 42  Duplicate_Clues                       1013 non-null   int64  \n",
      " 43  Circle_Count                          1013 non-null   int64  \n",
      " 44  Shade_Count                           1013 non-null   int64  \n",
      " 45  Unusual_Sym                           1013 non-null   int64  \n",
      " 46  Black_Square_Fill                     1013 non-null   int64  \n",
      " 47  Outside_Grid                          1013 non-null   int64  \n",
      " 48  Unchecked_Sq                          1013 non-null   int64  \n",
      " 49  Uniclue                               1013 non-null   int64  \n",
      " 50  Duplicate_Answers                     1013 non-null   int64  \n",
      " 51  Quantum                               1013 non-null   int64  \n",
      " 52  Wordplay                              1013 non-null   float64\n",
      " 53  overall_day_mean_IST(m)               1013 non-null   float64\n",
      "dtypes: float64(25), int64(23), object(6)\n",
      "memory usage: 427.5+ KB\n"
     ]
    }
   ],
   "source": [
    "df.info()"
   ]
  },
  {
   "cell_type": "markdown",
   "id": "8fa480d1",
   "metadata": {},
   "source": [
    "### Filter Data"
   ]
  },
  {
   "cell_type": "code",
   "execution_count": 5,
   "id": "b8081934",
   "metadata": {},
   "outputs": [],
   "source": [
    "# Strip down to only the features we need to benchmark and the target feature\n",
    "df_filter = df[['IS1_ST(m)', 'overall_day_mean_IST(m)', 'GMST(m)']]"
   ]
  },
  {
   "cell_type": "code",
   "execution_count": 6,
   "id": "de0b65fd",
   "metadata": {},
   "outputs": [
    {
     "name": "stdout",
     "output_type": "stream",
     "text": [
      "<class 'pandas.core.frame.DataFrame'>\n",
      "RangeIndex: 1013 entries, 0 to 1012\n",
      "Data columns (total 3 columns):\n",
      " #   Column                   Non-Null Count  Dtype  \n",
      "---  ------                   --------------  -----  \n",
      " 0   IS1_ST(m)                1013 non-null   float64\n",
      " 1   overall_day_mean_IST(m)  1013 non-null   float64\n",
      " 2   GMST(m)                  1013 non-null   float64\n",
      "dtypes: float64(3)\n",
      "memory usage: 23.9 KB\n"
     ]
    }
   ],
   "source": [
    "df_filter.info()"
   ]
  },
  {
   "cell_type": "markdown",
   "id": "b6164441",
   "metadata": {},
   "source": [
    "Creating df variants with only the columns we will need to generate the benchmark models "
   ]
  },
  {
   "cell_type": "code",
   "execution_count": 7,
   "id": "a027a7e8",
   "metadata": {},
   "outputs": [],
   "source": [
    "df_model1 = df_filter[['IS1_ST(m)','GMST(m)']]"
   ]
  },
  {
   "cell_type": "code",
   "execution_count": 8,
   "id": "6310feff",
   "metadata": {},
   "outputs": [],
   "source": [
    "df_model2 = df_filter[['IS1_ST(m)','overall_day_mean_IST(m)']]"
   ]
  },
  {
   "cell_type": "code",
   "execution_count": 9,
   "id": "55f787a2",
   "metadata": {},
   "outputs": [
    {
     "name": "stdout",
     "output_type": "stream",
     "text": [
      "<class 'pandas.core.frame.DataFrame'>\n",
      "RangeIndex: 1013 entries, 0 to 1012\n",
      "Data columns (total 2 columns):\n",
      " #   Column     Non-Null Count  Dtype  \n",
      "---  ------     --------------  -----  \n",
      " 0   IS1_ST(m)  1013 non-null   float64\n",
      " 1   GMST(m)    1013 non-null   float64\n",
      "dtypes: float64(2)\n",
      "memory usage: 16.0 KB\n"
     ]
    }
   ],
   "source": [
    "df_model1.info()"
   ]
  },
  {
   "cell_type": "markdown",
   "id": "6f76d820",
   "metadata": {},
   "source": [
    "### Train Test Split"
   ]
  },
  {
   "cell_type": "code",
   "execution_count": 10,
   "id": "37dfcba4",
   "metadata": {},
   "outputs": [
    {
     "data": {
      "text/plain": [
       "(759.75, 253.25)"
      ]
     },
     "execution_count": 10,
     "metadata": {},
     "output_type": "execute_result"
    }
   ],
   "source": [
    "len(df_model1) * .75, len(df_model1) * .25"
   ]
  },
  {
   "cell_type": "code",
   "execution_count": 11,
   "id": "41207c43",
   "metadata": {},
   "outputs": [],
   "source": [
    "X_train, X_test, y_train, y_test = train_test_split(df_model1.drop(columns='IS1_ST(m)'), \n",
    "                                                    df_model1['IS1_ST(m)'], test_size=0.25, \n",
    "                                                    random_state=47)"
   ]
  },
  {
   "cell_type": "code",
   "execution_count": 12,
   "id": "9aadc9a5",
   "metadata": {},
   "outputs": [
    {
     "data": {
      "text/plain": [
       "((759,), (254,))"
      ]
     },
     "execution_count": 12,
     "metadata": {},
     "output_type": "execute_result"
    }
   ],
   "source": [
    "y_train.shape, y_test.shape"
   ]
  },
  {
   "cell_type": "code",
   "execution_count": 13,
   "id": "7b3da5c6",
   "metadata": {},
   "outputs": [
    {
     "data": {
      "text/plain": [
       "801     7.000000\n",
       "551    17.083333\n",
       "617     6.566667\n",
       "662     8.100000\n",
       "517     6.016667\n",
       "         ...    \n",
       "584    14.266667\n",
       "264    23.816667\n",
       "327    15.733333\n",
       "902    12.033333\n",
       "135     5.916667\n",
       "Name: IS1_ST(m), Length: 759, dtype: float64"
      ]
     },
     "execution_count": 13,
     "metadata": {},
     "output_type": "execute_result"
    }
   ],
   "source": [
    "y_train"
   ]
  },
  {
   "cell_type": "code",
   "execution_count": 14,
   "id": "3944cffa",
   "metadata": {},
   "outputs": [
    {
     "data": {
      "text/plain": [
       "((759, 1), (254, 1))"
      ]
     },
     "execution_count": 14,
     "metadata": {},
     "output_type": "execute_result"
    }
   ],
   "source": [
    "X_train.shape, X_test.shape"
   ]
  },
  {
   "cell_type": "markdown",
   "id": "2b9eb379",
   "metadata": {},
   "source": [
    "### Pre-Modeling: IS1 Mean Solve Time Across All 15x15 Puzzles as Predictor (aka \"Dummy Model\")"
   ]
  },
  {
   "cell_type": "code",
   "execution_count": 15,
   "id": "a9e3929c",
   "metadata": {},
   "outputs": [
    {
     "data": {
      "text/plain": [
       "11.202283706631539"
      ]
     },
     "execution_count": 15,
     "metadata": {},
     "output_type": "execute_result"
    }
   ],
   "source": [
    "#Target feature (IS1_ST(m)) training set mean\n",
    "train_mean = y_train.mean()\n",
    "train_mean"
   ]
  },
  {
   "cell_type": "code",
   "execution_count": 16,
   "id": "ef94f8da",
   "metadata": {},
   "outputs": [
    {
     "data": {
      "text/plain": [
       "array([[11.20228371]])"
      ]
     },
     "execution_count": 16,
     "metadata": {},
     "output_type": "execute_result"
    }
   ],
   "source": [
    "#Fitting dummy regressor to training data (from sklearn). Outputs the training set mean.\n",
    "dumb_reg = DummyRegressor(strategy='mean')\n",
    "dumb_reg.fit(X_train, y_train)\n",
    "dumb_reg.constant_"
   ]
  },
  {
   "cell_type": "code",
   "execution_count": 17,
   "id": "f20954f3",
   "metadata": {},
   "outputs": [
    {
     "data": {
      "text/plain": [
       "array([11.20228371, 11.20228371, 11.20228371, 11.20228371, 11.20228371])"
      ]
     },
     "execution_count": 17,
     "metadata": {},
     "output_type": "execute_result"
    }
   ],
   "source": [
    "y_tr_pred = dumb_reg.predict(X_train)\n",
    "y_tr_pred[:5]"
   ]
  },
  {
   "cell_type": "code",
   "execution_count": 18,
   "id": "682d3306",
   "metadata": {},
   "outputs": [],
   "source": [
    "y_te_pred = train_mean * np.ones(len(y_test))"
   ]
  },
  {
   "cell_type": "markdown",
   "id": "69f9a10a",
   "metadata": {},
   "source": [
    "#### R-Squared (COD)"
   ]
  },
  {
   "cell_type": "code",
   "execution_count": 19,
   "id": "a5db87e4",
   "metadata": {},
   "outputs": [
    {
     "data": {
      "text/plain": [
       "(0.0, -0.001957059344135148)"
      ]
     },
     "execution_count": 19,
     "metadata": {},
     "output_type": "execute_result"
    }
   ],
   "source": [
    "#Compute R-squared for target mean on training set (will be zero, since we are calculating mean on training set), and on test set (should be slightly different from zero)\n",
    "r2_score(y_train, y_tr_pred), r2_score(y_test, y_te_pred)"
   ]
  },
  {
   "cell_type": "markdown",
   "id": "68d65bdb",
   "metadata": {},
   "source": [
    "proportion of the variance for a dependent variable that's explained by our features. It's close to zero for the dummy model as expected."
   ]
  },
  {
   "cell_type": "markdown",
   "id": "13b2e460",
   "metadata": {},
   "source": [
    "#### Mean Absolute Error (MAE)"
   ]
  },
  {
   "cell_type": "code",
   "execution_count": 20,
   "id": "6eac49b9",
   "metadata": {},
   "outputs": [
    {
     "data": {
      "text/plain": [
       "(4.404640319677267, 4.601368183720119)"
      ]
     },
     "execution_count": 20,
     "metadata": {},
     "output_type": "execute_result"
    }
   ],
   "source": [
    "MAEs_dummy = mean_absolute_error(y_train, y_tr_pred), mean_absolute_error(y_test, y_te_pred)\n",
    "MAEs_dummy"
   ]
  },
  {
   "cell_type": "markdown",
   "id": "3d8d0a0c",
   "metadata": {},
   "source": [
    "#### Mean Squared Error (MSE)"
   ]
  },
  {
   "cell_type": "code",
   "execution_count": 21,
   "id": "ce641104",
   "metadata": {},
   "outputs": [
    {
     "data": {
      "text/plain": [
       "(33.00136354474842, 38.9434595002629)"
      ]
     },
     "execution_count": 21,
     "metadata": {},
     "output_type": "execute_result"
    }
   ],
   "source": [
    "#Calculate the Mean Squared Error (average of the square of the errors)\n",
    "MSEs_dummy = mean_squared_error(y_train, y_tr_pred), mean_squared_error(y_test, y_te_pred)\n",
    "MSEs_dummy"
   ]
  },
  {
   "cell_type": "markdown",
   "id": "6bf480c4",
   "metadata": {},
   "source": [
    "#### Root Mean Squared Error (RMSE)"
   ]
  },
  {
   "cell_type": "code",
   "execution_count": 22,
   "id": "9d96b979",
   "metadata": {},
   "outputs": [
    {
     "data": {
      "text/plain": [
       "(5.744681326648887, 6.240469493576817)"
      ]
     },
     "execution_count": 22,
     "metadata": {},
     "output_type": "execute_result"
    }
   ],
   "source": [
    "RMSEs_dummy = np.sqrt(mean_squared_error(y_train, y_tr_pred)), np.sqrt(mean_squared_error(y_test, y_te_pred))\n",
    "RMSEs_dummy"
   ]
  },
  {
   "cell_type": "markdown",
   "id": "39181527",
   "metadata": {},
   "source": [
    "On average, we might expect to be off by around 5.7 minutes on training set data and 6.2 minutes on test data if you guessed IS1's solve time on a given 15x15 puzzle based simply on an average of known values."
   ]
  },
  {
   "cell_type": "markdown",
   "id": "2d7bd21b",
   "metadata": {},
   "source": [
    "Now instead of just guessing with the training set mean across all puzzle days, let's use a few benchmarks that at least take into consideration the default difficulty of a given puzzle based on it's puzzle day."
   ]
  },
  {
   "cell_type": "markdown",
   "id": "a297aad7",
   "metadata": {},
   "source": [
    "### Benchmark Linear Model 1: Global Median Solver (GMS) Solve Time for a Given Puzzle as Sole Predictor"
   ]
  },
  {
   "cell_type": "code",
   "execution_count": 23,
   "id": "2dffb29e",
   "metadata": {},
   "outputs": [
    {
     "name": "stdout",
     "output_type": "stream",
     "text": [
      "<class 'pandas.core.frame.DataFrame'>\n",
      "Int64Index: 759 entries, 801 to 135\n",
      "Data columns (total 1 columns):\n",
      " #   Column   Non-Null Count  Dtype  \n",
      "---  ------   --------------  -----  \n",
      " 0   GMST(m)  759 non-null    float64\n",
      "dtypes: float64(1)\n",
      "memory usage: 11.9 KB\n"
     ]
    }
   ],
   "source": [
    "X_train.info()"
   ]
  },
  {
   "cell_type": "code",
   "execution_count": null,
   "id": "557cae51",
   "metadata": {},
   "outputs": [],
   "source": [
    "#Filter existing train-test split down to just the ranking columns (train)\n",
    "#X_train_ranking = X_train[[\"p_rank\", \"p_rank_pts\", \"p_log_rank\", \"p_opp_rank_diff\", \"p_opp_rank_pts_diff\", \"p_opp_log_rank_diff\"]]"
   ]
  },
  {
   "cell_type": "code",
   "execution_count": null,
   "id": "a15bf91a",
   "metadata": {},
   "outputs": [],
   "source": [
    "#Filter existing train-test split down to just the ranking columns (test)\n",
    "#X_test_ranking = X_test[[\"p_rank\", \"p_rank_pts\", \"p_log_rank\", \"p_opp_rank_diff\", \"p_opp_rank_pts_diff\", \"p_opp_log_rank_diff\"]]"
   ]
  },
  {
   "cell_type": "code",
   "execution_count": 24,
   "id": "3f05e589",
   "metadata": {},
   "outputs": [],
   "source": [
    "lr_pipe = make_pipeline(\n",
    "    SimpleImputer(strategy='median'), \n",
    "    StandardScaler(),\n",
    "    SelectKBest(f_regression),\n",
    "    LinearRegression()\n",
    ")"
   ]
  },
  {
   "cell_type": "code",
   "execution_count": 25,
   "id": "3b6274eb",
   "metadata": {},
   "outputs": [
    {
     "data": {
      "text/plain": [
       "dict_keys(['memory', 'steps', 'verbose', 'simpleimputer', 'standardscaler', 'selectkbest', 'linearregression', 'simpleimputer__add_indicator', 'simpleimputer__copy', 'simpleimputer__fill_value', 'simpleimputer__missing_values', 'simpleimputer__strategy', 'simpleimputer__verbose', 'standardscaler__copy', 'standardscaler__with_mean', 'standardscaler__with_std', 'selectkbest__k', 'selectkbest__score_func', 'linearregression__copy_X', 'linearregression__fit_intercept', 'linearregression__n_jobs', 'linearregression__normalize', 'linearregression__positive'])"
      ]
     },
     "execution_count": 25,
     "metadata": {},
     "output_type": "execute_result"
    }
   ],
   "source": [
    "#Dict of available parameters for linear regression pipe\n",
    "lr_pipe.get_params().keys()"
   ]
  },
  {
   "cell_type": "code",
   "execution_count": 26,
   "id": "8d45a3c7",
   "metadata": {},
   "outputs": [],
   "source": [
    "#Define search grid parameters\n",
    "k = [k+1 for k in range(len(X_train.columns))]\n",
    "\n",
    "grid_params = {\n",
    "    'standardscaler': [StandardScaler(), None],\n",
    "    'simpleimputer__strategy': ['mean', 'median'],\n",
    "    'selectkbest__k': k\n",
    "}"
   ]
  },
  {
   "cell_type": "code",
   "execution_count": 27,
   "id": "03fa5d78",
   "metadata": {},
   "outputs": [],
   "source": [
    "#Call `GridSearchCV` with linear regression pipeline, passing in the above `grid_params`\n",
    "#dict for parameters to evaluate with 5-fold cross-validation\n",
    "lr_grid_cv = GridSearchCV(lr_pipe, param_grid=grid_params, cv=5)"
   ]
  },
  {
   "cell_type": "code",
   "execution_count": 28,
   "id": "c1947d57",
   "metadata": {},
   "outputs": [
    {
     "data": {
      "text/plain": [
       "GridSearchCV(cv=5,\n",
       "             estimator=Pipeline(steps=[('simpleimputer',\n",
       "                                        SimpleImputer(strategy='median')),\n",
       "                                       ('standardscaler', StandardScaler()),\n",
       "                                       ('selectkbest',\n",
       "                                        SelectKBest(score_func=<function f_regression at 0x0000022EF7753310>)),\n",
       "                                       ('linearregression',\n",
       "                                        LinearRegression())]),\n",
       "             param_grid={'selectkbest__k': [1],\n",
       "                         'simpleimputer__strategy': ['mean', 'median'],\n",
       "                         'standardscaler': [StandardScaler(), None]})"
      ]
     },
     "execution_count": 28,
     "metadata": {},
     "output_type": "execute_result"
    }
   ],
   "source": [
    "#Conduct grid search for this ranking-restricted model. \n",
    "lr_grid_cv.fit(X_train, y_train)"
   ]
  },
  {
   "cell_type": "code",
   "execution_count": 29,
   "id": "a1106123",
   "metadata": {},
   "outputs": [
    {
     "data": {
      "text/plain": [
       "{'selectkbest__k': 1,\n",
       " 'simpleimputer__strategy': 'mean',\n",
       " 'standardscaler': StandardScaler()}"
      ]
     },
     "execution_count": 29,
     "metadata": {},
     "output_type": "execute_result"
    }
   ],
   "source": [
    "#Best params from grid search for this ranking-restricted model\n",
    "lr_grid_cv.best_params_"
   ]
  },
  {
   "cell_type": "markdown",
   "id": "eaaa954d",
   "metadata": {},
   "source": [
    "#### K Best Features Visualization"
   ]
  },
  {
   "cell_type": "code",
   "execution_count": 30,
   "id": "cb3d0008",
   "metadata": {},
   "outputs": [
    {
     "data": {
      "image/png": "[encoded data removed]",
      "text/plain": [
       "<Figure size 720x360 with 1 Axes>"
      ]
     },
     "metadata": {
      "needs_background": "light"
     },
     "output_type": "display_data"
    }
   ],
   "source": [
    "score_mean = lr_grid_cv.cv_results_['mean_test_score']\n",
    "score_std = lr_grid_cv.cv_results_['std_test_score']\n",
    "cv_k = [k for k in lr_grid_cv.cv_results_['param_selectkbest__k']]\n",
    "\n",
    "best_k = lr_grid_cv.best_params_['selectkbest__k']\n",
    "plt.subplots(figsize=(10, 5))\n",
    "plt.errorbar(cv_k, score_mean, yerr=score_std)\n",
    "plt.axvline(x=best_k, c='r', ls='--', alpha=.5)\n",
    "plt.xlabel('k')\n",
    "plt.ylabel('CV score (r-squared)')\n",
    "plt.title('Pipeline mean CV score (error bars +/- 1sd)');"
   ]
  },
  {
   "cell_type": "markdown",
   "id": "95754b7d",
   "metadata": {},
   "source": [
    "### Prediction Metrics from Benchmark Model 1"
   ]
  },
  {
   "cell_type": "markdown",
   "id": "7b934d9b",
   "metadata": {},
   "source": [
    "#### R-squared (COD)"
   ]
  },
  {
   "cell_type": "code",
   "execution_count": 31,
   "id": "9fe2be9c",
   "metadata": {},
   "outputs": [
    {
     "data": {
      "text/plain": [
       "array([0.67653822, 0.65455183, 0.76688652, 0.66989107, 0.66439486])"
      ]
     },
     "execution_count": 31,
     "metadata": {},
     "output_type": "execute_result"
    }
   ],
   "source": [
    "#Cross-validation defaults to R^2 metric for scoring regression\n",
    "lr_best_cv_results = cross_validate(lr_grid_cv.best_estimator_, X_train, y_train, cv=5)\n",
    "lr_best_scores = lr_best_cv_results['test_score']\n",
    "lr_best_scores"
   ]
  },
  {
   "cell_type": "code",
   "execution_count": 32,
   "id": "ff3d458a",
   "metadata": {},
   "outputs": [
    {
     "data": {
      "text/plain": [
       "(0.6864524992667459, 0.04085681713311697)"
      ]
     },
     "execution_count": 32,
     "metadata": {},
     "output_type": "execute_result"
    }
   ],
   "source": [
    "#Training set CV mean and std\n",
    "np.mean(lr_best_scores), np.std(lr_best_scores)"
   ]
  },
  {
   "cell_type": "markdown",
   "id": "eb63283c",
   "metadata": {},
   "source": [
    "#### Mean Absolute Error (MAE)"
   ]
  },
  {
   "cell_type": "code",
   "execution_count": 33,
   "id": "73d54fe8",
   "metadata": {},
   "outputs": [],
   "source": [
    "lr_neg_mae = cross_validate(lr_grid_cv.best_estimator_, X_train, y_train, \n",
    "                            scoring='neg_mean_absolute_error', cv=5, n_jobs=-1)"
   ]
  },
  {
   "cell_type": "code",
   "execution_count": 34,
   "id": "6ed58255",
   "metadata": {},
   "outputs": [
    {
     "data": {
      "text/plain": [
       "(2.1749388300062606, 0.19691857984104974)"
      ]
     },
     "execution_count": 34,
     "metadata": {},
     "output_type": "execute_result"
    }
   ],
   "source": [
    "# Training set MAE and STD \n",
    "lr_mae_mean = np.mean(-1 * lr_neg_mae['test_score'])\n",
    "lr_mae_std = np.std(-1 * lr_neg_mae['test_score'])\n",
    "MAE_LR_train = lr_mae_mean, lr_mae_std\n",
    "MAE_LR_train"
   ]
  },
  {
   "cell_type": "code",
   "execution_count": 35,
   "id": "3142ce5e",
   "metadata": {},
   "outputs": [
    {
     "data": {
      "text/plain": [
       "2.4817182013190076"
      ]
     },
     "execution_count": 35,
     "metadata": {},
     "output_type": "execute_result"
    }
   ],
   "source": [
    "# Test set mean\n",
    "MAE_LR_test = mean_absolute_error(y_test, lr_grid_cv.best_estimator_.predict(X_test))\n",
    "MAE_LR_test"
   ]
  },
  {
   "cell_type": "markdown",
   "id": "2bd96b16",
   "metadata": {},
   "source": [
    "#### Mean Squared Error (MSE)"
   ]
  },
  {
   "cell_type": "code",
   "execution_count": 36,
   "id": "d7bb4408",
   "metadata": {},
   "outputs": [],
   "source": [
    "lr_neg_mse = cross_validate(lr_grid_cv.best_estimator_, X_train, y_train, \n",
    "                            scoring='neg_mean_squared_error', cv=5)"
   ]
  },
  {
   "cell_type": "code",
   "execution_count": 37,
   "id": "590c02f0",
   "metadata": {},
   "outputs": [
    {
     "data": {
      "text/plain": [
       "(10.45137039622019, 2.7359331356305647)"
      ]
     },
     "execution_count": 37,
     "metadata": {},
     "output_type": "execute_result"
    }
   ],
   "source": [
    "#Training set CV mean and std\n",
    "lr_mse_mean = np.mean(-1 * lr_neg_mse['test_score'])\n",
    "lr_mse_std = np.std(-1 * lr_neg_mse['test_score'])\n",
    "MSE_LR_train = lr_mse_mean, lr_mse_std\n",
    "MSE_LR_train"
   ]
  },
  {
   "cell_type": "code",
   "execution_count": 38,
   "id": "ec4b5820",
   "metadata": {},
   "outputs": [
    {
     "data": {
      "text/plain": [
       "14.178264835830138"
      ]
     },
     "execution_count": 38,
     "metadata": {},
     "output_type": "execute_result"
    }
   ],
   "source": [
    "# Test set mean\n",
    "MSE_LR_test = mean_squared_error(y_test, lr_grid_cv.best_estimator_.predict(X_test))\n",
    "MSE_LR_test"
   ]
  },
  {
   "cell_type": "markdown",
   "id": "e903f84c",
   "metadata": {},
   "source": [
    "#### Root Mean Square Error (RMSE)"
   ]
  },
  {
   "cell_type": "code",
   "execution_count": 39,
   "id": "3400ccba",
   "metadata": {},
   "outputs": [],
   "source": [
    "lr_neg_rmse = cross_validate(lr_grid_cv.best_estimator_, X_train, y_train, \n",
    "                            scoring='neg_root_mean_squared_error', cv=5)"
   ]
  },
  {
   "cell_type": "code",
   "execution_count": 40,
   "id": "feef3271",
   "metadata": {},
   "outputs": [
    {
     "data": {
      "text/plain": [
       "(3.203105408201575, 0.43759129352628867)"
      ]
     },
     "execution_count": 40,
     "metadata": {},
     "output_type": "execute_result"
    }
   ],
   "source": [
    "#Training set CV mean and std\n",
    "lr_rmse_mean = np.mean(-1 * lr_neg_rmse['test_score'])\n",
    "lr_rmse_std = np.std(-1 * lr_neg_rmse['test_score'])\n",
    "RMSE_LR_train = lr_rmse_mean, lr_rmse_std\n",
    "RMSE_LR_train"
   ]
  },
  {
   "cell_type": "code",
   "execution_count": 41,
   "id": "ecd941f3",
   "metadata": {},
   "outputs": [
    {
     "data": {
      "text/plain": [
       "3.7654036750168154"
      ]
     },
     "execution_count": 41,
     "metadata": {},
     "output_type": "execute_result"
    }
   ],
   "source": [
    "# Test set mean\n",
    "RMSE_LR_test = np.sqrt(mean_squared_error(y_test, lr_grid_cv.best_estimator_.predict(X_test)))\n",
    "RMSE_LR_test"
   ]
  },
  {
   "cell_type": "markdown",
   "id": "74ab8c1c",
   "metadata": {},
   "source": [
    "### Best Linear Model Feature Importance"
   ]
  },
  {
   "cell_type": "code",
   "execution_count": 73,
   "id": "c45afdff",
   "metadata": {},
   "outputs": [
    {
     "data": {
      "image/png": "[encoded data removed]",
      "text/plain": [
       "<Figure size 720x360 with 1 Axes>"
      ]
     },
     "metadata": {
      "needs_background": "light"
     },
     "output_type": "display_data"
    }
   ],
   "source": [
    "#Plots a barplot of the linear regressor feature importances,\n",
    "#assigning the `feature_importances_` attribute of \n",
    "#`lv_grid_cv.best_estimator_.named_steps.linearregression` to the name `imps` to then\n",
    "#create a pandas Series object of the feature importances, with the index given by the\n",
    "#training data column names, sorting the values in descending order\n",
    "selected = lr_grid_cv.best_estimator_.named_steps.selectkbest.get_support()\n",
    "plt.subplots(figsize=(10, 5))\n",
    "imps = lr_grid_cv.best_estimator_.named_steps.linearregression.coef_\n",
    "lr_feat_imps = pd.Series(imps, index=X_train.columns[selected]).sort_values(ascending=False)\n",
    "lr_feat_imps.plot(kind='bar')\n",
    "plt.xlabel('features')\n",
    "plt.ylabel('importance')\n",
    "plt.title('Best linear regressor feature importances');"
   ]
  },
  {
   "cell_type": "markdown",
   "id": "8691d024",
   "metadata": {},
   "source": [
    "### Save Best Linear Model Object From Pipeline"
   ]
  },
  {
   "cell_type": "code",
   "execution_count": 43,
   "id": "4531d3e9",
   "metadata": {},
   "outputs": [
    {
     "name": "stdout",
     "output_type": "stream",
     "text": [
      "Directory ../models was created.\n",
      "Writing file.  \"../models\\GMST_linearmodel.pkl\"\n"
     ]
    }
   ],
   "source": [
    "# save the best linear model\n",
    "best_model = lr_grid_cv.best_estimator_\n",
    "best_model.version = '1.0'\n",
    "best_model.pandas_version = pd.__version__\n",
    "best_model.numpy_version = np.__version__\n",
    "best_model.sklearn_version = sklearn_version\n",
    "best_model.X_columns = [col for col in X_train.columns]\n",
    "best_model.build_datetime = datetime.datetime.now()\n",
    "\n",
    "modelpath = '../models'\n",
    "save_file(best_model, 'GMST_linearmodel.pkl', modelpath)"
   ]
  },
  {
   "cell_type": "markdown",
   "id": "6b4d7a4a",
   "metadata": {},
   "source": [
    "### Save Prediction Metrics from Dummy Model and Benchmark Model 1"
   ]
  },
  {
   "cell_type": "code",
   "execution_count": 44,
   "id": "add1b519",
   "metadata": {},
   "outputs": [],
   "source": [
    "# save other data for model comparisons in machine learning model stage\n",
    "comp_data_from4_GMST = (MAEs_dummy, MSEs_dummy, RMSEs_dummy, MAE_LR_train, MAE_LR_test, MSE_LR_train, MSE_LR_test, RMSE_LR_train, RMSE_LR_test)\n",
    "with open('../data/GMST.pickle', 'wb') as f:\n",
    "    pickle.dump(comp_data_from4_GMST, f)"
   ]
  },
  {
   "cell_type": "markdown",
   "id": "7d0717b2",
   "metadata": {},
   "source": [
    "### Benchmark Linear Model 2: IS1 Whole Sample Mean Solve Time for Same Puzzle Day as Individual Puzzle Solved as Sole Predictor"
   ]
  },
  {
   "cell_type": "markdown",
   "id": "b486b178",
   "metadata": {},
   "source": [
    "### Train Test Split"
   ]
  },
  {
   "cell_type": "code",
   "execution_count": 45,
   "id": "987f833f",
   "metadata": {},
   "outputs": [
    {
     "data": {
      "text/plain": [
       "(759.75, 253.25)"
      ]
     },
     "execution_count": 45,
     "metadata": {},
     "output_type": "execute_result"
    }
   ],
   "source": [
    "len(df_model2) * .75, len(df_model2) * .25"
   ]
  },
  {
   "cell_type": "code",
   "execution_count": 46,
   "id": "a670806a",
   "metadata": {},
   "outputs": [],
   "source": [
    "X_train, X_test, y_train, y_test = train_test_split(df_model2.drop(columns='IS1_ST(m)'), \n",
    "                                                    df_model2['IS1_ST(m)'], test_size=0.25, \n",
    "                                                    random_state=47)"
   ]
  },
  {
   "cell_type": "code",
   "execution_count": 47,
   "id": "d3c5be55",
   "metadata": {},
   "outputs": [
    {
     "data": {
      "text/plain": [
       "((759,), (254,))"
      ]
     },
     "execution_count": 47,
     "metadata": {},
     "output_type": "execute_result"
    }
   ],
   "source": [
    "y_train.shape, y_test.shape"
   ]
  },
  {
   "cell_type": "code",
   "execution_count": 48,
   "id": "6e24259c",
   "metadata": {},
   "outputs": [
    {
     "data": {
      "text/plain": [
       "801     7.000000\n",
       "551    17.083333\n",
       "617     6.566667\n",
       "662     8.100000\n",
       "517     6.016667\n",
       "         ...    \n",
       "584    14.266667\n",
       "264    23.816667\n",
       "327    15.733333\n",
       "902    12.033333\n",
       "135     5.916667\n",
       "Name: IS1_ST(m), Length: 759, dtype: float64"
      ]
     },
     "execution_count": 48,
     "metadata": {},
     "output_type": "execute_result"
    }
   ],
   "source": [
    "y_train"
   ]
  },
  {
   "cell_type": "code",
   "execution_count": 49,
   "id": "97008c67",
   "metadata": {},
   "outputs": [
    {
     "data": {
      "text/plain": [
       "((759, 1), (254, 1))"
      ]
     },
     "execution_count": 49,
     "metadata": {},
     "output_type": "execute_result"
    }
   ],
   "source": [
    "X_train.shape, X_test.shape"
   ]
  },
  {
   "cell_type": "code",
   "execution_count": 50,
   "id": "c28b3003",
   "metadata": {},
   "outputs": [
    {
     "name": "stdout",
     "output_type": "stream",
     "text": [
      "<class 'pandas.core.frame.DataFrame'>\n",
      "Int64Index: 759 entries, 801 to 135\n",
      "Data columns (total 1 columns):\n",
      " #   Column                   Non-Null Count  Dtype  \n",
      "---  ------                   --------------  -----  \n",
      " 0   overall_day_mean_IST(m)  759 non-null    float64\n",
      "dtypes: float64(1)\n",
      "memory usage: 11.9 KB\n"
     ]
    }
   ],
   "source": [
    "X_train.info()"
   ]
  },
  {
   "cell_type": "code",
   "execution_count": 51,
   "id": "f456258b",
   "metadata": {},
   "outputs": [],
   "source": [
    "lr_pipe = make_pipeline(\n",
    "    SimpleImputer(strategy='median'), \n",
    "    StandardScaler(),\n",
    "    SelectKBest(f_regression),\n",
    "    LinearRegression()\n",
    ")"
   ]
  },
  {
   "cell_type": "code",
   "execution_count": 52,
   "id": "8ba73615",
   "metadata": {},
   "outputs": [
    {
     "data": {
      "text/plain": [
       "dict_keys(['memory', 'steps', 'verbose', 'simpleimputer', 'standardscaler', 'selectkbest', 'linearregression', 'simpleimputer__add_indicator', 'simpleimputer__copy', 'simpleimputer__fill_value', 'simpleimputer__missing_values', 'simpleimputer__strategy', 'simpleimputer__verbose', 'standardscaler__copy', 'standardscaler__with_mean', 'standardscaler__with_std', 'selectkbest__k', 'selectkbest__score_func', 'linearregression__copy_X', 'linearregression__fit_intercept', 'linearregression__n_jobs', 'linearregression__normalize', 'linearregression__positive'])"
      ]
     },
     "execution_count": 52,
     "metadata": {},
     "output_type": "execute_result"
    }
   ],
   "source": [
    "#Dict of available parameters for linear regression pipe\n",
    "lr_pipe.get_params().keys()"
   ]
  },
  {
   "cell_type": "code",
   "execution_count": 53,
   "id": "8a5e652b",
   "metadata": {},
   "outputs": [],
   "source": [
    "#Define search grid parameters\n",
    "k = [k+1 for k in range(len(X_train.columns))]\n",
    "\n",
    "grid_params = {\n",
    "    'standardscaler': [StandardScaler(), None],\n",
    "    'simpleimputer__strategy': ['mean', 'median'],\n",
    "    'selectkbest__k': k\n",
    "}"
   ]
  },
  {
   "cell_type": "code",
   "execution_count": 54,
   "id": "cab4c3bb",
   "metadata": {},
   "outputs": [],
   "source": [
    "#Call `GridSearchCV` with linear regression pipeline, passing in the above `grid_params`\n",
    "#dict for parameters to evaluate with 5-fold cross-validation\n",
    "lr_grid_cv = GridSearchCV(lr_pipe, param_grid=grid_params, cv=5)"
   ]
  },
  {
   "cell_type": "code",
   "execution_count": 55,
   "id": "194654e8",
   "metadata": {},
   "outputs": [
    {
     "data": {
      "text/plain": [
       "GridSearchCV(cv=5,\n",
       "             estimator=Pipeline(steps=[('simpleimputer',\n",
       "                                        SimpleImputer(strategy='median')),\n",
       "                                       ('standardscaler', StandardScaler()),\n",
       "                                       ('selectkbest',\n",
       "                                        SelectKBest(score_func=<function f_regression at 0x0000022EF7753310>)),\n",
       "                                       ('linearregression',\n",
       "                                        LinearRegression())]),\n",
       "             param_grid={'selectkbest__k': [1],\n",
       "                         'simpleimputer__strategy': ['mean', 'median'],\n",
       "                         'standardscaler': [StandardScaler(), None]})"
      ]
     },
     "execution_count": 55,
     "metadata": {},
     "output_type": "execute_result"
    }
   ],
   "source": [
    "#Conduct grid search for this IWP-restricted model. \n",
    "lr_grid_cv.fit(X_train, y_train)"
   ]
  },
  {
   "cell_type": "code",
   "execution_count": 56,
   "id": "ee9b8a23",
   "metadata": {},
   "outputs": [
    {
     "data": {
      "text/plain": [
       "{'selectkbest__k': 1,\n",
       " 'simpleimputer__strategy': 'mean',\n",
       " 'standardscaler': StandardScaler()}"
      ]
     },
     "execution_count": 56,
     "metadata": {},
     "output_type": "execute_result"
    }
   ],
   "source": [
    "#Best params from grid search for this IWP-restricted model\n",
    "lr_grid_cv.best_params_"
   ]
  },
  {
   "cell_type": "code",
   "execution_count": 57,
   "id": "5da7ca42",
   "metadata": {},
   "outputs": [
    {
     "data": {
      "image/png": "[encoded data removed]",
      "text/plain": [
       "<Figure size 720x360 with 1 Axes>"
      ]
     },
     "metadata": {
      "needs_background": "light"
     },
     "output_type": "display_data"
    }
   ],
   "source": [
    "score_mean = lr_grid_cv.cv_results_['mean_test_score']\n",
    "score_std = lr_grid_cv.cv_results_['std_test_score']\n",
    "cv_k = [k for k in lr_grid_cv.cv_results_['param_selectkbest__k']]\n",
    "\n",
    "best_k = lr_grid_cv.best_params_['selectkbest__k']\n",
    "plt.subplots(figsize=(10, 5))\n",
    "plt.errorbar(cv_k, score_mean, yerr=score_std)\n",
    "plt.axvline(x=best_k, c='r', ls='--', alpha=.5)\n",
    "plt.xlabel('k')\n",
    "plt.ylabel('CV score (r-squared)')\n",
    "plt.title('Pipeline mean CV score (error bars +/- 1sd)');"
   ]
  },
  {
   "cell_type": "markdown",
   "id": "626ea936",
   "metadata": {},
   "source": [
    "### Benchmark Model 2 Metrics"
   ]
  },
  {
   "cell_type": "markdown",
   "id": "d56db5c0",
   "metadata": {},
   "source": [
    "#### R-squared (COD)"
   ]
  },
  {
   "cell_type": "code",
   "execution_count": 58,
   "id": "66607aa8",
   "metadata": {},
   "outputs": [
    {
     "data": {
      "text/plain": [
       "array([0.4923679 , 0.52852043, 0.64262663, 0.4156391 , 0.46979799])"
      ]
     },
     "execution_count": 58,
     "metadata": {},
     "output_type": "execute_result"
    }
   ],
   "source": [
    "#Cross-validation defaults to R^2 metric for scoring regression\n",
    "lr_best_cv_results = cross_validate(lr_grid_cv.best_estimator_, X_train, y_train, cv=5)\n",
    "lr_best_scores = lr_best_cv_results['test_score']\n",
    "lr_best_scores"
   ]
  },
  {
   "cell_type": "code",
   "execution_count": 59,
   "id": "d6db42d0",
   "metadata": {},
   "outputs": [
    {
     "data": {
      "text/plain": [
       "(0.5097904093671506, 0.07584679624950148)"
      ]
     },
     "execution_count": 59,
     "metadata": {},
     "output_type": "execute_result"
    }
   ],
   "source": [
    "#Training set CV mean and std\n",
    "np.mean(lr_best_scores), np.std(lr_best_scores)"
   ]
  },
  {
   "cell_type": "markdown",
   "id": "dd7b5fdf",
   "metadata": {},
   "source": [
    "#### Mean Absolute Error (MAE)"
   ]
  },
  {
   "cell_type": "code",
   "execution_count": 60,
   "id": "6a0d8f08",
   "metadata": {},
   "outputs": [],
   "source": [
    "lr_neg_mae = cross_validate(lr_grid_cv.best_estimator_, X_train, y_train, \n",
    "                            scoring='neg_mean_absolute_error', cv=5, n_jobs=-1)"
   ]
  },
  {
   "cell_type": "code",
   "execution_count": 61,
   "id": "ac04ce1a",
   "metadata": {},
   "outputs": [
    {
     "data": {
      "text/plain": [
       "(2.6458421297355565, 0.3270365788423555)"
      ]
     },
     "execution_count": 61,
     "metadata": {},
     "output_type": "execute_result"
    }
   ],
   "source": [
    "# Training set MAE and STD \n",
    "lr_mae_mean = np.mean(-1 * lr_neg_mae['test_score'])\n",
    "lr_mae_std = np.std(-1 * lr_neg_mae['test_score'])\n",
    "MAE_LR_train = lr_mae_mean, lr_mae_std\n",
    "MAE_LR_train"
   ]
  },
  {
   "cell_type": "code",
   "execution_count": 62,
   "id": "5cb1deb0",
   "metadata": {},
   "outputs": [
    {
     "data": {
      "text/plain": [
       "2.8990812899944847"
      ]
     },
     "execution_count": 62,
     "metadata": {},
     "output_type": "execute_result"
    }
   ],
   "source": [
    "# Test set mean\n",
    "MAE_LR_test = mean_absolute_error(y_test, lr_grid_cv.best_estimator_.predict(X_test))\n",
    "MAE_LR_test"
   ]
  },
  {
   "cell_type": "markdown",
   "id": "1b181670",
   "metadata": {},
   "source": [
    "#### Mean Squared Error (MSE)"
   ]
  },
  {
   "cell_type": "code",
   "execution_count": 63,
   "id": "25693c9d",
   "metadata": {},
   "outputs": [],
   "source": [
    "lr_neg_mse = cross_validate(lr_grid_cv.best_estimator_, X_train, y_train, \n",
    "                            scoring='neg_mean_squared_error', cv=5)"
   ]
  },
  {
   "cell_type": "code",
   "execution_count": 64,
   "id": "14f82c2a",
   "metadata": {},
   "outputs": [
    {
     "data": {
      "text/plain": [
       "(16.564569583717336, 5.478688335775211)"
      ]
     },
     "execution_count": 64,
     "metadata": {},
     "output_type": "execute_result"
    }
   ],
   "source": [
    "#Training set CV mean and std\n",
    "lr_mse_mean = np.mean(-1 * lr_neg_mse['test_score'])\n",
    "lr_mse_std = np.std(-1 * lr_neg_mse['test_score'])\n",
    "MSE_LR_train = lr_mse_mean, lr_mse_std\n",
    "MSE_LR_train"
   ]
  },
  {
   "cell_type": "code",
   "execution_count": 65,
   "id": "61a70806",
   "metadata": {},
   "outputs": [
    {
     "data": {
      "text/plain": [
       "19.50267668980982"
      ]
     },
     "execution_count": 65,
     "metadata": {},
     "output_type": "execute_result"
    }
   ],
   "source": [
    "# Test set mean\n",
    "MSE_LR_test = mean_squared_error(y_test, lr_grid_cv.best_estimator_.predict(X_test))\n",
    "MSE_LR_test"
   ]
  },
  {
   "cell_type": "markdown",
   "id": "9494de91",
   "metadata": {},
   "source": [
    "#### Root Mean Square Error (RMSE)"
   ]
  },
  {
   "cell_type": "code",
   "execution_count": 66,
   "id": "ee32b9c8",
   "metadata": {},
   "outputs": [],
   "source": [
    "lr_neg_rmse = cross_validate(lr_grid_cv.best_estimator_, X_train, y_train, \n",
    "                            scoring='neg_root_mean_squared_error', cv=5)"
   ]
  },
  {
   "cell_type": "code",
   "execution_count": 67,
   "id": "d1f8a103",
   "metadata": {},
   "outputs": [
    {
     "data": {
      "text/plain": [
       "(4.014637773395917, 0.6687698648563764)"
      ]
     },
     "execution_count": 67,
     "metadata": {},
     "output_type": "execute_result"
    }
   ],
   "source": [
    "#Training set CV mean and std\n",
    "lr_rmse_mean = np.mean(-1 * lr_neg_rmse['test_score'])\n",
    "lr_rmse_std = np.std(-1 * lr_neg_rmse['test_score'])\n",
    "RMSE_LR_train = lr_rmse_mean, lr_rmse_std\n",
    "RMSE_LR_train"
   ]
  },
  {
   "cell_type": "code",
   "execution_count": 68,
   "id": "b5e946fc",
   "metadata": {},
   "outputs": [
    {
     "data": {
      "text/plain": [
       "4.416183498204057"
      ]
     },
     "execution_count": 68,
     "metadata": {},
     "output_type": "execute_result"
    }
   ],
   "source": [
    "# Test set mean\n",
    "RMSE_LR_test = np.sqrt(mean_squared_error(y_test, lr_grid_cv.best_estimator_.predict(X_test)))\n",
    "RMSE_LR_test"
   ]
  },
  {
   "cell_type": "markdown",
   "id": "71ebba62",
   "metadata": {},
   "source": [
    "### Best Linear Model Feature Importance"
   ]
  },
  {
   "cell_type": "code",
   "execution_count": 72,
   "id": "2ca58e5b",
   "metadata": {},
   "outputs": [
    {
     "data": {
      "image/png": "[encoded data removed]",
      "text/plain": [
       "<Figure size 720x360 with 1 Axes>"
      ]
     },
     "metadata": {
      "needs_background": "light"
     },
     "output_type": "display_data"
    }
   ],
   "source": [
    "#Plots a barplot of the linear regressor feature importances,\n",
    "#assigning the `feature_importances_` attribute of \n",
    "#`lv_grid_cv.best_estimator_.named_steps.linearregression` to the name `imps` to then\n",
    "#create a pandas Series object of the feature importances, with the index given by the\n",
    "#training data column names, sorting the values in descending order\n",
    "selected = lr_grid_cv.best_estimator_.named_steps.selectkbest.get_support()\n",
    "plt.subplots(figsize=(10, 5))\n",
    "imps = lr_grid_cv.best_estimator_.named_steps.linearregression.coef_\n",
    "lr_feat_imps = pd.Series(imps, index=X_train.columns[selected]).sort_values(ascending=False)\n",
    "lr_feat_imps.plot(kind='bar')\n",
    "plt.xlabel('features')\n",
    "plt.ylabel('importance')\n",
    "plt.title('Best linear regressor feature importances');"
   ]
  },
  {
   "cell_type": "markdown",
   "id": "bd62b1f4",
   "metadata": {},
   "source": [
    "### Save Best Linear Model Object From Pipeline"
   ]
  },
  {
   "cell_type": "code",
   "execution_count": 70,
   "id": "50ff1c18",
   "metadata": {},
   "outputs": [
    {
     "name": "stdout",
     "output_type": "stream",
     "text": [
      "Writing file.  \"../models\\Overall_IS1_mean.pkl\"\n"
     ]
    }
   ],
   "source": [
    "# save the best linear model\n",
    "best_model = lr_grid_cv.best_estimator_\n",
    "best_model.version = '1.0'\n",
    "best_model.pandas_version = pd.__version__\n",
    "best_model.numpy_version = np.__version__\n",
    "best_model.sklearn_version = sklearn_version\n",
    "best_model.X_columns = [col for col in X_train.columns]\n",
    "best_model.build_datetime = datetime.datetime.now()\n",
    "\n",
    "modelpath = '../models'\n",
    "save_file(best_model, 'Overall_IS1_mean.pkl', modelpath)"
   ]
  },
  {
   "cell_type": "markdown",
   "id": "895beec2",
   "metadata": {},
   "source": [
    "### Save Prediction Metrics from Benchmark Model 2"
   ]
  },
  {
   "cell_type": "code",
   "execution_count": 71,
   "id": "14299194",
   "metadata": {},
   "outputs": [],
   "source": [
    "# save other data for model comparisons in machine learning model stage\n",
    "comp_data_from3_overall_IS1_mean = (MAE_LR_train, MAE_LR_test, MSE_LR_train, MSE_LR_test, RMSE_LR_train, RMSE_LR_test)\n",
    "with open('../data/IS1_mean.pickle', 'wb') as f:\n",
    "    pickle.dump(comp_data_from3_overall_IS1_mean, f)"
   ]
  },
  {
   "cell_type": "markdown",
   "id": "e8cd2562",
   "metadata": {},
   "source": [
    "### Conclusions\n",
    "\n",
    "Target feature predicted is IS1 raw solve time in minutes. Measure reported here is RMSE.\n",
    "\n",
    "* Dummy Model: 5.74 Train; 6.24 Test    \n",
    "* Linear Model Using Global Median Solver Time Per Puzzle as Only Predictive Feature: 3.2(.44) Train; 3.8 Test\n",
    "* Linear Model Using Aggregate Sample Per Puzzle Day IS1 Mean Solve Time as Only Predictive Feature: 4.0(.67) Train; 4.4 Test\n",
    "\n",
    "Both benchmarks outperform the dummy model, and the GMST for the specific puzzle we want to predict IS1 solve time for outperforms IS1 means across all puzzles for that puzzle day. "
   ]
  },
  {
   "cell_type": "code",
   "execution_count": null,
   "id": "42db6fa9",
   "metadata": {},
   "outputs": [],
   "source": []
  }
 ],
 "metadata": {
  "kernelspec": {
   "display_name": "Python 3",
   "language": "python",
   "name": "python3"
  },
  "language_info": {
   "codemirror_mode": {
    "name": "ipython",
    "version": 3
   },
   "file_extension": ".py",
   "mimetype": "text/x-python",
   "name": "python",
   "nbconvert_exporter": "python",
   "pygments_lexer": "ipython3",
   "version": "3.8.8"
  }
 },
 "nbformat": 4,
 "nbformat_minor": 5
}
