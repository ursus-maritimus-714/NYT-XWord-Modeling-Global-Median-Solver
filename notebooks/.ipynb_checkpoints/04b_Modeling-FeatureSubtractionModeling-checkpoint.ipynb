{
 "cells": [
  {
   "cell_type": "markdown",
   "id": "6aa24a63",
   "metadata": {},
   "source": [
    "## Predictive Modeling (GMS) -Feature Subtraction From Best Model\n",
    "\n",
    "### Summary of Previous Stage (see Notebook 3; Preprocessing_Training_CompletionRangeFiltered)\n",
    "\n",
    "Note that for this version, puzzles from the first solve period (2018) have been removed due to the volatility of times in that solve period, while the GMS presumably \"learned the ropes\" of digital solving. In this version, feature classes or adjustments are systematically removed and best Linear Regression Model is found for each variant.\n",
    "\n",
    " 75%/25% Train/Test split was used for each of these Feature Subtraction models, just like Full Model\n",
    "\n",
    "### High-Level Overview of 'Best Model' Modeling\n",
    "\n",
    "Four regression models were evaluated, across the entire sample of 15x15 puzzles solved by the GMS. First was simply a Linear Regression Model. The subsequent three models were decision tree models: Random Forest, Gradient Boosting Regressor and HistGradient Boosting Regressor. The latter is an ensemble machine learning algorithm that is very fast (relative to standard gradient boosting models), and performs well on heterogenous data sets. Boosting, generally, refers to a class of ensemble learning algorithms that add tree models to an ensemble sequentially. "
   ]
  },
  {
   "cell_type": "markdown",
   "id": "fa9b3b3a",
   "metadata": {},
   "source": [
    "### Imports"
   ]
  },
  {
   "cell_type": "code",
   "execution_count": 1,
   "id": "318c8037",
   "metadata": {},
   "outputs": [],
   "source": [
    "import pandas as pd\n",
    "import numpy as np\n",
    "import os\n",
    "import pickle\n",
    "import matplotlib.pyplot as plt\n",
    "import seaborn as sns\n",
    "from sklearn import __version__ as sklearn_version\n",
    "#from sklearn.decomposition import PCA\n",
    "from sklearn.preprocessing import scale\n",
    "from sklearn.model_selection import train_test_split, cross_validate, GridSearchCV, learning_curve\n",
    "from sklearn.preprocessing import StandardScaler, MinMaxScaler\n",
    "from sklearn.dummy import DummyRegressor\n",
    "from sklearn.linear_model import LinearRegression\n",
    "from sklearn.ensemble import RandomForestRegressor\n",
    "from sklearn.ensemble import GradientBoostingRegressor\n",
    "from sklearn.experimental import enable_hist_gradient_boosting\n",
    "from sklearn.ensemble import HistGradientBoostingRegressor\n",
    "from sklearn.metrics import r2_score, mean_squared_error, mean_absolute_error\n",
    "from sklearn.pipeline import make_pipeline\n",
    "from sklearn.impute import SimpleImputer\n",
    "from sklearn.feature_selection import SelectKBest, f_regression\n",
    "import datetime\n",
    "from library.sb_utils import save_file"
   ]
  },
  {
   "cell_type": "markdown",
   "id": "8133d431",
   "metadata": {},
   "source": [
    "### Load and Filter Data"
   ]
  },
  {
   "cell_type": "markdown",
   "id": "847d7aaa",
   "metadata": {},
   "source": [
    "Filtering parameters identical to in dummy/simple modeling stage. "
   ]
  },
  {
   "cell_type": "code",
   "execution_count": 197,
   "id": "af618860",
   "metadata": {},
   "outputs": [],
   "source": [
    "# Ths is the file and analysis data range used for the main clay court analysis\n",
    "#Note that 2018 was already filtered out prior to the data import here, though it was kept in to accrue retrospective stats on solver and constructor performance for puzzles 2019 and later\n",
    "df = pd.read_csv('../data/df_for_modeling.csv')\n",
    "#df = pd.read_csv('../data/df_for_modeling_no_decay_weighting.csv') # for variant with decay weighting removed from all relevant features\n",
    "#df.head()"
   ]
  },
  {
   "cell_type": "code",
   "execution_count": 198,
   "id": "e4201210",
   "metadata": {},
   "outputs": [
    {
     "name": "stdout",
     "output_type": "stream",
     "text": [
      "<class 'pandas.core.frame.DataFrame'>\n",
      "RangeIndex: 1867 entries, 0 to 1866\n",
      "Data columns (total 48 columns):\n",
      " #   Column                                 Non-Null Count  Dtype  \n",
      "---  ------                                 --------------  -----  \n",
      " 0   P_Date                                 1867 non-null   object \n",
      " 1   P_Date_str                             1867 non-null   object \n",
      " 2   GMS_Completed                          1867 non-null   int64  \n",
      " 3   DOW                                    1867 non-null   object \n",
      " 4   DOW_num                                1867 non-null   float64\n",
      " 5   GMST(m)                                1867 non-null   float64\n",
      " 6   GMS_pds_l10_dw                         1867 non-null   float64\n",
      " 7   GMS_pds_l25_dw                         1867 non-null   float64\n",
      " 8   GMS_pds_l40_dw                         1867 non-null   float64\n",
      " 9   GMS_pds_l10_stdev                      1867 non-null   float64\n",
      " 10  GMS_pds_l25_stdev                      1867 non-null   float64\n",
      " 11  GMS_pds_l40_stdev                      1867 non-null   float64\n",
      " 12  GMST_Diff%_from_GMS_pds_l40_dw         1867 non-null   float64\n",
      " 13  GMS_per_constr_avg_past_diff_from_RPB  1292 non-null   float64\n",
      " 14  GMS_per_constr_past_diff_from_RPB_ct   1867 non-null   float64\n",
      " 15  GMS_pds_prior_solves_ct                1867 non-null   float64\n",
      " 16  GMS_npds_prior_solves_ct               1867 non-null   float64\n",
      " 17  Constructors                           1867 non-null   object \n",
      " 18  Words                                  1867 non-null   int64  \n",
      " 19  Blocks                                 1867 non-null   int64  \n",
      " 20  Unused_Letters                         1867 non-null   int64  \n",
      " 21  Stacks                                 1867 non-null   int64  \n",
      " 22  Unique_Answers                         1867 non-null   int64  \n",
      " 23  Rebus_Count                            1867 non-null   int64  \n",
      " 24  Rebus_Unique                           1867 non-null   int64  \n",
      " 25  Cheater_Squares                        1867 non-null   int64  \n",
      " 26  AWL                                    1867 non-null   float64\n",
      " 27  Scrabble_Score                         1755 non-null   float64\n",
      " 28  Scrabble_Avg                           1867 non-null   float64\n",
      " 29  FITB                                   1867 non-null   int64  \n",
      " 30  Cross_Ref_Clues                        1867 non-null   int64  \n",
      " 31  Scrabble_Illegal                       1867 non-null   int64  \n",
      " 32  Open_Squares                           1867 non-null   int64  \n",
      " 33  Freshness_Factor                       1867 non-null   float64\n",
      " 34  Overall_Freshness%                     1867 non-null   float64\n",
      " 35  Day_Freshness%                         1867 non-null   float64\n",
      " 36  Duplicate_Clues                        1867 non-null   int64  \n",
      " 37  Circle_Count                           1867 non-null   int64  \n",
      " 38  Shade_Count                            1867 non-null   int64  \n",
      " 39  Unusual_Sym                            1867 non-null   int64  \n",
      " 40  Black_Square_Fill                      1867 non-null   int64  \n",
      " 41  Outside_Grid                           1867 non-null   int64  \n",
      " 42  Unchecked_Sq                           1867 non-null   int64  \n",
      " 43  Uniclue                                1867 non-null   int64  \n",
      " 44  Duplicate_Answers                      1867 non-null   int64  \n",
      " 45  Quantum                                1867 non-null   int64  \n",
      " 46  Wordplay                               1622 non-null   float64\n",
      " 47  overall_day_mean_GMST(m)               1867 non-null   float64\n",
      "dtypes: float64(21), int64(23), object(4)\n",
      "memory usage: 700.2+ KB\n"
     ]
    }
   ],
   "source": [
    "df.info()"
   ]
  },
  {
   "cell_type": "code",
   "execution_count": 1480,
   "id": "dd72df3e",
   "metadata": {},
   "outputs": [],
   "source": [
    "# Drop some columns that we don't want/need for modeling\n",
    "df_filter = df.copy()\n",
    "df_filter.drop(['P_Date','P_Date_str', 'GMS_Completed', 'DOW', 'GMST_Diff%_from_GMS_pds_l40_dw','GMS_per_constr_past_diff_from_RPB_ct','Constructors','overall_day_mean_GMST(m)','Uniclue','Duplicate_Answers','Unchecked_Sq','Quantum'],inplace=True,axis=1)"
   ]
  },
  {
   "cell_type": "code",
   "execution_count": 1481,
   "id": "c7226cda",
   "metadata": {},
   "outputs": [],
   "source": [
    "# Also now drop short and intermediate-term GMS past performance features (see main modeling notebook for comparison of RMSEs per variant)\n",
    "#Imperative for final model performance\n",
    "df_filter.drop(['GMS_pds_l10_dw','GMS_pds_l25_dw','GMS_pds_l10_stdev','GMS_pds_l25_stdev'],inplace=True,axis=1) #linear RMSE: (3.953721267825486, 0.231741035464759) "
   ]
  },
  {
   "cell_type": "code",
   "execution_count": 1482,
   "id": "2249b701",
   "metadata": {},
   "outputs": [],
   "source": [
    "#Move target feature to the front\n",
    "col = df_filter.pop('GMST(m)')\n",
    "df_filter.insert(0, col.name, col)"
   ]
  },
  {
   "cell_type": "code",
   "execution_count": 1483,
   "id": "d9436666",
   "metadata": {},
   "outputs": [
    {
     "name": "stdout",
     "output_type": "stream",
     "text": [
      "<class 'pandas.core.frame.DataFrame'>\n",
      "RangeIndex: 1867 entries, 0 to 1866\n",
      "Data columns (total 32 columns):\n",
      " #   Column                                 Non-Null Count  Dtype  \n",
      "---  ------                                 --------------  -----  \n",
      " 0   GMST(m)                                1867 non-null   float64\n",
      " 1   DOW_num                                1867 non-null   float64\n",
      " 2   GMS_pds_l40_dw                         1867 non-null   float64\n",
      " 3   GMS_pds_l40_stdev                      1867 non-null   float64\n",
      " 4   GMS_per_constr_avg_past_diff_from_RPB  1292 non-null   float64\n",
      " 5   GMS_pds_prior_solves_ct                1867 non-null   float64\n",
      " 6   GMS_npds_prior_solves_ct               1867 non-null   float64\n",
      " 7   Words                                  1867 non-null   int64  \n",
      " 8   Blocks                                 1867 non-null   int64  \n",
      " 9   Unused_Letters                         1867 non-null   int64  \n",
      " 10  Stacks                                 1867 non-null   int64  \n",
      " 11  Unique_Answers                         1867 non-null   int64  \n",
      " 12  Rebus_Count                            1867 non-null   int64  \n",
      " 13  Rebus_Unique                           1867 non-null   int64  \n",
      " 14  Cheater_Squares                        1867 non-null   int64  \n",
      " 15  AWL                                    1867 non-null   float64\n",
      " 16  Scrabble_Score                         1755 non-null   float64\n",
      " 17  Scrabble_Avg                           1867 non-null   float64\n",
      " 18  FITB                                   1867 non-null   int64  \n",
      " 19  Cross_Ref_Clues                        1867 non-null   int64  \n",
      " 20  Scrabble_Illegal                       1867 non-null   int64  \n",
      " 21  Open_Squares                           1867 non-null   int64  \n",
      " 22  Freshness_Factor                       1867 non-null   float64\n",
      " 23  Overall_Freshness%                     1867 non-null   float64\n",
      " 24  Day_Freshness%                         1867 non-null   float64\n",
      " 25  Duplicate_Clues                        1867 non-null   int64  \n",
      " 26  Circle_Count                           1867 non-null   int64  \n",
      " 27  Shade_Count                            1867 non-null   int64  \n",
      " 28  Unusual_Sym                            1867 non-null   int64  \n",
      " 29  Black_Square_Fill                      1867 non-null   int64  \n",
      " 30  Outside_Grid                           1867 non-null   int64  \n",
      " 31  Wordplay                               1622 non-null   float64\n",
      "dtypes: float64(14), int64(18)\n",
      "memory usage: 466.9 KB\n"
     ]
    }
   ],
   "source": [
    "df_filter.info()"
   ]
  },
  {
   "cell_type": "code",
   "execution_count": 1484,
   "id": "fee6e52a",
   "metadata": {},
   "outputs": [],
   "source": [
    "#Filter out Sunday\n",
    "df_filter =df_filter[df_filter[\"DOW_num\"]!=1]"
   ]
  },
  {
   "cell_type": "code",
   "execution_count": 1485,
   "id": "f0628d9d",
   "metadata": {},
   "outputs": [],
   "source": [
    "#df_filter.drop(['DOW_num'],inplace=True,axis=1)"
   ]
  },
  {
   "cell_type": "code",
   "execution_count": 1486,
   "id": "d6178501",
   "metadata": {},
   "outputs": [],
   "source": [
    "# Drop feature or set of features for the particular subtraction model\n",
    "\n",
    "#df_filter.drop(['DOW_num'],inplace=True,axis=1) #no DOW\n",
    "#df_filter.drop(['GMS_pds_l40_dw','GMS_pds_l40_stdev','GMS_per_constr_avg_past_diff_from_RPB', 'GMS_pds_prior_solves_ct', 'GMS_npds_prior_solves_ct'],inplace=True,axis=1) #no past performance\n",
    "#df_filter.drop(['GMS_per_constr_avg_past_diff_from_RPB'],inplace=True,axis=1) #no constructor past performance \n",
    "#df_filter.drop(['Words','AWL','Blocks','Cheater_Squares','Circle_Count','Open_Squares','Shade_Count','Stacks','Unusual_Sym'],inplace=True,axis=1) #no grid features\n",
    "#df_filter.drop(['Cross_Ref_Clues','Duplicate_Clues','Wordplay'],inplace=True,axis=1) #no clue features\n",
    "#df_filter.drop(['Black_Square_Fill','Day_Freshness%','FITB','Freshness_Factor','Outside_Grid','Overall_Freshness%','Rebus_Unique','Rebus_Count','Scrabble_Avg','Scrabble_Illegal','Scrabble_Score','Unique_Answers','Unused_Letters'],inplace=True,axis=1) #no answer features"
   ]
  },
  {
   "cell_type": "code",
   "execution_count": 1487,
   "id": "09d93da8",
   "metadata": {},
   "outputs": [],
   "source": [
    "# Drop Past Performance feature or set of features for the particular subtraction model\n",
    "\n",
    "#df_filter.drop(['GMS_pds_l40_dw','GMS_pds_l40_stdev','GMS_per_constr_avg_past_diff_from_RPB', 'GMS_pds_prior_solves_ct', 'GMS_npds_prior_solves_ct'],inplace=True,axis=1) #no past performance\n",
    "#df_filter.drop(['GMS_pds_l40_dw'],inplace=True,axis=1) \n",
    "#df_filter.drop(['GMS_pds_l40_stdev'],inplace=True,axis=1)\n",
    "#df_filter.drop(['GMS_pds_l40_dw', 'GMS_per_constr_avg_past_diff_from_RPB'],inplace=True,axis=1) \n",
    "#df_filter.drop(['GMS_pds_l40_dw', 'GMS_per_constr_avg_past_diff_from_RPB', 'GMS_pds_l40_stdev'],inplace=True,axis=1) \n",
    "#df_filter.drop(['GMS_per_constr_avg_past_diff_from_RPB'],inplace=True,axis=1) #no constructor past performance \n",
    "#df_filter.drop(['GMS_pds_prior_solves_ct', 'GMS_npds_prior_solves_ct'],inplace=True,axis=1) #no past performance"
   ]
  },
  {
   "cell_type": "code",
   "execution_count": 1488,
   "id": "dd7ddf8e",
   "metadata": {},
   "outputs": [],
   "source": [
    "# Drop other class feature or set of features\n",
    "#df_filter.drop(['Black_Square_Fill','Day_Freshness%','FITB','Freshness_Factor','Outside_Grid','Overall_Freshness%','Rebus_Unique','Rebus_Count','Scrabble_Avg','Scrabble_Illegal','Scrabble_Score','Unique_Answers','Unused_Letters'],inplace=True,axis=1) #no answer features\n",
    "#df_filter.drop(['Day_Freshness%','Freshness_Factor','Overall_Freshness%'],inplace=True,axis=1) \n",
    "df_filter.drop(['Unique_Answers'],inplace=True,axis=1) \n",
    "#df_filter.drop(['Scrabble_Avg'],inplace=True,axis=1) \n",
    "#df_filter.drop(['Scrabble_Illegal'],inplace=True,axis=1)\n",
    "#df_filter.drop(['Black_Square_Fill'],inplace=True,axis=1)\n",
    "#df_filter.drop(['FITB'],inplace=True,axis=1)\n",
    "#df_filter.drop(['Outside_Grid'],inplace=True,axis=1)\n",
    "#df_filter.drop(['Rebus_Unique','Rebus_Count'],inplace=True,axis=1)\n",
    "#df_filter.drop(['Scrabble_Score'],inplace=True,axis=1)\n",
    "#df_filter.drop(['Unused_Letters'],inplace=True,axis=1)\n",
    "#df_filter.drop(['Wordplay'],inplace=True,axis=1)\n",
    "#df_filter.drop(['AWL'],inplace=True,axis=1)\n",
    "#df_filter.drop(['Blocks'],inplace=True,axis=1)\n",
    "#df_filter.drop(['Cheater_Squares'],inplace=True,axis=1)\n",
    "#df_filter.drop(['Circle_Count'],inplace=True,axis=1)\n",
    "#df_filter.drop(['Open_Squares'],inplace=True,axis=1)\n",
    "#df_filter.drop(['Shade_Count'],inplace=True,axis=1)\n",
    "#df_filter.drop(['Stacks'],inplace=True,axis=1)\n",
    "#df_filter.drop(['Unusual_Sym'],inplace=True,axis=1)\n",
    "#df_filter.drop(['Cross_Ref_Clues'],inplace=True,axis=1)"
   ]
  },
  {
   "cell_type": "code",
   "execution_count": 1489,
   "id": "87354087",
   "metadata": {},
   "outputs": [],
   "source": [
    "#df_filter.drop(['AWL'],inplace=True,axis=1) "
   ]
  },
  {
   "cell_type": "code",
   "execution_count": 1490,
   "id": "c0170740",
   "metadata": {},
   "outputs": [],
   "source": [
    "#Deep copy of this df_filter that is now pared down to just the predictive features and the target feature itself \n",
    "# All features are derived from data available prior to any given puzzle being predicted on. No data leakage!\n",
    "df_model1 = df_filter.copy()\n",
    "\n",
    "#df_model1 = df_model1[['IS1_ST(m)', 'Comp_Hr', 'Solve_day_phase', 'IS_per_sdp_avg_past_diff_from_RPB', 'DOW_num', 'IS_pds_l10_dw', 'IS_pds_l10_stdev', 'IS_per_constr_avg_past_diff_from_RPB', 'IS1_pds_prior_solves_ct', 'IS1_npds_prior_solves_ct', 'num_solves_l7', 'Words', 'Blocks', 'Unused_Letters', 'Stacks','Unique_Answers','Rebus_Count','Rebus_Unique','Cheater_Squares','AWL','Scrabble_Score','Scrabble_Avg','FITB','Cross_Ref_Clues','Scrabble_Illegal','Open_Squares','Freshness_Factor','Overall_Freshness%','Day_Freshness%','Duplicate_Clues','Circle_Count','Shade_Count','Unusual_Sym','Black_Square_Fill','Outside_Grid','Wordplay']]\n",
    "\n",
    "#df_model1.drop(['IS_per_constr_avg_past_diff_from_RPB','Scrabble_Score', 'IS_pds_l10_dw', 'IS_pds_l10_stdev'],inplace=True,axis=1)"
   ]
  },
  {
   "cell_type": "code",
   "execution_count": 1491,
   "id": "360e5009",
   "metadata": {},
   "outputs": [
    {
     "name": "stdout",
     "output_type": "stream",
     "text": [
      "<class 'pandas.core.frame.DataFrame'>\n",
      "Int64Index: 1601 entries, 0 to 1866\n",
      "Data columns (total 31 columns):\n",
      " #   Column                                 Non-Null Count  Dtype  \n",
      "---  ------                                 --------------  -----  \n",
      " 0   GMST(m)                                1601 non-null   float64\n",
      " 1   DOW_num                                1601 non-null   float64\n",
      " 2   GMS_pds_l40_dw                         1601 non-null   float64\n",
      " 3   GMS_pds_l40_stdev                      1601 non-null   float64\n",
      " 4   GMS_per_constr_avg_past_diff_from_RPB  1105 non-null   float64\n",
      " 5   GMS_pds_prior_solves_ct                1601 non-null   float64\n",
      " 6   GMS_npds_prior_solves_ct               1601 non-null   float64\n",
      " 7   Words                                  1601 non-null   int64  \n",
      " 8   Blocks                                 1601 non-null   int64  \n",
      " 9   Unused_Letters                         1601 non-null   int64  \n",
      " 10  Stacks                                 1601 non-null   int64  \n",
      " 11  Rebus_Count                            1601 non-null   int64  \n",
      " 12  Rebus_Unique                           1601 non-null   int64  \n",
      " 13  Cheater_Squares                        1601 non-null   int64  \n",
      " 14  AWL                                    1601 non-null   float64\n",
      " 15  Scrabble_Score                         1513 non-null   float64\n",
      " 16  Scrabble_Avg                           1601 non-null   float64\n",
      " 17  FITB                                   1601 non-null   int64  \n",
      " 18  Cross_Ref_Clues                        1601 non-null   int64  \n",
      " 19  Scrabble_Illegal                       1601 non-null   int64  \n",
      " 20  Open_Squares                           1601 non-null   int64  \n",
      " 21  Freshness_Factor                       1601 non-null   float64\n",
      " 22  Overall_Freshness%                     1601 non-null   float64\n",
      " 23  Day_Freshness%                         1601 non-null   float64\n",
      " 24  Duplicate_Clues                        1601 non-null   int64  \n",
      " 25  Circle_Count                           1601 non-null   int64  \n",
      " 26  Shade_Count                            1601 non-null   int64  \n",
      " 27  Unusual_Sym                            1601 non-null   int64  \n",
      " 28  Black_Square_Fill                      1601 non-null   int64  \n",
      " 29  Outside_Grid                           1601 non-null   int64  \n",
      " 30  Wordplay                               1391 non-null   float64\n",
      "dtypes: float64(14), int64(17)\n",
      "memory usage: 400.2 KB\n"
     ]
    }
   ],
   "source": [
    "df_model1.info()"
   ]
  },
  {
   "cell_type": "code",
   "execution_count": 1492,
   "id": "7094a917",
   "metadata": {},
   "outputs": [],
   "source": [
    "#df_model1.to_csv('../data/df_model1.csv', index=False)"
   ]
  },
  {
   "cell_type": "markdown",
   "id": "110c9936",
   "metadata": {},
   "source": [
    "### Data Split for Modeling"
   ]
  },
  {
   "cell_type": "markdown",
   "id": "778504df",
   "metadata": {},
   "source": [
    "Identical split as for dummy/simple modeling"
   ]
  },
  {
   "cell_type": "code",
   "execution_count": 1493,
   "id": "e7f2b6c5",
   "metadata": {},
   "outputs": [
    {
     "data": {
      "text/plain": [
       "(1200.75, 400.25)"
      ]
     },
     "execution_count": 1493,
     "metadata": {},
     "output_type": "execute_result"
    }
   ],
   "source": [
    "len(df_model1) * .75, len(df_model1) * .25"
   ]
  },
  {
   "cell_type": "code",
   "execution_count": 1494,
   "id": "319fbf70",
   "metadata": {},
   "outputs": [],
   "source": [
    "#Replicates EXACT train-test split from dummy and simpler modeling\n",
    "X_train, X_test, y_train, y_test = train_test_split(df_model1.drop(columns='GMST(m)'), \n",
    "                                                    df_model1['GMST(m)'], test_size=0.25, \n",
    "                                                    random_state=47)"
   ]
  },
  {
   "cell_type": "code",
   "execution_count": 1495,
   "id": "9bd84540",
   "metadata": {},
   "outputs": [
    {
     "data": {
      "text/plain": [
       "((1200,), (401,))"
      ]
     },
     "execution_count": 1495,
     "metadata": {},
     "output_type": "execute_result"
    }
   ],
   "source": [
    "y_train.shape, y_test.shape"
   ]
  },
  {
   "cell_type": "code",
   "execution_count": 1496,
   "id": "51897b2b",
   "metadata": {},
   "outputs": [
    {
     "data": {
      "text/plain": [
       "754      7.283333\n",
       "1797     6.366667\n",
       "123      5.516667\n",
       "891     23.166667\n",
       "998      7.083333\n",
       "          ...    \n",
       "806     23.250000\n",
       "681     23.916667\n",
       "1502     7.833333\n",
       "381     11.516667\n",
       "1352    24.016667\n",
       "Name: GMST(m), Length: 1200, dtype: float64"
      ]
     },
     "execution_count": 1496,
     "metadata": {},
     "output_type": "execute_result"
    }
   ],
   "source": [
    "y_train"
   ]
  },
  {
   "cell_type": "code",
   "execution_count": 1497,
   "id": "86a500f1",
   "metadata": {},
   "outputs": [
    {
     "data": {
      "text/plain": [
       "((1200, 30), (401, 30))"
      ]
     },
     "execution_count": 1497,
     "metadata": {},
     "output_type": "execute_result"
    }
   ],
   "source": [
    "X_train.shape, X_test.shape"
   ]
  },
  {
   "cell_type": "code",
   "execution_count": 1498,
   "id": "b80c9c04",
   "metadata": {},
   "outputs": [
    {
     "data": {
      "text/plain": [
       "16.327666666666698"
      ]
     },
     "execution_count": 1498,
     "metadata": {},
     "output_type": "execute_result"
    }
   ],
   "source": [
    "# Get training set mean to normalize the error to, as this will change with different puzzle day subtractions\n",
    "#Target feature (GMST(m)) training set mean\n",
    "train_mean = y_train.mean()\n",
    "train_mean"
   ]
  },
  {
   "cell_type": "markdown",
   "id": "300fd6a4",
   "metadata": {},
   "source": [
    "## Linear Model"
   ]
  },
  {
   "cell_type": "code",
   "execution_count": 1499,
   "id": "30da1572",
   "metadata": {},
   "outputs": [],
   "source": [
    "lr_pipe = make_pipeline(\n",
    "    SimpleImputer(strategy='median'), \n",
    "    StandardScaler(),\n",
    "    SelectKBest(f_regression),\n",
    "    LinearRegression()\n",
    ")"
   ]
  },
  {
   "cell_type": "code",
   "execution_count": 1500,
   "id": "22473aa1",
   "metadata": {},
   "outputs": [
    {
     "data": {
      "text/plain": [
       "dict_keys(['memory', 'steps', 'verbose', 'simpleimputer', 'standardscaler', 'selectkbest', 'linearregression', 'simpleimputer__add_indicator', 'simpleimputer__copy', 'simpleimputer__fill_value', 'simpleimputer__missing_values', 'simpleimputer__strategy', 'simpleimputer__verbose', 'standardscaler__copy', 'standardscaler__with_mean', 'standardscaler__with_std', 'selectkbest__k', 'selectkbest__score_func', 'linearregression__copy_X', 'linearregression__fit_intercept', 'linearregression__n_jobs', 'linearregression__normalize', 'linearregression__positive'])"
      ]
     },
     "execution_count": 1500,
     "metadata": {},
     "output_type": "execute_result"
    }
   ],
   "source": [
    "#Dict of available parameters for linear regression pipe\n",
    "lr_pipe.get_params().keys()"
   ]
  },
  {
   "cell_type": "code",
   "execution_count": 1501,
   "id": "b247d05f",
   "metadata": {},
   "outputs": [],
   "source": [
    "#Define search grid parameters\n",
    "k = [k+1 for k in range(len(X_train.columns))]\n",
    "\n",
    "grid_params = {\n",
    "    'standardscaler': [StandardScaler(), None],\n",
    "    'simpleimputer__strategy': ['mean','median'],\n",
    "    'selectkbest__k': k\n",
    "}"
   ]
  },
  {
   "cell_type": "code",
   "execution_count": 1502,
   "id": "57b53602",
   "metadata": {},
   "outputs": [],
   "source": [
    "#Call `GridSearchCV` with linear regression pipeline, passing in the above `grid_params`\n",
    "#dict for parameters to evaluate with 5-fold cross-validation\n",
    "lr_grid_cv = GridSearchCV(lr_pipe, param_grid=grid_params, cv=5)"
   ]
  },
  {
   "cell_type": "code",
   "execution_count": 1503,
   "id": "330fc1c6",
   "metadata": {},
   "outputs": [
    {
     "data": {
      "text/plain": [
       "GridSearchCV(cv=5,\n",
       "             estimator=Pipeline(steps=[('simpleimputer',\n",
       "                                        SimpleImputer(strategy='median')),\n",
       "                                       ('standardscaler', StandardScaler()),\n",
       "                                       ('selectkbest',\n",
       "                                        SelectKBest(score_func=<function f_regression at 0x00000207F034C820>)),\n",
       "                                       ('linearregression',\n",
       "                                        LinearRegression())]),\n",
       "             param_grid={'selectkbest__k': [1, 2, 3, 4, 5, 6, 7, 8, 9, 10, 11,\n",
       "                                            12, 13, 14, 15, 16, 17, 18, 19, 20,\n",
       "                                            21, 22, 23, 24, 25, 26, 27, 28, 29,\n",
       "                                            30],\n",
       "                         'simpleimputer__strategy': ['mean', 'median'],\n",
       "                         'standardscaler': [StandardScaler(), None]})"
      ]
     },
     "execution_count": 1503,
     "metadata": {},
     "output_type": "execute_result"
    }
   ],
   "source": [
    "#conduct the grid search. \n",
    "lr_grid_cv.fit(X_train, y_train)"
   ]
  },
  {
   "cell_type": "code",
   "execution_count": 1504,
   "id": "57d15a7f",
   "metadata": {},
   "outputs": [
    {
     "data": {
      "text/plain": [
       "{'selectkbest__k': 22,\n",
       " 'simpleimputer__strategy': 'mean',\n",
       " 'standardscaler': None}"
      ]
     },
     "execution_count": 1504,
     "metadata": {},
     "output_type": "execute_result"
    }
   ],
   "source": [
    "#Best params (`best_params_` attribute) from the grid search\n",
    "lr_grid_cv.best_params_"
   ]
  },
  {
   "cell_type": "markdown",
   "id": "f95f35b3",
   "metadata": {},
   "source": [
    "### K Best Features Visualization"
   ]
  },
  {
   "cell_type": "code",
   "execution_count": 1505,
   "id": "180d7642",
   "metadata": {},
   "outputs": [
    {
     "data": {
      "image/png": "[encoded data removed]",
      "text/plain": [
       "<Figure size 720x360 with 1 Axes>"
      ]
     },
     "metadata": {
      "needs_background": "light"
     },
     "output_type": "display_data"
    }
   ],
   "source": [
    "score_mean = lr_grid_cv.cv_results_['mean_test_score']\n",
    "score_std = lr_grid_cv.cv_results_['std_test_score']\n",
    "cv_k = [k for k in lr_grid_cv.cv_results_['param_selectkbest__k']]\n",
    "\n",
    "best_k = lr_grid_cv.best_params_['selectkbest__k']\n",
    "plt.subplots(figsize=(10, 5))\n",
    "plt.errorbar(cv_k, score_mean, yerr=score_std)\n",
    "plt.axvline(x=best_k, c='r', ls='--', alpha=.5)\n",
    "plt.xlabel('k')\n",
    "plt.ylabel('CV score (r-squared)')\n",
    "plt.title('Pipeline mean CV score (error bars +/- 1sd)');"
   ]
  },
  {
   "cell_type": "code",
   "execution_count": 1506,
   "id": "13cfea21",
   "metadata": {},
   "outputs": [],
   "source": [
    "### Best Linear Model Performance Metrics"
   ]
  },
  {
   "cell_type": "markdown",
   "id": "7820c285",
   "metadata": {},
   "source": [
    "#### R-squared (COD)"
   ]
  },
  {
   "cell_type": "code",
   "execution_count": 1507,
   "id": "6dc56798",
   "metadata": {},
   "outputs": [
    {
     "data": {
      "text/plain": [
       "array([0.74687928, 0.78143365, 0.76910658, 0.77230295, 0.77535747])"
      ]
     },
     "execution_count": 1507,
     "metadata": {},
     "output_type": "execute_result"
    }
   ],
   "source": [
    "#Cross-validation defaults to R^2 metric for scoring regression\n",
    "lr_best_cv_results = cross_validate(lr_grid_cv.best_estimator_, X_train, y_train, cv=5)\n",
    "lr_best_scores = lr_best_cv_results['test_score']\n",
    "lr_best_scores"
   ]
  },
  {
   "cell_type": "code",
   "execution_count": 1508,
   "id": "b28a43c3",
   "metadata": {},
   "outputs": [
    {
     "data": {
      "text/plain": [
       "(0.7690159870701789, 0.011792019877865326)"
      ]
     },
     "execution_count": 1508,
     "metadata": {},
     "output_type": "execute_result"
    }
   ],
   "source": [
    "#Training set CV mean and std\n",
    "np.mean(lr_best_scores), np.std(lr_best_scores)"
   ]
  },
  {
   "cell_type": "markdown",
   "id": "c91478b1",
   "metadata": {},
   "source": [
    "#### Mean Absolute Error (MAE)"
   ]
  },
  {
   "cell_type": "code",
   "execution_count": 1509,
   "id": "e18c5910",
   "metadata": {},
   "outputs": [],
   "source": [
    "lr_neg_mae = cross_validate(lr_grid_cv.best_estimator_, X_train, y_train, \n",
    "                            scoring='neg_mean_absolute_error', cv=5, n_jobs=-1)"
   ]
  },
  {
   "cell_type": "code",
   "execution_count": 1510,
   "id": "fcd81789",
   "metadata": {},
   "outputs": [
    {
     "data": {
      "text/plain": [
       "(2.7417945764793923, 0.08697545511961875)"
      ]
     },
     "execution_count": 1510,
     "metadata": {},
     "output_type": "execute_result"
    }
   ],
   "source": [
    "# Training set MAE and STD \n",
    "lr_mae_mean = np.mean(-1 * lr_neg_mae['test_score'])\n",
    "lr_mae_std = np.std(-1 * lr_neg_mae['test_score'])\n",
    "MAE_LR_train = lr_mae_mean, lr_mae_std\n",
    "MAE_LR_train"
   ]
  },
  {
   "cell_type": "code",
   "execution_count": 1511,
   "id": "6d131fd6",
   "metadata": {},
   "outputs": [
    {
     "data": {
      "text/plain": [
       "2.7265040921136676"
      ]
     },
     "execution_count": 1511,
     "metadata": {},
     "output_type": "execute_result"
    }
   ],
   "source": [
    "# Test set mean\n",
    "MAE_LR_test = mean_absolute_error(y_test, lr_grid_cv.best_estimator_.predict(X_test))\n",
    "MAE_LR_test"
   ]
  },
  {
   "cell_type": "markdown",
   "id": "63e05fa0",
   "metadata": {},
   "source": [
    "#### Mean Squared Error (MSE)"
   ]
  },
  {
   "cell_type": "code",
   "execution_count": 1512,
   "id": "680649e1",
   "metadata": {},
   "outputs": [],
   "source": [
    "lr_neg_mse = cross_validate(lr_grid_cv.best_estimator_, X_train, y_train, \n",
    "                            scoring='neg_mean_squared_error', cv=5)"
   ]
  },
  {
   "cell_type": "code",
   "execution_count": 1513,
   "id": "5bf5c623",
   "metadata": {},
   "outputs": [
    {
     "data": {
      "text/plain": [
       "(15.011585281812847, 1.172690577429426)"
      ]
     },
     "execution_count": 1513,
     "metadata": {},
     "output_type": "execute_result"
    }
   ],
   "source": [
    "#Training set CV mean and std\n",
    "lr_mse_mean = np.mean(-1 * lr_neg_mse['test_score'])\n",
    "lr_mse_std = np.std(-1 * lr_neg_mse['test_score'])\n",
    "MSE_LR_train = lr_mse_mean, lr_mse_std\n",
    "MSE_LR_train"
   ]
  },
  {
   "cell_type": "code",
   "execution_count": 1514,
   "id": "a347d29a",
   "metadata": {},
   "outputs": [
    {
     "data": {
      "text/plain": [
       "14.930678625797484"
      ]
     },
     "execution_count": 1514,
     "metadata": {},
     "output_type": "execute_result"
    }
   ],
   "source": [
    "# Test set mean\n",
    "MSE_LR_test = mean_squared_error(y_test, lr_grid_cv.best_estimator_.predict(X_test))\n",
    "MSE_LR_test"
   ]
  },
  {
   "cell_type": "markdown",
   "id": "fb2e2fa6",
   "metadata": {},
   "source": [
    "#### Root Mean Square Error (RMSE)"
   ]
  },
  {
   "cell_type": "code",
   "execution_count": 1515,
   "id": "637cc724",
   "metadata": {},
   "outputs": [],
   "source": [
    "lr_neg_rmse = cross_validate(lr_grid_cv.best_estimator_, X_train, y_train, \n",
    "                            scoring='neg_root_mean_squared_error', cv=5)"
   ]
  },
  {
   "cell_type": "code",
   "execution_count": 1516,
   "id": "129c9952",
   "metadata": {},
   "outputs": [
    {
     "data": {
      "text/plain": [
       "(3.871624691365818, 0.14868601487489422)"
      ]
     },
     "execution_count": 1516,
     "metadata": {},
     "output_type": "execute_result"
    }
   ],
   "source": [
    "#Training set CV mean and std\n",
    "lr_rmse_mean = np.mean(-1 * lr_neg_rmse['test_score'])\n",
    "lr_rmse_std = np.std(-1 * lr_neg_rmse['test_score'])\n",
    "RMSE_LR_train = lr_rmse_mean, lr_rmse_std\n",
    "RMSE_LR_train"
   ]
  },
  {
   "cell_type": "code",
   "execution_count": 1517,
   "id": "1bac3e9c",
   "metadata": {},
   "outputs": [
    {
     "data": {
      "text/plain": [
       "3.8640236316303094"
      ]
     },
     "execution_count": 1517,
     "metadata": {},
     "output_type": "execute_result"
    }
   ],
   "source": [
    "# Test set mean\n",
    "RMSE_LR_test = np.sqrt(mean_squared_error(y_test, lr_grid_cv.best_estimator_.predict(X_test)))\n",
    "RMSE_LR_test"
   ]
  },
  {
   "cell_type": "markdown",
   "id": "8f3c904f",
   "metadata": {},
   "source": [
    "### Best Linear Model Feature Importances"
   ]
  },
  {
   "cell_type": "code",
   "execution_count": 1518,
   "id": "be0efad7",
   "metadata": {},
   "outputs": [
    {
     "data": {
      "image/png": "[encoded data removed]",
      "text/plain": [
       "<Figure size 720x360 with 1 Axes>"
      ]
     },
     "metadata": {
      "needs_background": "light"
     },
     "output_type": "display_data"
    }
   ],
   "source": [
    "#Plot a barplot of the linear regressor feature importances,\n",
    "#assigning the `feature_importances_` attribute of \n",
    "#`lv_grid_cv.best_estimator_.named_steps.linearregression` to the name `imps` to then\n",
    "#create a pandas Series object of the feature importances, with the index given by the\n",
    "#training data column names, sorting the values in descending order\n",
    "selected = lr_grid_cv.best_estimator_.named_steps.selectkbest.get_support()\n",
    "plt.subplots(figsize=(10, 5))\n",
    "imps = lr_grid_cv.best_estimator_.named_steps.linearregression.coef_\n",
    "lr_feat_imps = pd.Series(imps, index=X_train.columns[selected]).sort_values(ascending=False)\n",
    "lr_feat_imps.plot(kind='bar')\n",
    "plt.xlabel('features')\n",
    "plt.ylabel('importance')\n",
    "plt.title('Best linear regressor feature importances');"
   ]
  },
  {
   "cell_type": "code",
   "execution_count": null,
   "id": "8000024c",
   "metadata": {},
   "outputs": [],
   "source": []
  },
  {
   "cell_type": "code",
   "execution_count": 598,
   "id": "8363fdce",
   "metadata": {},
   "outputs": [],
   "source": [
    "# Export out features and feature importances for full documentation csv\n",
    "X_train.columns\n",
    "lr_feat_imps.to_csv('../data/linear_feat_imps_no_answer_features.csv', index=True)"
   ]
  },
  {
   "cell_type": "markdown",
   "id": "b8f48649",
   "metadata": {},
   "source": [
    "## Save Best Model Object From Pipeline"
   ]
  },
  {
   "cell_type": "code",
   "execution_count": 309,
   "id": "6c476fc6",
   "metadata": {},
   "outputs": [
    {
     "name": "stdout",
     "output_type": "stream",
     "text": [
      "Writing file.  \"../models\\IS1_linear_no_answer_features.pkl\"\n"
     ]
    }
   ],
   "source": [
    "# save the model\n",
    "best_model = lr_grid_cv.best_estimator_\n",
    "best_model.version = '1.0'\n",
    "best_model.pandas_version = pd.__version__\n",
    "best_model.numpy_version = np.__version__\n",
    "best_model.sklearn_version = sklearn_version\n",
    "best_model.X_columns = [col for col in X_train.columns]\n",
    "best_model.build_datetime = datetime.datetime.now()\n",
    "\n",
    "modelpath = '../models'\n",
    "save_file(best_model, 'IS1_linear_no_answer_features.pkl', modelpath)"
   ]
  },
  {
   "cell_type": "markdown",
   "id": "89c2ad1e",
   "metadata": {},
   "source": [
    "### Data Quality Assessment"
   ]
  },
  {
   "cell_type": "markdown",
   "id": "e3c66adc",
   "metadata": {},
   "source": [
    "Because Linear Regressor turned out to be the best of the four models tested (in terms of cross-validation RMSE), a Data Quality Assessment was run on this model to ensure that results are not hindered by sample size. "
   ]
  },
  {
   "cell_type": "code",
   "execution_count": 310,
   "id": "e018f1e0",
   "metadata": {},
   "outputs": [],
   "source": [
    "fractions = [.2, .25, .3, .35, .4, .45, .5, .6, .75, .8, .9, 1.0]\n",
    "train_size, train_scores, test_scores = learning_curve(lr_pipe, X_train, y_train, train_sizes=fractions)\n",
    "train_scores_mean = np.mean(train_scores, axis=1)\n",
    "train_scores_std = np.std(train_scores, axis=1)\n",
    "test_scores_mean = np.mean(test_scores, axis=1)\n",
    "test_scores_std = np.std(test_scores, axis=1)"
   ]
  },
  {
   "cell_type": "code",
   "execution_count": 311,
   "id": "947ef1f6",
   "metadata": {},
   "outputs": [
    {
     "data": {
      "image/png": "[encoded data removed]",
      "text/plain": [
       "<Figure size 720x360 with 1 Axes>"
      ]
     },
     "metadata": {
      "needs_background": "light"
     },
     "output_type": "display_data"
    }
   ],
   "source": [
    "plt.subplots(figsize=(10, 5))\n",
    "plt.errorbar(train_size, test_scores_mean, yerr=test_scores_std)\n",
    "plt.xlabel('Training set size')\n",
    "plt.ylabel('CV scores')\n",
    "plt.title('Cross-validation score as training set size increases');"
   ]
  },
  {
   "cell_type": "code",
   "execution_count": null,
   "id": "deb48de1",
   "metadata": {},
   "outputs": [],
   "source": []
  }
 ],
 "metadata": {
  "kernelspec": {
   "display_name": "Python 3",
   "language": "python",
   "name": "python3"
  },
  "language_info": {
   "codemirror_mode": {
    "name": "ipython",
    "version": 3
   },
   "file_extension": ".py",
   "mimetype": "text/x-python",
   "name": "python",
   "nbconvert_exporter": "python",
   "pygments_lexer": "ipython3",
   "version": "3.8.8"
  }
 },
 "nbformat": 4,
 "nbformat_minor": 5
}
