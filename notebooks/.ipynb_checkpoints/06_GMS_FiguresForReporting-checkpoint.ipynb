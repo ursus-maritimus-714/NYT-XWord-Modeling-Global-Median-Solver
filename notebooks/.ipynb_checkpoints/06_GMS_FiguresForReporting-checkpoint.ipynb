{
 "cells": [
  {
   "cell_type": "code",
   "execution_count": 2,
   "id": "1db3739c",
   "metadata": {},
   "outputs": [],
   "source": [
    "import pandas as pd\n",
    "import numpy as np\n",
    "import os\n",
    "import matplotlib.pyplot as plt\n",
    "import seaborn as sns"
   ]
  },
  {
   "cell_type": "markdown",
   "id": "cb053fad",
   "metadata": {},
   "source": [
    "* Figures 1-5 were generated during the EDA process and were taken for the Github Readme from 02_GMS_EDA. \n",
    "* Figure 6 is a Methods schematic figure that was created in Power Point and can be found in the project Reporting folder in the 'layouts for GMS summary' ppt deck. \n",
    "* Figure S1 comes from 04_Modeling (3 different components from Linear modeling sequence)"
   ]
  },
  {
   "cell_type": "markdown",
   "id": "30b97eec",
   "metadata": {},
   "source": [
    "### Figure 7. Best Model Prediction Quality vs Benchmark Models\n",
    "Data imported from 03_Preprocessing_Training-CompletionRangeFiltered, 04_Modeling\n",
    "Best model was Linear Model (see notebook 4 for hyperparameters, other metrics besides RMSE, etc. for all models tested)"
   ]
  },
  {
   "cell_type": "code",
   "execution_count": 3,
   "id": "aff5cb4d",
   "metadata": {},
   "outputs": [
    {
     "data": {
      "text/html": [
       "<div>\n",
       "<style scoped>\n",
       "    .dataframe tbody tr th:only-of-type {\n",
       "        vertical-align: middle;\n",
       "    }\n",
       "\n",
       "    .dataframe tbody tr th {\n",
       "        vertical-align: top;\n",
       "    }\n",
       "\n",
       "    .dataframe thead th {\n",
       "        text-align: right;\n",
       "    }\n",
       "</style>\n",
       "<table border=\"1\" class=\"dataframe\">\n",
       "  <thead>\n",
       "    <tr style=\"text-align: right;\">\n",
       "      <th></th>\n",
       "      <th>Model_Inclusion</th>\n",
       "      <th>Training_Error</th>\n",
       "      <th>Training_SD</th>\n",
       "      <th>Testing_Error</th>\n",
       "    </tr>\n",
       "  </thead>\n",
       "  <tbody>\n",
       "    <tr>\n",
       "      <th>0</th>\n",
       "      <td>Full_Best_Model</td>\n",
       "      <td>3.866955</td>\n",
       "      <td>0.148365</td>\n",
       "      <td>3.858497</td>\n",
       "    </tr>\n",
       "    <tr>\n",
       "      <th>1</th>\n",
       "      <td>Mean_Sample_PDS_GMST</td>\n",
       "      <td>4.365831</td>\n",
       "      <td>0.212110</td>\n",
       "      <td>4.450845</td>\n",
       "    </tr>\n",
       "    <tr>\n",
       "      <th>2</th>\n",
       "      <td>Dummy</td>\n",
       "      <td>8.116011</td>\n",
       "      <td>0.000000</td>\n",
       "      <td>8.489541</td>\n",
       "    </tr>\n",
       "  </tbody>\n",
       "</table>\n",
       "</div>"
      ],
      "text/plain": [
       "        Model_Inclusion  Training_Error  Training_SD  Testing_Error\n",
       "0       Full_Best_Model        3.866955     0.148365       3.858497\n",
       "1  Mean_Sample_PDS_GMST        4.365831     0.212110       4.450845\n",
       "2                 Dummy        8.116011     0.000000       8.489541"
      ]
     },
     "execution_count": 3,
     "metadata": {},
     "output_type": "execute_result"
    }
   ],
   "source": [
    "data = [[\"Full_Best_Model\", 3.8669548340683293, 0.14836517633626575, 3.8584970065444595], [\"Mean_Sample_PDS_GMST\", 4.365830758011609, 0.21211002647170546, 4.450844520501208], [\"Dummy\", 8.116010914646843, 0, 8.48954087148681]]\n",
    "df = pd.DataFrame(data, columns=[\"Model_Inclusion\", \"Training_Error\", \"Training_SD\", \"Testing_Error\"])\n",
    "df"
   ]
  },
  {
   "cell_type": "code",
   "execution_count": 5,
   "id": "93e2d2b2",
   "metadata": {},
   "outputs": [
    {
     "data": {
      "text/plain": [
       "(3.0, 9.0)"
      ]
     },
     "execution_count": 5,
     "metadata": {},
     "output_type": "execute_result"
    },
    {
     "data": {
      "image/png": "[encoded data removed]",
      "text/plain": [
       "<Figure size 432x288 with 1 Axes>"
      ]
     },
     "metadata": {
      "needs_background": "light"
     },
     "output_type": "display_data"
    }
   ],
   "source": [
    "#plt.figure(figsize=(20, 10))\n",
    "g = sns.barplot(x=\"Model_Inclusion\",y=\"Training_Error\",data=df, palette = [\"gray\", \"rosybrown\", \"tan\"], yerr=df[\"Training_SD\"]*1)\n",
    "g.set_ylabel(\"training_error (mean + sd)\")\n",
    "#g.set(xticklabels=[\"\", \"\"])\n",
    "g.set_xlabel(\"Model_Error\")\n",
    "g.set_ylim(3,9)"
   ]
  },
  {
   "cell_type": "code",
   "execution_count": 6,
   "id": "53967907",
   "metadata": {},
   "outputs": [],
   "source": [
    "# Mean target feature (GMST, in minutes) value for training set across all 15x15 puzzles\n",
    "y_train_mean = 16.327666666666698"
   ]
  },
  {
   "cell_type": "code",
   "execution_count": 7,
   "id": "21f7e01c",
   "metadata": {},
   "outputs": [
    {
     "data": {
      "text/plain": [
       "23.683450385245834"
      ]
     },
     "execution_count": 7,
     "metadata": {},
     "output_type": "execute_result"
    }
   ],
   "source": [
    "# Calculate % difference from training set mean solve time represented by Full_Best_Model mean error\n",
    "error_pct = (df['Training_Error'][0]/y_train_mean)*100\n",
    "error_pct"
   ]
  },
  {
   "cell_type": "code",
   "execution_count": 8,
   "id": "cec3feef",
   "metadata": {},
   "outputs": [
    {
     "data": {
      "text/plain": [
       "26.738852814312725"
      ]
     },
     "execution_count": 8,
     "metadata": {},
     "output_type": "execute_result"
    }
   ],
   "source": [
    "# Calculate % difference from training set mean solve time represented by Mean PDS GMST mean error\n",
    "error_pct = (df['Training_Error'][1]/y_train_mean)*100\n",
    "error_pct"
   ]
  },
  {
   "cell_type": "code",
   "execution_count": 9,
   "id": "b2be4aed",
   "metadata": {},
   "outputs": [
    {
     "data": {
      "text/plain": [
       "49.70710806594223"
      ]
     },
     "execution_count": 9,
     "metadata": {},
     "output_type": "execute_result"
    }
   ],
   "source": [
    "# Calculate % difference from training set mean solve time represented by Dummy mean error\n",
    "error_pct = (df['Training_Error'][2]/y_train_mean)*100\n",
    "error_pct"
   ]
  },
  {
   "cell_type": "markdown",
   "id": "fac961b0",
   "metadata": {},
   "source": [
    "### Figure 8. Effect on Model Prediction Quality of Removing Individual Feature Classes or Adjustments from the Best Model\n",
    "Data imported from 03_Preprocessing_Training, 04_Modeling, and 04b_Modeling-FeatureSubtraction"
   ]
  },
  {
   "cell_type": "code",
   "execution_count": 16,
   "id": "e203e9d1",
   "metadata": {},
   "outputs": [
    {
     "data": {
      "text/plain": [
       "((3.9237891580818434, 0.17084864389881455), 3.945620457590663)"
      ]
     },
     "execution_count": 16,
     "metadata": {},
     "output_type": "execute_result"
    }
   ],
   "source": [
    "# Best Full Model\n",
    "(3.8669548340683293, 0.14836517633626575), 3.8584970065444595\n",
    "\n",
    "# No past performance features\n",
    "(4.33335801877782, 0.2981374586353484), 4.478174929734884 \n",
    "\n",
    "# No Answer Features\n",
    "(3.931722744725741, 0.18856805362447387), 3.999981056234507\n",
    "\n",
    "# No CLue Features\n",
    "(3.887502723259798, 0.1400899691574933), 3.830476575696037\n",
    "\n",
    "# No Grid Features\n",
    "(3.88015076328697, 0.11242930800553778), 3.8624908736038823\n",
    "\n",
    "# No DOW\n",
    "(3.8669548340683066, 0.14836517633626023), 3.8584970065444266\n",
    "\n",
    "#No time-decay weighting\n",
    "(3.863659929695447, 0.1442918229057468), 3.8443310992523325\n",
    "\n",
    "# No Past Performance vs Constructor\n",
    "(3.9237891580818434, 0.17084864389881455), 3.945620457590663"
   ]
  },
  {
   "cell_type": "code",
   "execution_count": 17,
   "id": "add54520",
   "metadata": {},
   "outputs": [
    {
     "data": {
      "text/html": [
       "<div>\n",
       "<style scoped>\n",
       "    .dataframe tbody tr th:only-of-type {\n",
       "        vertical-align: middle;\n",
       "    }\n",
       "\n",
       "    .dataframe tbody tr th {\n",
       "        vertical-align: top;\n",
       "    }\n",
       "\n",
       "    .dataframe thead th {\n",
       "        text-align: right;\n",
       "    }\n",
       "</style>\n",
       "<table border=\"1\" class=\"dataframe\">\n",
       "  <thead>\n",
       "    <tr style=\"text-align: right;\">\n",
       "      <th></th>\n",
       "      <th>Model Inclusion</th>\n",
       "      <th>Training Error</th>\n",
       "      <th>Training SD</th>\n",
       "    </tr>\n",
       "  </thead>\n",
       "  <tbody>\n",
       "    <tr>\n",
       "      <th>0</th>\n",
       "      <td>Best Model</td>\n",
       "      <td>3.866955</td>\n",
       "      <td>0.148365</td>\n",
       "    </tr>\n",
       "    <tr>\n",
       "      <th>1</th>\n",
       "      <td>-Past Performance Features</td>\n",
       "      <td>4.333358</td>\n",
       "      <td>0.298137</td>\n",
       "    </tr>\n",
       "    <tr>\n",
       "      <th>2</th>\n",
       "      <td>-Answer Features</td>\n",
       "      <td>3.931723</td>\n",
       "      <td>0.188568</td>\n",
       "    </tr>\n",
       "    <tr>\n",
       "      <th>3</th>\n",
       "      <td>-Clue Features</td>\n",
       "      <td>3.887503</td>\n",
       "      <td>0.140090</td>\n",
       "    </tr>\n",
       "    <tr>\n",
       "      <th>4</th>\n",
       "      <td>-Grid Features</td>\n",
       "      <td>3.880151</td>\n",
       "      <td>0.112429</td>\n",
       "    </tr>\n",
       "    <tr>\n",
       "      <th>5</th>\n",
       "      <td>-Puzzle Day of Week</td>\n",
       "      <td>3.866955</td>\n",
       "      <td>0.148365</td>\n",
       "    </tr>\n",
       "    <tr>\n",
       "      <th>6</th>\n",
       "      <td>-Decay-Time Weighting</td>\n",
       "      <td>3.863660</td>\n",
       "      <td>0.144292</td>\n",
       "    </tr>\n",
       "  </tbody>\n",
       "</table>\n",
       "</div>"
      ],
      "text/plain": [
       "              Model Inclusion  Training Error  Training SD\n",
       "0                  Best Model        3.866955     0.148365\n",
       "1  -Past Performance Features        4.333358     0.298137\n",
       "2            -Answer Features        3.931723     0.188568\n",
       "3              -Clue Features        3.887503     0.140090\n",
       "4              -Grid Features        3.880151     0.112429\n",
       "5         -Puzzle Day of Week        3.866955     0.148365\n",
       "6       -Decay-Time Weighting        3.863660     0.144292"
      ]
     },
     "execution_count": 17,
     "metadata": {},
     "output_type": "execute_result"
    }
   ],
   "source": [
    "#Sample code for feature subtraction modeling\n",
    "data = [[\"Best Model\", 3.8669548340683293, 0.14836517633626575], [\"-Past Performance Features\", 4.33335801877782, 0.2981374586353484], [\"-Answer Features\", 3.931722744725741, 0.18856805362447387], [\"-Clue Features\", 3.887502723259798, 0.1400899691574933], [\"-Grid Features\", 3.88015076328697, 0.11242930800553778], [\"-Puzzle Day of Week\", 3.8669548340683066, 0.14836517633626023], [\"-Decay-Time Weighting\", 3.863659929695447, 0.1442918229057468]]\n",
    "df = pd.DataFrame(data, columns=[\"Model Inclusion\", \"Training Error\", \"Training SD\"])\n",
    "df"
   ]
  },
  {
   "cell_type": "code",
   "execution_count": 24,
   "id": "9e5fecae",
   "metadata": {},
   "outputs": [
    {
     "data": {
      "image/png": "[encoded data removed]",
      "text/plain": [
       "<Figure size 1440x720 with 1 Axes>"
      ]
     },
     "metadata": {
      "needs_background": "light"
     },
     "output_type": "display_data"
    }
   ],
   "source": [
    "#subtraction modeling bar plot - all classes (Fig. 9)\n",
    "plt.figure(figsize=(20, 10))\n",
    "g = sns.barplot(x=\"Model Inclusion\",y=\"Training Error\",data=df, palette = [\"gray\",\"navy\", \"darkgreen\", \"green\", \"mediumseagreen\", \"lime\", \"deepskyblue\"], yerr=df[\"Training SD\"]*1)\n",
    "g.set_ylabel(\"training_error (mean +- sd)\")\n",
    "#g.set(xticklabels=[\"\", \"\"])\n",
    "g.set_xlabel(\"Model_Error\")\n",
    "g.set_ylim(3.5,4.75);\n",
    "\n",
    "# Define some hatches\n",
    "hatches = ['', '', '', '', '', '', '\\\\',]\n",
    "\n",
    "# Loop over the bars\n",
    "for i,thisbar in enumerate(g.patches):\n",
    "    # Set a different hatch for each bar\n",
    "    thisbar.set_hatch(hatches[i])"
   ]
  },
  {
   "cell_type": "code",
   "execution_count": 43,
   "id": "c3fa4f3f",
   "metadata": {},
   "outputs": [
    {
     "name": "stdout",
     "output_type": "stream",
     "text": [
      "10.763089102917807\n",
      "1.6473163257580976\n",
      "0.5285626957513351\n",
      "0.3400880538843335\n",
      "-5.856947048570861e-13\n",
      "-0.08527935772913608\n"
     ]
    }
   ],
   "source": [
    "# Percentage Change From Best Model\n",
    "PPF_diff = ((4.33335801877782 - 3.8669548340683293)/(abs(4.33335801877782)))*100 \n",
    "print(PPF_diff)\n",
    "\n",
    "ANS_diff = ((3.931722744725741 - 3.8669548340683293)/(abs(3.931722744725741)))*100 \n",
    "print(ANS_diff)\n",
    "\n",
    "CLU_diff = ((3.887502723259798 - 3.8669548340683293)/(abs(3.887502723259798)))*100 \n",
    "print(CLU_diff)\n",
    "\n",
    "GRD_diff = ((3.88015076328697 - 3.8669548340683293)/(abs(3.88015076328697)))*100 \n",
    "print(GRD_diff)\n",
    "\n",
    "PDOW_diff = ((3.8669548340683066 - 3.8669548340683293)/(abs(3.8669548340683066)))*100 \n",
    "print(PDOW_diff)\n",
    "\n",
    "DTW_diff = ((3.863659929695447 - 3.8669548340683293)/(abs(3.863659929695447)))*100 \n",
    "print(DTW_diff)"
   ]
  },
  {
   "cell_type": "markdown",
   "id": "542705ab",
   "metadata": {},
   "source": [
    "### Figure 9. Effect on Model Prediction Quality of Removing Key Individual Features\n",
    "Data imported from 03_Preprocessing_Training, 04_Modeling, 04b_Modeling-FeatureSubtractionModeling"
   ]
  },
  {
   "cell_type": "markdown",
   "id": "cb59f7ab",
   "metadata": {},
   "source": [
    "#### Past Performance Features\n",
    "Left panel in Figure 9"
   ]
  },
  {
   "cell_type": "code",
   "execution_count": null,
   "id": "d11ec341",
   "metadata": {},
   "outputs": [],
   "source": [
    "# Past Performance Features\n",
    "# #Below Best Model these are ranked by most increase in training error with the named feature subtracted out\n",
    "\n",
    "# Best Full Model\n",
    "(3.8669548340683293, 0.14836517633626575), 3.8584970065444595\n",
    "\n",
    "# No Past Performance Features\n",
    "(4.33335801877782, 0.2981374586353484)\n",
    "\n",
    "# No Past Performance vs Constructor\n",
    "(3.9237891580818434, 0.17084864389881455), 3.94562045759066s\n",
    "\n",
    "# No RPB\n",
    "(3.9209514879338165, 0.17660939472572695)\n",
    "\n",
    "# No Number of Past Solves\n",
    "(3.884502337379554, 0.1554015633272678), 3.8586665226788677\n",
    "\n",
    "# No RPB Standard Deviation\n",
    "(3.8733728671475007, 0.15575518598059024), 3.8735084784666824 "
   ]
  },
  {
   "cell_type": "code",
   "execution_count": 40,
   "id": "3b498246",
   "metadata": {},
   "outputs": [
    {
     "data": {
      "text/html": [
       "<div>\n",
       "<style scoped>\n",
       "    .dataframe tbody tr th:only-of-type {\n",
       "        vertical-align: middle;\n",
       "    }\n",
       "\n",
       "    .dataframe tbody tr th {\n",
       "        vertical-align: top;\n",
       "    }\n",
       "\n",
       "    .dataframe thead th {\n",
       "        text-align: right;\n",
       "    }\n",
       "</style>\n",
       "<table border=\"1\" class=\"dataframe\">\n",
       "  <thead>\n",
       "    <tr style=\"text-align: right;\">\n",
       "      <th></th>\n",
       "      <th>Model Inclusion</th>\n",
       "      <th>Training Error</th>\n",
       "      <th>Training SD</th>\n",
       "    </tr>\n",
       "  </thead>\n",
       "  <tbody>\n",
       "    <tr>\n",
       "      <th>0</th>\n",
       "      <td>Best Model</td>\n",
       "      <td>3.866955</td>\n",
       "      <td>0.148365</td>\n",
       "    </tr>\n",
       "    <tr>\n",
       "      <th>1</th>\n",
       "      <td>-Past Performance Features</td>\n",
       "      <td>4.333358</td>\n",
       "      <td>0.298137</td>\n",
       "    </tr>\n",
       "    <tr>\n",
       "      <th>2</th>\n",
       "      <td>-vs Constructor</td>\n",
       "      <td>3.923789</td>\n",
       "      <td>0.170849</td>\n",
       "    </tr>\n",
       "    <tr>\n",
       "      <th>3</th>\n",
       "      <td>-RPB</td>\n",
       "      <td>3.920951</td>\n",
       "      <td>0.176609</td>\n",
       "    </tr>\n",
       "    <tr>\n",
       "      <th>4</th>\n",
       "      <td>-Number of Past Solves</td>\n",
       "      <td>3.884502</td>\n",
       "      <td>0.155402</td>\n",
       "    </tr>\n",
       "    <tr>\n",
       "      <th>5</th>\n",
       "      <td>-RPB STD</td>\n",
       "      <td>3.873373</td>\n",
       "      <td>0.155755</td>\n",
       "    </tr>\n",
       "  </tbody>\n",
       "</table>\n",
       "</div>"
      ],
      "text/plain": [
       "              Model Inclusion  Training Error  Training SD\n",
       "0                  Best Model        3.866955     0.148365\n",
       "1  -Past Performance Features        4.333358     0.298137\n",
       "2             -vs Constructor        3.923789     0.170849\n",
       "3                        -RPB        3.920951     0.176609\n",
       "4      -Number of Past Solves        3.884502     0.155402\n",
       "5                    -RPB STD        3.873373     0.155755"
      ]
     },
     "execution_count": 40,
     "metadata": {},
     "output_type": "execute_result"
    }
   ],
   "source": [
    "#feature subtraction modeling -past performance features only\n",
    "data = [[\"Best Model\", 3.8669548340683293, 0.14836517633626575], [\"-Past Performance Features\", 4.33335801877782, 0.2981374586353484], [\"-vs Constructor\", 3.9237891580818434, 0.17084864389881455], [\"-RPB\", 3.9209514879338165, 0.17660939472572695], [\"-Number of Past Solves\", 3.884502337379554, 0.1554015633272678], [\"-RPB STD\", 3.8733728671475007, 0.15575518598059024]]\n",
    "df = pd.DataFrame(data, columns=[\"Model Inclusion\", \"Training Error\", \"Training SD\"])\n",
    "df"
   ]
  },
  {
   "cell_type": "code",
   "execution_count": 41,
   "id": "da51e0d5",
   "metadata": {},
   "outputs": [
    {
     "data": {
      "image/png": "[encoded data removed]",
      "text/plain": [
       "<Figure size 1440x720 with 1 Axes>"
      ]
     },
     "metadata": {
      "needs_background": "light"
     },
     "output_type": "display_data"
    }
   ],
   "source": [
    "#subtraction modeling bar plot - past performance features (Fig. 10 left panel)\n",
    "plt.figure(figsize=(20, 10))\n",
    "g = sns.barplot(x=\"Model Inclusion\",y=\"Training Error\",data=df, palette = [\"gray\",\"navy\", \"mediumblue\", \"blue\", \"royalblue\", \"steelblue\"], yerr=df[\"Training SD\"]*1)\n",
    "g.set_ylabel(\"training_error (mean +- sd)\")\n",
    "#g.set(xticklabels=[\"\", \"\"])\n",
    "g.set_xlabel(\"Model_Error\")\n",
    "g.set_ylim(3.5,4.75);\n",
    "\n",
    "# # Define some hatches\n",
    "# hatches = ['', '', '', '', '', '']\n",
    "\n",
    "# # Loop over the bars\n",
    "# for i,thisbar in enumerate(g.patches):\n",
    "#     # Set a different hatch for each bar\n",
    "#     thisbar.set_hatch(hatches[i])"
   ]
  },
  {
   "cell_type": "code",
   "execution_count": 44,
   "id": "741fb354",
   "metadata": {},
   "outputs": [
    {
     "name": "stdout",
     "output_type": "stream",
     "text": [
      "10.763089102917807\n",
      "1.4484550959230873\n",
      "1.37713139353176\n",
      "0.45173105296834615\n",
      "0.16569623682777332\n"
     ]
    }
   ],
   "source": [
    "# Percentage Change From Best Model\n",
    "PPF_diff = ((4.33335801877782 - 3.8669548340683293)/(abs(4.33335801877782)))*100 \n",
    "print(PPF_diff)\n",
    "\n",
    "Const_diff = ((3.9237891580818434 - 3.8669548340683293)/(abs(3.9237891580818434)))*100 \n",
    "print(Const_diff)\n",
    "\n",
    "RPB_diff = ((3.9209514879338165 - 3.8669548340683293)/(abs(3.9209514879338165)))*100 \n",
    "print(RPB_diff)\n",
    "\n",
    "PS_diff = ((3.884502337379554 - 3.8669548340683293)/(abs(3.884502337379554)))*100 \n",
    "print(PS_diff)\n",
    "\n",
    "RPBSTD_diff = ((3.8733728671475007 - 3.8669548340683293)/(abs(3.8733728671475007)))*100 \n",
    "print(RPBSTD_diff)"
   ]
  },
  {
   "cell_type": "markdown",
   "id": "06befb62",
   "metadata": {},
   "source": [
    "Subtractions of Other Individual Features (Non-Past Performance)\n",
    "Right panel in Fig. 9"
   ]
  },
  {
   "cell_type": "code",
   "execution_count": null,
   "id": "27443f29",
   "metadata": {},
   "outputs": [],
   "source": [
    "#Below Best Model these are ranked by most increase in training error with the named feature subtracted out\n",
    "# Non-Past Performance Features\n",
    "\n",
    "# Best Full Model\n",
    "(3.8669548340683293, 0.14836517633626575), 3.8584970065444595\n",
    "\n",
    "# No Freshness Factor features\n",
    "(3.913696546912179, 0.15719554491413826), 3.9341868408810896\n",
    "\n",
    "# Wordplay \n",
    "(3.889274982476202, 0.13876718165539417), 3.830609059563116\n",
    "\n",
    "# Rebus Count/Rebus Unique\n",
    "(3.8736989715095453, 0.14337677823108394), 3.90762608739284\n",
    "\n",
    "# No. Unique Answers\n",
    "(3.871624691365818, 0.14868601487489422), 3.8640236316303094\n",
    "\n",
    "# Shade Count\n",
    "(3.8709152916304403, 0.15086500313738746), 3.8550035680351034\n",
    "\n",
    "# Scrabble Illegal\n",
    "(3.870357314888479, 0.1471882244259507), 3.8508298160533823\n",
    "\n",
    "# Stacks\n",
    "(3.8674425934418295, 0.14814437540494968), 3.8584970065444595\n",
    "\n",
    "# Scrabble Average\n",
    "(3.8669548340683293, 0.14836517633626575), 3.8584970065444595\n",
    "\n",
    "# Black Square Fill\n",
    "(3.8669548340683293, 0.14836517633626575), 3.8584970065444595\n",
    "\n",
    "# Outside Grid\n",
    "(3.8669548340683293, 0.14836517633626575), 3.8584970065444595\n",
    "\n",
    "# Unusual Symmetry\n",
    "(3.8669548340683293, 0.14836517633626575), 3.8584970065444595\n",
    "\n",
    "# Unused Letters\n",
    "(3.8669548340683293, 0.14836517633626575), 3.8584970065444595\n",
    "\n",
    "# Circle Count\n",
    "(3.8699371312833, 0.14359614556517153), 3.852020862599379\n",
    "\n",
    "# Cross Ref Clues Count\n",
    "(3.865532237856642, 0.14912123496350976), 3.858771585202639\n",
    "\n",
    "# FITB\n",
    "(3.863668715134601, 0.15146953589161224), 3.8570412788829076\n",
    "\n",
    "# Scrabble Score\n",
    "(3.8631571166721628, 0.15044969243958803), 3.853776685720209 \n",
    "\n",
    "# Cheater Squares\n",
    "(3.862774414623762, 0.14983457306589865), 3.8473049894802362\n",
    "\n",
    "# Open Squares\n",
    "(3.862429995723562, 0.1312275283788608), 3.8586768609609425\n",
    "\n",
    "# Average Answer Length\n",
    "(3.8618948938880835, 0.14870264327297952), 3.8583350183210787\n",
    "\n",
    "# Black Squares\n",
    "(3.859584037348706, 0.14474461693784563), 3.8524308147665995"
   ]
  },
  {
   "cell_type": "code",
   "execution_count": null,
   "id": "14479bb1",
   "metadata": {},
   "outputs": [],
   "source": [
    "#feature subtraction modeling -other features of interest\n",
    "data = [[\"Best Model\", 3.8669548340683293, 0.14836517633626575], [\"-Freshness Factor\", 3.913696546912179, 0.15719554491413826], [\"-Wordplay\", 3.889274982476202, 0.13876718165539417], [\"BM\", 3.8669548340683293, 0.14836517633626574], [\"-FF\", 3.913696546912179, 0.15719554491413825], [\"-WP\", 3.889274982476202, 0.13876718165539416]]\n",
    "df = pd.DataFrame(data, columns=[\"Model Inclusion\", \"Training Error\", \"Training SD\"])\n",
    "df"
   ]
  },
  {
   "cell_type": "code",
   "execution_count": null,
   "id": "37547f49",
   "metadata": {},
   "outputs": [],
   "source": [
    "#subtraction modeling bar plot - other features of note (Fig. 10 left panel)\n",
    "plt.figure(figsize=(20, 10))\n",
    "g = sns.barplot(x=\"Model Inclusion\",y=\"Training Error\",data=df, palette = [\"gray\",\"darkgreen\",\"green\", \"gray\",\"darkgreen\",\"green\"], yerr=df[\"Training SD\"]*1)\n",
    "g.set_ylabel(\"training_error (mean +- sd)\")\n",
    "#g.set(xticklabels=[\"\", \"\"])\n",
    "g.set_xlabel(\"Model_Error\")\n",
    "g.set_ylim(3.5,4.75);\n",
    "\n",
    "# # Define some hatches\n",
    "# hatches = ['', '', '', '', '', '']\n",
    "\n",
    "# # Loop over the bars\n",
    "# for i,thisbar in enumerate(g.patches):\n",
    "#     # Set a different hatch for each bar\n",
    "#     thisbar.set_hatch(hatches[i])"
   ]
  },
  {
   "cell_type": "code",
   "execution_count": null,
   "id": "1e63a5e4",
   "metadata": {},
   "outputs": [],
   "source": [
    "# Percentage Change From Best Model\n",
    "FF_diff = ((3.913696546912179- 3.8669548340683293)/(abs(4.33335801877782)))*100 \n",
    "print(FF_diff)\n",
    "\n",
    "Wply_diff = ((3.889274982476202 - 3.8669548340683293)/(abs(3.9237891580818434)))*100 \n",
    "print(Wply_diff)\n",
    "\n",
    "Rebus_diff = ((3.8736989715095453 - 3.8669548340683293)/(abs(3.9237891580818434)))*100 \n",
    "print(Rebus_diff)"
   ]
  },
  {
   "cell_type": "markdown",
   "id": "2f1af104",
   "metadata": {},
   "source": [
    "### Figure 10. Best Puzzle Day-Specific Model (BPDM) Prediction Quality\n",
    "Data imported from 03_Preprocessing_Training, 04_Modeling, 04b_Modeling-ByPuzzleDay\n",
    "\n",
    "Note: Best model per day was derived using an 80/20 split for the best overall model (Linear Regressor), in contrast to the 75/25 split used in the best full 15x15 model. "
   ]
  },
  {
   "cell_type": "code",
   "execution_count": null,
   "id": "a4850c10",
   "metadata": {},
   "outputs": [],
   "source": [
    "#Reorganizing training mean and sd to use Matplotlib because of Seaborn limitations with using pre-computed error bars per condition (very annoying that they can't address this)\n",
    "#see https://stackoverflow.com/questions/23144784/plotting-error-bars-on-grouped-bars-in-pandas\n",
    "\n",
    "df = pd.DataFrame([[\"Sunday\",7.140582900447827,8.942854685990017,1.0077825561046112,0], [\"Monday\",1.0644283493108626,1.3805770917395046,0.2677159835269014,0], [\"Tuesday\",2.20419829029771,2.760079256091781,0.4358910601992568,0], [\"Wednesday\", 2.8986092773443644,3.5201181654076397,0.49423763999645476,0], [\"Thursday\",4.618529342762577,5.176778227794464,0.6872044725871123,0], [\"Friday\", 4.624330526775953,5.129197429415248,0.7026553204792962,0], [\"Saturday\",6.276081936647444,6.616970179334104,1.0426601877740016,0]], columns = [\"DOW\", \"mean_1\", \"mean_2\", \"std_1\", \"std_2\"])\n",
    "\n",
    "#convert std columns to array for plotting\n",
    "yerr = df[[\"std_1\", \"std_2\"]].to_numpy().T"
   ]
  },
  {
   "cell_type": "code",
   "execution_count": null,
   "id": "58744b3b",
   "metadata": {},
   "outputs": [],
   "source": [
    "# Also need mean training set GMSTs per puzzle day so we can percentigize the error to normalize across puzzle days for comparison\n",
    "Sun_training_mean = 38.291194968553455\n",
    "Mon_training_mean = 6.965487421383648\n",
    "Tue_training_mean=  9.80798122065728\n",
    "Wed_training_mean= 13.399295774647895\n",
    "Thu_training_mean= 20.871596244131464\n",
    "Fri_training_mean= 21.601877934272316\n",
    "Sat_training_mean= 27.04100156494523"
   ]
  },
  {
   "cell_type": "code",
   "execution_count": null,
   "id": "dfd82865",
   "metadata": {},
   "outputs": [],
   "source": [
    "# Normalize each puzzle day by the training set mean \n",
    "# Full Model - Mean\n",
    "\n",
    "Sun_error_pct = ((7.140582900447827)/(38.291194968553455))*100 \n",
    "print(Sun_error_pct)\n",
    "\n",
    "Mon_error_pct = ((1.0644283493108626)/(6.965487421383648))*100 \n",
    "print(Mon_error_pct)\n",
    "\n",
    "Tue_error_pct = ((2.20419829029771)/(9.80798122065728))*100 \n",
    "print(Tue_error_pct)\n",
    "\n",
    "Wed_error_pct = ((2.8986092773443644)/(13.399295774647895))*100 \n",
    "print(Wed_error_pct)\n",
    "\n",
    "Thu_error_pct = ((4.618529342762577)/(20.871596244131464))*100 \n",
    "print(Thu_error_pct)\n",
    "\n",
    "Fri_error_pct = ((4.624330526775953)/(21.601877934272316))*100 \n",
    "print(Fri_error_pct)\n",
    "\n",
    "Sat_error_pct = ((6.276081936647444)/(27.04100156494523))*100 \n",
    "print(Sat_error_pct)"
   ]
  },
  {
   "cell_type": "code",
   "execution_count": null,
   "id": "7634fe13",
   "metadata": {},
   "outputs": [],
   "source": [
    "# Normalize each puzzle day subtraction by the training set mean without that day\n",
    "# Full Model - stdev\n",
    "Sun_error_pct = ((1.0077825561046112)/(38.291194968553455))*100 \n",
    "print(Sun_error_pct)\n",
    "\n",
    "Mon_error_pct = ((0.2677159835269014)/(6.965487421383648))*100 \n",
    "print(Mon_error_pct)\n",
    "\n",
    "Tue_error_pct = ((0.4358910601992568)/(9.80798122065728))*100 \n",
    "print(Tue_error_pct)\n",
    "\n",
    "Wed_error_pct = ((0.49423763999645476)/(13.399295774647895))*100 \n",
    "print(Wed_error_pct)\n",
    "\n",
    "Thu_error_pct = ((0.6872044725871123)/(20.871596244131464))*100 \n",
    "print(Thu_error_pct)\n",
    "\n",
    "Fri_error_pct = ((0.7026553204792962)/(21.601877934272316))*100 \n",
    "print(Fri_error_pct)\n",
    "\n",
    "Sat_error_pct = ((1.0426601877740016)/(27.04100156494523))*100 \n",
    "print(Sat_error_pct)"
   ]
  },
  {
   "cell_type": "code",
   "execution_count": null,
   "id": "8822afeb",
   "metadata": {},
   "outputs": [],
   "source": [
    "# Normalize each puzzle day subtraction by the training set mean without that day\n",
    "# Dummy Model - Mean\n",
    "Sun_error_pct = ((8.942854685990017)/(38.291194968553455))*100 \n",
    "print(Sun_error_pct)\n",
    "\n",
    "Mon_error_pct = ((1.3805770917395046)/(6.965487421383648))*100 \n",
    "print(Mon_error_pct)\n",
    "\n",
    "Tue_error_pct = ((2.760079256091781)/(9.80798122065728))*100 \n",
    "print(Tue_error_pct)\n",
    "\n",
    "Wed_error_pct = ((3.5201181654076397)/(13.399295774647895))*100 \n",
    "print(Wed_error_pct)\n",
    "\n",
    "Thu_error_pct = ((5.176778227794464)/(20.871596244131464))*100 \n",
    "print(Thu_error_pct)\n",
    "\n",
    "Fri_error_pct = ((5.129197429415248)/(21.601877934272316))*100 \n",
    "print(Fri_error_pct)\n",
    "\n",
    "Sat_error_pct = ((6.616970179334104)/(27.04100156494523))*100 \n",
    "print(Sat_error_pct)"
   ]
  },
  {
   "cell_type": "code",
   "execution_count": null,
   "id": "b3fa5c46",
   "metadata": {},
   "outputs": [],
   "source": [
    "#Reorganizing training mean and sd to use Matplotlib because of Seaborn limitations with using pre-computed error bars per condition (very annoying that they can't address this)\n",
    "#see https://stackoverflow.com/questions/23144784/plotting-error-bars-on-grouped-bars-in-pandas\n",
    "#Percentigized version (used this version in Github Summary)\n",
    "\n",
    "df = pd.DataFrame([[\"Sunday\",18.64810671568754,23.354859239400373,2.6318911095155166,0], [\"Monday\",15.281462515360063,19.82025102078588,3.84346374246587,0], [\"Tuesday\",22.47351662598306,28.14115559559375,4.444248519575016,0], [\"Wednesday\",21.63254939732483,26.270919193140514,3.688534444709967,0], [\"Thursday\",22.128299573930214,24.802981847878723,3.292534334935383,0], [\"Friday\",21.40707646273314,23.74422003967328,3.2527510923691647,0], [\"Saturday\",23.20950250889923,24.470137185717462,3.8558489975669414,0]], columns = [\"DOW\", \"mean_1\", \"mean_2\", \"std_1\", \"std_2\"])\n",
    "\n",
    "#convert std columns to array for plotting\n",
    "yerr = df[[\"std_1\", \"std_2\"]].to_numpy().T"
   ]
  },
  {
   "cell_type": "code",
   "execution_count": null,
   "id": "6c8856c7",
   "metadata": {},
   "outputs": [],
   "source": [
    "#Plot mean training error as % of puzzle day mean solve time\n",
    "df[['mean_1', 'mean_2']].plot(kind='bar', yerr = yerr, stacked=False, color= [[\"red\", \"#FF7518\", \"#ffdf00\", \"g\", \"#1F51FF\", \"#5d76cb\", \"fuchsia\"],[\"gray\"]], error_kw=dict(ecolor='k'))\n",
    "plt.xlabel('Puzzle Day')\n",
    "plt.ylabel('training_error (% of mean +- sd)')\n",
    "plt.ylim(10,35)\n",
    "plt.legend(labels = [\"Best Puzzle Day Model\", \"Puzzle Day Dummy Model\"])\n",
    "x = [0, 1, 2, 3, 4, 5, 6]\n",
    "labels = [\"Sunday\", \"Monday\", \"Tuesday\", \"Wednesday\", \"Thursday\", \"Friday\", \"Saturday\"]\n",
    "plt.xticks(x, labels, rotation=\"horizontal\");"
   ]
  },
  {
   "cell_type": "markdown",
   "id": "ca8ba5e3",
   "metadata": {},
   "source": [
    "#### Not Included in Summary"
   ]
  },
  {
   "cell_type": "code",
   "execution_count": null,
   "id": "ad51d457",
   "metadata": {},
   "outputs": [],
   "source": []
  },
  {
   "cell_type": "code",
   "execution_count": 52,
   "id": "9c302b84",
   "metadata": {},
   "outputs": [
    {
     "data": {
      "text/html": [
       "<div>\n",
       "<style scoped>\n",
       "    .dataframe tbody tr th:only-of-type {\n",
       "        vertical-align: middle;\n",
       "    }\n",
       "\n",
       "    .dataframe tbody tr th {\n",
       "        vertical-align: top;\n",
       "    }\n",
       "\n",
       "    .dataframe thead th {\n",
       "        text-align: right;\n",
       "    }\n",
       "</style>\n",
       "<table border=\"1\" class=\"dataframe\">\n",
       "  <thead>\n",
       "    <tr style=\"text-align: right;\">\n",
       "      <th></th>\n",
       "      <th>Model Inclusion</th>\n",
       "      <th>Training Error</th>\n",
       "      <th>Training SD</th>\n",
       "    </tr>\n",
       "  </thead>\n",
       "  <tbody>\n",
       "    <tr>\n",
       "      <th>0</th>\n",
       "      <td>Best Model</td>\n",
       "      <td>3.866955</td>\n",
       "      <td>0.148365</td>\n",
       "    </tr>\n",
       "    <tr>\n",
       "      <th>1</th>\n",
       "      <td>-Freshness Factor</td>\n",
       "      <td>3.913697</td>\n",
       "      <td>0.157196</td>\n",
       "    </tr>\n",
       "    <tr>\n",
       "      <th>2</th>\n",
       "      <td>-Wordplay</td>\n",
       "      <td>3.889275</td>\n",
       "      <td>0.138767</td>\n",
       "    </tr>\n",
       "    <tr>\n",
       "      <th>3</th>\n",
       "      <td>BM</td>\n",
       "      <td>3.866955</td>\n",
       "      <td>0.148365</td>\n",
       "    </tr>\n",
       "    <tr>\n",
       "      <th>4</th>\n",
       "      <td>-FF</td>\n",
       "      <td>3.913697</td>\n",
       "      <td>0.157196</td>\n",
       "    </tr>\n",
       "    <tr>\n",
       "      <th>5</th>\n",
       "      <td>-WP</td>\n",
       "      <td>3.889275</td>\n",
       "      <td>0.138767</td>\n",
       "    </tr>\n",
       "  </tbody>\n",
       "</table>\n",
       "</div>"
      ],
      "text/plain": [
       "     Model Inclusion  Training Error  Training SD\n",
       "0         Best Model        3.866955     0.148365\n",
       "1  -Freshness Factor        3.913697     0.157196\n",
       "2          -Wordplay        3.889275     0.138767\n",
       "3                 BM        3.866955     0.148365\n",
       "4                -FF        3.913697     0.157196\n",
       "5                -WP        3.889275     0.138767"
      ]
     },
     "execution_count": 52,
     "metadata": {},
     "output_type": "execute_result"
    }
   ],
   "source": []
  },
  {
   "cell_type": "code",
   "execution_count": 53,
   "id": "3655c242",
   "metadata": {},
   "outputs": [
    {
     "data": {
      "image/png": "[encoded data removed]",
      "text/plain": [
       "<Figure size 1440x720 with 1 Axes>"
      ]
     },
     "metadata": {
      "needs_background": "light"
     },
     "output_type": "display_data"
    }
   ],
   "source": []
  },
  {
   "cell_type": "code",
   "execution_count": 47,
   "id": "d824a8b8",
   "metadata": {},
   "outputs": [
    {
     "name": "stdout",
     "output_type": "stream",
     "text": [
      "1.0786487671063163\n",
      "0.5688416861517618\n",
      "0.17187818125561416\n"
     ]
    }
   ],
   "source": []
  },
  {
   "cell_type": "markdown",
   "id": "69a2505e",
   "metadata": {},
   "source": [
    "### Not Currently In Summary"
   ]
  },
  {
   "cell_type": "markdown",
   "id": "76d647dc",
   "metadata": {},
   "source": [
    "### Puzzle Day Subtractions\n",
    "Using Best Model (GBM), but re-running best hyperparameters per subtraction model"
   ]
  },
  {
   "cell_type": "markdown",
   "id": "f2282fbe",
   "metadata": {},
   "source": [
    "Training Set Error, Means, and Training/Testing Ns Minus Individual Puzzle Days\n",
    "Minus Monday: \n",
    "(4.161549688695963, 0.30904287979625544), 4.668333200604575\n",
    "18.309652638610572 (998, 333)\n",
    "\n",
    "Minus Tuesday:\n",
    "(4.1846337183329885, 0.31043371297256817), 4.412384733707805\n",
    "17.698712805081914 (997, 333)\n",
    "\n",
    "Minus Wednesday:\n",
    "(4.077814574617915, 0.2567764434934064), 4.313691792794807\n",
    "16.908793045804092 (998, 333)\n",
    "\n",
    "Minus Thursday:\n",
    "(3.848559712359557, 0.31384001078486584), 3.9794858289435564 \n",
    "15.426496155132062, (997, 333)\n",
    "\n",
    "Minus Friday:\n",
    "(3.870266154420885, 0.23240516811060857), 3.8533089756586416\n",
    "15.334804413239723, (997, 333)\n",
    "\n",
    "Minus Saturday: \n",
    "(3.428025081162972, 0.3662050962511462), 3.438766494902316 \n",
    "14.352056168505529, (997, 333)"
   ]
  },
  {
   "cell_type": "code",
   "execution_count": 21,
   "id": "5cac741b",
   "metadata": {},
   "outputs": [
    {
     "name": "stdout",
     "output_type": "stream",
     "text": [
      "22.7287200409268\n",
      "23.64371784783939\n",
      "24.11653252583763\n",
      "24.947724186086315\n",
      "25.23844484823937\n",
      "23.88525407729038\n"
     ]
    }
   ],
   "source": [
    "# Normalize each puzzle day subtraction by the training set mean without that day\n",
    "Mon_subtract_error_pct = ((4.161549688695963)/(18.309652638610572))*100 \n",
    "print(Mon_subtract_error_pct)\n",
    "\n",
    "Tue_subtract_error_pct = ((4.1846337183329885)/(17.698712805081914))*100 \n",
    "print(Tue_subtract_error_pct)\n",
    "\n",
    "Wed_subtract_error_pct = ((4.077814574617915)/(16.908793045804092))*100 \n",
    "print(Wed_subtract_error_pct)\n",
    "\n",
    "Thu_subtract_error_pct = ((3.848559712359557)/(15.426496155132062))*100 \n",
    "print(Thu_subtract_error_pct)\n",
    "\n",
    "Fri_subtract_error_pct = ((3.870266154420885)/(15.334804413239723))*100 \n",
    "print(Fri_subtract_error_pct)\n",
    "\n",
    "Sat_subtract_error_pct = ((3.428025081162972)/(14.352056168505529))*100 \n",
    "print(Sat_subtract_error_pct)"
   ]
  },
  {
   "cell_type": "code",
   "execution_count": 22,
   "id": "afb4d741",
   "metadata": {},
   "outputs": [
    {
     "name": "stdout",
     "output_type": "stream",
     "text": [
      "1.68786861168824\n",
      "1.753990340379058\n",
      "1.5185971157008473\n",
      "2.0344218650095605\n",
      "1.5155404780380193\n",
      "2.551586281098557\n"
     ]
    }
   ],
   "source": [
    "# Now Normalize the error estimate for each puzzle day subtraction by the training set mean without thar day\n",
    "Mon_subtract_error_pct = ((0.30904287979625544)/(18.309652638610572))*100 \n",
    "print(Mon_subtract_error_pct)\n",
    "\n",
    "Tue_subtract_error_pct = ((0.31043371297256817)/(17.698712805081914))*100 \n",
    "print(Tue_subtract_error_pct)\n",
    "\n",
    "Wed_subtract_error_pct = ((0.2567764434934064)/(16.908793045804092))*100 \n",
    "print(Wed_subtract_error_pct)\n",
    "\n",
    "Thu_subtract_error_pct = ((0.31384001078486584)/(15.426496155132062))*100 \n",
    "print(Thu_subtract_error_pct)\n",
    "\n",
    "Fri_subtract_error_pct = ((0.23240516811060857)/(15.334804413239723))*100 \n",
    "print(Fri_subtract_error_pct)\n",
    "\n",
    "Sat_subtract_error_pct = ((0.3662050962511462)/(14.352056168505529))*100 \n",
    "print(Sat_subtract_error_pct)"
   ]
  },
  {
   "cell_type": "code",
   "execution_count": null,
   "id": "2f2a0b3a",
   "metadata": {},
   "outputs": [],
   "source": [
    "#Now take 25 runs of random 1330 row samples across ALL puzzle days (and average) to control for removal of n for each day subtraction\n",
    "#This is the 'Best Model' variant to compare to each day subtraction model\n",
    "(3.8396474061113133, 0.30688464670612187), 4.010385694498458     16.507790036777\n",
    "(3.962803824613475, 0.48794221850221847), 4.177138923515709      16.42459043798062\n",
    "(3.9918194518859984, 0.09198894015767776), 3.8790215206529095    16.654279505182203\n",
    "(3.978378647319451, 0.1742921255830577), 4.20171623386908        16.394132397191566\n",
    "(4.046163657686746, 0.26349990966612674), 3.788663451972648      16.41753594115679\n",
    "(4.011627420691781, 0.27142113114555827), 4.26243600935574       16.284336342360415\n",
    "(3.906170566493195, 0.21965232215232017), 4.124777113663119      16.323637579404878\n",
    "(3.915670288284106, 0.3621311147535244), 4.1190939340731925      16.44565362754932\n",
    "(3.8679059957746396, 0.392588891251768), 4.244791058077087       16.501537947174853\n",
    "(3.863518329640521, 0.3264664078801083), 4.021447338390029       16.63701103309928\n",
    "(3.8761174323794902, 0.2663454252850562), 4.031579967398958      16.41242059511869\n",
    "(3.9896659636639145, 0.26675326998480153), 3.931983564973559     16.481561350718824\n",
    "(4.081879736098512, 0.34226343086065675), 3.836215696556573      16.587679705784034\n",
    "(3.87622996130266, 0.4035083373133206), 3.8783947341142517       16.431945837512533\n",
    "(4.108165161332699, 0.27143706255660405), 3.9657280986539596     16.56827148110999\n",
    "(4.014359246832887, 0.3399215797391659), 4.064781719538556       16.630458040789048\n",
    "(3.9654053711722144, 0.3363327852160795), 4.008177297038098      16.51904045469742\n",
    "(4.019176267066907, 0.2760667272146102), 4.110433493339572       16.260732196589775\n",
    "(4.012830179857876, 0.33622209669325326), 3.9256669500387673     16.356218655967886\n",
    "(3.899032241126508, 0.3031523583335664), 4.08137060030978        16.21880641925777\n",
    "(3.9251811131565875, 0.2644532355573561), 4.361278565646878      16.184754262788353\n",
    "(4.109157176609871, 0.21789213335292637), 3.884084051339625      16.56878970244066\n",
    "(4.018072087466151, 0.2676312314768951), 4.067947797396523       16.36315613507188\n",
    "(3.906951415757405, 0.30317802296845214), 3.9063093207065953     16.209144098963556\n",
    "(3.961031329147479, 0.3924429384348869), 4.205996038515867       16.555449682380473"
   ]
  },
  {
   "cell_type": "code",
   "execution_count": 39,
   "id": "5c1e0a4b",
   "metadata": {},
   "outputs": [
    {
     "data": {
      "text/plain": [
       "16.437557338682716"
      ]
     },
     "execution_count": 39,
     "metadata": {},
     "output_type": "execute_result"
    }
   ],
   "source": [
    "#Get mean training set raw solve time (rst) from the 25 runs\n",
    "training_error_rst = [16.507790036777, 16.42459043798062, 16.654279505182203, 16.394132397191566, 16.41753594115679, 16.284336342360415,\n",
    "                 16.323637579404878, 16.44565362754932, 16.501537947174853, 16.63701103309928, 16.41242059511869, 16.481561350718824,\n",
    "                 16.587679705784034, 16.431945837512533, 16.56827148110999, 16.630458040789048, 16.51904045469742, 16.260732196589775,\n",
    "                 16.356218655967886, 16.21880641925777, 16.184754262788353, 16.56878970244066, 16.36315613507188, 16.209144098963556, 16.555449682380473]\n",
    "training_error_mean_rst = sum(training_error_rst)/len(training_error_rst)\n",
    "training_error_mean_rst"
   ]
  },
  {
   "cell_type": "code",
   "execution_count": 40,
   "id": "eee95fe6",
   "metadata": {},
   "outputs": [
    {
     "data": {
      "text/plain": [
       "3.9658784108588954"
      ]
     },
     "execution_count": 40,
     "metadata": {},
     "output_type": "execute_result"
    }
   ],
   "source": [
    "#Get mean training error from the 25 runs\n",
    "training_error = [3.8396474061113133, 3.962803824613475, 3.9918194518859984, 3.978378647319451, 4.046163657686746,4.011627420691781,\n",
    "                  3.906170566493195, 3.915670288284106, 3.8679059957746396, 3.863518329640521, 3.8761174323794902, 3.9896659636639145,\n",
    "                  4.081879736098512, 3.87622996130266, 4.108165161332699, 4.014359246832887, 3.9654053711722144, 4.019176267066907,\n",
    "                  4.012830179857876, 3.899032241126508, 3.9251811131565875, 4.109157176609871, 4.018072087466151, 3.906951415757405, 3.961031329147479]\n",
    "training_error_mean = sum(training_error)/len(training_error)\n",
    "training_error_mean"
   ]
  },
  {
   "cell_type": "code",
   "execution_count": 41,
   "id": "b1d46b32",
   "metadata": {},
   "outputs": [
    {
     "data": {
      "text/plain": [
       "0.2993787337114445"
      ]
     },
     "execution_count": 41,
     "metadata": {},
     "output_type": "execute_result"
    }
   ],
   "source": [
    "#Get mean training error std from the 25 runs\n",
    "training_error_std = [0.30688464670612187, 0.48794221850221847, 0.09198894015767776, 0.1742921255830577, 0.26349990966612674, 0.27142113114555827,\n",
    "                 0.21965232215232017, 0.3621311147535244, 0.392588891251768, 0.3264664078801083, 0.2663454252850562, 0.26675326998480153,\n",
    "                 0.34226343086065675, 0.4035083373133206, 0.27143706255660405, 0.3399215797391659, 0.3363327852160795, 0.2760667272146102,\n",
    "                 0.33622209669325326, 0.3031523583335664, 0.2644532355573561, 0.21789213335292637, 0.2676312314768951, 0.30317802296845214, 0.3924429384348869]\n",
    "training_error_mean_std = sum(training_error_std)/len(training_error_std)\n",
    "training_error_mean_std"
   ]
  },
  {
   "cell_type": "code",
   "execution_count": 42,
   "id": "da6897a0",
   "metadata": {},
   "outputs": [
    {
     "name": "stdout",
     "output_type": "stream",
     "text": [
      "24.12693278657616\n",
      "1.821309137014614\n"
     ]
    }
   ],
   "source": [
    "# Now Normalize the error estimate for the whole sample control (same N as the subtractions) subtraction by the training set mean without that day\n",
    "\n",
    "Mon_subtract_error_pct = ((3.9658784108588954)/(16.437557338682716))*100 \n",
    "print(Mon_subtract_error_pct)\n",
    "\n",
    "Mon_subtract_error_std_pct = ((0.2993787337114445)/(16.437557338682716))*100 \n",
    "print(Mon_subtract_error_std_pct)"
   ]
  },
  {
   "cell_type": "code",
   "execution_count": 52,
   "id": "eb41300a",
   "metadata": {},
   "outputs": [
    {
     "data": {
      "text/html": [
       "<div>\n",
       "<style scoped>\n",
       "    .dataframe tbody tr th:only-of-type {\n",
       "        vertical-align: middle;\n",
       "    }\n",
       "\n",
       "    .dataframe tbody tr th {\n",
       "        vertical-align: top;\n",
       "    }\n",
       "\n",
       "    .dataframe thead th {\n",
       "        text-align: right;\n",
       "    }\n",
       "</style>\n",
       "<table border=\"1\" class=\"dataframe\">\n",
       "  <thead>\n",
       "    <tr style=\"text-align: right;\">\n",
       "      <th></th>\n",
       "      <th>Model_Inclusion</th>\n",
       "      <th>Training_Error</th>\n",
       "      <th>Training_SD</th>\n",
       "    </tr>\n",
       "  </thead>\n",
       "  <tbody>\n",
       "    <tr>\n",
       "      <th>0</th>\n",
       "      <td>Full_Model</td>\n",
       "      <td>24.126933</td>\n",
       "      <td>1.821309</td>\n",
       "    </tr>\n",
       "    <tr>\n",
       "      <th>1</th>\n",
       "      <td>-Monday</td>\n",
       "      <td>22.728720</td>\n",
       "      <td>1.687869</td>\n",
       "    </tr>\n",
       "    <tr>\n",
       "      <th>2</th>\n",
       "      <td>-Tuesday</td>\n",
       "      <td>23.643718</td>\n",
       "      <td>1.753990</td>\n",
       "    </tr>\n",
       "    <tr>\n",
       "      <th>3</th>\n",
       "      <td>-Wednesday</td>\n",
       "      <td>24.116533</td>\n",
       "      <td>1.518597</td>\n",
       "    </tr>\n",
       "    <tr>\n",
       "      <th>4</th>\n",
       "      <td>-Thursday</td>\n",
       "      <td>24.947724</td>\n",
       "      <td>2.034422</td>\n",
       "    </tr>\n",
       "    <tr>\n",
       "      <th>5</th>\n",
       "      <td>-Friday</td>\n",
       "      <td>25.238445</td>\n",
       "      <td>1.515540</td>\n",
       "    </tr>\n",
       "    <tr>\n",
       "      <th>6</th>\n",
       "      <td>-Saturday</td>\n",
       "      <td>23.885254</td>\n",
       "      <td>2.551586</td>\n",
       "    </tr>\n",
       "  </tbody>\n",
       "</table>\n",
       "</div>"
      ],
      "text/plain": [
       "  Model_Inclusion  Training_Error  Training_SD\n",
       "0      Full_Model       24.126933     1.821309\n",
       "1         -Monday       22.728720     1.687869\n",
       "2        -Tuesday       23.643718     1.753990\n",
       "3      -Wednesday       24.116533     1.518597\n",
       "4       -Thursday       24.947724     2.034422\n",
       "5         -Friday       25.238445     1.515540\n",
       "6       -Saturday       23.885254     2.551586"
      ]
     },
     "execution_count": 52,
     "metadata": {},
     "output_type": "execute_result"
    }
   ],
   "source": [
    "#Full model data (N control version) for this df are coming from the 25 run averages directly above\n",
    "data = [[\"Full_Model\", 24.12693278657616, 1.821309137014614], [\"-Monday\", 22.7287200409268, 1.68786861168824], [\"-Tuesday\", 23.64371784783939, 1.753990340379058], [\"-Wednesday\", 24.11653252583763, 1.5185971157008473], [\"-Thursday\", 24.947724186086315, 2.0344218650095605], [\"-Friday\", 25.23844484823937, 1.5155404780380193], [\"-Saturday\", 23.88525407729038, 2.551586281098557]]\n",
    "df = pd.DataFrame(data, columns=[\"Model_Inclusion\", \"Training_Error\", \"Training_SD\"])\n",
    "df"
   ]
  },
  {
   "cell_type": "code",
   "execution_count": 53,
   "id": "e9d23f17",
   "metadata": {},
   "outputs": [
    {
     "data": {
      "text/plain": [
       "(20.0, 30.0)"
      ]
     },
     "execution_count": 53,
     "metadata": {},
     "output_type": "execute_result"
    },
    {
     "data": {
      "image/png": "[encoded data removed]",
      "text/plain": [
       "<Figure size 432x288 with 1 Axes>"
      ]
     },
     "metadata": {
      "needs_background": "light"
     },
     "output_type": "display_data"
    }
   ],
   "source": [
    "#Figure 8\n",
    "#plt.figure(figsize=(20, 10))\n",
    "g = sns.barplot(x=\"Model_Inclusion\",y=\"Training_Error\",data=df, palette = [\"grey\", \"#FF7518\", \"#ffdf00\", \"g\", \"#1F51FF\", \"#5d76cb\", \"fuchsia\"], yerr=df[\"Training_SD\"]*1)\n",
    "g.set_ylabel(\"training_error (mean + se)\")\n",
    "#g.set(xticklabels=[\"\", \"\"])\n",
    "g.set_xlabel(\"Model_Error\")\n",
    "g.set_ylim(20,30)"
   ]
  },
  {
   "cell_type": "markdown",
   "id": "e522d32f",
   "metadata": {},
   "source": [
    "Day By Day Models"
   ]
  },
  {
   "cell_type": "markdown",
   "id": "bec7642d",
   "metadata": {},
   "source": [
    "Monday\n",
    "Training set mean: 7.045117845117848\n",
    "\n"
   ]
  }
 ],
 "metadata": {
  "kernelspec": {
   "display_name": "Python 3",
   "language": "python",
   "name": "python3"
  },
  "language_info": {
   "codemirror_mode": {
    "name": "ipython",
    "version": 3
   },
   "file_extension": ".py",
   "mimetype": "text/x-python",
   "name": "python",
   "nbconvert_exporter": "python",
   "pygments_lexer": "ipython3",
   "version": "3.8.8"
  }
 },
 "nbformat": 4,
 "nbformat_minor": 5
}
