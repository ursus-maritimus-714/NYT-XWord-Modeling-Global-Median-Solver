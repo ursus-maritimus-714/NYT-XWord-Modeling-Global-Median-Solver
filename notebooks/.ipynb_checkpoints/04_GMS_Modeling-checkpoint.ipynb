{
 "cells": [
  {
   "cell_type": "markdown",
   "id": "6aa24a63",
   "metadata": {},
   "source": [
    "## Predictive Modeling (GMS) \n",
    "\n",
    "### Summary of Previous Stage (see Notebook 3; Preprocessing_Training)\n",
    "\n",
    "Note that puzzles from 2018 have been removed during the feature generation stage due to the volatility of times in that solve period. Features (GMS 'past performance' class) with accrual, however, still accrued from that period prior to its removal.  \n",
    "\n",
    "#### 2 Linear Regression \"Benchmark\" models were generated to predict GMS solve times on 15x15 (Mon-Sat) puzzles:\n",
    "* 1) A \"dummy\" model, which simply uses mean of training data split to predict target feature -GMS's raw solve time (in min)\n",
    "    * Root Mean Squared Error (RMSE) Training Set: 8.12;  Test Set: 8.49 \n",
    "* 3) A univariate linear model using GMS's puzzle-day specific mean solve time across the entire sample as the sole predictive feature (ie, if predicting a Mon GMS solve time, GMS Mon mean across the entire sample is used to predict)\n",
    "    * Root Mean Squared Error (RMSE) Training Set: 4.37(.21);  Test Set: 4.45\n",
    " \n",
    "75%/25% Train/Test split was used for each of these Benchmark models\n",
    "\n",
    "### High-Level Overview of Modeling\n",
    "\n",
    "Four regression models are evaluated presently, across the entire sample of 15x15 puzzles solved by the GMS. First is simply a Linear Regression Model. The subsequent three models are decision tree models: Random Forest, Gradient Boosting Regressor and HistGradient Boosting Regressor. The latter is an ensemble machine learning algorithm that is very fast (relative to standard gradient boosting models), and performs well on heterogenous data sets. Boosting, generally, refers to a class of ensemble learning algorithms that add tree models to an ensemble sequentially. \n",
    "\n",
    "Note: After multiple modeling iterations, both the short-term (past 10 puzzles) and intermediate-term (past 25 puzzles) GMS past-performance features were removed. This left only long-term (past 40 puzzles). These actions were found to yield slightly superior predictions compared to including all 3 or 2 of the 3."
   ]
  },
  {
   "cell_type": "markdown",
   "id": "fa9b3b3a",
   "metadata": {},
   "source": [
    "### Imports"
   ]
  },
  {
   "cell_type": "code",
   "execution_count": 314,
   "id": "318c8037",
   "metadata": {},
   "outputs": [],
   "source": [
    "import pandas as pd\n",
    "import numpy as np\n",
    "import os\n",
    "import pickle\n",
    "import matplotlib.pyplot as plt\n",
    "import seaborn as sns\n",
    "from sklearn import __version__ as sklearn_version\n",
    "#from sklearn.decomposition import PCA\n",
    "from sklearn.preprocessing import scale\n",
    "from sklearn.model_selection import train_test_split, cross_validate, GridSearchCV, learning_curve\n",
    "from sklearn.preprocessing import StandardScaler, MinMaxScaler\n",
    "from sklearn.dummy import DummyRegressor\n",
    "from sklearn.linear_model import LinearRegression\n",
    "from sklearn.ensemble import RandomForestRegressor\n",
    "from sklearn.ensemble import GradientBoostingRegressor\n",
    "from sklearn.experimental import enable_hist_gradient_boosting\n",
    "from sklearn.ensemble import HistGradientBoostingRegressor\n",
    "from sklearn.metrics import r2_score, mean_squared_error, mean_absolute_error\n",
    "from sklearn.pipeline import make_pipeline\n",
    "from sklearn.impute import SimpleImputer\n",
    "from sklearn.feature_selection import SelectKBest, f_regression\n",
    "import datetime\n",
    "from library.sb_utils import save_file"
   ]
  },
  {
   "cell_type": "markdown",
   "id": "8133d431",
   "metadata": {},
   "source": [
    "### Load and Filter Data"
   ]
  },
  {
   "cell_type": "markdown",
   "id": "847d7aaa",
   "metadata": {},
   "source": [
    "Filtering parameters identical to in dummy/simple modeling stage. "
   ]
  },
  {
   "cell_type": "code",
   "execution_count": 349,
   "id": "4e94cfab",
   "metadata": {},
   "outputs": [
    {
     "data": {
      "text/html": [
       "<div>\n",
       "<style scoped>\n",
       "    .dataframe tbody tr th:only-of-type {\n",
       "        vertical-align: middle;\n",
       "    }\n",
       "\n",
       "    .dataframe tbody tr th {\n",
       "        vertical-align: top;\n",
       "    }\n",
       "\n",
       "    .dataframe thead th {\n",
       "        text-align: right;\n",
       "    }\n",
       "</style>\n",
       "<table border=\"1\" class=\"dataframe\">\n",
       "  <thead>\n",
       "    <tr style=\"text-align: right;\">\n",
       "      <th></th>\n",
       "      <th>P_Date</th>\n",
       "      <th>P_Date_str</th>\n",
       "      <th>GMS_Completed</th>\n",
       "      <th>DOW</th>\n",
       "      <th>DOW_num</th>\n",
       "      <th>GMST(m)</th>\n",
       "      <th>GMS_pds_l10_dw</th>\n",
       "      <th>GMS_pds_l25_dw</th>\n",
       "      <th>GMS_pds_l40_dw</th>\n",
       "      <th>GMS_pds_l10_stdev</th>\n",
       "      <th>...</th>\n",
       "      <th>Shade_Count</th>\n",
       "      <th>Unusual_Sym</th>\n",
       "      <th>Black_Square_Fill</th>\n",
       "      <th>Outside_Grid</th>\n",
       "      <th>Unchecked_Sq</th>\n",
       "      <th>Uniclue</th>\n",
       "      <th>Duplicate_Answers</th>\n",
       "      <th>Quantum</th>\n",
       "      <th>Wordplay</th>\n",
       "      <th>overall_day_mean_GMST(m)</th>\n",
       "    </tr>\n",
       "  </thead>\n",
       "  <tbody>\n",
       "    <tr>\n",
       "      <th>0</th>\n",
       "      <td>2024-02-10</td>\n",
       "      <td>2024-02-10</td>\n",
       "      <td>1</td>\n",
       "      <td>Saturday</td>\n",
       "      <td>7.0</td>\n",
       "      <td>16.533333</td>\n",
       "      <td>22.473939</td>\n",
       "      <td>23.405692</td>\n",
       "      <td>23.289248</td>\n",
       "      <td>87.021771</td>\n",
       "      <td>...</td>\n",
       "      <td>0</td>\n",
       "      <td>1</td>\n",
       "      <td>0</td>\n",
       "      <td>0</td>\n",
       "      <td>0</td>\n",
       "      <td>0</td>\n",
       "      <td>0</td>\n",
       "      <td>0</td>\n",
       "      <td>6.0</td>\n",
       "      <td>26.505868</td>\n",
       "    </tr>\n",
       "    <tr>\n",
       "      <th>1</th>\n",
       "      <td>2024-02-09</td>\n",
       "      <td>2024-02-09</td>\n",
       "      <td>1</td>\n",
       "      <td>Friday</td>\n",
       "      <td>6.0</td>\n",
       "      <td>18.000000</td>\n",
       "      <td>17.519091</td>\n",
       "      <td>17.542564</td>\n",
       "      <td>18.048516</td>\n",
       "      <td>54.178030</td>\n",
       "      <td>...</td>\n",
       "      <td>0</td>\n",
       "      <td>0</td>\n",
       "      <td>0</td>\n",
       "      <td>0</td>\n",
       "      <td>0</td>\n",
       "      <td>0</td>\n",
       "      <td>0</td>\n",
       "      <td>0</td>\n",
       "      <td>6.0</td>\n",
       "      <td>21.438951</td>\n",
       "    </tr>\n",
       "    <tr>\n",
       "      <th>2</th>\n",
       "      <td>2024-02-08</td>\n",
       "      <td>2024-02-08</td>\n",
       "      <td>1</td>\n",
       "      <td>Thursday</td>\n",
       "      <td>5.0</td>\n",
       "      <td>15.600000</td>\n",
       "      <td>14.662121</td>\n",
       "      <td>17.264769</td>\n",
       "      <td>19.198943</td>\n",
       "      <td>41.407798</td>\n",
       "      <td>...</td>\n",
       "      <td>0</td>\n",
       "      <td>0</td>\n",
       "      <td>0</td>\n",
       "      <td>0</td>\n",
       "      <td>0</td>\n",
       "      <td>0</td>\n",
       "      <td>0</td>\n",
       "      <td>0</td>\n",
       "      <td>6.0</td>\n",
       "      <td>20.690762</td>\n",
       "    </tr>\n",
       "    <tr>\n",
       "      <th>3</th>\n",
       "      <td>2024-02-07</td>\n",
       "      <td>2024-02-07</td>\n",
       "      <td>1</td>\n",
       "      <td>Wednesday</td>\n",
       "      <td>4.0</td>\n",
       "      <td>11.850000</td>\n",
       "      <td>11.543636</td>\n",
       "      <td>13.135949</td>\n",
       "      <td>11.583069</td>\n",
       "      <td>35.430401</td>\n",
       "      <td>...</td>\n",
       "      <td>0</td>\n",
       "      <td>0</td>\n",
       "      <td>0</td>\n",
       "      <td>0</td>\n",
       "      <td>0</td>\n",
       "      <td>0</td>\n",
       "      <td>0</td>\n",
       "      <td>0</td>\n",
       "      <td>2.0</td>\n",
       "      <td>13.254744</td>\n",
       "    </tr>\n",
       "    <tr>\n",
       "      <th>4</th>\n",
       "      <td>2024-02-06</td>\n",
       "      <td>2024-02-06</td>\n",
       "      <td>1</td>\n",
       "      <td>Tuesday</td>\n",
       "      <td>3.0</td>\n",
       "      <td>8.716667</td>\n",
       "      <td>7.610606</td>\n",
       "      <td>8.017949</td>\n",
       "      <td>8.097398</td>\n",
       "      <td>22.480981</td>\n",
       "      <td>...</td>\n",
       "      <td>0</td>\n",
       "      <td>0</td>\n",
       "      <td>0</td>\n",
       "      <td>0</td>\n",
       "      <td>0</td>\n",
       "      <td>0</td>\n",
       "      <td>0</td>\n",
       "      <td>0</td>\n",
       "      <td>7.0</td>\n",
       "      <td>9.716916</td>\n",
       "    </tr>\n",
       "  </tbody>\n",
       "</table>\n",
       "<p>5 rows × 48 columns</p>\n",
       "</div>"
      ],
      "text/plain": [
       "       P_Date  P_Date_str  GMS_Completed        DOW  DOW_num    GMST(m)  \\\n",
       "0  2024-02-10  2024-02-10              1   Saturday      7.0  16.533333   \n",
       "1  2024-02-09  2024-02-09              1     Friday      6.0  18.000000   \n",
       "2  2024-02-08  2024-02-08              1   Thursday      5.0  15.600000   \n",
       "3  2024-02-07  2024-02-07              1  Wednesday      4.0  11.850000   \n",
       "4  2024-02-06  2024-02-06              1    Tuesday      3.0   8.716667   \n",
       "\n",
       "   GMS_pds_l10_dw  GMS_pds_l25_dw  GMS_pds_l40_dw  GMS_pds_l10_stdev  ...  \\\n",
       "0       22.473939       23.405692       23.289248          87.021771  ...   \n",
       "1       17.519091       17.542564       18.048516          54.178030  ...   \n",
       "2       14.662121       17.264769       19.198943          41.407798  ...   \n",
       "3       11.543636       13.135949       11.583069          35.430401  ...   \n",
       "4        7.610606        8.017949        8.097398          22.480981  ...   \n",
       "\n",
       "   Shade_Count  Unusual_Sym  Black_Square_Fill  Outside_Grid  Unchecked_Sq  \\\n",
       "0            0            1                  0             0             0   \n",
       "1            0            0                  0             0             0   \n",
       "2            0            0                  0             0             0   \n",
       "3            0            0                  0             0             0   \n",
       "4            0            0                  0             0             0   \n",
       "\n",
       "   Uniclue  Duplicate_Answers Quantum  Wordplay  overall_day_mean_GMST(m)  \n",
       "0        0                  0       0       6.0                 26.505868  \n",
       "1        0                  0       0       6.0                 21.438951  \n",
       "2        0                  0       0       6.0                 20.690762  \n",
       "3        0                  0       0       2.0                 13.254744  \n",
       "4        0                  0       0       7.0                  9.716916  \n",
       "\n",
       "[5 rows x 48 columns]"
      ]
     },
     "execution_count": 349,
     "metadata": {},
     "output_type": "execute_result"
    }
   ],
   "source": [
    "# Load data\n",
    "# 2018 already filtered out\n",
    "df = pd.read_csv('../data/df_for_modeling.csv')\n",
    "df.head()"
   ]
  },
  {
   "cell_type": "code",
   "execution_count": 350,
   "id": "2189fc57",
   "metadata": {},
   "outputs": [
    {
     "name": "stdout",
     "output_type": "stream",
     "text": [
      "<class 'pandas.core.frame.DataFrame'>\n",
      "RangeIndex: 1867 entries, 0 to 1866\n",
      "Data columns (total 48 columns):\n",
      " #   Column                                 Non-Null Count  Dtype  \n",
      "---  ------                                 --------------  -----  \n",
      " 0   P_Date                                 1867 non-null   object \n",
      " 1   P_Date_str                             1867 non-null   object \n",
      " 2   GMS_Completed                          1867 non-null   int64  \n",
      " 3   DOW                                    1867 non-null   object \n",
      " 4   DOW_num                                1867 non-null   float64\n",
      " 5   GMST(m)                                1867 non-null   float64\n",
      " 6   GMS_pds_l10_dw                         1867 non-null   float64\n",
      " 7   GMS_pds_l25_dw                         1867 non-null   float64\n",
      " 8   GMS_pds_l40_dw                         1867 non-null   float64\n",
      " 9   GMS_pds_l10_stdev                      1867 non-null   float64\n",
      " 10  GMS_pds_l25_stdev                      1867 non-null   float64\n",
      " 11  GMS_pds_l40_stdev                      1867 non-null   float64\n",
      " 12  GMST_Diff%_from_GMS_pds_l40_dw         1867 non-null   float64\n",
      " 13  GMS_per_constr_avg_past_diff_from_RPB  1292 non-null   float64\n",
      " 14  GMS_per_constr_past_diff_from_RPB_ct   1867 non-null   float64\n",
      " 15  GMS_pds_prior_solves_ct                1867 non-null   float64\n",
      " 16  GMS_npds_prior_solves_ct               1867 non-null   float64\n",
      " 17  Constructors                           1867 non-null   object \n",
      " 18  Words                                  1867 non-null   int64  \n",
      " 19  Blocks                                 1867 non-null   int64  \n",
      " 20  Unused_Letters                         1867 non-null   int64  \n",
      " 21  Stacks                                 1867 non-null   int64  \n",
      " 22  Unique_Answers                         1867 non-null   int64  \n",
      " 23  Rebus_Count                            1867 non-null   int64  \n",
      " 24  Rebus_Unique                           1867 non-null   int64  \n",
      " 25  Cheater_Squares                        1867 non-null   int64  \n",
      " 26  AWL                                    1867 non-null   float64\n",
      " 27  Scrabble_Score                         1755 non-null   float64\n",
      " 28  Scrabble_Avg                           1867 non-null   float64\n",
      " 29  FITB                                   1867 non-null   int64  \n",
      " 30  Cross_Ref_Clues                        1867 non-null   int64  \n",
      " 31  Scrabble_Illegal                       1867 non-null   int64  \n",
      " 32  Open_Squares                           1867 non-null   int64  \n",
      " 33  Freshness_Factor                       1867 non-null   float64\n",
      " 34  Overall_Freshness%                     1867 non-null   float64\n",
      " 35  Day_Freshness%                         1867 non-null   float64\n",
      " 36  Duplicate_Clues                        1867 non-null   int64  \n",
      " 37  Circle_Count                           1867 non-null   int64  \n",
      " 38  Shade_Count                            1867 non-null   int64  \n",
      " 39  Unusual_Sym                            1867 non-null   int64  \n",
      " 40  Black_Square_Fill                      1867 non-null   int64  \n",
      " 41  Outside_Grid                           1867 non-null   int64  \n",
      " 42  Unchecked_Sq                           1867 non-null   int64  \n",
      " 43  Uniclue                                1867 non-null   int64  \n",
      " 44  Duplicate_Answers                      1867 non-null   int64  \n",
      " 45  Quantum                                1867 non-null   int64  \n",
      " 46  Wordplay                               1622 non-null   float64\n",
      " 47  overall_day_mean_GMST(m)               1867 non-null   float64\n",
      "dtypes: float64(21), int64(23), object(4)\n",
      "memory usage: 700.2+ KB\n"
     ]
    }
   ],
   "source": [
    "df.info()"
   ]
  },
  {
   "cell_type": "code",
   "execution_count": 383,
   "id": "dd72df3e",
   "metadata": {},
   "outputs": [],
   "source": [
    "# Drop some columns that we don't want/need for modeling\n",
    "df_filter = df.copy()\n",
    "df_filter.drop(['P_Date','P_Date_str', 'GMS_Completed','DOW', 'GMST_Diff%_from_GMS_pds_l40_dw','GMS_per_constr_past_diff_from_RPB_ct','Constructors','overall_day_mean_GMST(m)','Uniclue','Duplicate_Answers','Unchecked_Sq','Quantum'],inplace=True,axis=1)"
   ]
  },
  {
   "cell_type": "code",
   "execution_count": 384,
   "id": "27106ae4",
   "metadata": {},
   "outputs": [],
   "source": [
    "# Also now drop short and intermediate-term GMS past performance features\n",
    "#Imperative for final model performance\n",
    "df_filter.drop(['GMS_pds_l10_dw','GMS_pds_l25_dw','GMS_pds_l10_stdev','GMS_pds_l25_stdev'],inplace=True,axis=1) #linear RMSE: (3.953721267825486, 0.231741035464759) \n",
    "#df_filter.drop(['GMS_pds_l10_dw','GMS_pds_l10_stdev'],inplace=True,axis=1) #linear RMSE: (3.9576275009691413, 0.22676168953792353)\n",
    "#df_filter.drop(['GMS_pds_l10_dw','GMS_pds_l50_dw','GMS_pds_l10_stdev','GMS_pds_l50_stdev'],inplace=True,axis=1) #linear RMSE: (3.9670459176013635, 0.21705983140955096)\n",
    "#df_filter.drop(['GMS_pds_l25_dw','GMS_pds_l50_dw','GMS_pds_l25_stdev','GMS_pds_l50_stdev'],inplace=True,axis=1) #linear RMSE: (3.9840272126935297, 0.237305851677329)\n",
    "#df_filter.drop(['GMS_pds_l10_dw','GMS_pds_l25_dw','GMS_pds_l50_dw','GMS_pds_l10_stdev','GMS_pds_l25_stdev','GMS_pds_l50_stdev'],inplace=True,axis=1) #linear RMSE: (4.043534832823217, 0.23857038246642934)"
   ]
  },
  {
   "cell_type": "code",
   "execution_count": 353,
   "id": "f8061081",
   "metadata": {},
   "outputs": [
    {
     "name": "stdout",
     "output_type": "stream",
     "text": [
      "<class 'pandas.core.frame.DataFrame'>\n",
      "RangeIndex: 1867 entries, 0 to 1866\n",
      "Data columns (total 32 columns):\n",
      " #   Column                                 Non-Null Count  Dtype  \n",
      "---  ------                                 --------------  -----  \n",
      " 0   DOW_num                                1867 non-null   float64\n",
      " 1   GMST(m)                                1867 non-null   float64\n",
      " 2   GMS_pds_l40_dw                         1867 non-null   float64\n",
      " 3   GMS_pds_l40_stdev                      1867 non-null   float64\n",
      " 4   GMS_per_constr_avg_past_diff_from_RPB  1292 non-null   float64\n",
      " 5   GMS_pds_prior_solves_ct                1867 non-null   float64\n",
      " 6   GMS_npds_prior_solves_ct               1867 non-null   float64\n",
      " 7   Words                                  1867 non-null   int64  \n",
      " 8   Blocks                                 1867 non-null   int64  \n",
      " 9   Unused_Letters                         1867 non-null   int64  \n",
      " 10  Stacks                                 1867 non-null   int64  \n",
      " 11  Unique_Answers                         1867 non-null   int64  \n",
      " 12  Rebus_Count                            1867 non-null   int64  \n",
      " 13  Rebus_Unique                           1867 non-null   int64  \n",
      " 14  Cheater_Squares                        1867 non-null   int64  \n",
      " 15  AWL                                    1867 non-null   float64\n",
      " 16  Scrabble_Score                         1755 non-null   float64\n",
      " 17  Scrabble_Avg                           1867 non-null   float64\n",
      " 18  FITB                                   1867 non-null   int64  \n",
      " 19  Cross_Ref_Clues                        1867 non-null   int64  \n",
      " 20  Scrabble_Illegal                       1867 non-null   int64  \n",
      " 21  Open_Squares                           1867 non-null   int64  \n",
      " 22  Freshness_Factor                       1867 non-null   float64\n",
      " 23  Overall_Freshness%                     1867 non-null   float64\n",
      " 24  Day_Freshness%                         1867 non-null   float64\n",
      " 25  Duplicate_Clues                        1867 non-null   int64  \n",
      " 26  Circle_Count                           1867 non-null   int64  \n",
      " 27  Shade_Count                            1867 non-null   int64  \n",
      " 28  Unusual_Sym                            1867 non-null   int64  \n",
      " 29  Black_Square_Fill                      1867 non-null   int64  \n",
      " 30  Outside_Grid                           1867 non-null   int64  \n",
      " 31  Wordplay                               1622 non-null   float64\n",
      "dtypes: float64(14), int64(18)\n",
      "memory usage: 466.9 KB\n"
     ]
    }
   ],
   "source": [
    "df_filter.info()"
   ]
  },
  {
   "cell_type": "code",
   "execution_count": 385,
   "id": "2249b701",
   "metadata": {},
   "outputs": [],
   "source": [
    "#Move target feature to the front\n",
    "col = df_filter.pop('GMST(m)')\n",
    "df_filter.insert(0, col.name, col)"
   ]
  },
  {
   "cell_type": "code",
   "execution_count": 386,
   "id": "715bf42a",
   "metadata": {},
   "outputs": [],
   "source": [
    "#Filter out Sunday\n",
    "df_filter =df_filter[df_filter[\"DOW_num\"]!=1]"
   ]
  },
  {
   "cell_type": "code",
   "execution_count": 210,
   "id": "0a99d010",
   "metadata": {},
   "outputs": [],
   "source": [
    "#Found a bad value in first modeling iteration, so correcting here\n",
    "# df[\"Duplicate_Answers\"].unique()\n",
    "# df[\"Uniclue\"].unique()\n",
    "# df[\"Unchecked_Sq\"].unique()\n",
    "# df[\"Quantum\"].unique()"
   ]
  },
  {
   "cell_type": "code",
   "execution_count": 387,
   "id": "c0170740",
   "metadata": {},
   "outputs": [],
   "source": [
    "#Deep copy of this df_filter that is now pared down to just the predictive features and the target feature itself \n",
    "# All features are derived from data available prior to any given puzzle being predicted on. No data leakage!\n",
    "df_model1 = df_filter.copy()"
   ]
  },
  {
   "cell_type": "code",
   "execution_count": 388,
   "id": "676916d7",
   "metadata": {},
   "outputs": [
    {
     "name": "stdout",
     "output_type": "stream",
     "text": [
      "<class 'pandas.core.frame.DataFrame'>\n",
      "Int64Index: 1601 entries, 0 to 1866\n",
      "Data columns (total 32 columns):\n",
      " #   Column                                 Non-Null Count  Dtype  \n",
      "---  ------                                 --------------  -----  \n",
      " 0   GMST(m)                                1601 non-null   float64\n",
      " 1   DOW_num                                1601 non-null   float64\n",
      " 2   GMS_pds_l40_dw                         1601 non-null   float64\n",
      " 3   GMS_pds_l40_stdev                      1601 non-null   float64\n",
      " 4   GMS_per_constr_avg_past_diff_from_RPB  1105 non-null   float64\n",
      " 5   GMS_pds_prior_solves_ct                1601 non-null   float64\n",
      " 6   GMS_npds_prior_solves_ct               1601 non-null   float64\n",
      " 7   Words                                  1601 non-null   int64  \n",
      " 8   Blocks                                 1601 non-null   int64  \n",
      " 9   Unused_Letters                         1601 non-null   int64  \n",
      " 10  Stacks                                 1601 non-null   int64  \n",
      " 11  Unique_Answers                         1601 non-null   int64  \n",
      " 12  Rebus_Count                            1601 non-null   int64  \n",
      " 13  Rebus_Unique                           1601 non-null   int64  \n",
      " 14  Cheater_Squares                        1601 non-null   int64  \n",
      " 15  AWL                                    1601 non-null   float64\n",
      " 16  Scrabble_Score                         1513 non-null   float64\n",
      " 17  Scrabble_Avg                           1601 non-null   float64\n",
      " 18  FITB                                   1601 non-null   int64  \n",
      " 19  Cross_Ref_Clues                        1601 non-null   int64  \n",
      " 20  Scrabble_Illegal                       1601 non-null   int64  \n",
      " 21  Open_Squares                           1601 non-null   int64  \n",
      " 22  Freshness_Factor                       1601 non-null   float64\n",
      " 23  Overall_Freshness%                     1601 non-null   float64\n",
      " 24  Day_Freshness%                         1601 non-null   float64\n",
      " 25  Duplicate_Clues                        1601 non-null   int64  \n",
      " 26  Circle_Count                           1601 non-null   int64  \n",
      " 27  Shade_Count                            1601 non-null   int64  \n",
      " 28  Unusual_Sym                            1601 non-null   int64  \n",
      " 29  Black_Square_Fill                      1601 non-null   int64  \n",
      " 30  Outside_Grid                           1601 non-null   int64  \n",
      " 31  Wordplay                               1391 non-null   float64\n",
      "dtypes: float64(14), int64(18)\n",
      "memory usage: 412.8 KB\n"
     ]
    }
   ],
   "source": [
    "df_model1.info()"
   ]
  },
  {
   "cell_type": "code",
   "execution_count": 213,
   "id": "7094a917",
   "metadata": {},
   "outputs": [],
   "source": [
    "df_model1.to_csv('../data/df_model1.csv', index=False)"
   ]
  },
  {
   "cell_type": "markdown",
   "id": "110c9936",
   "metadata": {},
   "source": [
    "### Data Split for Modeling"
   ]
  },
  {
   "cell_type": "markdown",
   "id": "778504df",
   "metadata": {},
   "source": [
    "Identical split as for dummy/simple modeling"
   ]
  },
  {
   "cell_type": "code",
   "execution_count": 358,
   "id": "e7f2b6c5",
   "metadata": {},
   "outputs": [
    {
     "data": {
      "text/plain": [
       "(1200.75, 400.25)"
      ]
     },
     "execution_count": 358,
     "metadata": {},
     "output_type": "execute_result"
    }
   ],
   "source": [
    "len(df_model1) * .75, len(df_model1) * .25"
   ]
  },
  {
   "cell_type": "code",
   "execution_count": 359,
   "id": "319fbf70",
   "metadata": {},
   "outputs": [],
   "source": [
    "#Replicates EXACT train-test split from dummy and simpler modeling\n",
    "X_train, X_test, y_train, y_test = train_test_split(df_model1.drop(columns='GMST(m)'), \n",
    "                                                    df_model1['GMST(m)'], test_size=0.25, \n",
    "                                                    random_state=47)"
   ]
  },
  {
   "cell_type": "code",
   "execution_count": 360,
   "id": "9bd84540",
   "metadata": {},
   "outputs": [
    {
     "data": {
      "text/plain": [
       "((1200,), (401,))"
      ]
     },
     "execution_count": 360,
     "metadata": {},
     "output_type": "execute_result"
    }
   ],
   "source": [
    "y_train.shape, y_test.shape"
   ]
  },
  {
   "cell_type": "code",
   "execution_count": 361,
   "id": "51897b2b",
   "metadata": {},
   "outputs": [
    {
     "data": {
      "text/plain": [
       "754      7.283333\n",
       "1797     6.366667\n",
       "123      5.516667\n",
       "891     23.166667\n",
       "998      7.083333\n",
       "          ...    \n",
       "806     23.250000\n",
       "681     23.916667\n",
       "1502     7.833333\n",
       "381     11.516667\n",
       "1352    24.016667\n",
       "Name: GMST(m), Length: 1200, dtype: float64"
      ]
     },
     "execution_count": 361,
     "metadata": {},
     "output_type": "execute_result"
    }
   ],
   "source": [
    "y_train"
   ]
  },
  {
   "cell_type": "code",
   "execution_count": 362,
   "id": "86a500f1",
   "metadata": {},
   "outputs": [
    {
     "data": {
      "text/plain": [
       "((1200, 31), (401, 31))"
      ]
     },
     "execution_count": 362,
     "metadata": {},
     "output_type": "execute_result"
    }
   ],
   "source": [
    "X_train.shape, X_test.shape"
   ]
  },
  {
   "cell_type": "code",
   "execution_count": 363,
   "id": "1e6e04f9",
   "metadata": {},
   "outputs": [
    {
     "data": {
      "text/plain": [
       "16.327666666666698"
      ]
     },
     "execution_count": 363,
     "metadata": {},
     "output_type": "execute_result"
    }
   ],
   "source": [
    "#Target feature (GMST(m)) training set mean\n",
    "train_mean = y_train.mean()\n",
    "train_mean"
   ]
  },
  {
   "cell_type": "markdown",
   "id": "0c04cc67",
   "metadata": {},
   "source": [
    "## Linear Model"
   ]
  },
  {
   "cell_type": "code",
   "execution_count": 391,
   "id": "ef827e2f",
   "metadata": {},
   "outputs": [],
   "source": [
    "lr_pipe = make_pipeline(\n",
    "    SimpleImputer(strategy='median'), \n",
    "    StandardScaler(),\n",
    "    SelectKBest(f_regression),\n",
    "    LinearRegression()\n",
    ")"
   ]
  },
  {
   "cell_type": "code",
   "execution_count": 392,
   "id": "9ab2e373",
   "metadata": {},
   "outputs": [
    {
     "data": {
      "text/plain": [
       "dict_keys(['memory', 'steps', 'verbose', 'simpleimputer', 'standardscaler', 'selectkbest', 'linearregression', 'simpleimputer__add_indicator', 'simpleimputer__copy', 'simpleimputer__fill_value', 'simpleimputer__missing_values', 'simpleimputer__strategy', 'simpleimputer__verbose', 'standardscaler__copy', 'standardscaler__with_mean', 'standardscaler__with_std', 'selectkbest__k', 'selectkbest__score_func', 'linearregression__copy_X', 'linearregression__fit_intercept', 'linearregression__n_jobs', 'linearregression__normalize', 'linearregression__positive'])"
      ]
     },
     "execution_count": 392,
     "metadata": {},
     "output_type": "execute_result"
    }
   ],
   "source": [
    "#Dict of available parameters for linear regression pipe\n",
    "lr_pipe.get_params().keys()"
   ]
  },
  {
   "cell_type": "code",
   "execution_count": 393,
   "id": "76c444fe",
   "metadata": {},
   "outputs": [],
   "source": [
    "#Define search grid parameters\n",
    "k = [k+1 for k in range(len(X_train.columns))]\n",
    "\n",
    "grid_params = {\n",
    "    'standardscaler': [StandardScaler(), None],\n",
    "    'simpleimputer__strategy': ['mean','median'],\n",
    "    'selectkbest__k': k\n",
    "}"
   ]
  },
  {
   "cell_type": "code",
   "execution_count": 394,
   "id": "6e249216",
   "metadata": {},
   "outputs": [],
   "source": [
    "#Call `GridSearchCV` with linear regression pipeline, passing in the above `grid_params`\n",
    "#dict for parameters to evaluate with 5-fold cross-validation\n",
    "lr_grid_cv = GridSearchCV(lr_pipe, param_grid=grid_params, cv=5)"
   ]
  },
  {
   "cell_type": "code",
   "execution_count": 395,
   "id": "93ce18d0",
   "metadata": {},
   "outputs": [
    {
     "data": {
      "text/plain": [
       "GridSearchCV(cv=5,\n",
       "             estimator=Pipeline(steps=[('simpleimputer',\n",
       "                                        SimpleImputer(strategy='median')),\n",
       "                                       ('standardscaler', StandardScaler()),\n",
       "                                       ('selectkbest',\n",
       "                                        SelectKBest(score_func=<function f_regression at 0x000001F12DB4C820>)),\n",
       "                                       ('linearregression',\n",
       "                                        LinearRegression())]),\n",
       "             param_grid={'selectkbest__k': [1, 2, 3, 4, 5, 6, 7, 8, 9, 10, 11,\n",
       "                                            12, 13, 14, 15, 16, 17, 18, 19, 20,\n",
       "                                            21, 22, 23, 24, 25, 26, 27, 28, 29,\n",
       "                                            30, ...],\n",
       "                         'simpleimputer__strategy': ['mean', 'median'],\n",
       "                         'standardscaler': [StandardScaler(), None]})"
      ]
     },
     "execution_count": 395,
     "metadata": {},
     "output_type": "execute_result"
    }
   ],
   "source": [
    "#Conduct grid search. \n",
    "lr_grid_cv.fit(X_train, y_train)"
   ]
  },
  {
   "cell_type": "code",
   "execution_count": 396,
   "id": "340b54ef",
   "metadata": {},
   "outputs": [
    {
     "data": {
      "text/plain": [
       "{'selectkbest__k': 23,\n",
       " 'simpleimputer__strategy': 'mean',\n",
       " 'standardscaler': None}"
      ]
     },
     "execution_count": 396,
     "metadata": {},
     "output_type": "execute_result"
    }
   ],
   "source": [
    "#Best params from grid search\n",
    "lr_grid_cv.best_params_"
   ]
  },
  {
   "cell_type": "markdown",
   "id": "48eda04c",
   "metadata": {},
   "source": [
    "### K Best Features Visualization"
   ]
  },
  {
   "cell_type": "code",
   "execution_count": 397,
   "id": "e8a9a197",
   "metadata": {},
   "outputs": [
    {
     "data": {
      "image/png": "[encoded data removed]",
      "text/plain": [
       "<Figure size 720x360 with 1 Axes>"
      ]
     },
     "metadata": {
      "needs_background": "light"
     },
     "output_type": "display_data"
    }
   ],
   "source": [
    "score_mean = lr_grid_cv.cv_results_['mean_test_score']\n",
    "score_std = lr_grid_cv.cv_results_['std_test_score']\n",
    "cv_k = [k for k in lr_grid_cv.cv_results_['param_selectkbest__k']]\n",
    "\n",
    "best_k = lr_grid_cv.best_params_['selectkbest__k']\n",
    "plt.subplots(figsize=(10, 5))\n",
    "plt.errorbar(cv_k, score_mean, yerr=score_std)\n",
    "plt.axvline(x=best_k, c='r', ls='--', alpha=.5)\n",
    "plt.xlabel('k')\n",
    "plt.ylabel('CV score (r-squared)')\n",
    "plt.title('Pipeline mean CV score (error bars +/- 1sd)');"
   ]
  },
  {
   "cell_type": "markdown",
   "id": "39df0776",
   "metadata": {},
   "source": [
    "### Best Linear Model Performance Metrics"
   ]
  },
  {
   "cell_type": "markdown",
   "id": "ba1fd89c",
   "metadata": {},
   "source": [
    "#### R-squared (COD)"
   ]
  },
  {
   "cell_type": "code",
   "execution_count": 398,
   "id": "6d477c04",
   "metadata": {},
   "outputs": [
    {
     "data": {
      "text/plain": [
       "array([0.74687449, 0.78281949, 0.76953802, 0.77223093, 0.77628891])"
      ]
     },
     "execution_count": 398,
     "metadata": {},
     "output_type": "execute_result"
    }
   ],
   "source": [
    "#Cross-validation defaults to R^2 metric for scoring regression\n",
    "lr_best_cv_results = cross_validate(lr_grid_cv.best_estimator_, X_train, y_train, cv=5)\n",
    "lr_best_scores = lr_best_cv_results['test_score']\n",
    "lr_best_scores"
   ]
  },
  {
   "cell_type": "code",
   "execution_count": 399,
   "id": "94208332",
   "metadata": {},
   "outputs": [
    {
     "data": {
      "text/plain": [
       "(0.7695503684976363, 0.012189001796487062)"
      ]
     },
     "execution_count": 399,
     "metadata": {},
     "output_type": "execute_result"
    }
   ],
   "source": [
    "#Training set CV mean and std\n",
    "np.mean(lr_best_scores), np.std(lr_best_scores)"
   ]
  },
  {
   "cell_type": "markdown",
   "id": "9d73348a",
   "metadata": {},
   "source": [
    "#### Mean Absolute Error (MAE)"
   ]
  },
  {
   "cell_type": "code",
   "execution_count": 400,
   "id": "4f911c15",
   "metadata": {},
   "outputs": [],
   "source": [
    "lr_neg_mae = cross_validate(lr_grid_cv.best_estimator_, X_train, y_train, \n",
    "                            scoring='neg_mean_absolute_error', cv=5, n_jobs=-1)"
   ]
  },
  {
   "cell_type": "code",
   "execution_count": 401,
   "id": "e18625f8",
   "metadata": {},
   "outputs": [
    {
     "data": {
      "text/plain": [
       "(2.7336695252068193, 0.08668431262837854)"
      ]
     },
     "execution_count": 401,
     "metadata": {},
     "output_type": "execute_result"
    }
   ],
   "source": [
    "# Training set MAE and STD \n",
    "lr_mae_mean = np.mean(-1 * lr_neg_mae['test_score'])\n",
    "lr_mae_std = np.std(-1 * lr_neg_mae['test_score'])\n",
    "MAE_LR_train = lr_mae_mean, lr_mae_std\n",
    "MAE_LR_train"
   ]
  },
  {
   "cell_type": "code",
   "execution_count": 402,
   "id": "90190211",
   "metadata": {},
   "outputs": [
    {
     "data": {
      "text/plain": [
       "2.7157186496912176"
      ]
     },
     "execution_count": 402,
     "metadata": {},
     "output_type": "execute_result"
    }
   ],
   "source": [
    "# Test set mean\n",
    "MAE_LR_test = mean_absolute_error(y_test, lr_grid_cv.best_estimator_.predict(X_test))\n",
    "MAE_LR_test"
   ]
  },
  {
   "cell_type": "markdown",
   "id": "c0d8d440",
   "metadata": {},
   "source": [
    "#### Mean Squared Error (MSE)"
   ]
  },
  {
   "cell_type": "code",
   "execution_count": 403,
   "id": "34509b6d",
   "metadata": {},
   "outputs": [],
   "source": [
    "lr_neg_mse = cross_validate(lr_grid_cv.best_estimator_, X_train, y_train, \n",
    "                            scoring='neg_mean_squared_error', cv=5)"
   ]
  },
  {
   "cell_type": "code",
   "execution_count": 404,
   "id": "2e574f0e",
   "metadata": {},
   "outputs": [
    {
     "data": {
      "text/plain": [
       "(14.975351914273716, 1.1692818771933402)"
      ]
     },
     "execution_count": 404,
     "metadata": {},
     "output_type": "execute_result"
    }
   ],
   "source": [
    "#Training set CV mean and std\n",
    "lr_mse_mean = np.mean(-1 * lr_neg_mse['test_score'])\n",
    "lr_mse_std = np.std(-1 * lr_neg_mse['test_score'])\n",
    "MSE_LR_train = lr_mse_mean, lr_mse_std\n",
    "MSE_LR_train"
   ]
  },
  {
   "cell_type": "code",
   "execution_count": 405,
   "id": "5d045d1b",
   "metadata": {},
   "outputs": [
    {
     "data": {
      "text/plain": [
       "14.887999149512554"
      ]
     },
     "execution_count": 405,
     "metadata": {},
     "output_type": "execute_result"
    }
   ],
   "source": [
    "# Test set mean\n",
    "MSE_LR_test = mean_squared_error(y_test, lr_grid_cv.best_estimator_.predict(X_test))\n",
    "MSE_LR_test"
   ]
  },
  {
   "cell_type": "markdown",
   "id": "08b65887",
   "metadata": {},
   "source": [
    "#### Root Mean Square Error (RMSE)"
   ]
  },
  {
   "cell_type": "code",
   "execution_count": 406,
   "id": "215346dc",
   "metadata": {},
   "outputs": [],
   "source": [
    "lr_neg_rmse = cross_validate(lr_grid_cv.best_estimator_, X_train, y_train, \n",
    "                            scoring='neg_root_mean_squared_error', cv=5)"
   ]
  },
  {
   "cell_type": "code",
   "execution_count": 407,
   "id": "b10b58eb",
   "metadata": {},
   "outputs": [
    {
     "data": {
      "text/plain": [
       "(3.8669548340683293, 0.14836517633626575)"
      ]
     },
     "execution_count": 407,
     "metadata": {},
     "output_type": "execute_result"
    }
   ],
   "source": [
    "#Training set CV mean and std\n",
    "lr_rmse_mean = np.mean(-1 * lr_neg_rmse['test_score'])\n",
    "lr_rmse_std = np.std(-1 * lr_neg_rmse['test_score'])\n",
    "RMSE_LR_train = lr_rmse_mean, lr_rmse_std\n",
    "RMSE_LR_train"
   ]
  },
  {
   "cell_type": "code",
   "execution_count": 408,
   "id": "7e31822c",
   "metadata": {},
   "outputs": [
    {
     "data": {
      "text/plain": [
       "3.8584970065444595"
      ]
     },
     "execution_count": 408,
     "metadata": {},
     "output_type": "execute_result"
    }
   ],
   "source": [
    "# Test set mean\n",
    "RMSE_LR_test = np.sqrt(mean_squared_error(y_test, lr_grid_cv.best_estimator_.predict(X_test)))\n",
    "RMSE_LR_test"
   ]
  },
  {
   "cell_type": "markdown",
   "id": "11e25773",
   "metadata": {},
   "source": [
    "### Best Linear Model Feature Importance"
   ]
  },
  {
   "cell_type": "code",
   "execution_count": 409,
   "id": "614bdc91",
   "metadata": {},
   "outputs": [
    {
     "data": {
      "image/png": "[encoded data removed]",
      "text/plain": [
       "<Figure size 720x360 with 1 Axes>"
      ]
     },
     "metadata": {
      "needs_background": "light"
     },
     "output_type": "display_data"
    }
   ],
   "source": [
    "#Plot a barplot of the linear regressor feature importances,\n",
    "#assigning the `feature_importances_` attribute of \n",
    "#`lv_grid_cv.best_estimator_.named_steps.linearregression` to the name `imps` to then\n",
    "#create a pandas Series object of the feature importances, with the index given by the\n",
    "#training data column names, sorting the values in descending order\n",
    "selected = lr_grid_cv.best_estimator_.named_steps.selectkbest.get_support()\n",
    "plt.subplots(figsize=(10, 5))\n",
    "imps = lr_grid_cv.best_estimator_.named_steps.linearregression.coef_\n",
    "lr_feat_imps = pd.Series(imps, index=X_train.columns[selected]).sort_values(ascending=False)\n",
    "lr_feat_imps.plot(kind='bar')\n",
    "plt.xlabel('features')\n",
    "plt.ylabel('importance')\n",
    "plt.title('Best linear regressor feature importances');"
   ]
  },
  {
   "cell_type": "code",
   "execution_count": 410,
   "id": "f005db35",
   "metadata": {},
   "outputs": [],
   "source": [
    "# Export out features and feature importances for full documentation csv\n",
    "X_train.columns\n",
    "lr_feat_imps.to_csv('../data/linear_feat_imps.csv', index=True)"
   ]
  },
  {
   "cell_type": "markdown",
   "id": "fc238d07",
   "metadata": {},
   "source": [
    "## Random Forest Regression Model"
   ]
  },
  {
   "cell_type": "markdown",
   "id": "fe9160b2",
   "metadata": {},
   "source": [
    "### Random Forest Model: Hyperparameter Grid Search"
   ]
  },
  {
   "cell_type": "code",
   "execution_count": 63,
   "id": "4f354676",
   "metadata": {},
   "outputs": [],
   "source": [
    "#Define pipeline\n",
    "RF_pipe = make_pipeline(\n",
    "    SimpleImputer(strategy='mean'),\n",
    "    StandardScaler(),\n",
    "    RandomForestRegressor(random_state=47)\n",
    ")"
   ]
  },
  {
   "cell_type": "code",
   "execution_count": 64,
   "id": "78662b0f",
   "metadata": {},
   "outputs": [
    {
     "data": {
      "text/plain": [
       "dict_keys(['memory', 'steps', 'verbose', 'simpleimputer', 'standardscaler', 'randomforestregressor', 'simpleimputer__add_indicator', 'simpleimputer__copy', 'simpleimputer__fill_value', 'simpleimputer__missing_values', 'simpleimputer__strategy', 'simpleimputer__verbose', 'standardscaler__copy', 'standardscaler__with_mean', 'standardscaler__with_std', 'randomforestregressor__bootstrap', 'randomforestregressor__ccp_alpha', 'randomforestregressor__criterion', 'randomforestregressor__max_depth', 'randomforestregressor__max_features', 'randomforestregressor__max_leaf_nodes', 'randomforestregressor__max_samples', 'randomforestregressor__min_impurity_decrease', 'randomforestregressor__min_impurity_split', 'randomforestregressor__min_samples_leaf', 'randomforestregressor__min_samples_split', 'randomforestregressor__min_weight_fraction_leaf', 'randomforestregressor__n_estimators', 'randomforestregressor__n_jobs', 'randomforestregressor__oob_score', 'randomforestregressor__random_state', 'randomforestregressor__verbose', 'randomforestregressor__warm_start'])"
      ]
     },
     "execution_count": 64,
     "metadata": {},
     "output_type": "execute_result"
    }
   ],
   "source": [
    "#Dict of available parameters for RF pipe\n",
    "RF_pipe.get_params().keys()"
   ]
  },
  {
   "cell_type": "code",
   "execution_count": 65,
   "id": "1580bbaf",
   "metadata": {},
   "outputs": [
    {
     "data": {
      "text/plain": [
       "{'randomforestregressor__n_estimators': [275, 300, 325],\n",
       " 'randomforestregressor__max_features': [9],\n",
       " 'randomforestregressor__max_depth': [9, 10, 11],\n",
       " 'randomforestregressor__min_samples_split': [2],\n",
       " 'randomforestregressor__min_samples_leaf': [10],\n",
       " 'standardscaler': [None],\n",
       " 'simpleimputer__strategy': ['median']}"
      ]
     },
     "execution_count": 65,
     "metadata": {},
     "output_type": "execute_result"
    }
   ],
   "source": [
    "#Define search grid parameters\n",
    "\n",
    "#n_est = [int(n) for n in np.logspace(start=1, stop=3, num=20)]\n",
    "n_est = [300]\n",
    "\n",
    "grid_params = {\n",
    "        'randomforestregressor__n_estimators': n_est, \n",
    "        'randomforestregressor__max_features': [9],\n",
    "        'randomforestregressor__max_depth': [10],\n",
    "        'randomforestregressor__min_samples_split': [2],\n",
    "        'randomforestregressor__min_samples_leaf': [10],\n",
    "        'standardscaler': [None],\n",
    "        'simpleimputer__strategy': ['median']}\n",
    "grid_params"
   ]
  },
  {
   "cell_type": "code",
   "execution_count": 59,
   "id": "33832b99",
   "metadata": {},
   "outputs": [],
   "source": [
    "#First Pass\n",
    "# {'randomforestregressor__n_estimators': [400, 500, 600], 400\n",
    "#  'randomforestregressor__max_features': [8, 9, 10], 9\n",
    "#  'randomforestregressor__max_depth': [12, 14, 16], 12\n",
    "#  'randomforestregressor__min_samples_split': [2, 3], 2\n",
    "#  'randomforestregressor__min_samples_leaf': [9, 10, 11], 10\n",
    "#  'standardscaler': [None],\n",
    "#  'simpleimputer__strategy': ['median', 'mean']} median\n",
    "\n",
    "#Second Pass\n",
    "# {'randomforestregressor__n_estimators': [350, 400, 450], 350\n",
    "#  'randomforestregressor__max_features': [9],\n",
    "#  'randomforestregressor__max_depth': [8, 10, 12], 10\n",
    "#  'randomforestregressor__min_samples_split': [2],\n",
    "#  'randomforestregressor__min_samples_leaf': [10],\n",
    "#  'standardscaler': [None],\n",
    "#  'simpleimputer__strategy': ['median']}\n",
    "\n",
    "#Third Pass\n",
    "# {'randomforestregressor__n_estimators': [325, 350, 375], 325  (300 won vs 275 and 325 in 4th pass)\n",
    "#  'randomforestregressor__max_features': [9],\n",
    "#  'randomforestregressor__max_depth': [9, 10, 11], 10 \n",
    "#  'randomforestregressor__min_samples_split': [2],\n",
    "#  'randomforestregressor__min_samples_leaf': [10],\n",
    "#  'standardscaler': [None],\n",
    "#  'simpleimputer__strategy': ['median']}"
   ]
  },
  {
   "cell_type": "code",
   "execution_count": 66,
   "id": "0d6edfd7",
   "metadata": {},
   "outputs": [],
   "source": [
    "#Call `GridSearchCV` with random forest pipeline, passing in the above `grid_params`\n",
    "#dict for parameters to evaluate with 5-fold cross-validation\n",
    "rf_grid_cv = GridSearchCV(RF_pipe, param_grid=grid_params, cv=5)"
   ]
  },
  {
   "cell_type": "code",
   "execution_count": 67,
   "id": "f0bd19a4",
   "metadata": {},
   "outputs": [
    {
     "data": {
      "text/plain": [
       "GridSearchCV(cv=5,\n",
       "             estimator=Pipeline(steps=[('simpleimputer', SimpleImputer()),\n",
       "                                       ('standardscaler', StandardScaler()),\n",
       "                                       ('randomforestregressor',\n",
       "                                        RandomForestRegressor(random_state=47))]),\n",
       "             param_grid={'randomforestregressor__max_depth': [9, 10, 11],\n",
       "                         'randomforestregressor__max_features': [9],\n",
       "                         'randomforestregressor__min_samples_leaf': [10],\n",
       "                         'randomforestregressor__min_samples_split': [2],\n",
       "                         'randomforestregressor__n_estimators': [275, 300, 325],\n",
       "                         'simpleimputer__strategy': ['median'],\n",
       "                         'standardscaler': [None]})"
      ]
     },
     "execution_count": 67,
     "metadata": {},
     "output_type": "execute_result"
    }
   ],
   "source": [
    "#Conduct grid search.  \n",
    "rf_grid_cv.fit(X_train, y_train)"
   ]
  },
  {
   "cell_type": "code",
   "execution_count": 68,
   "id": "27a42ca4",
   "metadata": {},
   "outputs": [
    {
     "data": {
      "text/plain": [
       "{'randomforestregressor__max_depth': 9,\n",
       " 'randomforestregressor__max_features': 9,\n",
       " 'randomforestregressor__min_samples_leaf': 10,\n",
       " 'randomforestregressor__min_samples_split': 2,\n",
       " 'randomforestregressor__n_estimators': 300,\n",
       " 'simpleimputer__strategy': 'median',\n",
       " 'standardscaler': None}"
      ]
     },
     "execution_count": 68,
     "metadata": {},
     "output_type": "execute_result"
    }
   ],
   "source": [
    "#Print the best params (`best_params_` attribute) from the grid search\n",
    "rf_grid_cv.best_params_"
   ]
  },
  {
   "cell_type": "markdown",
   "id": "ab5fccfb",
   "metadata": {},
   "source": [
    "### Best Random Forest Model Performance Metrics"
   ]
  },
  {
   "cell_type": "markdown",
   "id": "a5d4621f",
   "metadata": {},
   "source": [
    "#### R-squared (COD)"
   ]
  },
  {
   "cell_type": "code",
   "execution_count": 69,
   "id": "43b34983",
   "metadata": {},
   "outputs": [
    {
     "data": {
      "text/plain": [
       "array([0.73601931, 0.78397388, 0.74794728, 0.76703226, 0.77617206])"
      ]
     },
     "execution_count": 69,
     "metadata": {},
     "output_type": "execute_result"
    }
   ],
   "source": [
    "#Cross-validation defaults to R^2 metric for scoring regression\n",
    "rf_best_cv_results = cross_validate(rf_grid_cv.best_estimator_, X_train, y_train, cv=5)\n",
    "rf_best_scores = rf_best_cv_results['test_score']\n",
    "rf_best_scores"
   ]
  },
  {
   "cell_type": "code",
   "execution_count": 70,
   "id": "26314a8f",
   "metadata": {},
   "outputs": [
    {
     "data": {
      "text/plain": [
       "(0.7622289584568391, 0.017783337103395427)"
      ]
     },
     "execution_count": 70,
     "metadata": {},
     "output_type": "execute_result"
    }
   ],
   "source": [
    "#Training set CV mean and std\n",
    "np.mean(rf_best_scores), np.std(rf_best_scores)"
   ]
  },
  {
   "cell_type": "markdown",
   "id": "9841149b",
   "metadata": {},
   "source": [
    "#### Mean Absolute Error (MAE)"
   ]
  },
  {
   "cell_type": "code",
   "execution_count": 71,
   "id": "f04e65e1",
   "metadata": {},
   "outputs": [],
   "source": [
    "rf_neg_mae = cross_validate(rf_grid_cv.best_estimator_, X_train, y_train, \n",
    "                            scoring='neg_mean_absolute_error', cv=5)"
   ]
  },
  {
   "cell_type": "code",
   "execution_count": 72,
   "id": "35a933c4",
   "metadata": {},
   "outputs": [
    {
     "data": {
      "text/plain": [
       "(2.7215976449573454, 0.08581785675448711)"
      ]
     },
     "execution_count": 72,
     "metadata": {},
     "output_type": "execute_result"
    }
   ],
   "source": [
    "#Training set CV mean and std\n",
    "rf_mae_mean = np.mean(-1 * rf_neg_mae['test_score'])\n",
    "rf_mae_std = np.std(-1 * rf_neg_mae['test_score'])\n",
    "rf_mae_mean, rf_mae_std"
   ]
  },
  {
   "cell_type": "code",
   "execution_count": 73,
   "id": "c0dad247",
   "metadata": {},
   "outputs": [
    {
     "data": {
      "text/plain": [
       "2.761877352115505"
      ]
     },
     "execution_count": 73,
     "metadata": {},
     "output_type": "execute_result"
    }
   ],
   "source": [
    "# Test set mean\n",
    "mean_absolute_error(y_test, rf_grid_cv.best_estimator_.predict(X_test))"
   ]
  },
  {
   "cell_type": "markdown",
   "id": "dfa7bb0c",
   "metadata": {},
   "source": [
    "#### Mean Squared Error (MSE)"
   ]
  },
  {
   "cell_type": "code",
   "execution_count": 74,
   "id": "e93a680e",
   "metadata": {},
   "outputs": [],
   "source": [
    "rf_neg_mse = cross_validate(rf_grid_cv.best_estimator_, X_train, y_train, \n",
    "                            scoring='neg_mean_squared_error', cv=5)"
   ]
  },
  {
   "cell_type": "code",
   "execution_count": 75,
   "id": "9f3ea410",
   "metadata": {},
   "outputs": [
    {
     "data": {
      "text/plain": [
       "(15.467930650892963, 1.6775720132490968)"
      ]
     },
     "execution_count": 75,
     "metadata": {},
     "output_type": "execute_result"
    }
   ],
   "source": [
    "#Training set CV mean and std\n",
    "rf_mse_mean = np.mean(-1 * rf_neg_mse['test_score'])\n",
    "rf_mse_std = np.std(-1 * rf_neg_mse['test_score'])\n",
    "rf_mse_mean, rf_mse_std"
   ]
  },
  {
   "cell_type": "code",
   "execution_count": 76,
   "id": "5ca32df2",
   "metadata": {},
   "outputs": [
    {
     "data": {
      "text/plain": [
       "15.347280700281958"
      ]
     },
     "execution_count": 76,
     "metadata": {},
     "output_type": "execute_result"
    }
   ],
   "source": [
    "# Test set mean\n",
    "mean_squared_error(y_test, rf_grid_cv.best_estimator_.predict(X_test))"
   ]
  },
  {
   "cell_type": "markdown",
   "id": "1f722cdd",
   "metadata": {},
   "source": [
    "#### Root Mean Square Error (RMSE)"
   ]
  },
  {
   "cell_type": "code",
   "execution_count": 77,
   "id": "e58f86da",
   "metadata": {},
   "outputs": [],
   "source": [
    "rf_neg_rmse = cross_validate(rf_grid_cv.best_estimator_, X_train, y_train, \n",
    "                            scoring='neg_root_mean_squared_error', cv=5)"
   ]
  },
  {
   "cell_type": "code",
   "execution_count": 78,
   "id": "d7ee1e61",
   "metadata": {},
   "outputs": [
    {
     "data": {
      "text/plain": [
       "(3.927503234417672, 0.20651632993952265)"
      ]
     },
     "execution_count": 78,
     "metadata": {},
     "output_type": "execute_result"
    }
   ],
   "source": [
    "#Training set CV mean and std\n",
    "rf_rmse_mean = np.mean(-1 * rf_neg_rmse['test_score'])\n",
    "rf_rmse_std = np.std(-1 * rf_neg_rmse['test_score'])\n",
    "rf_rmse_mean, rf_rmse_std"
   ]
  },
  {
   "cell_type": "code",
   "execution_count": 79,
   "id": "6cb7e869",
   "metadata": {},
   "outputs": [
    {
     "data": {
      "text/plain": [
       "3.917560554768995"
      ]
     },
     "execution_count": 79,
     "metadata": {},
     "output_type": "execute_result"
    }
   ],
   "source": [
    "# Test set mean\n",
    "np.sqrt(mean_squared_error(y_test, rf_grid_cv.best_estimator_.predict(X_test)))"
   ]
  },
  {
   "cell_type": "markdown",
   "id": "46ff1b10",
   "metadata": {},
   "source": [
    "### Best Random Forest Model Feature Performance"
   ]
  },
  {
   "cell_type": "code",
   "execution_count": 80,
   "id": "a8245ab5",
   "metadata": {},
   "outputs": [
    {
     "data": {
      "image/png": "[encoded data removed]",
      "text/plain": [
       "<Figure size 1440x720 with 1 Axes>"
      ]
     },
     "metadata": {
      "needs_background": "light"
     },
     "output_type": "display_data"
    }
   ],
   "source": [
    "#Plot a barplot of the random forest's feature importances,\n",
    "#assigning the `feature_importances_` attribute of \n",
    "#`rf_grid_cv.best_estimator_.named_steps.randomforestregressor` to the name `imps` to then\n",
    "#create a pandas Series object of the feature importances, with the index given by the\n",
    "#training data column names, sorting the values in descending order\n",
    "plt.subplots(figsize=(20, 10))\n",
    "imps = rf_grid_cv.best_estimator_.named_steps.randomforestregressor.feature_importances_\n",
    "rf_feat_imps = pd.Series(imps, index=X_train.columns).sort_values(ascending=False)\n",
    "rf_feat_imps.nlargest(30).plot(kind='bar')\n",
    "plt.xlabel('features')\n",
    "plt.ylabel('importance')\n",
    "plt.title('Best random forest regressor feature importances');\n",
    "\n",
    "#rf_gridsearch.best_estimator_.named_steps[\"step_name\"].feature_importances_\n",
    "#rf_gridsearch.best_estimator_.feature_importances_\n",
    "\n",
    "#feat_importances = pd.Series(rf_grid_cv.feature_importances_, index=rf_grid_cv.columns)\n",
    "#feat_importances.nlargest(50).plot(kind='barh')"
   ]
  },
  {
   "cell_type": "markdown",
   "id": "6c675468",
   "metadata": {},
   "source": [
    "Random Forest Regressor RMSE Train(STD)/Test for different explored hyperparameter values (summarized below each)\n",
    "\n",
    "(3.927503234417672, 0.20651632993952265), 3.917560554768995\n",
    "{'randomforestregressor__n_estimators': [275, 300, 325],\n",
    " 'randomforestregressor__max_features': [9],\n",
    " 'randomforestregressor__max_depth': [9, 10, 11],\n",
    " 'randomforestregressor__min_samples_split': [2],\n",
    " 'randomforestregressor__min_samples_leaf': [10],\n",
    " 'standardscaler': [None],\n",
    " 'simpleimputer__strategy': ['median']}\n",
    "\n",
    "Note on speed of RF: it could take around 1000 seconds to fit an RF with around 4M samples with the dimensions 'n_estimators': 50, 'max_depth': 200, 'min_samples_leaf': 1, 'min_samples_split': 2, 'n_jobs': 20 but only 50s for 'n_estimators': 50, 'max_depth': 200, 'min_samples_leaf': 2, 'min_samples_split': 10, 'n_jobs': 20 for similar accuracy.\""
   ]
  },
  {
   "cell_type": "markdown",
   "id": "300fd6a4",
   "metadata": {},
   "source": [
    "## Gradient Boosting Regression Model"
   ]
  },
  {
   "cell_type": "markdown",
   "id": "696bff8c",
   "metadata": {},
   "source": [
    "### Gradient Boosting Model: Hyperparameter Grid Search"
   ]
  },
  {
   "cell_type": "code",
   "execution_count": 229,
   "id": "22473aa1",
   "metadata": {},
   "outputs": [],
   "source": [
    "#Define pipeline \n",
    "GB_pipe = make_pipeline(\n",
    "    SimpleImputer(strategy='mean'),\n",
    "    StandardScaler(),\n",
    "    GradientBoostingRegressor(random_state= 47)\n",
    ")"
   ]
  },
  {
   "cell_type": "code",
   "execution_count": 230,
   "id": "b247d05f",
   "metadata": {},
   "outputs": [
    {
     "data": {
      "text/plain": [
       "dict_keys(['memory', 'steps', 'verbose', 'simpleimputer', 'standardscaler', 'gradientboostingregressor', 'simpleimputer__add_indicator', 'simpleimputer__copy', 'simpleimputer__fill_value', 'simpleimputer__missing_values', 'simpleimputer__strategy', 'simpleimputer__verbose', 'standardscaler__copy', 'standardscaler__with_mean', 'standardscaler__with_std', 'gradientboostingregressor__alpha', 'gradientboostingregressor__ccp_alpha', 'gradientboostingregressor__criterion', 'gradientboostingregressor__init', 'gradientboostingregressor__learning_rate', 'gradientboostingregressor__loss', 'gradientboostingregressor__max_depth', 'gradientboostingregressor__max_features', 'gradientboostingregressor__max_leaf_nodes', 'gradientboostingregressor__min_impurity_decrease', 'gradientboostingregressor__min_impurity_split', 'gradientboostingregressor__min_samples_leaf', 'gradientboostingregressor__min_samples_split', 'gradientboostingregressor__min_weight_fraction_leaf', 'gradientboostingregressor__n_estimators', 'gradientboostingregressor__n_iter_no_change', 'gradientboostingregressor__random_state', 'gradientboostingregressor__subsample', 'gradientboostingregressor__tol', 'gradientboostingregressor__validation_fraction', 'gradientboostingregressor__verbose', 'gradientboostingregressor__warm_start'])"
      ]
     },
     "execution_count": 230,
     "metadata": {},
     "output_type": "execute_result"
    }
   ],
   "source": [
    "GB_pipe.get_params().keys()"
   ]
  },
  {
   "cell_type": "code",
   "execution_count": 231,
   "id": "57b53602",
   "metadata": {},
   "outputs": [
    {
     "data": {
      "text/plain": [
       "{'gradientboostingregressor__n_estimators': [130],\n",
       " 'standardscaler': [None],\n",
       " 'simpleimputer__strategy': ['median'],\n",
       " 'gradientboostingregressor__learning_rate': [0.06],\n",
       " 'gradientboostingregressor__max_depth': [2],\n",
       " 'gradientboostingregressor__max_features': [10],\n",
       " 'gradientboostingregressor__subsample': [0.6]}"
      ]
     },
     "execution_count": 231,
     "metadata": {},
     "output_type": "execute_result"
    }
   ],
   "source": [
    "#Define Grid Parameters\n",
    "\n",
    "n_est = [130] \n",
    "learning_rate = [.06] \n",
    "max_depth = [2] \n",
    "max_features = [10]\n",
    "subsamples = [0.6]\n",
    "\n",
    "grid_params = {\n",
    "        'gradientboostingregressor__n_estimators': n_est,\n",
    "        'standardscaler': [None],\n",
    "        'simpleimputer__strategy': ['median'],\n",
    "        'gradientboostingregressor__learning_rate': learning_rate,\n",
    "        'gradientboostingregressor__max_depth': max_depth,\n",
    "        'gradientboostingregressor__max_features': max_features,\n",
    "        'gradientboostingregressor__subsample': subsamples\n",
    "}\n",
    "grid_params\n",
    "\n",
    "#Generally speaking, the four hyperparameters with the biggest impact on this model's performance are the number of models in the ensemble (n_est),\n",
    "#the learning rate, the depth of the decision tree (max_depth), and the variance of the model controlled via the size of the data sample used to train \n",
    "#each model or features used in tree splits"
   ]
  },
  {
   "cell_type": "code",
   "execution_count": 232,
   "id": "8132d668",
   "metadata": {},
   "outputs": [],
   "source": [
    "#First Pass (best from the run is placed outside bracket per hyperparameter)\n",
    "# {'gradientboostingregressor__n_estimators': [100, 110, 120, 130, 140], 130\n",
    "#  'standardscaler': [None],\n",
    "#  'simpleimputer__strategy': ['median', 'mean'], median\n",
    "#  'gradientboostingregressor__learning_rate': [0.03, 0.04, 0.05, 0.06], .06\n",
    "#  'gradientboostingregressor__max_depth': [2, 3, 4, 5], 2\n",
    "#  'gradientboostingregressor__max_features': [9, 10, 11], 10\n",
    "#  'gradientboostingregressor__subsample': [0.4, 0.6, 0.8, 1]} 0.6\n",
    "\n",
    "# Second Pass\n",
    "# {'gradientboostingregressor__n_estimators': [125, 130, 135], 130\n",
    "#  'standardscaler': [None],\n",
    "#  'simpleimputer__strategy': ['median'],\n",
    "#  'gradientboostingregressor__learning_rate': [0.06, 0.07, 0.08], .06\n",
    "#  'gradientboostingregressor__max_depth': [2],\n",
    "#  'gradientboostingregressor__max_features': [10],\n",
    "#  'gradientboostingregressor__subsample': [0.5, 0.6, 0.7]} 0.6\n",
    "\n",
    "# Third Pass\n",
    "# {'gradientboostingregressor__n_estimators': [130],\n",
    "#  'standardscaler': [None],\n",
    "#  'simpleimputer__strategy': ['median'],\n",
    "#  'gradientboostingregressor__learning_rate': [0.055, 0.06, 0.065], .06\n",
    "#  'gradientboostingregressor__max_depth': [2],\n",
    "#  'gradientboostingregressor__max_features': [10],\n",
    "#  'gradientboostingregressor__subsample': [0.55, 0.6, 0.65]} .6"
   ]
  },
  {
   "cell_type": "code",
   "execution_count": 233,
   "id": "eb48abeb",
   "metadata": {},
   "outputs": [],
   "source": [
    "#Call `GridSearchCV` with the gradient boosting pipeline, passing in the above `grid_params`\n",
    "#dict for parameters to evaluate, 5-fold cross-validation\n",
    "gb_grid_cv = GridSearchCV(GB_pipe, param_grid=grid_params, cv=5)"
   ]
  },
  {
   "cell_type": "code",
   "execution_count": 234,
   "id": "330fc1c6",
   "metadata": {},
   "outputs": [
    {
     "data": {
      "text/plain": [
       "GridSearchCV(cv=5,\n",
       "             estimator=Pipeline(steps=[('simpleimputer', SimpleImputer()),\n",
       "                                       ('standardscaler', StandardScaler()),\n",
       "                                       ('gradientboostingregressor',\n",
       "                                        GradientBoostingRegressor(random_state=47))]),\n",
       "             param_grid={'gradientboostingregressor__learning_rate': [0.06],\n",
       "                         'gradientboostingregressor__max_depth': [2],\n",
       "                         'gradientboostingregressor__max_features': [10],\n",
       "                         'gradientboostingregressor__n_estimators': [130],\n",
       "                         'gradientboostingregressor__subsample': [0.6],\n",
       "                         'simpleimputer__strategy': ['median'],\n",
       "                         'standardscaler': [None]})"
      ]
     },
     "execution_count": 234,
     "metadata": {},
     "output_type": "execute_result"
    }
   ],
   "source": [
    "#conduct the grid search. \n",
    "gb_grid_cv.fit(X_train, y_train)"
   ]
  },
  {
   "cell_type": "code",
   "execution_count": 235,
   "id": "57d15a7f",
   "metadata": {},
   "outputs": [
    {
     "data": {
      "text/plain": [
       "{'gradientboostingregressor__learning_rate': 0.06,\n",
       " 'gradientboostingregressor__max_depth': 2,\n",
       " 'gradientboostingregressor__max_features': 10,\n",
       " 'gradientboostingregressor__n_estimators': 130,\n",
       " 'gradientboostingregressor__subsample': 0.6,\n",
       " 'simpleimputer__strategy': 'median',\n",
       " 'standardscaler': None}"
      ]
     },
     "execution_count": 235,
     "metadata": {},
     "output_type": "execute_result"
    }
   ],
   "source": [
    "#Best params (`best_params_` attribute) from the grid search\n",
    "gb_grid_cv.best_params_"
   ]
  },
  {
   "cell_type": "markdown",
   "id": "f95f35b3",
   "metadata": {},
   "source": [
    "\n",
    "### Best Gradient Boosting Model Performance Metrics"
   ]
  },
  {
   "cell_type": "markdown",
   "id": "7820c285",
   "metadata": {},
   "source": [
    "#### R-squared (COD)"
   ]
  },
  {
   "cell_type": "code",
   "execution_count": 236,
   "id": "6dc56798",
   "metadata": {},
   "outputs": [
    {
     "data": {
      "text/plain": [
       "array([0.7395894 , 0.79564371, 0.76191003, 0.77129731, 0.77018579])"
      ]
     },
     "execution_count": 236,
     "metadata": {},
     "output_type": "execute_result"
    }
   ],
   "source": [
    "#Cross-validation defaults to R^2 metric for scoring regression\n",
    "gb_best_cv_results = cross_validate(gb_grid_cv.best_estimator_, X_train, y_train, cv=5)\n",
    "gb_best_scores = gb_best_cv_results['test_score']\n",
    "gb_best_scores"
   ]
  },
  {
   "cell_type": "code",
   "execution_count": 237,
   "id": "b28a43c3",
   "metadata": {},
   "outputs": [
    {
     "data": {
      "text/plain": [
       "(0.7677252490183197, 0.018020528145412548)"
      ]
     },
     "execution_count": 237,
     "metadata": {},
     "output_type": "execute_result"
    }
   ],
   "source": [
    "#Training set CV mean and std\n",
    "np.mean(gb_best_scores), np.std(gb_best_scores)"
   ]
  },
  {
   "cell_type": "markdown",
   "id": "c91478b1",
   "metadata": {},
   "source": [
    "#### Mean Absolute Error (MAE)"
   ]
  },
  {
   "cell_type": "code",
   "execution_count": 238,
   "id": "e18c5910",
   "metadata": {},
   "outputs": [],
   "source": [
    "gb_neg_mae = cross_validate(gb_grid_cv.best_estimator_, X_train, y_train, \n",
    "                            scoring='neg_mean_absolute_error', cv=5, n_jobs=-1)"
   ]
  },
  {
   "cell_type": "code",
   "execution_count": 239,
   "id": "fcd81789",
   "metadata": {},
   "outputs": [
    {
     "data": {
      "text/plain": [
       "(2.6954054956543425, 0.06941866914866816)"
      ]
     },
     "execution_count": 239,
     "metadata": {},
     "output_type": "execute_result"
    }
   ],
   "source": [
    "#Training set CV mean and std\n",
    "gb_mae_mean = np.mean(-1 * gb_neg_mae['test_score'])\n",
    "gb_mae_std = np.std(-1 * gb_neg_mae['test_score'])\n",
    "gb_mae_mean, gb_mae_std"
   ]
  },
  {
   "cell_type": "code",
   "execution_count": 240,
   "id": "6d131fd6",
   "metadata": {},
   "outputs": [
    {
     "data": {
      "text/plain": [
       "2.7585444084387873"
      ]
     },
     "execution_count": 240,
     "metadata": {},
     "output_type": "execute_result"
    }
   ],
   "source": [
    "# Test set mean\n",
    "mean_absolute_error(y_test, gb_grid_cv.best_estimator_.predict(X_test))"
   ]
  },
  {
   "cell_type": "markdown",
   "id": "63e05fa0",
   "metadata": {},
   "source": [
    "#### Mean Squared Error (MSE)"
   ]
  },
  {
   "cell_type": "code",
   "execution_count": 241,
   "id": "680649e1",
   "metadata": {},
   "outputs": [],
   "source": [
    "gb_neg_mse = cross_validate(gb_grid_cv.best_estimator_, X_train, y_train, \n",
    "                            scoring='neg_mean_squared_error', cv=5)"
   ]
  },
  {
   "cell_type": "code",
   "execution_count": 242,
   "id": "5bf5c623",
   "metadata": {},
   "outputs": [
    {
     "data": {
      "text/plain": [
       "(15.096363249824275, 1.4969879515735052)"
      ]
     },
     "execution_count": 242,
     "metadata": {},
     "output_type": "execute_result"
    }
   ],
   "source": [
    "#Training set CV mean and std\n",
    "gb_mse_mean = np.mean(-1 * gb_neg_mse['test_score'])\n",
    "gb_mse_std = np.std(-1 * gb_neg_mse['test_score'])\n",
    "gb_mse_mean, gb_mse_std"
   ]
  },
  {
   "cell_type": "code",
   "execution_count": 243,
   "id": "a347d29a",
   "metadata": {},
   "outputs": [
    {
     "data": {
      "text/plain": [
       "15.378511186072252"
      ]
     },
     "execution_count": 243,
     "metadata": {},
     "output_type": "execute_result"
    }
   ],
   "source": [
    "# Test set mean\n",
    "mean_squared_error(y_test, gb_grid_cv.best_estimator_.predict(X_test))"
   ]
  },
  {
   "cell_type": "markdown",
   "id": "fb2e2fa6",
   "metadata": {},
   "source": [
    "#### Root Mean Square Error (RMSE)"
   ]
  },
  {
   "cell_type": "code",
   "execution_count": 244,
   "id": "637cc724",
   "metadata": {},
   "outputs": [],
   "source": [
    "gb_neg_rmse = cross_validate(gb_grid_cv.best_estimator_, X_train, y_train, \n",
    "                            scoring='neg_root_mean_squared_error', cv=5)"
   ]
  },
  {
   "cell_type": "code",
   "execution_count": 245,
   "id": "129c9952",
   "metadata": {},
   "outputs": [
    {
     "data": {
      "text/plain": [
       "(3.880761975385794, 0.18986769136434262)"
      ]
     },
     "execution_count": 245,
     "metadata": {},
     "output_type": "execute_result"
    }
   ],
   "source": [
    "#Training set CV mean and std\n",
    "gb_rmse_mean = np.mean(-1 * gb_neg_rmse['test_score'])\n",
    "gb_rmse_std = np.std(-1 * gb_neg_rmse['test_score'])\n",
    "gb_rmse_mean, gb_rmse_std"
   ]
  },
  {
   "cell_type": "code",
   "execution_count": 246,
   "id": "1bac3e9c",
   "metadata": {},
   "outputs": [
    {
     "data": {
      "text/plain": [
       "3.921544489875418"
      ]
     },
     "execution_count": 246,
     "metadata": {},
     "output_type": "execute_result"
    }
   ],
   "source": [
    "# Test set mean\n",
    "np.sqrt(mean_squared_error(y_test, gb_grid_cv.best_estimator_.predict(X_test)))"
   ]
  },
  {
   "cell_type": "markdown",
   "id": "3b42bbe6",
   "metadata": {},
   "source": [
    "### Best Gradient Boosting Model Feature Performance"
   ]
  },
  {
   "cell_type": "code",
   "execution_count": 247,
   "id": "e1ca08e2",
   "metadata": {},
   "outputs": [
    {
     "data": {
      "image/png": "[encoded data removed]",
      "text/plain": [
       "<Figure size 1440x720 with 1 Axes>"
      ]
     },
     "metadata": {
      "needs_background": "light"
     },
     "output_type": "display_data"
    }
   ],
   "source": [
    "#Plot a barplot of the gradient boosting model's feature importances,\n",
    "#assigning the `feature_importances_` attribute of \n",
    "#`gb_grid_cv.best_estimator_.named_steps.gradientboostingregressor` to the name `imps` to then\n",
    "#create a pandas Series object of the feature importances, with the index given by the\n",
    "#training data column names, sorting the values in descending order\n",
    "plt.subplots(figsize=(20, 10))\n",
    "imps = gb_grid_cv.best_estimator_.named_steps.gradientboostingregressor.feature_importances_\n",
    "gb_feat_imps = pd.Series(imps, index=X_train.columns).sort_values(ascending=False)\n",
    "gb_feat_imps.nlargest(30).plot(kind='bar')\n",
    "plt.xlabel('features')\n",
    "plt.ylabel('importance')\n",
    "plt.title('Best gradient boosting regressor feature importances');"
   ]
  },
  {
   "cell_type": "code",
   "execution_count": 248,
   "id": "25deab5e",
   "metadata": {},
   "outputs": [],
   "source": [
    "# Export out features and feature importances for full documentation csv\n",
    "X_train.columns\n",
    "gb_feat_imps.to_csv('../data/gb_feat_imps.csv', index=True)"
   ]
  },
  {
   "cell_type": "markdown",
   "id": "89c2ad1e",
   "metadata": {},
   "source": [
    "### Data Quality Assessment"
   ]
  },
  {
   "cell_type": "markdown",
   "id": "e3c66adc",
   "metadata": {},
   "source": [
    "Because Linear Regressor turned out to be the best of the four models tested (in terms of cross-validation RMSE), a Data Quality Assessment was run on this model to ensure that results are not hindered by sample size. Results in that regard are inconclusive, though when this assessment was run on Gradient Boosting Regressor CV score was clearly still rising at the possible edge of the sample max."
   ]
  },
  {
   "cell_type": "code",
   "execution_count": 249,
   "id": "e018f1e0",
   "metadata": {},
   "outputs": [],
   "source": [
    "fractions = [.2, .25, .3, .35, .4, .45, .5, .6, .75, .8, .9, 1.0]\n",
    "train_size, train_scores, test_scores = learning_curve(lm_pipe, X_train, y_train, train_sizes=fractions)\n",
    "train_scores_mean = np.mean(train_scores, axis=1)\n",
    "train_scores_std = np.std(train_scores, axis=1)\n",
    "test_scores_mean = np.mean(test_scores, axis=1)\n",
    "test_scores_std = np.std(test_scores, axis=1)"
   ]
  },
  {
   "cell_type": "code",
   "execution_count": 250,
   "id": "947ef1f6",
   "metadata": {},
   "outputs": [
    {
     "data": {
      "image/png": "[encoded data removed]",
      "text/plain": [
       "<Figure size 720x360 with 1 Axes>"
      ]
     },
     "metadata": {
      "needs_background": "light"
     },
     "output_type": "display_data"
    }
   ],
   "source": [
    "plt.subplots(figsize=(10, 5))\n",
    "plt.errorbar(train_size, test_scores_mean, yerr=test_scores_std)\n",
    "plt.xlabel('Training set size')\n",
    "plt.ylabel('CV scores')\n",
    "plt.title('Cross-validation score as training set size increases');"
   ]
  },
  {
   "cell_type": "markdown",
   "id": "ed22e6b7",
   "metadata": {},
   "source": [
    "Best GBM Model RMSE Train/Test and Best Hyperparameters\n",
    "\n"
   ]
  },
  {
   "cell_type": "markdown",
   "id": "5b8bbec4",
   "metadata": {},
   "source": [
    "## HistGradientBoosting Model"
   ]
  },
  {
   "cell_type": "markdown",
   "id": "91545870",
   "metadata": {},
   "source": [
    "### Pipeline Creation"
   ]
  },
  {
   "cell_type": "code",
   "execution_count": 272,
   "id": "4343e443",
   "metadata": {},
   "outputs": [],
   "source": [
    "#Define pipeline\n",
    "HGB_pipe = make_pipeline(\n",
    "    SimpleImputer(strategy='mean'),\n",
    "    StandardScaler(),\n",
    "    HistGradientBoostingRegressor(random_state= 47)\n",
    ")"
   ]
  },
  {
   "cell_type": "code",
   "execution_count": 273,
   "id": "b55be03d",
   "metadata": {},
   "outputs": [
    {
     "data": {
      "text/plain": [
       "dict_keys(['memory', 'steps', 'verbose', 'simpleimputer', 'standardscaler', 'histgradientboostingregressor', 'simpleimputer__add_indicator', 'simpleimputer__copy', 'simpleimputer__fill_value', 'simpleimputer__missing_values', 'simpleimputer__strategy', 'simpleimputer__verbose', 'standardscaler__copy', 'standardscaler__with_mean', 'standardscaler__with_std', 'histgradientboostingregressor__categorical_features', 'histgradientboostingregressor__early_stopping', 'histgradientboostingregressor__l2_regularization', 'histgradientboostingregressor__learning_rate', 'histgradientboostingregressor__loss', 'histgradientboostingregressor__max_bins', 'histgradientboostingregressor__max_depth', 'histgradientboostingregressor__max_iter', 'histgradientboostingregressor__max_leaf_nodes', 'histgradientboostingregressor__min_samples_leaf', 'histgradientboostingregressor__monotonic_cst', 'histgradientboostingregressor__n_iter_no_change', 'histgradientboostingregressor__random_state', 'histgradientboostingregressor__scoring', 'histgradientboostingregressor__tol', 'histgradientboostingregressor__validation_fraction', 'histgradientboostingregressor__verbose', 'histgradientboostingregressor__warm_start'])"
      ]
     },
     "execution_count": 273,
     "metadata": {},
     "output_type": "execute_result"
    }
   ],
   "source": [
    "HGB_pipe.get_params().keys()"
   ]
  },
  {
   "cell_type": "markdown",
   "id": "57f9c25d",
   "metadata": {},
   "source": [
    "### Hyperparameter  Grid Search and Model Fit Using Best Parameters from Grid Search"
   ]
  },
  {
   "cell_type": "code",
   "execution_count": 274,
   "id": "032859f2",
   "metadata": {},
   "outputs": [
    {
     "data": {
      "text/plain": [
       "{'standardscaler': [None],\n",
       " 'simpleimputer__strategy': ['median'],\n",
       " 'histgradientboostingregressor__learning_rate': [0.08],\n",
       " 'histgradientboostingregressor__max_iter': [80, 85, 90],\n",
       " 'histgradientboostingregressor__max_depth': [3],\n",
       " 'histgradientboostingregressor__max_leaf_nodes': [4]}"
      ]
     },
     "execution_count": 274,
     "metadata": {},
     "output_type": "execute_result"
    }
   ],
   "source": [
    "#Define grid search parameters\n",
    "\n",
    "learning_rate = [.08]\n",
    "max_iterations = [85]\n",
    "max_depth = [3]\n",
    "max_leaf_nodes = [4]   #default is 31\n",
    "\n",
    "grid_params = {\n",
    "        'standardscaler': [None],\n",
    "        'simpleimputer__strategy': ['median'],\n",
    "        'histgradientboostingregressor__learning_rate': learning_rate,\n",
    "        'histgradientboostingregressor__max_iter': max_iterations,\n",
    "        'histgradientboostingregressor__max_depth': max_depth,\n",
    "        'histgradientboostingregressor__max_leaf_nodes': max_leaf_nodes\n",
    "}\n",
    "grid_params"
   ]
  },
  {
   "cell_type": "code",
   "execution_count": 275,
   "id": "dad98a5a",
   "metadata": {},
   "outputs": [],
   "source": [
    "#First Pass\n",
    "# {'standardscaler': [None],\n",
    "#  'simpleimputer__strategy': ['mean', 'median'], median\n",
    "#  'histgradientboostingregressor__learning_rate': [0.03, 0.04, 0.05, 0.06], .06\n",
    "#  'histgradientboostingregressor__max_iter': [115, 125, 135, 145, 155], 115\n",
    "#  'histgradientboostingregressor__max_depth': [2, 3, 4], 3\n",
    "#  'histgradientboostingregressor__max_leaf_nodes': [4, 8, 12, 16, 20]} 4\n",
    "\n",
    "#Second Pass\n",
    "# {'standardscaler': [None],\n",
    "#  'simpleimputer__strategy': ['median'],\n",
    "#  'histgradientboostingregressor__learning_rate': [0.06, 0.07, 0.08], .08\n",
    "#  'histgradientboostingregressor__max_iter': [95, 105, 115], 95\n",
    "#  'histgradientboostingregressor__max_depth': [3],\n",
    "#  'histgradientboostingregressor__max_leaf_nodes': [2, 4, 6]} 4\n",
    "\n",
    "#Third Pass\n",
    "# {'standardscaler': [None],\n",
    "#  'simpleimputer__strategy': ['median'],\n",
    "#  'histgradientboostingregressor__learning_rate': [0.08, 0.09, 0.1], .08\n",
    "#  'histgradientboostingregressor__max_iter': [75, 85, 95], 85 (85 beat 80 and 90 on 4th pass)\n",
    "#  'histgradientboostingregressor__max_depth': [3],\n",
    "#  'histgradientboostingregressor__max_leaf_nodes': [4]}"
   ]
  },
  {
   "cell_type": "code",
   "execution_count": 276,
   "id": "308e86e1",
   "metadata": {},
   "outputs": [],
   "source": [
    "#Call `GridSearchCV` with the hist gradient boosting pipeline, passing in the above `grid_params`\n",
    "#dict for parameters to evaluate, 5-fold cross-validation.\n",
    "hgb_grid_cv = GridSearchCV(HGB_pipe, param_grid=grid_params, cv=5)"
   ]
  },
  {
   "cell_type": "code",
   "execution_count": 277,
   "id": "403f1f8a",
   "metadata": {},
   "outputs": [
    {
     "data": {
      "text/plain": [
       "GridSearchCV(cv=5,\n",
       "             estimator=Pipeline(steps=[('simpleimputer', SimpleImputer()),\n",
       "                                       ('standardscaler', StandardScaler()),\n",
       "                                       ('histgradientboostingregressor',\n",
       "                                        HistGradientBoostingRegressor(random_state=47))]),\n",
       "             param_grid={'histgradientboostingregressor__learning_rate': [0.08],\n",
       "                         'histgradientboostingregressor__max_depth': [3],\n",
       "                         'histgradientboostingregressor__max_iter': [80, 85,\n",
       "                                                                     90],\n",
       "                         'histgradientboostingregressor__max_leaf_nodes': [4],\n",
       "                         'simpleimputer__strategy': ['median'],\n",
       "                         'standardscaler': [None]})"
      ]
     },
     "execution_count": 277,
     "metadata": {},
     "output_type": "execute_result"
    }
   ],
   "source": [
    "#`GridSearchCV`'s `fit()` method with `X_train` and `y_train` as arguments\n",
    "#to actually start the grid search. \n",
    "hgb_grid_cv.fit(X_train, y_train)"
   ]
  },
  {
   "cell_type": "code",
   "execution_count": 278,
   "id": "6b803963",
   "metadata": {},
   "outputs": [
    {
     "data": {
      "text/plain": [
       "{'histgradientboostingregressor__learning_rate': 0.08,\n",
       " 'histgradientboostingregressor__max_depth': 3,\n",
       " 'histgradientboostingregressor__max_iter': 85,\n",
       " 'histgradientboostingregressor__max_leaf_nodes': 4,\n",
       " 'simpleimputer__strategy': 'median',\n",
       " 'standardscaler': None}"
      ]
     },
     "execution_count": 278,
     "metadata": {},
     "output_type": "execute_result"
    }
   ],
   "source": [
    "#Best params (`best_params_` attribute) from the grid search    \n",
    "hgb_grid_cv.best_params_"
   ]
  },
  {
   "cell_type": "markdown",
   "id": "f36491bb",
   "metadata": {},
   "source": [
    "### Model Cross-Validation and Fit Metrics"
   ]
  },
  {
   "cell_type": "markdown",
   "id": "9d9a3232",
   "metadata": {},
   "source": [
    "#### R-Squared (Training Cross Validation, then Testing)"
   ]
  },
  {
   "cell_type": "code",
   "execution_count": 279,
   "id": "17b0bf21",
   "metadata": {},
   "outputs": [
    {
     "data": {
      "text/plain": [
       "array([0.72688966, 0.79594238, 0.75707017, 0.76857768, 0.7629436 ])"
      ]
     },
     "execution_count": 279,
     "metadata": {},
     "output_type": "execute_result"
    }
   ],
   "source": [
    "#Cross-validation defaults to R^2 metric for scoring regression\n",
    "hgb_best_cv_results = cross_validate(hgb_grid_cv.best_estimator_, X_train, y_train, cv=5)\n",
    "hgb_best_scores = hgb_best_cv_results['test_score']\n",
    "hgb_best_scores"
   ]
  },
  {
   "cell_type": "code",
   "execution_count": 280,
   "id": "e381f22b",
   "metadata": {},
   "outputs": [
    {
     "data": {
      "text/plain": [
       "(0.7622846952648594, 0.022148929257931018)"
      ]
     },
     "execution_count": 280,
     "metadata": {},
     "output_type": "execute_result"
    }
   ],
   "source": [
    "#Training set CV mean and std\n",
    "np.mean(hgb_best_scores), np.std(hgb_best_scores)"
   ]
  },
  {
   "cell_type": "markdown",
   "id": "12817a1d",
   "metadata": {},
   "source": [
    "#### Mean Absolute Error (MAE)"
   ]
  },
  {
   "cell_type": "code",
   "execution_count": 281,
   "id": "e105655e",
   "metadata": {},
   "outputs": [],
   "source": [
    "hgb_neg_mae = cross_validate(hgb_grid_cv.best_estimator_, X_train, y_train, \n",
    "                            scoring='neg_mean_absolute_error', cv=5, n_jobs=-1)"
   ]
  },
  {
   "cell_type": "code",
   "execution_count": 282,
   "id": "6c4a8394",
   "metadata": {},
   "outputs": [
    {
     "data": {
      "text/plain": [
       "(2.720967599540751, 0.08887442991782296)"
      ]
     },
     "execution_count": 282,
     "metadata": {},
     "output_type": "execute_result"
    }
   ],
   "source": [
    "#Training set CV mean and std\n",
    "hgb_mae_mean = np.mean(-1 * hgb_neg_mae['test_score'])\n",
    "hgb_mae_std = np.std(-1 * hgb_neg_mae['test_score'])\n",
    "hgb_mae_mean, hgb_mae_std"
   ]
  },
  {
   "cell_type": "code",
   "execution_count": 283,
   "id": "7ffb6dc0",
   "metadata": {},
   "outputs": [
    {
     "data": {
      "text/plain": [
       "2.7533267910465287"
      ]
     },
     "execution_count": 283,
     "metadata": {},
     "output_type": "execute_result"
    }
   ],
   "source": [
    "# Test set mean\n",
    "mean_absolute_error(y_test, hgb_grid_cv.best_estimator_.predict(X_test))"
   ]
  },
  {
   "cell_type": "markdown",
   "id": "3c4cd2eb",
   "metadata": {},
   "source": [
    "#### Mean Squared Error (MSE)"
   ]
  },
  {
   "cell_type": "code",
   "execution_count": 284,
   "id": "2a47bccc",
   "metadata": {},
   "outputs": [],
   "source": [
    "hgb_neg_mse = cross_validate(hgb_grid_cv.best_estimator_, X_train, y_train, \n",
    "                            scoring='neg_mean_squared_error', cv= 5)"
   ]
  },
  {
   "cell_type": "code",
   "execution_count": 285,
   "id": "981e2931",
   "metadata": {},
   "outputs": [
    {
     "data": {
      "text/plain": [
       "(15.437007313674433, 1.5927973873137087)"
      ]
     },
     "execution_count": 285,
     "metadata": {},
     "output_type": "execute_result"
    }
   ],
   "source": [
    "#Training set CV mean and std\n",
    "hgb_mse_mean = np.mean(-1 * hgb_neg_mse['test_score'])\n",
    "hgb_mse_std = np.std(-1 * hgb_neg_mse['test_score'])\n",
    "hgb_mse_mean, hgb_mse_std"
   ]
  },
  {
   "cell_type": "code",
   "execution_count": 286,
   "id": "55f54f02",
   "metadata": {},
   "outputs": [
    {
     "data": {
      "text/plain": [
       "15.112353456560315"
      ]
     },
     "execution_count": 286,
     "metadata": {},
     "output_type": "execute_result"
    }
   ],
   "source": [
    "# Test set mean\n",
    "mean_squared_error(y_test, hgb_grid_cv.best_estimator_.predict(X_test))"
   ]
  },
  {
   "cell_type": "markdown",
   "id": "d540d410",
   "metadata": {},
   "source": [
    "#### Root Mean Squred Error (RMSE)"
   ]
  },
  {
   "cell_type": "code",
   "execution_count": 287,
   "id": "44eb6c47",
   "metadata": {},
   "outputs": [],
   "source": [
    "hgb_neg_rmse = cross_validate(hgb_grid_cv.best_estimator_, X_train, y_train, \n",
    "                            scoring='neg_root_mean_squared_error', cv=5)"
   ]
  },
  {
   "cell_type": "code",
   "execution_count": 288,
   "id": "a1c88bf4",
   "metadata": {
    "scrolled": true
   },
   "outputs": [
    {
     "data": {
      "text/plain": [
       "(3.923843008121485, 0.20115506777252656)"
      ]
     },
     "execution_count": 288,
     "metadata": {},
     "output_type": "execute_result"
    }
   ],
   "source": [
    "#Training set CV mean and std\n",
    "hgb_rmse_mean = np.mean(-1 * hgb_neg_rmse['test_score'])\n",
    "hgb_rmse_std = np.std(-1 * hgb_neg_rmse['test_score'])\n",
    "hgb_rmse_mean, hgb_rmse_std"
   ]
  },
  {
   "cell_type": "code",
   "execution_count": 289,
   "id": "8269eb7e",
   "metadata": {},
   "outputs": [
    {
     "data": {
      "text/plain": [
       "3.8874610553110776"
      ]
     },
     "execution_count": 289,
     "metadata": {},
     "output_type": "execute_result"
    }
   ],
   "source": [
    "# Test set mean\n",
    "np.sqrt(mean_squared_error(y_test, hgb_grid_cv.best_estimator_.predict(X_test)))"
   ]
  },
  {
   "cell_type": "markdown",
   "id": "477135ee",
   "metadata": {},
   "source": [
    "Hist Gradient Boosting Regressor RMSE Train(STD)/Test for different explored hyperparameter values (summarized below each)\n",
    "\n",
    "(3.923843008121485, 0.20115506777252656), 3.8874610553110776\n",
    "\n",
    "{'histgradientboostingregressor__learning_rate': 0.08,\n",
    " 'histgradientboostingregressor__max_depth': 3,\n",
    " 'histgradientboostingregressor__max_iter': 85,\n",
    " 'histgradientboostingregressor__max_leaf_nodes': 4,\n",
    " 'simpleimputer__strategy': 'median',\n",
    " 'standardscaler': None}"
   ]
  },
  {
   "cell_type": "markdown",
   "id": "129971e3",
   "metadata": {},
   "source": [
    "## Save Best Model Object From Pipeline (Linear Model)"
   ]
  },
  {
   "cell_type": "markdown",
   "id": "5f9fd19a",
   "metadata": {},
   "source": [
    "The Linear Model turned out to be the best of the four models tested (based on cross-validation RMSE). Below, the best model is saved to be run on the full dataset in a final step ().  "
   ]
  },
  {
   "cell_type": "code",
   "execution_count": 411,
   "id": "14e1985a",
   "metadata": {},
   "outputs": [],
   "source": [
    "best_model = lr_grid_cv.best_estimator_\n",
    "best_model.version = '1.0'\n",
    "best_model.pandas_version = pd.__version__\n",
    "best_model.numpy_version = np.__version__\n",
    "best_model.sklearn_version = sklearn_version\n",
    "best_model.X_columns = [col for col in X_train.columns]\n",
    "best_model.build_datetime = datetime.datetime.now()"
   ]
  },
  {
   "cell_type": "code",
   "execution_count": 412,
   "id": "851c98c2",
   "metadata": {},
   "outputs": [
    {
     "name": "stdout",
     "output_type": "stream",
     "text": [
      "Writing file.  \"../models\\IS1_full_best_model_linear.pkl\"\n"
     ]
    }
   ],
   "source": [
    "# save the model\n",
    "modelpath = '../models'\n",
    "save_file(best_model, 'GMS_full_best_model_linear.pkl', modelpath)"
   ]
  },
  {
   "cell_type": "markdown",
   "id": "a93c16a1",
   "metadata": {},
   "source": [
    "### Data Quality Assessment"
   ]
  },
  {
   "cell_type": "markdown",
   "id": "9a002c98",
   "metadata": {},
   "source": [
    "Because the Linear Model turned out to be the best of the four models tested (in terms of cross-validation RMSE), a Data Quality Assessment was run on this model to ensure that results are not hindered by sample size. Results in that regard are inconclusive, though when this assessment was run on Gradient Boosting Regressor CV score was clearly still rising at the possible edge of the sample max."
   ]
  },
  {
   "cell_type": "code",
   "execution_count": 389,
   "id": "4accb13a",
   "metadata": {},
   "outputs": [
    {
     "name": "stderr",
     "output_type": "stream",
     "text": [
      "C:\\Users\\jraks\\anaconda3\\lib\\site-packages\\sklearn\\feature_selection\\_univariate_selection.py:301: RuntimeWarning: invalid value encountered in true_divide\n",
      "  corr /= X_norms\n",
      "C:\\Users\\jraks\\anaconda3\\lib\\site-packages\\sklearn\\feature_selection\\_univariate_selection.py:301: RuntimeWarning: invalid value encountered in true_divide\n",
      "  corr /= X_norms\n"
     ]
    }
   ],
   "source": [
    "fractions = [.2, .25, .3, .35, .4, .45, .5, .6, .75, .8, .9, 1.0]\n",
    "train_size, train_scores, test_scores = learning_curve(lr_pipe, X_train, y_train, train_sizes=fractions)\n",
    "train_scores_mean = np.mean(train_scores, axis=1)\n",
    "train_scores_std = np.std(train_scores, axis=1)\n",
    "test_scores_mean = np.mean(test_scores, axis=1)\n",
    "test_scores_std = np.std(test_scores, axis=1)"
   ]
  },
  {
   "cell_type": "code",
   "execution_count": 390,
   "id": "ab56b769",
   "metadata": {},
   "outputs": [
    {
     "data": {
      "image/png": "[encoded data removed]",
      "text/plain": [
       "<Figure size 720x360 with 1 Axes>"
      ]
     },
     "metadata": {
      "needs_background": "light"
     },
     "output_type": "display_data"
    }
   ],
   "source": [
    "plt.subplots(figsize=(10, 5))\n",
    "plt.errorbar(train_size, test_scores_mean, yerr=test_scores_std)\n",
    "plt.xlabel('Training set size')\n",
    "plt.ylabel('CV scores')\n",
    "plt.title('Cross-validation score as training set size increases');"
   ]
  },
  {
   "cell_type": "markdown",
   "id": "1a907384",
   "metadata": {},
   "source": [
    "\n",
    "## Conclusions\n"
   ]
  },
  {
   "cell_type": "code",
   "execution_count": null,
   "id": "deb48de1",
   "metadata": {},
   "outputs": [],
   "source": []
  }
 ],
 "metadata": {
  "kernelspec": {
   "display_name": "Python 3",
   "language": "python",
   "name": "python3"
  },
  "language_info": {
   "codemirror_mode": {
    "name": "ipython",
    "version": 3
   },
   "file_extension": ".py",
   "mimetype": "text/x-python",
   "name": "python",
   "nbconvert_exporter": "python",
   "pygments_lexer": "ipython3",
   "version": "3.8.8"
  }
 },
 "nbformat": 4,
 "nbformat_minor": 5
}
