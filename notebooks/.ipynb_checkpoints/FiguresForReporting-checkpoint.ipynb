{
 "cells": [
  {
   "cell_type": "code",
   "execution_count": 54,
   "id": "1db3739c",
   "metadata": {},
   "outputs": [],
   "source": [
    "import pandas as pd\n",
    "import numpy as np\n",
    "import os\n",
    "import matplotlib.pyplot as plt\n",
    "import seaborn as sns"
   ]
  },
  {
   "cell_type": "markdown",
   "id": "30b97eec",
   "metadata": {},
   "source": [
    "### Figure 7. Best Model Prediction Quality vs Benchmark Models\n",
    "Data imported from 03_Preprocessing_Training-CompletionRangeFiltered, 04_Modeling-CompletionRangeFiltered"
   ]
  },
  {
   "cell_type": "code",
   "execution_count": 58,
   "id": "aff5cb4d",
   "metadata": {},
   "outputs": [
    {
     "data": {
      "text/html": [
       "<div>\n",
       "<style scoped>\n",
       "    .dataframe tbody tr th:only-of-type {\n",
       "        vertical-align: middle;\n",
       "    }\n",
       "\n",
       "    .dataframe tbody tr th {\n",
       "        vertical-align: top;\n",
       "    }\n",
       "\n",
       "    .dataframe thead th {\n",
       "        text-align: right;\n",
       "    }\n",
       "</style>\n",
       "<table border=\"1\" class=\"dataframe\">\n",
       "  <thead>\n",
       "    <tr style=\"text-align: right;\">\n",
       "      <th></th>\n",
       "      <th>Model_Inclusion</th>\n",
       "      <th>Training_Error</th>\n",
       "      <th>Training_SD</th>\n",
       "      <th>Testing_Error</th>\n",
       "    </tr>\n",
       "  </thead>\n",
       "  <tbody>\n",
       "    <tr>\n",
       "      <th>0</th>\n",
       "      <td>Full_Best_Model</td>\n",
       "      <td>3.928210</td>\n",
       "      <td>0.224471</td>\n",
       "      <td>3.716765</td>\n",
       "    </tr>\n",
       "    <tr>\n",
       "      <th>1</th>\n",
       "      <td>Mean_Sample_PDS_GMST</td>\n",
       "      <td>4.432024</td>\n",
       "      <td>0.264942</td>\n",
       "      <td>4.195958</td>\n",
       "    </tr>\n",
       "    <tr>\n",
       "      <th>2</th>\n",
       "      <td>Dummy</td>\n",
       "      <td>8.218983</td>\n",
       "      <td>0.000000</td>\n",
       "      <td>8.215752</td>\n",
       "    </tr>\n",
       "  </tbody>\n",
       "</table>\n",
       "</div>"
      ],
      "text/plain": [
       "        Model_Inclusion  Training_Error  Training_SD  Testing_Error\n",
       "0       Full_Best_Model        3.928210     0.224471       3.716765\n",
       "1  Mean_Sample_PDS_GMST        4.432024     0.264942       4.195958\n",
       "2                 Dummy        8.218983     0.000000       8.215752"
      ]
     },
     "execution_count": 58,
     "metadata": {},
     "output_type": "execute_result"
    }
   ],
   "source": [
    "data = [[\"Full_Best_Model\", 3.9282102019749274, 0.22447072563462753, 3.71676498041535], [\"Mean_Sample_PDS_GMST\", 4.432024431330915, 0.26494170111505394, 4.195957617754148], [\"Dummy\", 8.218982759321516, 0, 8.215751823387446]]\n",
    "df = pd.DataFrame(data, columns=[\"Model_Inclusion\", \"Training_Error\", \"Training_SD\", \"Testing_Error\"])\n",
    "df"
   ]
  },
  {
   "cell_type": "code",
   "execution_count": 59,
   "id": "93e2d2b2",
   "metadata": {},
   "outputs": [
    {
     "data": {
      "text/plain": [
       "(3.0, 9.0)"
      ]
     },
     "execution_count": 59,
     "metadata": {},
     "output_type": "execute_result"
    },
    {
     "data": {
      "image/png": "[encoded data removed]",
      "text/plain": [
       "<Figure size 432x288 with 1 Axes>"
      ]
     },
     "metadata": {
      "needs_background": "light"
     },
     "output_type": "display_data"
    }
   ],
   "source": [
    "#Figure 7\n",
    "#plt.figure(figsize=(20, 10))\n",
    "g = sns.barplot(x=\"Model_Inclusion\",y=\"Training_Error\",data=df, palette = [\"gray\", \"rosybrown\", \"tan\"], yerr=df[\"Training_SD\"]*1)\n",
    "g.set_ylabel(\"training_error (mean + sd)\")\n",
    "#g.set(xticklabels=[\"\", \"\"])\n",
    "g.set_xlabel(\"Model_Error\")\n",
    "g.set_ylim(3,9)"
   ]
  },
  {
   "cell_type": "code",
   "execution_count": 60,
   "id": "53967907",
   "metadata": {},
   "outputs": [],
   "source": [
    "# Mean target feature (GMST, in minutes) value for training set across all 15x15 puzzles\n",
    "y_train_mean = 16.386301560758113"
   ]
  },
  {
   "cell_type": "code",
   "execution_count": 61,
   "id": "21f7e01c",
   "metadata": {},
   "outputs": [
    {
     "data": {
      "text/plain": [
       "23.972524778759098"
      ]
     },
     "execution_count": 61,
     "metadata": {},
     "output_type": "execute_result"
    }
   ],
   "source": [
    "# Calculate % difference from training set mean solve time represented by Full_Best_Model mean error\n",
    "error_pct = ((3.9282102019749274)/(y_train_mean))*100 \n",
    "error_pct"
   ]
  },
  {
   "cell_type": "code",
   "execution_count": 62,
   "id": "cec3feef",
   "metadata": {},
   "outputs": [
    {
     "data": {
      "text/plain": [
       "27.047130890992023"
      ]
     },
     "execution_count": 62,
     "metadata": {},
     "output_type": "execute_result"
    }
   ],
   "source": [
    "# Calculate % difference from training set mean solve time represented by Mean PDS GMST mean error\n",
    "error_pct = ((4.432024431330915)/(y_train_mean))*100 \n",
    "error_pct"
   ]
  },
  {
   "cell_type": "code",
   "execution_count": 63,
   "id": "b2be4aed",
   "metadata": {},
   "outputs": [
    {
     "data": {
      "text/plain": [
       "50.15764374191869"
      ]
     },
     "execution_count": 63,
     "metadata": {},
     "output_type": "execute_result"
    }
   ],
   "source": [
    "# Calculate % difference from training set mean solve time represented by Dummy mean error\n",
    "error_pct = ((8.218982759321516)/(y_train_mean))*100 \n",
    "error_pct"
   ]
  },
  {
   "cell_type": "markdown",
   "id": "c943a56e",
   "metadata": {},
   "source": [
    "#### Day By Day Models"
   ]
  },
  {
   "cell_type": "markdown",
   "id": "fba23148",
   "metadata": {},
   "source": [
    "Note: Best model per day was derived using an 80/20 split for the best overall model (HGB Regressor), and THEN applying the best model fit across the entire puzzle day data set to maximize what can be done with a small amount of data. DQAs per puzzle day show that CV scores are still going up at the max training set size.  "
   ]
  },
  {
   "cell_type": "code",
   "execution_count": null,
   "id": "68e7b840",
   "metadata": {},
   "outputs": [],
   "source": [
    "#Reorganizing training mean and sd to use Matplotlib because of Seaborn limitations with using pre-computed error bars per condition (very annoying that they can't address this)\n",
    "#see https://stackoverflow.com/questions/23144784/plotting-error-bars-on-grouped-bars-in-pandas\n",
    "\n",
    "df = pd.DataFrame([[\"Sunday\",7.06770805319707,8.990167088706453,0.6208064338963971,0], [\"Monday\",1.1073558520950824,1.402019991287887,0.1618572651049575,0], [\"Tuesday\",2.2494997419263427,2.6930898714036013,0.37760364177094324,0], [\"Wednesday\", 3.084726001353529,3.35517933619515,0.2427046640535638,0], [\"Thursday\",4.7856375269834075,5.287058757730194,0.3141088147550868,0], [\"Friday\", 4.561198709848229,5.18734887354369,0.8784468717872652,0], [\"Saturday\",6.099322175579476,6.655006910229227,0.814137125622116,0]], columns = [\"DOW\", \"mean_1\", \"mean_2\", \"std_1\", \"std_2\"])\n",
    "\n",
    "#convert std columns to array for plotting\n",
    "yerr = df[[\"std_1\", \"std_2\"]].to_numpy().T"
   ]
  },
  {
   "cell_type": "code",
   "execution_count": null,
   "id": "042d7f0b",
   "metadata": {},
   "outputs": [],
   "source": [
    "# Also need mean training set GMSTs per puzzle day so we can percentigize the error to normalize across puzzle days for comparison\n",
    "# For this analysis, the training/testing split was 80/20 instead of 75/25, to boost the per-day n's slightly\n",
    "# training Ns are 212 per day\n",
    "\n",
    "Sun_training_mean = 38.536320754716996\n",
    "Mon_training_mean = 7.019025157232706\n",
    "Tue_training_mean= 9.811792452830197\n",
    "Wed_training_mean= 13.257704402515722\n",
    "Thu_training_mean= 20.790644654088048\n",
    "Fri_training_mean= 21.632625786163523\n",
    "Sat_training_mean= 26.37610062893082"
   ]
  },
  {
   "cell_type": "code",
   "execution_count": 64,
   "id": "84ac7128",
   "metadata": {},
   "outputs": [
    {
     "name": "stdout",
     "output_type": "stream",
     "text": [
      "18.34038100882258\n",
      "15.776490713301051\n",
      "22.92649128832192\n",
      "23.26742177754533\n",
      "23.018225777055985\n",
      "21.084813073249872\n",
      "23.124427152394883\n"
     ]
    }
   ],
   "source": [
    "# Normalize each puzzle day subtraction by the training set mean without that day\n",
    "# Full Model - Mean\n",
    "\n",
    "Sun_error_pct = ((7.06770805319707)/(38.536320754716996))*100 \n",
    "print(Sun_error_pct)\n",
    "\n",
    "Mon_error_pct = ((1.1073558520950824)/(7.019025157232706))*100 \n",
    "print(Mon_error_pct)\n",
    "\n",
    "Tue_error_pct = ((2.2494997419263427)/(9.811792452830197))*100 \n",
    "print(Tue_error_pct)\n",
    "\n",
    "Wed_error_pct = ((3.084726001353529)/(13.257704402515722))*100 \n",
    "print(Wed_error_pct)\n",
    "\n",
    "Thu_error_pct = ((4.7856375269834075)/(20.790644654088048))*100 \n",
    "print(Thu_error_pct)\n",
    "\n",
    "Fri_error_pct = ((4.561198709848229)/(21.632625786163523))*100 \n",
    "print(Fri_error_pct)\n",
    "\n",
    "Sat_error_pct = ((6.099322175579476)/(26.37610062893082))*100 \n",
    "print(Sat_error_pct)"
   ]
  },
  {
   "cell_type": "code",
   "execution_count": 66,
   "id": "ffb8076f",
   "metadata": {
    "scrolled": true
   },
   "outputs": [
    {
     "name": "stdout",
     "output_type": "stream",
     "text": [
      "1.6109644660885485\n",
      "2.3059792703289115\n",
      "3.8484674801903704\n",
      "1.8306688449586284\n",
      "1.5108180625525907\n",
      "4.060750093264822\n",
      "3.0866470259410663\n"
     ]
    }
   ],
   "source": [
    "# Normalize each puzzle day subtraction by the training set mean without that day\n",
    "# Full Model - stdev\n",
    "Sun_error_pct = ((0.6208064338963971)/(38.536320754716996))*100 \n",
    "print(Sun_error_pct)\n",
    "\n",
    "Mon_error_pct = ((0.1618572651049575)/(7.019025157232706))*100 \n",
    "print(Mon_error_pct)\n",
    "\n",
    "Tue_error_pct = ((0.37760364177094324)/(9.811792452830197))*100 \n",
    "print(Tue_error_pct)\n",
    "\n",
    "Wed_error_pct = ((0.2427046640535638)/(13.257704402515722))*100 \n",
    "print(Wed_error_pct)\n",
    "\n",
    "Thu_error_pct = ((0.3141088147550868)/(20.790644654088048))*100 \n",
    "print(Thu_error_pct)\n",
    "\n",
    "Fri_error_pct = ((0.8784468717872652)/(21.632625786163523))*100 \n",
    "print(Fri_error_pct)\n",
    "\n",
    "Sat_error_pct = ((0.814137125622116)/(26.37610062893082))*100 \n",
    "print(Sat_error_pct)"
   ]
  },
  {
   "cell_type": "code",
   "execution_count": 67,
   "id": "6ccd554c",
   "metadata": {},
   "outputs": [
    {
     "name": "stdout",
     "output_type": "stream",
     "text": [
      "23.32907478617045\n",
      "19.97456854593526\n",
      "27.447481021949088\n",
      "25.307392851197424\n",
      "25.42998952507518\n",
      "23.979284460518787\n",
      "25.231200789890956\n"
     ]
    }
   ],
   "source": [
    "# Normalize each puzzle day subtraction by the training set mean without that day\n",
    "# Dummy Model - Mean\n",
    "Sun_error_pct = ((8.990167088706453)/(38.536320754716996))*100 \n",
    "print(Sun_error_pct)\n",
    "\n",
    "Mon_error_pct = ((1.402019991287887)/(7.019025157232706))*100 \n",
    "print(Mon_error_pct)\n",
    "\n",
    "Tue_error_pct = ((2.6930898714036013)/(9.811792452830197))*100 \n",
    "print(Tue_error_pct)\n",
    "\n",
    "Wed_error_pct = ((3.35517933619515)/(13.257704402515722))*100 \n",
    "print(Wed_error_pct)\n",
    "\n",
    "Thu_error_pct = ((5.287058757730194)/(20.790644654088048))*100 \n",
    "print(Thu_error_pct)\n",
    "\n",
    "Fri_error_pct = ((5.18734887354369)/(21.632625786163523))*100 \n",
    "print(Fri_error_pct)\n",
    "\n",
    "Sat_error_pct = ((6.655006910229227)/(26.37610062893082))*100 \n",
    "print(Sat_error_pct)"
   ]
  },
  {
   "cell_type": "code",
   "execution_count": 68,
   "id": "05d10dc6",
   "metadata": {},
   "outputs": [],
   "source": [
    "#Reorganizing training mean and sd to use Matplotlib because of Seaborn limitations with using pre-computed error bars per condition (very annoying that they can't address this)\n",
    "#see https://stackoverflow.com/questions/23144784/plotting-error-bars-on-grouped-bars-in-pandas\n",
    "#Percentigized version (use this version in Github Summary)\n",
    "\n",
    "df = pd.DataFrame([[\"Sunday\",18.34038100882258,23.32907478617045,1.6109644660885485,0], [\"Monday\",15.776490713301051,19.97456854593526,2.3059792703289115,0], [\"Tuesday\",22.92649128832192,27.447481021949088,3.8484674801903704,0], [\"Wednesday\",23.26742177754533,25.307392851197424,1.8306688449586284,0], [\"Thursday\",23.018225777055985,25.42998952507518,1.5108180625525907,0], [\"Friday\",21.084813073249872,23.979284460518787,4.060750093264822,0], [\"Saturday\",23.124427152394883,25.231200789890956,3.0866470259410663,0]], columns = [\"DOW\", \"mean_1\", \"mean_2\", \"std_1\", \"std_2\"])\n",
    "\n",
    "#convert std columns to array for plotting\n",
    "yerr = df[[\"std_1\", \"std_2\"]].to_numpy().T"
   ]
  },
  {
   "cell_type": "code",
   "execution_count": 76,
   "id": "7f076093",
   "metadata": {},
   "outputs": [
    {
     "data": {
      "image/png": "[encoded data removed]",
      "text/plain": [
       "<Figure size 432x288 with 1 Axes>"
      ]
     },
     "metadata": {
      "needs_background": "light"
     },
     "output_type": "display_data"
    }
   ],
   "source": [
    "#Hard Court plot\n",
    "df[['mean_1', 'mean_2']].plot(kind='bar', yerr = yerr, stacked=False, color= [[\"red\", \"#FF7518\", \"#ffdf00\", \"g\", \"#1F51FF\", \"#5d76cb\", \"fuchsia\"],[\"gray\"]], error_kw=dict(ecolor='k'))\n",
    "plt.xlabel('Puzzle Day')\n",
    "plt.ylabel('training_error (% of mean +- sd)')\n",
    "plt.ylim(10,30)\n",
    "plt.legend(labels = [\"Best Puzzle Day Model\", \"Puzzle Day Dummy Model\"])\n",
    "x = [0, 1, 2, 3, 4, 5, 6]\n",
    "labels = [\"Sunday\", \"Monday\", \"Tuesday\", \"Wednesday\", \"Thursday\", \"Friday\", \"Saturday\"]\n",
    "plt.xticks(x, labels, rotation=\"horizontal\");"
   ]
  },
  {
   "cell_type": "markdown",
   "id": "fac961b0",
   "metadata": {},
   "source": [
    "### Figure 9. Subtraction Models"
   ]
  },
  {
   "cell_type": "code",
   "execution_count": null,
   "id": "e203e9d1",
   "metadata": {},
   "outputs": [],
   "source": [
    "# Best Model\n",
    "(3.9282102019749274, 0.22447072563462753), 3.71676498041535\n",
    "\n",
    "# No short-term performance features\n",
    "(3.920428895977685, 0.20723328881777078), 3.7325801822587583\n",
    "\n",
    "# No long-term performance features\n",
    "(3.972915872073318, 0.22444500168239612), 3.7091999348239924\n",
    "\n",
    "# No DOW\n",
    "(3.9416486927044767, 0.2120236260906645), 3.7165499485817657\n",
    "\n",
    "# No Constructor Past Performance\n",
    "(4.04583450800587, 0.24968821583282386), 3.8748950517977248\n",
    "\n",
    "# No Grid Features\n",
    "(3.950719959540435, 0.2262476201380524), 3.7243726622205635\n",
    "\n",
    "# No CLue Features\n",
    "(3.951618401910141, 0.21389571373116592), 3.761579483075307\n",
    "\n",
    "# No Answer Features\n",
    "(4.0457919385750545, 0.2644101350923908), 3.7364273622136195 \n",
    "\n",
    "# No Decay Weighting\n",
    "(3.9126715411197837, 0.22771999387782135), 3.7220768122103194\n",
    "\n",
    "# No Decay Weighting and No Short Term Performance\n",
    "(3.9074853407762378, 0.21945141954920874), 3.7292287699017264\n",
    "\n",
    "# No Decay Weighting and No Long Term Performance\n",
    "(4.0064576839992, 0.22577918789170562), 3.694561029797381"
   ]
  },
  {
   "cell_type": "code",
   "execution_count": null,
   "id": "add54520",
   "metadata": {},
   "outputs": [],
   "source": [
    "#Sample code for feature subtraction modeling\n",
    "data = [[\"Best Model\", 5.3920702375117795, 0.038953743799929906], [\"-Player Long Term\", 5.392846435521714, 0.04198063618593294], [\"-Player Head-to-Head\", 5.395454417696486, 0.04646206833546143], [\"-Court Conditions\", 5.396724966787649, 0.044244348099151454], [\"-Rankings-Derived\", 5.39988044129819, 0.03736195830386619], [\"-Player Conditioning\", 5.408096040504917, 0.04282717224758523], [\"-Player Past IWP\", 5.415759289271845, 0.044390831567590036], [\"-Decay Time Weighting\", 5.421238156564083, 0.05230940070048705], [\"-SOS Adjustment\", 5.4312035500946365, 0.05209400082054645], [\"-Player Short Term\", 5.515157940445482, 0.02924137449876572]]\n",
    "df = pd.DataFrame(data, columns=[\"Model Inclusion\", \"Training Error\", \"Training SD\"])\n",
    "df"
   ]
  },
  {
   "cell_type": "code",
   "execution_count": null,
   "id": "9e5fecae",
   "metadata": {},
   "outputs": [],
   "source": [
    "#Sample code for feature subtraction modeling\n",
    "plt.figure(figsize=(20, 10))\n",
    "g = sns.barplot(x=\"Model Inclusion\",y=\"Training Error\",data=df, palette = [\"blue\",\"lightblue\", \"cornflowerblue\", \"purple\", \"rosybrown\", \"slateblue\", \"black\", \"lavender\", \"red\", \"skyblue\"], yerr=df[\"Training SD\"]*1)\n",
    "g.set_ylabel(\"training_error (mean +- sd)\")\n",
    "#g.set(xticklabels=[\"\", \"\"])\n",
    "g.set_xlabel(\"Model_Error\")\n",
    "g.set_ylim(5.3,5.6);\n",
    "\n",
    "# Define some hatches\n",
    "hatches = ['', '', '', '\\\\', '', '', '', '\\\\', '\\\\','','']\n",
    "\n",
    "# Loop over the bars\n",
    "for i,thisbar in enumerate(g.patches):\n",
    "    # Set a different hatch for each bar\n",
    "    thisbar.set_hatch(hatches[i])"
   ]
  },
  {
   "cell_type": "code",
   "execution_count": null,
   "id": "3868551f",
   "metadata": {},
   "outputs": [],
   "source": []
  },
  {
   "cell_type": "code",
   "execution_count": null,
   "id": "d11ec341",
   "metadata": {},
   "outputs": [],
   "source": []
  },
  {
   "cell_type": "markdown",
   "id": "69a2505e",
   "metadata": {},
   "source": [
    "### Not Currently In Summary"
   ]
  },
  {
   "cell_type": "markdown",
   "id": "76d647dc",
   "metadata": {},
   "source": [
    "### Puzzle Day Subtractions\n",
    "Using Best Model (GBM), but re-running best hyperparameters per subtraction model"
   ]
  },
  {
   "cell_type": "markdown",
   "id": "f2282fbe",
   "metadata": {},
   "source": [
    "Training Set Error, Means, and Training/Testing Ns Minus Individual Puzzle Days\n",
    "Minus Monday: \n",
    "(4.161549688695963, 0.30904287979625544), 4.668333200604575\n",
    "18.309652638610572 (998, 333)\n",
    "\n",
    "Minus Tuesday:\n",
    "(4.1846337183329885, 0.31043371297256817), 4.412384733707805\n",
    "17.698712805081914 (997, 333)\n",
    "\n",
    "Minus Wednesday:\n",
    "(4.077814574617915, 0.2567764434934064), 4.313691792794807\n",
    "16.908793045804092 (998, 333)\n",
    "\n",
    "Minus Thursday:\n",
    "(3.848559712359557, 0.31384001078486584), 3.9794858289435564 \n",
    "15.426496155132062, (997, 333)\n",
    "\n",
    "Minus Friday:\n",
    "(3.870266154420885, 0.23240516811060857), 3.8533089756586416\n",
    "15.334804413239723, (997, 333)\n",
    "\n",
    "Minus Saturday: \n",
    "(3.428025081162972, 0.3662050962511462), 3.438766494902316 \n",
    "14.352056168505529, (997, 333)"
   ]
  },
  {
   "cell_type": "code",
   "execution_count": 21,
   "id": "5cac741b",
   "metadata": {},
   "outputs": [
    {
     "name": "stdout",
     "output_type": "stream",
     "text": [
      "22.7287200409268\n",
      "23.64371784783939\n",
      "24.11653252583763\n",
      "24.947724186086315\n",
      "25.23844484823937\n",
      "23.88525407729038\n"
     ]
    }
   ],
   "source": [
    "# Normalize each puzzle day subtraction by the training set mean without that day\n",
    "Mon_subtract_error_pct = ((4.161549688695963)/(18.309652638610572))*100 \n",
    "print(Mon_subtract_error_pct)\n",
    "\n",
    "Tue_subtract_error_pct = ((4.1846337183329885)/(17.698712805081914))*100 \n",
    "print(Tue_subtract_error_pct)\n",
    "\n",
    "Wed_subtract_error_pct = ((4.077814574617915)/(16.908793045804092))*100 \n",
    "print(Wed_subtract_error_pct)\n",
    "\n",
    "Thu_subtract_error_pct = ((3.848559712359557)/(15.426496155132062))*100 \n",
    "print(Thu_subtract_error_pct)\n",
    "\n",
    "Fri_subtract_error_pct = ((3.870266154420885)/(15.334804413239723))*100 \n",
    "print(Fri_subtract_error_pct)\n",
    "\n",
    "Sat_subtract_error_pct = ((3.428025081162972)/(14.352056168505529))*100 \n",
    "print(Sat_subtract_error_pct)"
   ]
  },
  {
   "cell_type": "code",
   "execution_count": 22,
   "id": "afb4d741",
   "metadata": {},
   "outputs": [
    {
     "name": "stdout",
     "output_type": "stream",
     "text": [
      "1.68786861168824\n",
      "1.753990340379058\n",
      "1.5185971157008473\n",
      "2.0344218650095605\n",
      "1.5155404780380193\n",
      "2.551586281098557\n"
     ]
    }
   ],
   "source": [
    "# Now Normalize the error estimate for each puzzle day subtraction by the training set mean without thar day\n",
    "Mon_subtract_error_pct = ((0.30904287979625544)/(18.309652638610572))*100 \n",
    "print(Mon_subtract_error_pct)\n",
    "\n",
    "Tue_subtract_error_pct = ((0.31043371297256817)/(17.698712805081914))*100 \n",
    "print(Tue_subtract_error_pct)\n",
    "\n",
    "Wed_subtract_error_pct = ((0.2567764434934064)/(16.908793045804092))*100 \n",
    "print(Wed_subtract_error_pct)\n",
    "\n",
    "Thu_subtract_error_pct = ((0.31384001078486584)/(15.426496155132062))*100 \n",
    "print(Thu_subtract_error_pct)\n",
    "\n",
    "Fri_subtract_error_pct = ((0.23240516811060857)/(15.334804413239723))*100 \n",
    "print(Fri_subtract_error_pct)\n",
    "\n",
    "Sat_subtract_error_pct = ((0.3662050962511462)/(14.352056168505529))*100 \n",
    "print(Sat_subtract_error_pct)"
   ]
  },
  {
   "cell_type": "code",
   "execution_count": null,
   "id": "2f2a0b3a",
   "metadata": {},
   "outputs": [],
   "source": [
    "#Now take 25 runs of random 1330 row samples across ALL puzzle days (and average) to control for removal of n for each day subtraction\n",
    "#This is the 'Best Model' variant to compare to each day subtraction model\n",
    "(3.8396474061113133, 0.30688464670612187), 4.010385694498458     16.507790036777\n",
    "(3.962803824613475, 0.48794221850221847), 4.177138923515709      16.42459043798062\n",
    "(3.9918194518859984, 0.09198894015767776), 3.8790215206529095    16.654279505182203\n",
    "(3.978378647319451, 0.1742921255830577), 4.20171623386908        16.394132397191566\n",
    "(4.046163657686746, 0.26349990966612674), 3.788663451972648      16.41753594115679\n",
    "(4.011627420691781, 0.27142113114555827), 4.26243600935574       16.284336342360415\n",
    "(3.906170566493195, 0.21965232215232017), 4.124777113663119      16.323637579404878\n",
    "(3.915670288284106, 0.3621311147535244), 4.1190939340731925      16.44565362754932\n",
    "(3.8679059957746396, 0.392588891251768), 4.244791058077087       16.501537947174853\n",
    "(3.863518329640521, 0.3264664078801083), 4.021447338390029       16.63701103309928\n",
    "(3.8761174323794902, 0.2663454252850562), 4.031579967398958      16.41242059511869\n",
    "(3.9896659636639145, 0.26675326998480153), 3.931983564973559     16.481561350718824\n",
    "(4.081879736098512, 0.34226343086065675), 3.836215696556573      16.587679705784034\n",
    "(3.87622996130266, 0.4035083373133206), 3.8783947341142517       16.431945837512533\n",
    "(4.108165161332699, 0.27143706255660405), 3.9657280986539596     16.56827148110999\n",
    "(4.014359246832887, 0.3399215797391659), 4.064781719538556       16.630458040789048\n",
    "(3.9654053711722144, 0.3363327852160795), 4.008177297038098      16.51904045469742\n",
    "(4.019176267066907, 0.2760667272146102), 4.110433493339572       16.260732196589775\n",
    "(4.012830179857876, 0.33622209669325326), 3.9256669500387673     16.356218655967886\n",
    "(3.899032241126508, 0.3031523583335664), 4.08137060030978        16.21880641925777\n",
    "(3.9251811131565875, 0.2644532355573561), 4.361278565646878      16.184754262788353\n",
    "(4.109157176609871, 0.21789213335292637), 3.884084051339625      16.56878970244066\n",
    "(4.018072087466151, 0.2676312314768951), 4.067947797396523       16.36315613507188\n",
    "(3.906951415757405, 0.30317802296845214), 3.9063093207065953     16.209144098963556\n",
    "(3.961031329147479, 0.3924429384348869), 4.205996038515867       16.555449682380473"
   ]
  },
  {
   "cell_type": "code",
   "execution_count": 39,
   "id": "5c1e0a4b",
   "metadata": {},
   "outputs": [
    {
     "data": {
      "text/plain": [
       "16.437557338682716"
      ]
     },
     "execution_count": 39,
     "metadata": {},
     "output_type": "execute_result"
    }
   ],
   "source": [
    "#Get mean training set raw solve time (rst) from the 25 runs\n",
    "training_error_rst = [16.507790036777, 16.42459043798062, 16.654279505182203, 16.394132397191566, 16.41753594115679, 16.284336342360415,\n",
    "                 16.323637579404878, 16.44565362754932, 16.501537947174853, 16.63701103309928, 16.41242059511869, 16.481561350718824,\n",
    "                 16.587679705784034, 16.431945837512533, 16.56827148110999, 16.630458040789048, 16.51904045469742, 16.260732196589775,\n",
    "                 16.356218655967886, 16.21880641925777, 16.184754262788353, 16.56878970244066, 16.36315613507188, 16.209144098963556, 16.555449682380473]\n",
    "training_error_mean_rst = sum(training_error_rst)/len(training_error_rst)\n",
    "training_error_mean_rst"
   ]
  },
  {
   "cell_type": "code",
   "execution_count": 40,
   "id": "eee95fe6",
   "metadata": {},
   "outputs": [
    {
     "data": {
      "text/plain": [
       "3.9658784108588954"
      ]
     },
     "execution_count": 40,
     "metadata": {},
     "output_type": "execute_result"
    }
   ],
   "source": [
    "#Get mean training error from the 25 runs\n",
    "training_error = [3.8396474061113133, 3.962803824613475, 3.9918194518859984, 3.978378647319451, 4.046163657686746,4.011627420691781,\n",
    "                  3.906170566493195, 3.915670288284106, 3.8679059957746396, 3.863518329640521, 3.8761174323794902, 3.9896659636639145,\n",
    "                  4.081879736098512, 3.87622996130266, 4.108165161332699, 4.014359246832887, 3.9654053711722144, 4.019176267066907,\n",
    "                  4.012830179857876, 3.899032241126508, 3.9251811131565875, 4.109157176609871, 4.018072087466151, 3.906951415757405, 3.961031329147479]\n",
    "training_error_mean = sum(training_error)/len(training_error)\n",
    "training_error_mean"
   ]
  },
  {
   "cell_type": "code",
   "execution_count": 41,
   "id": "b1d46b32",
   "metadata": {},
   "outputs": [
    {
     "data": {
      "text/plain": [
       "0.2993787337114445"
      ]
     },
     "execution_count": 41,
     "metadata": {},
     "output_type": "execute_result"
    }
   ],
   "source": [
    "#Get mean training error std from the 25 runs\n",
    "training_error_std = [0.30688464670612187, 0.48794221850221847, 0.09198894015767776, 0.1742921255830577, 0.26349990966612674, 0.27142113114555827,\n",
    "                 0.21965232215232017, 0.3621311147535244, 0.392588891251768, 0.3264664078801083, 0.2663454252850562, 0.26675326998480153,\n",
    "                 0.34226343086065675, 0.4035083373133206, 0.27143706255660405, 0.3399215797391659, 0.3363327852160795, 0.2760667272146102,\n",
    "                 0.33622209669325326, 0.3031523583335664, 0.2644532355573561, 0.21789213335292637, 0.2676312314768951, 0.30317802296845214, 0.3924429384348869]\n",
    "training_error_mean_std = sum(training_error_std)/len(training_error_std)\n",
    "training_error_mean_std"
   ]
  },
  {
   "cell_type": "code",
   "execution_count": 42,
   "id": "da6897a0",
   "metadata": {},
   "outputs": [
    {
     "name": "stdout",
     "output_type": "stream",
     "text": [
      "24.12693278657616\n",
      "1.821309137014614\n"
     ]
    }
   ],
   "source": [
    "# Now Normalize the error estimate for the whole sample control (same N as the subtractions) subtraction by the training set mean without that day\n",
    "\n",
    "Mon_subtract_error_pct = ((3.9658784108588954)/(16.437557338682716))*100 \n",
    "print(Mon_subtract_error_pct)\n",
    "\n",
    "Mon_subtract_error_std_pct = ((0.2993787337114445)/(16.437557338682716))*100 \n",
    "print(Mon_subtract_error_std_pct)"
   ]
  },
  {
   "cell_type": "code",
   "execution_count": 52,
   "id": "eb41300a",
   "metadata": {},
   "outputs": [
    {
     "data": {
      "text/html": [
       "<div>\n",
       "<style scoped>\n",
       "    .dataframe tbody tr th:only-of-type {\n",
       "        vertical-align: middle;\n",
       "    }\n",
       "\n",
       "    .dataframe tbody tr th {\n",
       "        vertical-align: top;\n",
       "    }\n",
       "\n",
       "    .dataframe thead th {\n",
       "        text-align: right;\n",
       "    }\n",
       "</style>\n",
       "<table border=\"1\" class=\"dataframe\">\n",
       "  <thead>\n",
       "    <tr style=\"text-align: right;\">\n",
       "      <th></th>\n",
       "      <th>Model_Inclusion</th>\n",
       "      <th>Training_Error</th>\n",
       "      <th>Training_SD</th>\n",
       "    </tr>\n",
       "  </thead>\n",
       "  <tbody>\n",
       "    <tr>\n",
       "      <th>0</th>\n",
       "      <td>Full_Model</td>\n",
       "      <td>24.126933</td>\n",
       "      <td>1.821309</td>\n",
       "    </tr>\n",
       "    <tr>\n",
       "      <th>1</th>\n",
       "      <td>-Monday</td>\n",
       "      <td>22.728720</td>\n",
       "      <td>1.687869</td>\n",
       "    </tr>\n",
       "    <tr>\n",
       "      <th>2</th>\n",
       "      <td>-Tuesday</td>\n",
       "      <td>23.643718</td>\n",
       "      <td>1.753990</td>\n",
       "    </tr>\n",
       "    <tr>\n",
       "      <th>3</th>\n",
       "      <td>-Wednesday</td>\n",
       "      <td>24.116533</td>\n",
       "      <td>1.518597</td>\n",
       "    </tr>\n",
       "    <tr>\n",
       "      <th>4</th>\n",
       "      <td>-Thursday</td>\n",
       "      <td>24.947724</td>\n",
       "      <td>2.034422</td>\n",
       "    </tr>\n",
       "    <tr>\n",
       "      <th>5</th>\n",
       "      <td>-Friday</td>\n",
       "      <td>25.238445</td>\n",
       "      <td>1.515540</td>\n",
       "    </tr>\n",
       "    <tr>\n",
       "      <th>6</th>\n",
       "      <td>-Saturday</td>\n",
       "      <td>23.885254</td>\n",
       "      <td>2.551586</td>\n",
       "    </tr>\n",
       "  </tbody>\n",
       "</table>\n",
       "</div>"
      ],
      "text/plain": [
       "  Model_Inclusion  Training_Error  Training_SD\n",
       "0      Full_Model       24.126933     1.821309\n",
       "1         -Monday       22.728720     1.687869\n",
       "2        -Tuesday       23.643718     1.753990\n",
       "3      -Wednesday       24.116533     1.518597\n",
       "4       -Thursday       24.947724     2.034422\n",
       "5         -Friday       25.238445     1.515540\n",
       "6       -Saturday       23.885254     2.551586"
      ]
     },
     "execution_count": 52,
     "metadata": {},
     "output_type": "execute_result"
    }
   ],
   "source": [
    "#Full model data (N control version) for this df are coming from the 25 run averages directly above\n",
    "data = [[\"Full_Model\", 24.12693278657616, 1.821309137014614], [\"-Monday\", 22.7287200409268, 1.68786861168824], [\"-Tuesday\", 23.64371784783939, 1.753990340379058], [\"-Wednesday\", 24.11653252583763, 1.5185971157008473], [\"-Thursday\", 24.947724186086315, 2.0344218650095605], [\"-Friday\", 25.23844484823937, 1.5155404780380193], [\"-Saturday\", 23.88525407729038, 2.551586281098557]]\n",
    "df = pd.DataFrame(data, columns=[\"Model_Inclusion\", \"Training_Error\", \"Training_SD\"])\n",
    "df"
   ]
  },
  {
   "cell_type": "code",
   "execution_count": 53,
   "id": "e9d23f17",
   "metadata": {},
   "outputs": [
    {
     "data": {
      "text/plain": [
       "(20.0, 30.0)"
      ]
     },
     "execution_count": 53,
     "metadata": {},
     "output_type": "execute_result"
    },
    {
     "data": {
      "image/png": "[encoded data removed]",
      "text/plain": [
       "<Figure size 432x288 with 1 Axes>"
      ]
     },
     "metadata": {
      "needs_background": "light"
     },
     "output_type": "display_data"
    }
   ],
   "source": [
    "#Figure 8\n",
    "#plt.figure(figsize=(20, 10))\n",
    "g = sns.barplot(x=\"Model_Inclusion\",y=\"Training_Error\",data=df, palette = [\"grey\", \"#FF7518\", \"#ffdf00\", \"g\", \"#1F51FF\", \"#5d76cb\", \"fuchsia\"], yerr=df[\"Training_SD\"]*1)\n",
    "g.set_ylabel(\"training_error (mean + se)\")\n",
    "#g.set(xticklabels=[\"\", \"\"])\n",
    "g.set_xlabel(\"Model_Error\")\n",
    "g.set_ylim(20,30)"
   ]
  },
  {
   "cell_type": "markdown",
   "id": "e522d32f",
   "metadata": {},
   "source": [
    "Day By Day Models"
   ]
  },
  {
   "cell_type": "markdown",
   "id": "bec7642d",
   "metadata": {},
   "source": [
    "Monday\n",
    "Training set mean: 7.045117845117848\n",
    "\n"
   ]
  }
 ],
 "metadata": {
  "kernelspec": {
   "display_name": "Python 3",
   "language": "python",
   "name": "python3"
  },
  "language_info": {
   "codemirror_mode": {
    "name": "ipython",
    "version": 3
   },
   "file_extension": ".py",
   "mimetype": "text/x-python",
   "name": "python",
   "nbconvert_exporter": "python",
   "pygments_lexer": "ipython3",
   "version": "3.8.8"
  }
 },
 "nbformat": 4,
 "nbformat_minor": 5
}
